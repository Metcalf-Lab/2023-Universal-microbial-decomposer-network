{
 "cells": [
  {
   "cell_type": "code",
   "execution_count": 2,
   "metadata": {},
   "outputs": [
    {
     "name": "stderr",
     "output_type": "stream",
     "text": [
      "/Users/Zach/miniconda3/envs/ml_22.2/lib/python3.7/site-packages/sklearn/externals/joblib/__init__.py:15: FutureWarning: sklearn.externals.joblib is deprecated in 0.21 and will be removed in 0.23. Please import this functionality directly from joblib, which can be installed with: pip install joblib. If this warning is raised when loading pickled models, you may need to re-serialize those models with scikit-learn 0.21+.\n",
      "  warnings.warn(msg, category=FutureWarning)\n"
     ]
    }
   ],
   "source": [
    "from sklearn.ensemble import RandomForestRegressor\n",
    "from sklearn import preprocessing, svm, metrics\n",
    "from sklearn.model_selection import LeaveOneGroupOut, KFold, GridSearchCV, GroupKFold, cross_val_score, train_test_split\n",
    "from sklearn.metrics import r2_score, mean_squared_error, mean_absolute_error\n",
    "from sklearn.externals import joblib\n",
    "from sklearn.datasets import make_regression\n",
    "from scipy.stats import randint as sp_randint\n",
    "from matplotlib import pyplot as plt\n",
    "from collections import defaultdict"
   ]
  },
  {
   "cell_type": "code",
   "execution_count": 3,
   "metadata": {},
   "outputs": [
    {
     "name": "stderr",
     "output_type": "stream",
     "text": [
      "/Users/Zach/miniconda3/envs/ml_22.2/lib/python3.7/site-packages/skbio/util/_testing.py:15: FutureWarning: pandas.util.testing is deprecated. Use the functions in the public API at pandas.testing instead.\n",
      "  import pandas.util.testing as pdt\n"
     ]
    }
   ],
   "source": [
    "import pandas as pd\n",
    "import numpy as np\n",
    "import matplotlib\n",
    "import seaborn as sns\n",
    "%matplotlib inline\n",
    "import biom\n",
    "import calour as ca\n",
    "from scipy import stats\n",
    "import scipy\n",
    "import pickle\n",
    "import time\n",
    "import math\n",
    "import inspect\n",
    "import operator\n",
    "pd.set_option('display.max_rows', 10000)"
   ]
  },
  {
   "cell_type": "markdown",
   "metadata": {},
   "source": [
    "# Importing data, no TSS normalization performed here"
   ]
  },
  {
   "cell_type": "code",
   "execution_count": 3,
   "metadata": {
    "scrolled": false
   },
   "outputs": [],
   "source": [
    "allMetab = ca.read_amplicon('PMI_MS1_FeatureTable_Normalized.biom','pmi3_metab_meta.txt', min_reads=1, normalize = None)"
   ]
  },
  {
   "cell_type": "markdown",
   "metadata": {},
   "source": [
    "## Remove controls and samples clustering with controls on PCoA"
   ]
  },
  {
   "cell_type": "code",
   "execution_count": 4,
   "metadata": {},
   "outputs": [
    {
     "data": {
      "text/plain": [
       "skin.hip    746\n",
       "soil.hip    744\n",
       "Name: description, dtype: int64"
      ]
     },
     "execution_count": 4,
     "metadata": {},
     "output_type": "execute_result"
    }
   ],
   "source": [
    "allMetab = allMetab.filter_samples('control', 'n')\n",
    "allMetab = allMetab.filter_samples('pcoa_removals', 'n')\n",
    "allMetab.sample_metadata.description.value_counts()"
   ]
  },
  {
   "cell_type": "code",
   "execution_count": 5,
   "metadata": {},
   "outputs": [
    {
     "name": "stdout",
     "output_type": "stream",
     "text": [
      "Number of samples:  1490\n"
     ]
    }
   ],
   "source": [
    "print(\"Number of samples: \",len(allMetab.sample_metadata.metab_barcode.value_counts()))"
   ]
  },
  {
   "cell_type": "code",
   "execution_count": 6,
   "metadata": {},
   "outputs": [
    {
     "name": "stdout",
     "output_type": "stream",
     "text": [
      "Number of bodies:  36\n"
     ]
    }
   ],
   "source": [
    "print(\"Number of bodies: \",len(allMetab.sample_metadata.subjectID.value_counts()))"
   ]
  },
  {
   "cell_type": "markdown",
   "metadata": {},
   "source": [
    "# General Model of All Facilites, Samples, and Season using ADD 0C as Response and Adding Metadata to Determine Metadata Importance"
   ]
  },
  {
   "cell_type": "code",
   "execution_count": 7,
   "metadata": {},
   "outputs": [
    {
     "name": "stdout",
     "output_type": "stream",
     "text": [
      "Number of features:  4411\n"
     ]
    }
   ],
   "source": [
    "allMetab = allMetab.add_sample_metadata_as_features(['facility','sample_type','avg_percent_humidity','total_precipitation_cm'])\n",
    "print(\"Number of features: \",len(allMetab.feature_metadata))"
   ]
  },
  {
   "cell_type": "code",
   "execution_count": 8,
   "metadata": {},
   "outputs": [],
   "source": [
    "# designate data\n",
    "X = allMetab.data\n",
    "y = allMetab.sample_metadata['add_0c']\n",
    "y = (y.astype(float))\n",
    "\n",
    "# group by body\n",
    "groups = allMetab.sample_metadata['subjectID']"
   ]
  },
  {
   "cell_type": "code",
   "execution_count": 9,
   "metadata": {},
   "outputs": [
    {
     "name": "stdout",
     "output_type": "stream",
     "text": [
      "Number of outer folds to perform:  36\n",
      "Outer fold: 1\n",
      "Number of inner folds: 35\n",
      "Best params: {'bootstrap': False, 'max_depth': 4, 'max_features': 0.1}\n",
      "Best CV score (MAE): 84.24143462493676\n",
      "Prediction score (MAE): 25.352845535121954\n",
      "*****\n",
      "Outer fold: 2\n",
      "Number of inner folds: 35\n",
      "Best params: {'bootstrap': False, 'max_depth': 4, 'max_features': 0.1}\n",
      "Best CV score (MAE): 84.96729326886322\n",
      "Prediction score (MAE): 80.48414634634145\n",
      "*****\n",
      "Outer fold: 3\n",
      "Number of inner folds: 35\n",
      "Best params: {'bootstrap': False, 'max_depth': 4, 'max_features': 0.1}\n",
      "Best CV score (MAE): 81.21542910673297\n",
      "Prediction score (MAE): 87.50701058190475\n",
      "*****\n",
      "Outer fold: 4\n",
      "Number of inner folds: 35\n",
      "Best params: {'bootstrap': False, 'max_depth': 4, 'max_features': 0.1}\n",
      "Best CV score (MAE): 87.76751473651835\n",
      "Prediction score (MAE): 71.25661375690477\n",
      "*****\n",
      "Outer fold: 5\n",
      "Number of inner folds: 35\n",
      "Best params: {'bootstrap': False, 'max_depth': 4, 'max_features': 0.1}\n",
      "Best CV score (MAE): 82.3776617706423\n",
      "Prediction score (MAE): 159.25859787380952\n",
      "*****\n",
      "Outer fold: 6\n",
      "Number of inner folds: 35\n",
      "Best params: {'bootstrap': False, 'max_depth': 4, 'max_features': 0.1}\n",
      "Best CV score (MAE): 81.6341390486441\n",
      "Prediction score (MAE): 127.34748676309525\n",
      "*****\n",
      "Outer fold: 7\n",
      "Number of inner folds: 35\n",
      "Best params: {'bootstrap': False, 'max_depth': 4, 'max_features': 0.1}\n",
      "Best CV score (MAE): 82.51839694554754\n",
      "Prediction score (MAE): 99.2444444452381\n",
      "*****\n",
      "Outer fold: 8\n",
      "Number of inner folds: 35\n",
      "Best params: {'bootstrap': False, 'max_depth': 4, 'max_features': 0.1}\n",
      "Best CV score (MAE): 82.55779690038493\n",
      "Prediction score (MAE): 98.64375\n",
      "*****\n",
      "Outer fold: 9\n",
      "Number of inner folds: 35\n",
      "Best params: {'bootstrap': False, 'max_depth': 4, 'max_features': 0.1}\n",
      "Best CV score (MAE): 87.11062530430874\n",
      "Prediction score (MAE): 98.5857142804762\n",
      "*****\n",
      "Outer fold: 10\n",
      "Number of inner folds: 35\n",
      "Best params: {'bootstrap': False, 'max_depth': 4, 'max_features': 0.1}\n",
      "Best CV score (MAE): 86.92975415028553\n",
      "Prediction score (MAE): 81.75623306195122\n",
      "*****\n",
      "Outer fold: 11\n",
      "Number of inner folds: 35\n",
      "Best params: {'bootstrap': False, 'max_depth': 4, 'max_features': 0.1}\n",
      "Best CV score (MAE): 85.41032934887095\n",
      "Prediction score (MAE): 84.43108465476192\n",
      "*****\n",
      "Outer fold: 12\n",
      "Number of inner folds: 35\n",
      "Best params: {'bootstrap': False, 'max_depth': 4, 'max_features': 0.1}\n",
      "Best CV score (MAE): 90.10990901418053\n",
      "Prediction score (MAE): 69.9390243902439\n",
      "*****\n",
      "Outer fold: 13\n",
      "Number of inner folds: 35\n",
      "Best params: {'bootstrap': False, 'max_depth': 4, 'max_features': 0.1}\n",
      "Best CV score (MAE): 86.43452575629533\n",
      "Prediction score (MAE): 37.32296747804878\n",
      "*****\n",
      "Outer fold: 14\n",
      "Number of inner folds: 35\n",
      "Best params: {'bootstrap': False, 'max_depth': 4, 'max_features': 0.1}\n",
      "Best CV score (MAE): 85.68874582398674\n",
      "Prediction score (MAE): 54.29761904438095\n",
      "*****\n",
      "Outer fold: 15\n",
      "Number of inner folds: 35\n",
      "Best params: {'bootstrap': False, 'max_depth': 4, 'max_features': 0.1}\n",
      "Best CV score (MAE): 86.19693447924462\n",
      "Prediction score (MAE): 56.36177248261905\n",
      "*****\n",
      "Outer fold: 16\n",
      "Number of inner folds: 35\n",
      "Best params: {'bootstrap': False, 'max_depth': 4, 'max_features': 0.1}\n",
      "Best CV score (MAE): 86.70943636701965\n",
      "Prediction score (MAE): 68.0526454997619\n",
      "*****\n",
      "Outer fold: 17\n",
      "Number of inner folds: 35\n",
      "Best params: {'bootstrap': False, 'max_depth': 4, 'max_features': 0.1}\n",
      "Best CV score (MAE): 85.65261431274052\n",
      "Prediction score (MAE): 79.88231707317074\n",
      "*****\n",
      "Outer fold: 18\n",
      "Number of inner folds: 35\n",
      "Best params: {'bootstrap': False, 'max_depth': 4, 'max_features': 0.1}\n",
      "Best CV score (MAE): 84.94708881207352\n",
      "Prediction score (MAE): 77.38650793571428\n",
      "*****\n",
      "Outer fold: 19\n",
      "Number of inner folds: 35\n",
      "Best params: {'bootstrap': False, 'max_depth': 4, 'max_features': 0.1}\n",
      "Best CV score (MAE): 86.79414200144986\n",
      "Prediction score (MAE): 63.738359791190476\n",
      "*****\n",
      "Outer fold: 20\n",
      "Number of inner folds: 35\n",
      "Best params: {'bootstrap': False, 'max_depth': 4, 'max_features': 0.1}\n",
      "Best CV score (MAE): 87.23915082857178\n",
      "Prediction score (MAE): 80.04932249268292\n",
      "*****\n",
      "Outer fold: 21\n",
      "Number of inner folds: 35\n",
      "Best params: {'bootstrap': False, 'max_depth': 4, 'max_features': 0.1}\n",
      "Best CV score (MAE): 87.21700470429873\n",
      "Prediction score (MAE): 73.93809524047619\n",
      "*****\n",
      "Outer fold: 22\n",
      "Number of inner folds: 35\n",
      "Best params: {'bootstrap': False, 'max_depth': 4, 'max_features': 0.1}\n",
      "Best CV score (MAE): 85.80062579077706\n",
      "Prediction score (MAE): 137.48571428571427\n",
      "*****\n",
      "Outer fold: 23\n",
      "Number of inner folds: 35\n",
      "Best params: {'bootstrap': False, 'max_depth': 4, 'max_features': 0.1}\n",
      "Best CV score (MAE): 80.23176288939344\n",
      "Prediction score (MAE): 168.58022875852942\n",
      "*****\n",
      "Outer fold: 24\n",
      "Number of inner folds: 35\n",
      "Best params: {'bootstrap': False, 'max_depth': 4, 'max_features': 0.1}\n",
      "Best CV score (MAE): 86.13007135483898\n",
      "Prediction score (MAE): 72.76825397142858\n",
      "*****\n",
      "Outer fold: 25\n",
      "Number of inner folds: 35\n",
      "Best params: {'bootstrap': False, 'max_depth': 4, 'max_features': 0.1}\n",
      "Best CV score (MAE): 87.034314716924\n",
      "Prediction score (MAE): 67.15079364380952\n",
      "*****\n",
      "Outer fold: 26\n",
      "Number of inner folds: 35\n",
      "Best params: {'bootstrap': False, 'max_depth': 4, 'max_features': 0.1}\n",
      "Best CV score (MAE): 87.85558327294187\n",
      "Prediction score (MAE): 72.3374999954762\n",
      "*****\n",
      "Outer fold: 27\n",
      "Number of inner folds: 35\n",
      "Best params: {'bootstrap': False, 'max_depth': 4, 'max_features': 0.1}\n",
      "Best CV score (MAE): 89.34384801623321\n",
      "Prediction score (MAE): 78.42195767464285\n",
      "*****\n",
      "Outer fold: 28\n",
      "Number of inner folds: 35\n",
      "Best params: {'bootstrap': False, 'max_depth': 4, 'max_features': 0.1}\n",
      "Best CV score (MAE): 87.40694797952702\n",
      "Prediction score (MAE): 90.00555555428572\n",
      "*****\n",
      "Outer fold: 29\n",
      "Number of inner folds: 35\n",
      "Best params: {'bootstrap': False, 'max_depth': 4, 'max_features': 0.1}\n",
      "Best CV score (MAE): 87.09916424688655\n",
      "Prediction score (MAE): 58.728703702857146\n",
      "*****\n",
      "Outer fold: 30\n",
      "Number of inner folds: 35\n",
      "Best params: {'bootstrap': False, 'max_depth': 4, 'max_features': 0.1}\n",
      "Best CV score (MAE): 86.09865164557313\n",
      "Prediction score (MAE): 85.1352303512195\n",
      "*****\n",
      "Outer fold: 31\n",
      "Number of inner folds: 35\n",
      "Best params: {'bootstrap': False, 'max_depth': 4, 'max_features': 0.1}\n",
      "Best CV score (MAE): 88.91363943216429\n",
      "Prediction score (MAE): 97.27354497380952\n",
      "*****\n",
      "Outer fold: 32\n",
      "Number of inner folds: 35\n",
      "Best params: {'bootstrap': False, 'max_depth': 4, 'max_features': 0.1}\n",
      "Best CV score (MAE): 86.50379344304058\n",
      "Prediction score (MAE): 102.30698005641025\n",
      "*****\n",
      "Outer fold: 33\n",
      "Number of inner folds: 35\n",
      "Best params: {'bootstrap': False, 'max_depth': 4, 'max_features': 0.1}\n",
      "Best CV score (MAE): 86.15370026034567\n",
      "Prediction score (MAE): 79.57256097317074\n",
      "*****\n",
      "Outer fold: 34\n",
      "Number of inner folds: 35\n",
      "Best params: {'bootstrap': False, 'max_depth': 4, 'max_features': 0.1}\n",
      "Best CV score (MAE): 85.81332317224906\n",
      "Prediction score (MAE): 122.8182539757143\n",
      "*****\n",
      "Outer fold: 35\n",
      "Number of inner folds: 35\n",
      "Best params: {'bootstrap': False, 'max_depth': 4, 'max_features': 0.1}\n",
      "Best CV score (MAE): 86.27397546200848\n",
      "Prediction score (MAE): 116.40482804904761\n",
      "*****\n",
      "Outer fold: 36\n",
      "Number of inner folds: 35\n",
      "Best params: {'bootstrap': False, 'max_depth': 4, 'max_features': 0.1}\n",
      "Best CV score (MAE): 87.81273638355934\n",
      "Prediction score (MAE): 98.23558201714283\n",
      "*****\n",
      "\n",
      "Nested CV score (generalization error): 86.72395129753201\n"
     ]
    }
   ],
   "source": [
    "# outer_cv creates 36 folds by leave-one-body-out for estimating generalization error\n",
    "outer_cv = LeaveOneGroupOut().split(X, y, groups=groups)\n",
    "\n",
    "# prints the number of folds in the outer loop\n",
    "print(\"Number of outer folds to perform: \", LeaveOneGroupOut().get_n_splits(X, y, groups=groups))\n",
    "\n",
    "# hyperparameter grid to test\n",
    "#param_grid = {\"max_depth\": [None, 4],\n",
    "#              \"max_features\": ['auto', 0.2],\n",
    "#              \"bootstrap\": [True, False]}\n",
    "\n",
    "param_grid = {\"max_depth\": [4],\n",
    "              \"max_features\": [0.1],\n",
    "              \"bootstrap\": [False]}\n",
    "\n",
    "# creates loop iteration counter and empty lists for storage\n",
    "count=1\n",
    "model_parameters = []\n",
    "nested_cv_scores = []\n",
    "\n",
    "# loops through the sets of training and test ids in the outer loop\n",
    "# the number of loops will match the number of folds as each fold is used\n",
    "for train_ids, test_ids in outer_cv:\n",
    "    # inner_cv creates 35 folds by leave-one-body-out for hyperparamter tuning\n",
    "    # uses only the train ids present in the current outer loop fold which is one less body since the outer loop\n",
    "    # folds are also using leave-one-body-out\n",
    "    inner_cv = LeaveOneGroupOut().split(X[train_ids, :], y.iloc[train_ids], groups=groups[train_ids])\n",
    "    # setting rf parameters\n",
    "    rf = RandomForestRegressor(n_estimators=1, random_state=999, criterion='mae')\n",
    "    # grid search cv using rf and the hyperparameter grid on the inner_cv training set\n",
    "    rf_grid = GridSearchCV(estimator=rf, param_grid=param_grid, cv=inner_cv, n_jobs=-1, scoring='neg_mean_absolute_error')\n",
    "    # fit the grid search model on the inner_cv training set, which will tell us the best\n",
    "    # parameters chosen by that inner cv\n",
    "    rf_grid.fit(X[train_ids, :], y.iloc[train_ids])\n",
    "    # converts best params dict to string to save it\n",
    "    res = \",\".join((\"{}={}\".format(*i) for i in rf_grid.best_params_.items()))\n",
    "    # attaches each loops best params\n",
    "    model_parameters.append(res)\n",
    "    # prints outer fold number the loop is currently on\n",
    "    print(\"Outer fold:\",count)\n",
    "    # prints number of inner folds in the outer loop (should be the same each time at 35)\n",
    "    print(\"Number of inner folds:\",LeaveOneGroupOut().get_n_splits(X[train_ids, :], y.iloc[train_ids], groups=groups[train_ids]))\n",
    "    # prints best param and CV score from this inner loop set \n",
    "    print(\"Best params:\",rf_grid.best_params_)\n",
    "    print(\"Best CV score (MAE):\",-rf_grid.best_score_)\n",
    "    # uses the best model created from the inner loop to predict the outer loop body left out\n",
    "    yhat = rf_grid.predict(X[test_ids,:])\n",
    "    MAE = mean_absolute_error(y.iloc[test_ids], yhat)\n",
    "    print(\"Prediction score (MAE):\",MAE)\n",
    "    nested_cv_scores.append(MAE)\n",
    "    print(\"*****\")\n",
    "    count+=1\n",
    "# prints the mean of the nested cv score (generalization error) of the models\n",
    "print(\"\\nNested CV score (generalization error): \" + str(np.mean(nested_cv_scores)))"
   ]
  },
  {
   "cell_type": "code",
   "execution_count": 10,
   "metadata": {},
   "outputs": [],
   "source": [
    "# define function to merge 2 lists as paired tuples    \n",
    "def merge(list1, list2): \n",
    "    merged_list = tuple(zip(list1, list2))  \n",
    "    return merged_list \n",
    "\n",
    "# merge parameters to nested scores as tuples\n",
    "merged_list = merge(model_parameters, nested_cv_scores)\n",
    "\n",
    "# puts the paired tuple list into a dictionary\n",
    "params_and_scores = defaultdict(list)\n",
    "for k, v in merged_list:\n",
    "    params_and_scores[k].append(v)"
   ]
  },
  {
   "cell_type": "code",
   "execution_count": 11,
   "metadata": {},
   "outputs": [
    {
     "data": {
      "text/plain": [
       "defaultdict(list,\n",
       "            {'bootstrap=False,max_depth=4,max_features=0.1': [25.352845535121954,\n",
       "              80.48414634634145,\n",
       "              87.50701058190475,\n",
       "              71.25661375690477,\n",
       "              159.25859787380952,\n",
       "              127.34748676309525,\n",
       "              99.2444444452381,\n",
       "              98.64375,\n",
       "              98.5857142804762,\n",
       "              81.75623306195122,\n",
       "              84.43108465476192,\n",
       "              69.9390243902439,\n",
       "              37.32296747804878,\n",
       "              54.29761904438095,\n",
       "              56.36177248261905,\n",
       "              68.0526454997619,\n",
       "              79.88231707317074,\n",
       "              77.38650793571428,\n",
       "              63.738359791190476,\n",
       "              80.04932249268292,\n",
       "              73.93809524047619,\n",
       "              137.48571428571427,\n",
       "              168.58022875852942,\n",
       "              72.76825397142858,\n",
       "              67.15079364380952,\n",
       "              72.3374999954762,\n",
       "              78.42195767464285,\n",
       "              90.00555555428572,\n",
       "              58.728703702857146,\n",
       "              85.1352303512195,\n",
       "              97.27354497380952,\n",
       "              102.30698005641025,\n",
       "              79.57256097317074,\n",
       "              122.8182539757143,\n",
       "              116.40482804904761,\n",
       "              98.23558201714283]})"
      ]
     },
     "execution_count": 11,
     "metadata": {},
     "output_type": "execute_result"
    }
   ],
   "source": [
    "# prints dict of params and scores, should see each set of parameters chosen and their scores\n",
    "params_and_scores"
   ]
  },
  {
   "cell_type": "code",
   "execution_count": 12,
   "metadata": {},
   "outputs": [
    {
     "name": "stdout",
     "output_type": "stream",
     "text": [
      "{'bootstrap=False,max_depth=4,max_features=0.1': 86.72395129753203}\n"
     ]
    }
   ],
   "source": [
    "# create a dict to assign the mean score to each param set\n",
    "avgDict = {}\n",
    "for k,v in params_and_scores.items():\n",
    "    avgDict[k] = sum(v)/ float(len(v))\n",
    "print(avgDict)"
   ]
  },
  {
   "cell_type": "code",
   "execution_count": 13,
   "metadata": {},
   "outputs": [
    {
     "name": "stdout",
     "output_type": "stream",
     "text": [
      "Best params: bootstrap=False,max_depth=4,max_features=0.1\n",
      "Best mean score: -86.72395129753203\n"
     ]
    }
   ],
   "source": [
    "# prints the param set with the best mean error\n",
    "print(\"Best params:\",max(avgDict, key=avgDict.get))\n",
    "print(\"Best mean score:\",-max(avgDict.values()))"
   ]
  },
  {
   "cell_type": "code",
   "execution_count": 14,
   "metadata": {},
   "outputs": [
    {
     "name": "stdout",
     "output_type": "stream",
     "text": [
      "Best CV score: -86.72395129753201\n"
     ]
    }
   ],
   "source": [
    "# input the best parameter set\n",
    "best_model_params = {\"max_depth\": [4],\n",
    "              \"max_features\": [0.1],\n",
    "              \"bootstrap\": [False]}\n",
    "\n",
    "# now we refit this best model on the whole dataset so that we can start\n",
    "# making predictions on other data, and now we have a reliable estimate of\n",
    "# this model's generalization error and we are confident this is the best model\n",
    "# among the ones we have tried\n",
    "final_regressor = GridSearchCV(rf, best_model_params, cv=LeaveOneGroupOut().split(X, y, groups=groups), scoring='neg_mean_absolute_error', n_jobs=-1)\n",
    "final_regressor.fit(X, y)\n",
    "print(\"Best CV score:\",final_regressor.best_score_)"
   ]
  },
  {
   "cell_type": "code",
   "execution_count": 15,
   "metadata": {},
   "outputs": [
    {
     "data": {
      "text/plain": [
       "['models/PMI3_allMetab_meta_general.pkl']"
      ]
     },
     "execution_count": 15,
     "metadata": {},
     "output_type": "execute_result"
    }
   ],
   "source": [
    "joblib.dump(final_regressor.best_estimator_, 'models/PMI3_allMetab_meta_general.pkl')"
   ]
  },
  {
   "cell_type": "code",
   "execution_count": 1,
   "metadata": {},
   "outputs": [
    {
     "ename": "NameError",
     "evalue": "name 'joblib' is not defined",
     "output_type": "error",
     "traceback": [
      "\u001b[0;31m---------------------------------------------------------------------------\u001b[0m",
      "\u001b[0;31mNameError\u001b[0m                                 Traceback (most recent call last)",
      "\u001b[0;32m<ipython-input-1-b66c225489f9>\u001b[0m in \u001b[0;36m<module>\u001b[0;34m\u001b[0m\n\u001b[0;32m----> 1\u001b[0;31m \u001b[0mmodel_PMI3_allMetab_meta_general\u001b[0m \u001b[0;34m=\u001b[0m \u001b[0mjoblib\u001b[0m\u001b[0;34m.\u001b[0m\u001b[0mload\u001b[0m\u001b[0;34m(\u001b[0m\u001b[0;34m'models/PMI3_allMetab_meta_general.pkl'\u001b[0m\u001b[0;34m)\u001b[0m\u001b[0;34m\u001b[0m\u001b[0;34m\u001b[0m\u001b[0m\n\u001b[0m",
      "\u001b[0;31mNameError\u001b[0m: name 'joblib' is not defined"
     ]
    }
   ],
   "source": [
    "model_PMI3_allMetab_meta_general = joblib.load('models/PMI3_allMetab_meta_general.pkl')"
   ]
  },
  {
   "cell_type": "code",
   "execution_count": 17,
   "metadata": {
    "scrolled": true
   },
   "outputs": [
    {
     "data": {
      "text/plain": [
       "RandomForestRegressor(bootstrap=False, ccp_alpha=0.0, criterion='mae',\n",
       "                      max_depth=4, max_features=0.1, max_leaf_nodes=None,\n",
       "                      max_samples=None, min_impurity_decrease=0.0,\n",
       "                      min_impurity_split=None, min_samples_leaf=1,\n",
       "                      min_samples_split=2, min_weight_fraction_leaf=0.0,\n",
       "                      n_estimators=1, n_jobs=None, oob_score=False,\n",
       "                      random_state=999, verbose=0, warm_start=False)"
      ]
     },
     "execution_count": 17,
     "metadata": {},
     "output_type": "execute_result"
    }
   ],
   "source": [
    "model_PMI3_allMetab_meta_general"
   ]
  },
  {
   "cell_type": "markdown",
   "metadata": {},
   "source": [
    "### Determine important features"
   ]
  },
  {
   "cell_type": "code",
   "execution_count": 18,
   "metadata": {
    "scrolled": true
   },
   "outputs": [
    {
     "name": "stdout",
     "output_type": "stream",
     "text": [
      "Feature:\t\t\t\tImportance:\n",
      "1. X565.517636027714_7.72472345775013\t0.49285613375874915\n",
      "2. X228.23079588292_6.35603299435028\t0.16890521873345143\n",
      "3. season=summer\t0.06575779785076023\n",
      "4. X313.236401092986_5.28683901830283\t0.06409793577600781\n",
      "5. X533.380648295084_8.47133075396825\t0.043938404125616316\n",
      "6. X314.267826427112_6.76680303030302\t0.043375911769403606\n",
      "7. X195.098852603876_3.7230375449964\t0.03193477458945874\n",
      "8. X215.131461096591_5.04396530054644\t0.023751968607241217\n",
      "9. X534.232515207926_5.82127157407407\t0.017572730518510892\n",
      "10. X187.132559969724_3.54547162954278\t0.013063191618185385\n",
      "11. X661.36953050263_5.93033758503401\t0.011600071488517157\n",
      "12. X358.328017739688_4.93189656862745\t0.010357397165445167\n",
      "13. X288.180758851947_3.39794949494949\t0.008232347029935957\n",
      "14. X527.391812133789_7.85676263888889\t0.0026538830224127254\n",
      "15. X185.080538403724_2.17167016298633\t0.0019022339463043755\n",
      "16. X341.304059024148_7.978558685446\t0.0\n",
      "17. X589.444448171568_6.04995468319559\t0.0\n",
      "18. X440.364168590969_7.20404953703703\t0.0\n",
      "19. X607.455771484375_6.016775\t0.0\n",
      "20. X173.1174826622_6.03329333333333\t0.0\n",
      "21. X227.195373403614_5.32643879310344\t0.0\n",
      "22. X201.111899418617_2.84175771144278\t0.0\n",
      "23. X281.246987367287_7.84543461538461\t0.0\n",
      "24. X167.106578037656_3.33743448275861\t0.0\n",
      "25. X213.146364294964_3.85749474637681\t0.0\n"
     ]
    }
   ],
   "source": [
    "importances = model_PMI3_allMetab_meta_general.feature_importances_\n",
    "std = np.std([tree.feature_importances_ for tree in model_PMI3_allMetab_meta_general.estimators_],\n",
    "             axis=0)\n",
    "indices = np.argsort(importances)[::-1]\n",
    "\n",
    "feature_metadata = allMetab.feature_metadata\n",
    "np.savetxt(\"feature_metadata/general_all_feature_metadata_meta.csv\", feature_metadata, delimiter=\",\", fmt='%s')\n",
    "\n",
    "\n",
    "#print the important ids in order\n",
    "general_importances = []\n",
    "count = 0\n",
    "print(\"Feature:\\t\\t\\t\\tImportance:\")\n",
    "for i in indices:\n",
    "    general_importances += (allMetab.feature_metadata.index.values[i], importances[indices[count]])\n",
    "    if count < 25:\n",
    "        print(str(count+1)+\". \"+str(allMetab.feature_metadata.index.values[i])+\"\\t\"+str(importances[indices[count]]))\n",
    "    count += 1"
   ]
  },
  {
   "cell_type": "code",
   "execution_count": 19,
   "metadata": {},
   "outputs": [
    {
     "name": "stdout",
     "output_type": "stream",
     "text": [
      "Number of features present: 4411\n"
     ]
    }
   ],
   "source": [
    "print(\"Number of features present:\", int(len(general_importances)/2))\n",
    "general_importances_df = pd.DataFrame(np.array(general_importances).reshape(int(len(general_importances)/2),2))\n",
    "\n",
    "np.savetxt(\"importances/general_all_importances_meta.csv\", general_importances_df, delimiter=\",\", fmt='%s')"
   ]
  },
  {
   "cell_type": "code",
   "execution_count": 20,
   "metadata": {},
   "outputs": [
    {
     "data": {
      "image/png": "[encoded data removed]",
      "text/plain": [
       "<Figure size 432x288 with 1 Axes>"
      ]
     },
     "metadata": {
      "needs_background": "light"
     },
     "output_type": "display_data"
    }
   ],
   "source": [
    "yhat = model_PMI3_allMetab_meta_general.predict(X)\n",
    "MAE = mean_absolute_error(y, yhat)\n",
    "\n",
    "plt.scatter(yhat, y, color = 'lightgray', edgecolors = 'k')\n",
    "lower = np.min(np.concatenate([y, yhat]))\n",
    "upper = np.max(np.concatenate([y, yhat]))\n",
    "plt.plot([lower, upper], [lower, upper], color = 'black', lw = 2, ls = ':')\n",
    "plt.xlim(0,600)\n",
    "plt.ylim(0,600)\n",
    "\n",
    "#regression part\n",
    "slope, intercept, r_value, p_value, std_err = stats.linregress(yhat,y)\n",
    "line = slope*yhat+intercept\n",
    "plt.plot(yhat, line, color = 'black', lw = 2)\n",
    "\n",
    "plt.title('General metabolomics model\\n Gen. MAE = %d; MAE = %d; $R^2$ = %.2f' %(np.mean(nested_cv_scores),MAE,round(model_PMI3_allMetab_meta_general.score(X,y),2)))\n",
    "plt.xlabel(\"Predicted ADD\")\n",
    "plt.ylabel(\"Actual ADD\")\n",
    "plt.savefig('figures/general_all_model.png')"
   ]
  },
  {
   "cell_type": "code",
   "execution_count": null,
   "metadata": {},
   "outputs": [],
   "source": []
  }
 ],
 "metadata": {
  "kernelspec": {
   "display_name": "Python 3",
   "language": "python",
   "name": "python3"
  },
  "language_info": {
   "codemirror_mode": {
    "name": "ipython",
    "version": 3
   },
   "file_extension": ".py",
   "mimetype": "text/x-python",
   "name": "python",
   "nbconvert_exporter": "python",
   "pygments_lexer": "ipython3",
   "version": "3.7.7"
  }
 },
 "nbformat": 4,
 "nbformat_minor": 2
}
