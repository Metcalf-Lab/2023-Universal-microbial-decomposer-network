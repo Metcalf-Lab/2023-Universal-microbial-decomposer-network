{
 "cells": [
  {
   "cell_type": "code",
   "execution_count": 1,
   "metadata": {
    "scrolled": true
   },
   "outputs": [
    {
     "name": "stderr",
     "output_type": "stream",
     "text": [
      "/Users/Zach/miniconda3/envs/ml_22.2/lib/python3.7/site-packages/sklearn/externals/joblib/__init__.py:15: FutureWarning: sklearn.externals.joblib is deprecated in 0.21 and will be removed in 0.23. Please import this functionality directly from joblib, which can be installed with: pip install joblib. If this warning is raised when loading pickled models, you may need to re-serialize those models with scikit-learn 0.21+.\n",
      "  warnings.warn(msg, category=FutureWarning)\n"
     ]
    }
   ],
   "source": [
    "from sklearn.ensemble import RandomForestRegressor\n",
    "from sklearn import preprocessing, svm, metrics\n",
    "from sklearn.model_selection import LeaveOneGroupOut, KFold, GridSearchCV, GroupKFold, cross_val_score, train_test_split\n",
    "from sklearn.metrics import r2_score, mean_squared_error, mean_absolute_error\n",
    "from sklearn.externals import joblib\n",
    "from sklearn.datasets import make_regression\n",
    "from scipy.stats import randint as sp_randint\n",
    "from matplotlib import pyplot as plt\n",
    "from collections import defaultdict"
   ]
  },
  {
   "cell_type": "code",
   "execution_count": 2,
   "metadata": {},
   "outputs": [
    {
     "name": "stderr",
     "output_type": "stream",
     "text": [
      "/Users/Zach/miniconda3/envs/ml_22.2/lib/python3.7/site-packages/skbio/util/_testing.py:15: FutureWarning: pandas.util.testing is deprecated. Use the functions in the public API at pandas.testing instead.\n",
      "  import pandas.util.testing as pdt\n"
     ]
    }
   ],
   "source": [
    "import pandas as pd\n",
    "import numpy as np\n",
    "import matplotlib\n",
    "import seaborn as sns\n",
    "%matplotlib inline\n",
    "import biom\n",
    "import calour as ca\n",
    "from scipy import stats\n",
    "import scipy\n",
    "import pickle\n",
    "import time\n",
    "import math\n",
    "import inspect\n",
    "import operator\n",
    "pd.set_option('display.max_rows', 10000)"
   ]
  },
  {
   "cell_type": "markdown",
   "metadata": {},
   "source": [
    "# Importing data, no TSS normalization performed here since table is already normalized"
   ]
  },
  {
   "cell_type": "code",
   "execution_count": 3,
   "metadata": {
    "scrolled": false
   },
   "outputs": [],
   "source": [
    "allMetab = ca.read_amplicon('PMI_MS1_FeatureTable_Normalized.biom','pmi3_metab_meta.txt', min_reads=1, normalize = None)"
   ]
  },
  {
   "cell_type": "markdown",
   "metadata": {},
   "source": [
    "## Remove controls and samples that grouped with controls on PCoA"
   ]
  },
  {
   "cell_type": "code",
   "execution_count": 4,
   "metadata": {
    "scrolled": true
   },
   "outputs": [
    {
     "data": {
      "text/plain": [
       "skin.hip    746\n",
       "soil.hip    744\n",
       "Name: description, dtype: int64"
      ]
     },
     "execution_count": 4,
     "metadata": {},
     "output_type": "execute_result"
    }
   ],
   "source": [
    "allMetab = allMetab.filter_samples('control', 'n')\n",
    "allMetab = allMetab.filter_samples('pcoa_removals', 'n')\n",
    "allMetab.sample_metadata.description.value_counts()"
   ]
  },
  {
   "cell_type": "markdown",
   "metadata": {},
   "source": [
    "# Split by sampling location (soil v. skin)"
   ]
  },
  {
   "cell_type": "markdown",
   "metadata": {},
   "source": [
    "## Skin sample filtering"
   ]
  },
  {
   "cell_type": "code",
   "execution_count": 5,
   "metadata": {},
   "outputs": [
    {
     "data": {
      "text/plain": [
       "skin    746\n",
       "Name: sample_type, dtype: int64"
      ]
     },
     "execution_count": 5,
     "metadata": {},
     "output_type": "execute_result"
    }
   ],
   "source": [
    "Metab_skin = allMetab.filter_samples('sample_type', 'skin')\n",
    "Metab_skin.sample_metadata.sample_type.value_counts()"
   ]
  },
  {
   "cell_type": "code",
   "execution_count": 6,
   "metadata": {},
   "outputs": [
    {
     "name": "stdout",
     "output_type": "stream",
     "text": [
      "Number of samples:  746\n"
     ]
    }
   ],
   "source": [
    "print(\"Number of samples: \",len(Metab_skin.sample_metadata.metab_barcode.value_counts()))"
   ]
  },
  {
   "cell_type": "code",
   "execution_count": 7,
   "metadata": {},
   "outputs": [
    {
     "name": "stdout",
     "output_type": "stream",
     "text": [
      "Number of bodies:  36\n"
     ]
    }
   ],
   "source": [
    "print(\"Number of bodies: \",len(Metab_skin.sample_metadata.subjectID.value_counts()))"
   ]
  },
  {
   "cell_type": "markdown",
   "metadata": {},
   "source": [
    "# Skin General Model using ADD 0C as Response and Adding Metadata as Features"
   ]
  },
  {
   "cell_type": "code",
   "execution_count": 8,
   "metadata": {},
   "outputs": [
    {
     "name": "stdout",
     "output_type": "stream",
     "text": [
      "Number of features:  4405\n"
     ]
    }
   ],
   "source": [
    "Metab_skin_meta = Metab_skin.add_sample_metadata_as_features(['facility','avg_percent_humidity','total_precipitation_cm'])\n",
    "print(\"Number of features: \",len(Metab_skin_meta.feature_metadata))"
   ]
  },
  {
   "cell_type": "code",
   "execution_count": 9,
   "metadata": {},
   "outputs": [],
   "source": [
    "# designate data\n",
    "X = Metab_skin_meta.data\n",
    "y = Metab_skin_meta.sample_metadata['add_0c']\n",
    "y = (y.astype(float))\n",
    "\n",
    "# group by body\n",
    "groups = Metab_skin_meta.sample_metadata['subjectID']"
   ]
  },
  {
   "cell_type": "code",
   "execution_count": 10,
   "metadata": {},
   "outputs": [
    {
     "name": "stdout",
     "output_type": "stream",
     "text": [
      "Number of outer folds to perform:  36\n",
      "Outer fold: 1\n",
      "Number of inner folds: 35\n",
      "Best params: {'bootstrap': False, 'max_depth': 4, 'max_features': 0.1}\n",
      "Best CV score (MAE): 65.91586820117715\n",
      "Prediction score (MAE): 27.488470900428577\n",
      "*****\n",
      "Outer fold: 2\n",
      "Number of inner folds: 35\n",
      "Best params: {'bootstrap': False, 'max_depth': 4, 'max_features': 0.1}\n",
      "Best CV score (MAE): 65.20433772361417\n",
      "Prediction score (MAE): 46.72264682623094\n",
      "*****\n",
      "Outer fold: 3\n",
      "Number of inner folds: 35\n",
      "Best params: {'bootstrap': False, 'max_depth': 4, 'max_features': 0.1}\n",
      "Best CV score (MAE): 63.94005367730241\n",
      "Prediction score (MAE): 64.83881349230006\n",
      "*****\n",
      "Outer fold: 4\n",
      "Number of inner folds: 35\n",
      "Best params: {'bootstrap': False, 'max_depth': 4, 'max_features': 0.1}\n",
      "Best CV score (MAE): 63.45935035596604\n",
      "Prediction score (MAE): 74.82217989397618\n",
      "*****\n",
      "Outer fold: 5\n",
      "Number of inner folds: 35\n",
      "Best params: {'bootstrap': False, 'max_depth': 4, 'max_features': 0.1}\n",
      "Best CV score (MAE): 62.44887658422439\n",
      "Prediction score (MAE): 120.61024734211428\n",
      "*****\n",
      "Outer fold: 6\n",
      "Number of inner folds: 35\n",
      "Best params: {'bootstrap': False, 'max_depth': 4, 'max_features': 0.1}\n",
      "Best CV score (MAE): 63.63096578195947\n",
      "Prediction score (MAE): 94.75559919778814\n",
      "*****\n",
      "Outer fold: 7\n",
      "Number of inner folds: 35\n",
      "Best params: {'bootstrap': False, 'max_depth': 4, 'max_features': 0.1}\n",
      "Best CV score (MAE): 63.69648219614424\n",
      "Prediction score (MAE): 79.21457671930233\n",
      "*****\n",
      "Outer fold: 8\n",
      "Number of inner folds: 35\n",
      "Best params: {'bootstrap': False, 'max_depth': 4, 'max_features': 0.1}\n",
      "Best CV score (MAE): 64.42148832825237\n",
      "Prediction score (MAE): 55.64408479562369\n",
      "*****\n",
      "Outer fold: 9\n",
      "Number of inner folds: 35\n",
      "Best params: {'bootstrap': False, 'max_depth': 4, 'max_features': 0.1}\n",
      "Best CV score (MAE): 63.88288106609542\n",
      "Prediction score (MAE): 68.3410634912595\n",
      "*****\n",
      "Outer fold: 10\n",
      "Number of inner folds: 35\n",
      "Best params: {'bootstrap': False, 'max_depth': 4, 'max_features': 0.1}\n",
      "Best CV score (MAE): 63.44779316383282\n",
      "Prediction score (MAE): 81.65698677189997\n",
      "*****\n",
      "Outer fold: 11\n",
      "Number of inner folds: 35\n",
      "Best params: {'bootstrap': False, 'max_depth': 4, 'max_features': 0.1}\n",
      "Best CV score (MAE): 63.928872965085844\n",
      "Prediction score (MAE): 64.4904682535143\n",
      "*****\n",
      "Outer fold: 12\n",
      "Number of inner folds: 35\n",
      "Best params: {'bootstrap': False, 'max_depth': 4, 'max_features': 0.1}\n",
      "Best CV score (MAE): 63.67977778817558\n",
      "Prediction score (MAE): 67.70965079349762\n",
      "*****\n",
      "Outer fold: 13\n",
      "Number of inner folds: 35\n",
      "Best params: {'bootstrap': False, 'max_depth': 4, 'max_features': 0.1}\n",
      "Best CV score (MAE): 65.13507777053027\n",
      "Prediction score (MAE): 31.8416083333475\n",
      "*****\n",
      "Outer fold: 14\n",
      "Number of inner folds: 35\n",
      "Best params: {'bootstrap': False, 'max_depth': 4, 'max_features': 0.1}\n",
      "Best CV score (MAE): 64.64512687044834\n",
      "Prediction score (MAE): 36.70196296244525\n",
      "*****\n",
      "Outer fold: 15\n",
      "Number of inner folds: 35\n",
      "Best params: {'bootstrap': False, 'max_depth': 4, 'max_features': 0.1}\n",
      "Best CV score (MAE): 64.48493956085976\n",
      "Prediction score (MAE): 40.523492062528575\n",
      "*****\n",
      "Outer fold: 16\n",
      "Number of inner folds: 35\n",
      "Best params: {'bootstrap': False, 'max_depth': 4, 'max_features': 0.1}\n",
      "Best CV score (MAE): 63.33378560673045\n",
      "Prediction score (MAE): 64.81820767590001\n",
      "*****\n",
      "Outer fold: 17\n",
      "Number of inner folds: 35\n",
      "Best params: {'bootstrap': False, 'max_depth': 4, 'max_features': 0.1}\n",
      "Best CV score (MAE): 63.620374148400685\n",
      "Prediction score (MAE): 69.60648015824047\n",
      "*****\n",
      "Outer fold: 18\n",
      "Number of inner folds: 35\n",
      "Best params: {'bootstrap': False, 'max_depth': 4, 'max_features': 0.1}\n",
      "Best CV score (MAE): 63.65937913702758\n",
      "Prediction score (MAE): 70.02902645435238\n",
      "*****\n",
      "Outer fold: 19\n",
      "Number of inner folds: 35\n",
      "Best params: {'bootstrap': False, 'max_depth': 4, 'max_features': 0.1}\n",
      "Best CV score (MAE): 63.977333816620906\n",
      "Prediction score (MAE): 52.77140608370711\n",
      "*****\n",
      "Outer fold: 20\n",
      "Number of inner folds: 35\n",
      "Best params: {'bootstrap': False, 'max_depth': 4, 'max_features': 0.1}\n",
      "Best CV score (MAE): 63.81327420842641\n",
      "Prediction score (MAE): 52.506580687988084\n",
      "*****\n",
      "Outer fold: 21\n",
      "Number of inner folds: 35\n",
      "Best params: {'bootstrap': False, 'max_depth': 4, 'max_features': 0.1}\n",
      "Best CV score (MAE): 65.15729174059778\n",
      "Prediction score (MAE): 37.646310847354755\n",
      "*****\n",
      "Outer fold: 22\n",
      "Number of inner folds: 35\n",
      "Best params: {'bootstrap': False, 'max_depth': 4, 'max_features': 0.1}\n",
      "Best CV score (MAE): 64.5037701456662\n",
      "Prediction score (MAE): 64.71991666599526\n",
      "*****\n",
      "Outer fold: 23\n",
      "Number of inner folds: 35\n",
      "Best params: {'bootstrap': False, 'max_depth': 4, 'max_features': 0.1}\n",
      "Best CV score (MAE): 60.71135585463401\n",
      "Prediction score (MAE): 165.98120588088233\n",
      "*****\n",
      "Outer fold: 24\n",
      "Number of inner folds: 35\n",
      "Best params: {'bootstrap': False, 'max_depth': 4, 'max_features': 0.1}\n",
      "Best CV score (MAE): 64.83549093615215\n",
      "Prediction score (MAE): 47.92182142987858\n",
      "*****\n",
      "Outer fold: 25\n",
      "Number of inner folds: 35\n",
      "Best params: {'bootstrap': False, 'max_depth': 4, 'max_features': 0.1}\n",
      "Best CV score (MAE): 64.50962991955193\n",
      "Prediction score (MAE): 47.351678570188064\n",
      "*****\n",
      "Outer fold: 26\n",
      "Number of inner folds: 35\n",
      "Best params: {'bootstrap': False, 'max_depth': 4, 'max_features': 0.1}\n",
      "Best CV score (MAE): 64.77431589369104\n",
      "Prediction score (MAE): 48.00079365094048\n",
      "*****\n",
      "Outer fold: 27\n",
      "Number of inner folds: 35\n",
      "Best params: {'bootstrap': False, 'max_depth': 4, 'max_features': 0.1}\n",
      "Best CV score (MAE): 64.4105300127791\n",
      "Prediction score (MAE): 38.96536111912146\n",
      "*****\n",
      "Outer fold: 28\n",
      "Number of inner folds: 35\n",
      "Best params: {'bootstrap': False, 'max_depth': 4, 'max_features': 0.1}\n",
      "Best CV score (MAE): 64.603992973206\n",
      "Prediction score (MAE): 65.12162037109287\n",
      "*****\n",
      "Outer fold: 29\n",
      "Number of inner folds: 35\n",
      "Best params: {'bootstrap': False, 'max_depth': 4, 'max_features': 0.1}\n",
      "Best CV score (MAE): 64.736751646838\n",
      "Prediction score (MAE): 54.75576190552621\n",
      "*****\n",
      "Outer fold: 30\n",
      "Number of inner folds: 35\n",
      "Best params: {'bootstrap': False, 'max_depth': 4, 'max_features': 0.1}\n",
      "Best CV score (MAE): 63.60484016230873\n",
      "Prediction score (MAE): 81.7494402786775\n",
      "*****\n",
      "Outer fold: 31\n",
      "Number of inner folds: 35\n",
      "Best params: {'bootstrap': False, 'max_depth': 4, 'max_features': 0.1}\n",
      "Best CV score (MAE): 63.923638989269435\n",
      "Prediction score (MAE): 52.24663888746427\n",
      "*****\n",
      "Outer fold: 32\n",
      "Number of inner folds: 35\n",
      "Best params: {'bootstrap': False, 'max_depth': 4, 'max_features': 0.1}\n",
      "Best CV score (MAE): 64.77664521262487\n",
      "Prediction score (MAE): 47.72252499984252\n",
      "*****\n",
      "Outer fold: 33\n",
      "Number of inner folds: 35\n",
      "Best params: {'bootstrap': False, 'max_depth': 4, 'max_features': 0.1}\n",
      "Best CV score (MAE): 64.52810967857438\n",
      "Prediction score (MAE): 43.054306944369976\n",
      "*****\n",
      "Outer fold: 34\n",
      "Number of inner folds: 35\n",
      "Best params: {'bootstrap': False, 'max_depth': 4, 'max_features': 0.1}\n",
      "Best CV score (MAE): 63.53238811664157\n",
      "Prediction score (MAE): 75.91076851802856\n",
      "*****\n",
      "Outer fold: 35\n",
      "Number of inner folds: 35\n",
      "Best params: {'bootstrap': False, 'max_depth': 4, 'max_features': 0.1}\n",
      "Best CV score (MAE): 63.128069838225166\n",
      "Prediction score (MAE): 93.72314021693332\n",
      "*****\n",
      "Outer fold: 36\n",
      "Number of inner folds: 35\n",
      "Best params: {'bootstrap': False, 'max_depth': 4, 'max_features': 0.1}\n",
      "Best CV score (MAE): 64.12095305958134\n",
      "Prediction score (MAE): 67.78932143697855\n",
      "*****\n",
      "\n",
      "Nested CV score (generalization error): 63.82650457276999\n"
     ]
    }
   ],
   "source": [
    "# outer_cv creates 36 folds by leave-one-body-out for estimating generalization error\n",
    "outer_cv = LeaveOneGroupOut().split(X, y, groups=groups)\n",
    "\n",
    "# prints the number of folds in the outer loop\n",
    "print(\"Number of outer folds to perform: \", LeaveOneGroupOut().get_n_splits(X, y, groups=groups))\n",
    "\n",
    "# hyperparameter grid to test\n",
    "#param_grid = {\"max_depth\": [None, 4],\n",
    "#              \"max_features\": ['auto', 0.2],\n",
    "#              \"bootstrap\": [True, False]}\n",
    "\n",
    "param_grid = {\"max_depth\": [4],\n",
    "              \"max_features\": [0.1],\n",
    "              \"bootstrap\": [False]}\n",
    "\n",
    "# creates loop iteration counter and empty lists for storage\n",
    "count=1\n",
    "model_parameters = []\n",
    "nested_cv_scores = []\n",
    "\n",
    "# loops through the sets of training and test ids in the outer loop\n",
    "# the number of loops will match the number of folds as each fold is used\n",
    "for train_ids, test_ids in outer_cv:\n",
    "    # inner_cv creates 35 folds by leave-one-body-out for hyperparamter tuning\n",
    "    # uses only the train ids present in the current outer loop fold which is one less body since the outer loop\n",
    "    # folds are also using leave-one-body-out\n",
    "    inner_cv = LeaveOneGroupOut().split(X[train_ids, :], y.iloc[train_ids], groups=groups[train_ids])\n",
    "    # setting rf parameters\n",
    "    rf = RandomForestRegressor(n_estimators=100, random_state=999, criterion='mae')\n",
    "    # grid search cv using rf and the hyperparameter grid on the inner_cv training set\n",
    "    rf_grid = GridSearchCV(estimator=rf, param_grid=param_grid, cv=inner_cv, n_jobs=-1, scoring='neg_mean_absolute_error')\n",
    "    # fit the grid search model on the inner_cv training set, which will tell us the best\n",
    "    # parameters chosen by that inner cv\n",
    "    rf_grid.fit(X[train_ids, :], y.iloc[train_ids])\n",
    "    # converts best params dict to string to save it\n",
    "    res = \",\".join((\"{}={}\".format(*i) for i in rf_grid.best_params_.items()))\n",
    "    # attaches each loops best params\n",
    "    model_parameters.append(res)\n",
    "    # prints outer fold number the loop is currently on\n",
    "    print(\"Outer fold:\",count)\n",
    "    # prints number of inner folds in the outer loop (should be the same each time at 35)\n",
    "    print(\"Number of inner folds:\",LeaveOneGroupOut().get_n_splits(X[train_ids, :], y.iloc[train_ids], groups=groups[train_ids]))\n",
    "    # prints best param and CV score from this inner loop set \n",
    "    print(\"Best params:\",rf_grid.best_params_)\n",
    "    print(\"Best CV score (MAE):\",-rf_grid.best_score_)\n",
    "    # uses the best model created from the inner loop to predict the outer loop body left out\n",
    "    yhat = rf_grid.predict(X[test_ids,:])\n",
    "    MAE = mean_absolute_error(y.iloc[test_ids], yhat)\n",
    "    print(\"Prediction score (MAE):\",MAE)\n",
    "    nested_cv_scores.append(MAE)\n",
    "    print(\"*****\")\n",
    "    count+=1\n",
    "# prints the mean of the nested cv score (generalization error) of the models\n",
    "print(\"\\nNested CV score (generalization error): \" + str(np.mean(nested_cv_scores)))"
   ]
  },
  {
   "cell_type": "code",
   "execution_count": 11,
   "metadata": {},
   "outputs": [],
   "source": [
    "# define function to merge 2 lists as paired tuples    \n",
    "def merge(list1, list2): \n",
    "    merged_list = tuple(zip(list1, list2))  \n",
    "    return merged_list \n",
    "\n",
    "# merge parameters to nested scores as tuples\n",
    "merged_list = merge(model_parameters, nested_cv_scores)\n",
    "\n",
    "# puts the paired tuple list into a dictionary\n",
    "params_and_scores = defaultdict(list)\n",
    "for k, v in merged_list:\n",
    "    params_and_scores[k].append(v)"
   ]
  },
  {
   "cell_type": "code",
   "execution_count": 12,
   "metadata": {},
   "outputs": [
    {
     "data": {
      "text/plain": [
       "defaultdict(list,\n",
       "            {'bootstrap=False,max_depth=4,max_features=0.1': [27.488470900428577,\n",
       "              46.72264682623094,\n",
       "              64.83881349230006,\n",
       "              74.82217989397618,\n",
       "              120.61024734211428,\n",
       "              94.75559919778814,\n",
       "              79.21457671930233,\n",
       "              55.64408479562369,\n",
       "              68.3410634912595,\n",
       "              81.65698677189997,\n",
       "              64.4904682535143,\n",
       "              67.70965079349762,\n",
       "              31.8416083333475,\n",
       "              36.70196296244525,\n",
       "              40.523492062528575,\n",
       "              64.81820767590001,\n",
       "              69.60648015824047,\n",
       "              70.02902645435238,\n",
       "              52.77140608370711,\n",
       "              52.506580687988084,\n",
       "              37.646310847354755,\n",
       "              64.71991666599526,\n",
       "              165.98120588088233,\n",
       "              47.92182142987858,\n",
       "              47.351678570188064,\n",
       "              48.00079365094048,\n",
       "              38.96536111912146,\n",
       "              65.12162037109287,\n",
       "              54.75576190552621,\n",
       "              81.7494402786775,\n",
       "              52.24663888746427,\n",
       "              47.72252499984252,\n",
       "              43.054306944369976,\n",
       "              75.91076851802856,\n",
       "              93.72314021693332,\n",
       "              67.78932143697855]})"
      ]
     },
     "execution_count": 12,
     "metadata": {},
     "output_type": "execute_result"
    }
   ],
   "source": [
    "# prints dict of params and scores, should see each set of parameters chosen and their scores\n",
    "params_and_scores"
   ]
  },
  {
   "cell_type": "code",
   "execution_count": 13,
   "metadata": {},
   "outputs": [
    {
     "name": "stdout",
     "output_type": "stream",
     "text": [
      "{'bootstrap=False,max_depth=4,max_features=0.1': 63.82650457276999}\n"
     ]
    }
   ],
   "source": [
    "# create a dict to assign the mean score to each param set\n",
    "avgDict = {}\n",
    "for k,v in params_and_scores.items():\n",
    "    avgDict[k] = sum(v)/ float(len(v))\n",
    "print(avgDict)"
   ]
  },
  {
   "cell_type": "code",
   "execution_count": 14,
   "metadata": {},
   "outputs": [
    {
     "name": "stdout",
     "output_type": "stream",
     "text": [
      "Best params: bootstrap=False,max_depth=4,max_features=0.1\n",
      "Best mean score: 63.82650457276999\n"
     ]
    }
   ],
   "source": [
    "# prints the param set with the best mean error\n",
    "print(\"Best params:\",min(avgDict, key=avgDict.get))\n",
    "print(\"Best mean score:\",min(avgDict.values()))"
   ]
  },
  {
   "cell_type": "code",
   "execution_count": 15,
   "metadata": {},
   "outputs": [
    {
     "name": "stdout",
     "output_type": "stream",
     "text": [
      "Best CV score: 73.63133209479525\n"
     ]
    }
   ],
   "source": [
    "# input the best parameter set\n",
    "best_model_params = {\"max_depth\": [4],\n",
    "              \"max_features\": [0.1],\n",
    "              \"bootstrap\": [False]}\n",
    "\n",
    "# now we refit this best model on the whole dataset so that we can start\n",
    "# making predictions on other data, and now we have a reliable estimate of\n",
    "# this model's generalization error and we are confident this is the best model\n",
    "# among the ones we have tried\n",
    "final_regressor = GridSearchCV(rf, best_model_params, cv=LeaveOneGroupOut().split(X, y, groups=groups), scoring='neg_mean_absolute_error', n_jobs=-1)\n",
    "final_regressor.fit(X, y)\n",
    "print(\"Best CV score:\",-final_regressor.best_score_)"
   ]
  },
  {
   "cell_type": "code",
   "execution_count": 16,
   "metadata": {},
   "outputs": [
    {
     "data": {
      "text/plain": [
       "['models/PMI3_Metab_skin_meta_general.pkl']"
      ]
     },
     "execution_count": 16,
     "metadata": {},
     "output_type": "execute_result"
    }
   ],
   "source": [
    "joblib.dump(final_regressor.best_estimator_, 'models/PMI3_Metab_skin_meta_general.pkl')"
   ]
  },
  {
   "cell_type": "code",
   "execution_count": 17,
   "metadata": {},
   "outputs": [],
   "source": [
    "model_Metab_skin_meta = joblib.load('models/PMI3_Metab_skin_meta_general.pkl')"
   ]
  },
  {
   "cell_type": "code",
   "execution_count": 18,
   "metadata": {
    "scrolled": false
   },
   "outputs": [
    {
     "data": {
      "text/plain": [
       "RandomForestRegressor(bootstrap=False, ccp_alpha=0.0, criterion='mae',\n",
       "                      max_depth=4, max_features='auto', max_leaf_nodes=None,\n",
       "                      max_samples=None, min_impurity_decrease=0.0,\n",
       "                      min_impurity_split=None, min_samples_leaf=1,\n",
       "                      min_samples_split=2, min_weight_fraction_leaf=0.0,\n",
       "                      n_estimators=100, n_jobs=None, oob_score=False,\n",
       "                      random_state=999, verbose=0, warm_start=False)"
      ]
     },
     "execution_count": 18,
     "metadata": {},
     "output_type": "execute_result"
    }
   ],
   "source": [
    "model_Metab_skin_meta"
   ]
  },
  {
   "cell_type": "markdown",
   "metadata": {},
   "source": [
    "### Determine important features"
   ]
  },
  {
   "cell_type": "code",
   "execution_count": 19,
   "metadata": {},
   "outputs": [
    {
     "name": "stdout",
     "output_type": "stream",
     "text": [
      "Feature:\t\t\t\tImportance:\n",
      "1. X352.356264209747_8.29605718749999\t0.6324652035438103\n",
      "2. X338.340748569973_8.40681924398625\t0.08061073951457341\n",
      "3. X107.05016949712_2.39438843537415\t0.06260276439696616\n",
      "4. X228.23079588292_6.35603299435028\t0.03677813705034451\n",
      "5. X533.380648295084_8.47133075396825\t0.036586850494819044\n",
      "6. X385.345282590478_7.96857988721804\t0.03088780236087188\n",
      "7. X155.106590406138_3.54257160493827\t0.0276508624722718\n",
      "8. X343.293593163583_4.6008931372549\t0.02163570725428231\n",
      "9. X265.251858191667_7.72115745216515\t0.015199479461720022\n",
      "10. X263.236161361039_6.05773919141913\t0.013851460740621359\n",
      "11. X283.156700489768_3.58938279569892\t0.01098108616853444\n",
      "12. X302.193749861283_3.73825151515151\t0.010280912785705221\n",
      "13. X223.127297351815_2.96714713391136\t0.006798727931249925\n",
      "14. X371.226813708116_2.44013158756137\t0.006275748859615315\n",
      "15. X304.258972599821_7.24066242138364\t0.0015730898287512293\n",
      "16. X402.333442687988_7.47111091954022\t0.0014520829188472881\n",
      "17. X703.706063406808_8.29814285714285\t0.0010083909158661722\n",
      "18. X501.374366266264_7.31500685851319\t0.0009094344226639786\n",
      "19. X589.427597873894_7.26937667958656\t0.0006721906602298974\n",
      "20. X367.208372476938_3.3484946509009\t0.0005931094060852035\n",
      "21. X279.230997695859_5.90311805903647\t0.0004744875248681629\n",
      "22. X367.334885250438_7.96486382575756\t0.00039540627072346914\n",
      "23. X363.307573050506_6.66751818181818\t0.00031632501657877525\n",
      "24. X227.195373403614_5.32643879310344\t0.0\n",
      "25. X167.106578037656_3.33743448275861\t0.0\n"
     ]
    }
   ],
   "source": [
    "importances = model_Metab_skin_meta.feature_importances_\n",
    "std = np.std([tree.feature_importances_ for tree in model_Metab_skin_meta.estimators_],\n",
    "             axis=0)\n",
    "indices = np.argsort(importances)[::-1]\n",
    "\n",
    "feature_metadata = Metab_skin_meta.feature_metadata\n",
    "np.savetxt(\"feature_metadata/general_skin_feature_metadata_meta.csv\", feature_metadata, delimiter=\",\", fmt='%s')\n",
    "\n",
    "\n",
    "#print the important ids in order\n",
    "general_importances = []\n",
    "count = 0\n",
    "print(\"Feature:\\t\\t\\t\\tImportance:\")\n",
    "for i in indices:\n",
    "    general_importances += (Metab_skin_meta.feature_metadata.index.values[i], importances[indices[count]])\n",
    "    if count < 25:\n",
    "        print(str(count+1)+\". \"+str(Metab_skin_meta.feature_metadata.index.values[i])+\"\\t\"+str(importances[indices[count]]))\n",
    "    count += 1"
   ]
  },
  {
   "cell_type": "code",
   "execution_count": 20,
   "metadata": {},
   "outputs": [
    {
     "name": "stdout",
     "output_type": "stream",
     "text": [
      "Number of features present: 4405\n"
     ]
    }
   ],
   "source": [
    "print(\"Number of features present:\", int(len(general_importances)/2))\n",
    "general_importances_df = pd.DataFrame(np.array(general_importances).reshape(int(len(general_importances)/2),2))\n",
    "\n",
    "np.savetxt(\"importances/general_skin_importances_meta.csv\", general_importances_df, delimiter=\",\", fmt='%s')"
   ]
  },
  {
   "cell_type": "code",
   "execution_count": 21,
   "metadata": {},
   "outputs": [
    {
     "data": {
      "image/png": "[encoded data removed]",
      "text/plain": [
       "<Figure size 432x288 with 1 Axes>"
      ]
     },
     "metadata": {
      "needs_background": "light"
     },
     "output_type": "display_data"
    }
   ],
   "source": [
    "yhat = model_Metab_skin_meta.predict(X)\n",
    "MAE = mean_absolute_error(y, yhat)\n",
    "\n",
    "plt.scatter(yhat, y, color = 'lightgray', edgecolors = 'black')\n",
    "lower = np.min(np.concatenate([y, yhat]))\n",
    "upper = np.max(np.concatenate([y, yhat]))\n",
    "plt.plot([lower, upper], [lower, upper], color = 'black', lw = 2, ls = ':')\n",
    "plt.xlim(0,600)\n",
    "plt.ylim(0,600)\n",
    "\n",
    "#regression part\n",
    "slope, intercept, r_value, p_value, std_err = stats.linregress(yhat,y)\n",
    "line = slope*yhat+intercept\n",
    "plt.plot(yhat, line, color = 'black', lw = 2)\n",
    "\n",
    "plt.title('General skin metabolomics model\\n Gen. MAE = %d; MAE = %d; $R^2$ = %.2f' %(np.mean(nested_cv_scores),MAE,round(model_Metab_skin_meta.score(X,y),2)))\n",
    "plt.xlabel(\"Predicted ADD\")\n",
    "plt.ylabel(\"Actual ADD\")\n",
    "plt.savefig('figures/general_skin_model.png')"
   ]
  },
  {
   "cell_type": "code",
   "execution_count": null,
   "metadata": {},
   "outputs": [],
   "source": []
  }
 ],
 "metadata": {
  "kernelspec": {
   "display_name": "Python 3",
   "language": "python",
   "name": "python3"
  },
  "language_info": {
   "codemirror_mode": {
    "name": "ipython",
    "version": 3
   },
   "file_extension": ".py",
   "mimetype": "text/x-python",
   "name": "python",
   "nbconvert_exporter": "python",
   "pygments_lexer": "ipython3",
   "version": "3.7.2"
  }
 },
 "nbformat": 4,
 "nbformat_minor": 2
}
