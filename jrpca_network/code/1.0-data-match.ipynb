{
 "cells": [
  {
   "cell_type": "code",
   "execution_count": 1,
   "metadata": {},
   "outputs": [],
   "source": [
    "import pandas as pd\n",
    "from gemelli.rpca import rpca, joint_rpca, feature_correlation_table\n",
    "from biom import Table\n",
    "from biom.util import biom_open\n",
    "import numpy as np\n",
    "from sklearn.model_selection import train_test_split\n",
    "np.random.seed(42)\n"
   ]
  },
  {
   "cell_type": "code",
   "execution_count": 2,
   "metadata": {},
   "outputs": [
    {
     "data": {
      "text/plain": [
       "{'metabolomics': 2333 x 374 <class 'biom.table.Table'> with 104825 nonzero entries (12% dense),\n",
       " 'mag': 257 x 374 <class 'biom.table.Table'> with 58498 nonzero entries (60% dense),\n",
       " '18S': 5473 x 374 <class 'biom.table.Table'> with 114755 nonzero entries (5% dense),\n",
       " '16S': 14237 x 374 <class 'biom.table.Table'> with 318875 nonzero entries (5% dense),\n",
       " 'gene': 2457 x 374 <class 'biom.table.Table'> with 901890 nonzero entries (98% dense),\n",
       " 'gene_module': 377 x 374 <class 'biom.table.Table'> with 117093 nonzero entries (83% dense)}"
      ]
     },
     "execution_count": 2,
     "metadata": {},
     "output_type": "execute_result"
    }
   ],
   "source": [
    "# import metadata\n",
    "metadata = pd.read_csv('../../network/metadata_v0.csv', index_col=0)\n",
    "tables = {}\n",
    "\n",
    "# import/match metabolomics\n",
    "metabolomics = pd.read_csv('../../network/GNPS-raw-metabolomics-quant-table.csv', index_col=0)\n",
    "metabolomics = metabolomics.drop(['row m/z', 'row retention time'], axis=1)\n",
    "map_names = pd.read_csv('../../network/metabolite_sample_names.txt', sep='\\t', index_col=0).orig_sample_name.to_dict()\n",
    "metabolomics.columns = [c.replace(' Peak area','') for c in metabolomics.columns]\n",
    "metabolomics.index = ['metab_' + str(i) for i in metabolomics.index]\n",
    "metabolomics = metabolomics[set(metabolomics.columns) & set(map_names.keys())]\n",
    "metabolomics.columns = [map_names[c] for c in metabolomics.columns]\n",
    "tables['metabolomics'] = metabolomics.copy()\n",
    "\n",
    "# import the rest\n",
    "all_tables = {'mag':'../../network/MAG_bact_table.tsv',\n",
    "            '18S':'../../network/18S_ASV_table.tsv',\n",
    "            '16S':'../../network/16S_ASV_table.tsv',\n",
    "            'gene':'../../network/MAG_bact_genes_table.tsv',\n",
    "            'gene_module':'../../network/MAG_bact_gene_modules_table.tsv'}\n",
    "for tbl_id, tbl_path in all_tables.items():\n",
    "    tables[tbl_id] = pd.read_csv(tbl_path, sep='\\t', index_col=0)\n",
    "    \n",
    "# match and filter the tables\n",
    "def filter_table(df, use_ids):\n",
    "    df = df[use_ids]\n",
    "    df = df[df.sum(1) > 0]\n",
    "    return df\n",
    "all_shared_samples = set(metadata.index) & set.intersection(*[set(t.columns) for t in tables.values()])\n",
    "tables = {tblid:filter_table(tbl, all_shared_samples)  for tblid, tbl in tables.items()}\n",
    "metadata = metadata.reindex(all_shared_samples)\n",
    "\n",
    "# subset the tables to last active time point\n",
    "#metadata_subset = pd.concat([df[df.add_0c_group == 'active'].sort_values('timepoint').iloc[[-1], :]\n",
    "#                             for _, df in metadata.groupby('subjects') if 'active' in list(df.add_0c_group)])\n",
    "\n",
    "metadata_subset = pd.concat([df\n",
    "                             for _, df in metadata.groupby('subjects') if len(set(df.add_0c_group)) == 4])\n",
    "\n",
    "tables_subset = {tblid:filter_table(tbl.copy(), metadata_subset.index)  for tblid, tbl in tables.items()}\n",
    "tables_subset = {tblid:Table(tbl.values, tbl.index, tbl.columns)  for tblid, tbl in tables_subset.items()}\n",
    "\n",
    "# train-tests\n",
    "for i_ in range(10):\n",
    "    train, test = train_test_split(metadata_subset, test_size=0.25, shuffle=True, random_state=42,\n",
    "                                   stratify=metadata_subset[['facility']])\n",
    "    metadata_subset.loc[:, 'traintest_%i' % i_] = 'train'\n",
    "    metadata_subset.loc[test.index, 'traintest_%i' % i_] = 'test'\n",
    "    \n",
    "# save data \n",
    "metadata_subset.to_csv('../../network/split-matched-data/metadata.tsv', sep='\\t')\n",
    "for tblid, tbl in tables_subset.items():\n",
    "    with biom_open('../../network/split-matched-data/%s.biom' % (tblid), 'w') as f:\n",
    "        tbl.to_hdf5(f, \"filtered-table-cm\")\n",
    "\n",
    "tables_subset\n",
    "\n"
   ]
  },
  {
   "cell_type": "code",
   "execution_count": null,
   "metadata": {},
   "outputs": [],
   "source": []
  }
 ],
 "metadata": {
  "kernelspec": {
   "display_name": "Python 3 (ipykernel)",
   "language": "python",
   "name": "python3"
  },
  "language_info": {
   "codemirror_mode": {
    "name": "ipython",
    "version": 3
   },
   "file_extension": ".py",
   "mimetype": "text/x-python",
   "name": "python",
   "nbconvert_exporter": "python",
   "pygments_lexer": "ipython3",
   "version": "3.8.13"
  }
 },
 "nbformat": 4,
 "nbformat_minor": 4
}
