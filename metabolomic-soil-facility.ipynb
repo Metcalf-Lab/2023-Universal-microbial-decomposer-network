{
 "cells": [
  {
   "cell_type": "code",
   "execution_count": 1,
   "metadata": {
    "scrolled": true
   },
   "outputs": [
    {
     "name": "stderr",
     "output_type": "stream",
     "text": [
      "/Users/Zach/miniconda3/envs/ml_22.2/lib/python3.7/site-packages/sklearn/externals/joblib/__init__.py:15: FutureWarning: sklearn.externals.joblib is deprecated in 0.21 and will be removed in 0.23. Please import this functionality directly from joblib, which can be installed with: pip install joblib. If this warning is raised when loading pickled models, you may need to re-serialize those models with scikit-learn 0.21+.\n",
      "  warnings.warn(msg, category=FutureWarning)\n"
     ]
    }
   ],
   "source": [
    "from sklearn.ensemble import RandomForestRegressor\n",
    "from sklearn import preprocessing, svm, metrics\n",
    "from sklearn.model_selection import LeaveOneGroupOut, KFold, GridSearchCV, GroupKFold, cross_val_score, train_test_split\n",
    "from sklearn.metrics import r2_score, mean_squared_error, mean_absolute_error\n",
    "from sklearn.externals import joblib\n",
    "from sklearn.datasets import make_regression\n",
    "from scipy.stats import randint as sp_randint\n",
    "from matplotlib import pyplot as plt\n",
    "from collections import defaultdict"
   ]
  },
  {
   "cell_type": "code",
   "execution_count": 2,
   "metadata": {},
   "outputs": [
    {
     "name": "stderr",
     "output_type": "stream",
     "text": [
      "/Users/Zach/miniconda3/envs/ml_22.2/lib/python3.7/site-packages/skbio/util/_testing.py:15: FutureWarning: pandas.util.testing is deprecated. Use the functions in the public API at pandas.testing instead.\n",
      "  import pandas.util.testing as pdt\n"
     ]
    }
   ],
   "source": [
    "import pandas as pd\n",
    "import numpy as np\n",
    "import matplotlib\n",
    "import seaborn as sns\n",
    "%matplotlib inline\n",
    "import biom\n",
    "import calour as ca\n",
    "from scipy import stats\n",
    "import scipy\n",
    "import pickle\n",
    "import time\n",
    "import math\n",
    "import inspect\n",
    "import operator\n",
    "pd.set_option('display.max_rows', 10000)"
   ]
  },
  {
   "cell_type": "markdown",
   "metadata": {},
   "source": [
    "# Importing data, no TSS normalization performed here"
   ]
  },
  {
   "cell_type": "code",
   "execution_count": 3,
   "metadata": {
    "scrolled": false
   },
   "outputs": [],
   "source": [
    "allMetab = ca.read_amplicon('PMI_MS1_FeatureTable_Normalized.biom','pmi3_metab_meta.txt', min_reads=1, normalize = None)"
   ]
  },
  {
   "cell_type": "markdown",
   "metadata": {},
   "source": [
    "## Remove controls and samples that grouped with controls on PCoA"
   ]
  },
  {
   "cell_type": "code",
   "execution_count": 4,
   "metadata": {
    "scrolled": true
   },
   "outputs": [
    {
     "data": {
      "text/plain": [
       "skin.hip    746\n",
       "soil.hip    744\n",
       "Name: description, dtype: int64"
      ]
     },
     "execution_count": 4,
     "metadata": {},
     "output_type": "execute_result"
    }
   ],
   "source": [
    "allMetab = allMetab.filter_samples('control', 'n')\n",
    "allMetab = allMetab.filter_samples('pcoa_removals', 'n')\n",
    "allMetab.sample_metadata.description.value_counts()"
   ]
  },
  {
   "cell_type": "markdown",
   "metadata": {},
   "source": [
    "# Split by sampling location (soil v. skin)"
   ]
  },
  {
   "cell_type": "markdown",
   "metadata": {},
   "source": [
    "## Soil sample filtering"
   ]
  },
  {
   "cell_type": "code",
   "execution_count": 5,
   "metadata": {},
   "outputs": [
    {
     "data": {
      "text/plain": [
       "soil    744\n",
       "Name: sample_type, dtype: int64"
      ]
     },
     "execution_count": 5,
     "metadata": {},
     "output_type": "execute_result"
    }
   ],
   "source": [
    "Metab_soil = allMetab.filter_samples('sample_type', 'soil')\n",
    "Metab_soil.sample_metadata.sample_type.value_counts()"
   ]
  },
  {
   "cell_type": "code",
   "execution_count": 6,
   "metadata": {},
   "outputs": [
    {
     "name": "stdout",
     "output_type": "stream",
     "text": [
      "Number of samples:  744\n"
     ]
    }
   ],
   "source": [
    "print(\"Number of samples: \",len(Metab_soil.sample_metadata.metab_barcode.value_counts()))"
   ]
  },
  {
   "cell_type": "code",
   "execution_count": 7,
   "metadata": {},
   "outputs": [
    {
     "name": "stdout",
     "output_type": "stream",
     "text": [
      "Number of bodies:  36\n"
     ]
    }
   ],
   "source": [
    "print(\"Number of bodies: \",len(Metab_soil.sample_metadata.subjectID.value_counts()))"
   ]
  },
  {
   "cell_type": "code",
   "execution_count": 8,
   "metadata": {},
   "outputs": [
    {
     "name": "stdout",
     "output_type": "stream",
     "text": [
      "Number of facilities:  3\n"
     ]
    }
   ],
   "source": [
    "print(\"Number of facilities: \",len(Metab_soil.sample_metadata.facility.value_counts()))"
   ]
  },
  {
   "cell_type": "markdown",
   "metadata": {},
   "source": [
    "# Soil Facility Model using ADD 0C as Response and Adding Metadata as Features"
   ]
  },
  {
   "cell_type": "code",
   "execution_count": 9,
   "metadata": {},
   "outputs": [
    {
     "name": "stdout",
     "output_type": "stream",
     "text": [
      "Number of features:  4402\n"
     ]
    }
   ],
   "source": [
    "Metab_soil_meta = Metab_soil.add_sample_metadata_as_features(['avg_percent_humidity','total_precipitation_cm'])\n",
    "print(\"Number of features: \",len(Metab_soil_meta.feature_metadata))"
   ]
  },
  {
   "cell_type": "code",
   "execution_count": 10,
   "metadata": {},
   "outputs": [],
   "source": [
    "# designate data\n",
    "X = Metab_soil_meta.data\n",
    "y = Metab_soil_meta.sample_metadata['add_0c']\n",
    "y = (y.astype(float))\n",
    "\n",
    "# group by facility in outer loop\n",
    "outer_groups = Metab_soil_meta.sample_metadata['facility']\n",
    "\n",
    "# group by body in inner loop\n",
    "inner_groups = Metab_soil_meta.sample_metadata['subjectID']"
   ]
  },
  {
   "cell_type": "code",
   "execution_count": 19,
   "metadata": {},
   "outputs": [
    {
     "name": "stdout",
     "output_type": "stream",
     "text": [
      "Number of outer folds to perform:  3\n",
      "Outer fold: 1\n",
      "Number of inner folds: 24\n",
      "Best params: {'bootstrap': False, 'max_depth': 4, 'max_features': 0.1}\n",
      "Best CV score (MAE): 80.5013696165766\n",
      "Prediction score (MAE): 103.24683945529918\n",
      "*****\n",
      "Outer fold: 2\n",
      "Number of inner folds: 24\n",
      "Best params: {'bootstrap': False, 'max_depth': 4, 'max_features': 0.1}\n",
      "Best CV score (MAE): 78.92368827116964\n",
      "Prediction score (MAE): 102.1023060008652\n",
      "*****\n",
      "Outer fold: 3\n",
      "Number of inner folds: 24\n",
      "Best params: {'bootstrap': False, 'max_depth': 4, 'max_features': 0.1}\n",
      "Best CV score (MAE): 86.10787993848379\n",
      "Prediction score (MAE): 91.73650580036586\n",
      "*****\n",
      "\n",
      "Nested CV score (generalization error): 99.02855041884341\n"
     ]
    }
   ],
   "source": [
    "# outer_cv creates 3 folds by leave-one-facility-out for estimating generalization error\n",
    "outer_cv = LeaveOneGroupOut().split(X, y, groups=outer_groups)\n",
    "\n",
    "# prints the number of folds in the outer loop\n",
    "print(\"Number of outer folds to perform: \", LeaveOneGroupOut().get_n_splits(X, y, groups=outer_groups))\n",
    "\n",
    "# hyperparameter grid to test\n",
    "#param_grid = {\"max_depth\": [None, 4],\n",
    "#              \"max_features\": ['auto', 0.2],\n",
    "#              \"bootstrap\": [True, False]}\n",
    "\n",
    "param_grid = {\"max_depth\": [4],\n",
    "              \"max_features\": [0.1],\n",
    "              \"bootstrap\": [False]}\n",
    "\n",
    "# creates loop iteration counter and empty lists for storage\n",
    "count=1\n",
    "model_parameters = []\n",
    "nested_cv_scores = []\n",
    "\n",
    "# loops through the sets of training and test ids in the outer loop\n",
    "# the number of loops will match the number of folds as each fold is used\n",
    "for train_ids, test_ids in outer_cv:\n",
    "    # inner_cv creates 24 folds by leave-one-body-out for hyperparamter tuning\n",
    "    # uses only the train ids present in the current outer loop fold which is one less facility since the outer loop\n",
    "    # folds are using leave-one-facility-out\n",
    "    inner_cv = LeaveOneGroupOut().split(X[train_ids, :], y.iloc[train_ids], groups=inner_groups[train_ids])\n",
    "    # setting rf parameters\n",
    "    rf = RandomForestRegressor(n_estimators=50, random_state=999, criterion='mae')\n",
    "    # grid search cv using rf and the hyperparameter grid on the inner_cv training set\n",
    "    rf_grid = GridSearchCV(estimator=rf, param_grid=param_grid, cv=inner_cv, n_jobs=-1, scoring='neg_mean_absolute_error')\n",
    "    # fit the grid search model on the inner_cv training set, which will tell us the best\n",
    "    # parameters chosen by that inner cv\n",
    "    rf_grid.fit(X[train_ids, :], y.iloc[train_ids])\n",
    "    # converts best params dict to string to save it\n",
    "    res = \",\".join((\"{}={}\".format(*i) for i in rf_grid.best_params_.items()))\n",
    "    # attaches each loops best params\n",
    "    model_parameters.append(res)\n",
    "    # prints outer fold number the loop is currently on\n",
    "    print(\"Outer fold:\",count)\n",
    "    # prints number of inner folds in the outer loop (should be the same each time at 24)\n",
    "    print(\"Number of inner folds:\",LeaveOneGroupOut().get_n_splits(X[train_ids, :], y.iloc[train_ids], groups=inner_groups[train_ids]))\n",
    "    # prints best param and CV score from this inner loop set \n",
    "    print(\"Best params:\",rf_grid.best_params_)\n",
    "    print(\"Best CV score (MAE):\",-rf_grid.best_score_)\n",
    "    # uses the best model created from the inner loop to predict the outer loop body left out\n",
    "    yhat = rf_grid.predict(X[test_ids,:])\n",
    "    MAE = mean_absolute_error(y.iloc[test_ids], yhat)\n",
    "    print(\"Prediction score (MAE):\",MAE)\n",
    "    nested_cv_scores.append(MAE)\n",
    "    print(\"*****\")\n",
    "    count+=1\n",
    "# prints the mean of the nested cv score (generalization error) of the models\n",
    "print(\"\\nNested CV score (generalization error): \" + str(np.mean(nested_cv_scores)))"
   ]
  },
  {
   "cell_type": "code",
   "execution_count": 16,
   "metadata": {},
   "outputs": [],
   "source": [
    "# define function to merge 2 lists as paired tuples    \n",
    "def merge(list1, list2): \n",
    "    merged_list = tuple(zip(list1, list2))  \n",
    "    return merged_list \n",
    "\n",
    "# merge parameters to nested scores as tuples\n",
    "merged_list = merge(model_parameters, nested_cv_scores)\n",
    "\n",
    "# puts the paired tuple list into a dictionary\n",
    "params_and_scores = defaultdict(list)\n",
    "for k, v in merged_list:\n",
    "    params_and_scores[k].append(v)"
   ]
  },
  {
   "cell_type": "code",
   "execution_count": 17,
   "metadata": {},
   "outputs": [
    {
     "data": {
      "text/plain": [
       "defaultdict(list,\n",
       "            {'bootstrap=False,max_depth=4,max_features=0.1': [103.24683945529918,\n",
       "              102.1023060008652,\n",
       "              91.73650580036586]})"
      ]
     },
     "execution_count": 17,
     "metadata": {},
     "output_type": "execute_result"
    }
   ],
   "source": [
    "# prints dict of params and scores, should see each set of parameters chosen and their scores\n",
    "params_and_scores"
   ]
  },
  {
   "cell_type": "code",
   "execution_count": 18,
   "metadata": {},
   "outputs": [
    {
     "name": "stdout",
     "output_type": "stream",
     "text": [
      "{'bootstrap=False,max_depth=4,max_features=0.1': 99.02855041884341}\n"
     ]
    }
   ],
   "source": [
    "# create a dict to assign the mean score to each param set\n",
    "avgDict = {}\n",
    "for k,v in params_and_scores.items():\n",
    "    avgDict[k] = sum(v)/ float(len(v))\n",
    "print(avgDict)"
   ]
  },
  {
   "cell_type": "code",
   "execution_count": 15,
   "metadata": {},
   "outputs": [
    {
     "name": "stdout",
     "output_type": "stream",
     "text": [
      "Best params: bootstrap=False,max_depth=4,max_features=0.1\n",
      "Best mean score: 83.00084883914555\n"
     ]
    }
   ],
   "source": [
    "# prints the param set with the best mean error\n",
    "print(\"Best params:\",min(avgDict, key=avgDict.get))\n",
    "print(\"Best mean score:\",min(avgDict.values()))"
   ]
  },
  {
   "cell_type": "code",
   "execution_count": 16,
   "metadata": {},
   "outputs": [
    {
     "name": "stdout",
     "output_type": "stream",
     "text": [
      "Best CV score: 83.00084883914555\n"
     ]
    }
   ],
   "source": [
    "# input the best parameter set\n",
    "best_model_params = {\"max_depth\": [4],\n",
    "              \"max_features\": [0.1],\n",
    "              \"bootstrap\": [False]}\n",
    "\n",
    "# now we refit this best model on the whole dataset so that we can start\n",
    "# making predictions on other data, and now we have a reliable estimate of\n",
    "# this model's generalization error and we are confident this is the best model\n",
    "# among the ones we have tried\n",
    "final_regressor = GridSearchCV(rf, best_model_params, cv=LeaveOneGroupOut().split(X, y, groups=outer_groups), scoring='neg_mean_absolute_error', n_jobs=-1)\n",
    "final_regressor.fit(X, y)\n",
    "print(\"Best CV score:\",-final_regressor.best_score_)"
   ]
  },
  {
   "cell_type": "code",
   "execution_count": 17,
   "metadata": {},
   "outputs": [
    {
     "data": {
      "text/plain": [
       "['models/PMI3_Metab_skin_meta_facility.pkl']"
      ]
     },
     "execution_count": 17,
     "metadata": {},
     "output_type": "execute_result"
    }
   ],
   "source": [
    "joblib.dump(final_regressor.best_estimator_, 'models/PMI3_Metab_soil_meta_facility.pkl')"
   ]
  },
  {
   "cell_type": "code",
   "execution_count": 18,
   "metadata": {},
   "outputs": [],
   "source": [
    "model_Metab_soil_meta = joblib.load('models/PMI3_Metab_soil_meta_facility.pkl')"
   ]
  },
  {
   "cell_type": "code",
   "execution_count": 19,
   "metadata": {
    "scrolled": false
   },
   "outputs": [
    {
     "data": {
      "text/plain": [
       "RandomForestRegressor(bootstrap=False, ccp_alpha=0.0, criterion='mae',\n",
       "                      max_depth=4, max_features=0.1, max_leaf_nodes=None,\n",
       "                      max_samples=None, min_impurity_decrease=0.0,\n",
       "                      min_impurity_split=None, min_samples_leaf=1,\n",
       "                      min_samples_split=2, min_weight_fraction_leaf=0.0,\n",
       "                      n_estimators=1, n_jobs=None, oob_score=False,\n",
       "                      random_state=999, verbose=0, warm_start=False)"
      ]
     },
     "execution_count": 19,
     "metadata": {},
     "output_type": "execute_result"
    }
   ],
   "source": [
    "model_Metab_soil_meta"
   ]
  },
  {
   "cell_type": "markdown",
   "metadata": {},
   "source": [
    "### Determine important features"
   ]
  },
  {
   "cell_type": "code",
   "execution_count": 20,
   "metadata": {},
   "outputs": [
    {
     "name": "stdout",
     "output_type": "stream",
     "text": [
      "Feature:\t\t\t\tImportance:\n",
      "1. X326.340475453795_8.1965404290429\t0.6574634259109764\n",
      "2. X269.210000802471_5.71957425343018\t0.06902273364652353\n",
      "3. X223.0969552087_4.67388333333333\t0.05287359147312854\n",
      "4. X341.351378700949_5.90059242424242\t0.04017591468950496\n",
      "5. X533.380648295084_8.47133075396825\t0.03754251090896531\n",
      "6. X463.376602390834_7.86498142857142\t0.032067329158732935\n",
      "7. X414.32232697156_7.04033903061224\t0.020823126617467828\n",
      "8. X371.323968069893_5.19059206349206\t0.020284326429338268\n",
      "9. X323.254802010276_6.47503462121211\t0.019659775549573478\n",
      "10. X263.236333338818_7.31381844305119\t0.015311643743387124\n",
      "11. X278.182695388793_3.8647078125\t0.012076555928148547\n",
      "12. X429.328949561485_4.33546552706552\t0.01170668460764451\n",
      "13. X247.069809077336_3.35939192307692\t0.004809184698350592\n",
      "14. X205.085357570648_3.06156\t0.00381762085268594\n",
      "15. X347.255545402059_6.9443943877551\t0.0023655757855719764\n",
      "16. X173.1174826622_6.03329333333333\t0.0\n",
      "17. X223.203286084261_5.7195380050505\t0.0\n",
      "18. X247.150400663677_3.48828972431077\t0.0\n",
      "19. X505.42253444957_5.54299297052154\t0.0\n",
      "20. X157.113919344815_4.46228914141414\t0.0\n",
      "21. X313.224569424715_4.5135306060606\t0.0\n",
      "22. X179.10644373818_3.50838703703703\t0.0\n",
      "23. X312.223596845354_4.40131607142857\t0.0\n",
      "24. X341.304059024148_7.978558685446\t0.0\n",
      "25. X589.444448171568_6.04995468319559\t0.0\n"
     ]
    }
   ],
   "source": [
    "importances = model_Metab_soil_meta.feature_importances_\n",
    "std = np.std([tree.feature_importances_ for tree in model_Metab_soil_meta.estimators_],\n",
    "             axis=0)\n",
    "indices = np.argsort(importances)[::-1]\n",
    "\n",
    "feature_metadata = Metab_soil_meta.feature_metadata\n",
    "np.savetxt(\"feature_metadata/facility_soil_feature_metadata_meta.csv\", feature_metadata, delimiter=\",\", fmt='%s')\n",
    "\n",
    "\n",
    "#print the important ids in order\n",
    "general_importances = []\n",
    "count = 0\n",
    "print(\"Feature:\\t\\t\\t\\tImportance:\")\n",
    "for i in indices:\n",
    "    general_importances += (Metab_soil_meta.feature_metadata.index.values[i], importances[indices[count]])\n",
    "    if count < 25:\n",
    "        print(str(count+1)+\". \"+str(Metab_soil_meta.feature_metadata.index.values[i])+\"\\t\"+str(importances[indices[count]]))\n",
    "    count += 1"
   ]
  },
  {
   "cell_type": "code",
   "execution_count": 21,
   "metadata": {},
   "outputs": [
    {
     "name": "stdout",
     "output_type": "stream",
     "text": [
      "Number of features present: 4402\n"
     ]
    }
   ],
   "source": [
    "print(\"Number of features present:\", int(len(general_importances)/2))\n",
    "general_importances_df = pd.DataFrame(np.array(general_importances).reshape(int(len(general_importances)/2),2))\n",
    "\n",
    "np.savetxt(\"importances/facility_soil_importances_meta.csv\", general_importances_df, delimiter=\",\", fmt='%s')"
   ]
  },
  {
   "cell_type": "code",
   "execution_count": 22,
   "metadata": {},
   "outputs": [
    {
     "data": {
      "image/png": "[encoded data removed]",
      "text/plain": [
       "<Figure size 432x288 with 1 Axes>"
      ]
     },
     "metadata": {
      "needs_background": "light"
     },
     "output_type": "display_data"
    }
   ],
   "source": [
    "yhat = model_Metab_soil_meta.predict(X)\n",
    "MAE = mean_absolute_error(y, yhat)\n",
    "\n",
    "plt.scatter(yhat, y, color = 'lightgray', edgecolors = 'black')\n",
    "lower = np.min(np.concatenate([y, yhat]))\n",
    "upper = np.max(np.concatenate([y, yhat]))\n",
    "plt.plot([lower, upper], [lower, upper], color = 'black', lw = 2, ls = ':')\n",
    "plt.xlim(0,600)\n",
    "plt.ylim(0,600)\n",
    "\n",
    "#regression part\n",
    "slope, intercept, r_value, p_value, std_err = stats.linregress(yhat,y)\n",
    "line = slope*yhat+intercept\n",
    "plt.plot(yhat, line, color = 'black', lw = 2)\n",
    "\n",
    "plt.title('Facility soil metabolomics model\\n Gen. MAE = %d; MAE = %d; $R^2$ = %.2f' %(np.mean(nested_cv_scores),MAE,round(model_Metab_soil_meta.score(X,y),2)))\n",
    "plt.xlabel(\"Predicted ADD\")\n",
    "plt.ylabel(\"Actual ADD\")\n",
    "plt.savefig('figures/facility_soil_model.png')"
   ]
  },
  {
   "cell_type": "code",
   "execution_count": null,
   "metadata": {},
   "outputs": [],
   "source": []
  }
 ],
 "metadata": {
  "kernelspec": {
   "display_name": "Python 3",
   "language": "python",
   "name": "python3"
  },
  "language_info": {
   "codemirror_mode": {
    "name": "ipython",
    "version": 3
   },
   "file_extension": ".py",
   "mimetype": "text/x-python",
   "name": "python",
   "nbconvert_exporter": "python",
   "pygments_lexer": "ipython3",
   "version": "3.7.7"
  }
 },
 "nbformat": 4,
 "nbformat_minor": 2
}
