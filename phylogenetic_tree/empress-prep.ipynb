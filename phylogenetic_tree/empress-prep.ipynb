{
 "cells": [
  {
   "cell_type": "code",
   "execution_count": null,
   "id": "9e0dff31",
   "metadata": {},
   "outputs": [],
   "source": [
    "import pandas as pd\n",
    "import os\n",
    "import numpy as np\n",
    "from bp import BP, parse_newick, write_newick\n",
    "import glob\n",
    "from biom.util import biom_open\n",
    "from biom import Table\n",
    "from qiime2 import Metadata, Artifact"
   ]
  },
  {
   "cell_type": "markdown",
   "id": "7f2133e8",
   "metadata": {},
   "source": [
    "- Create biom table and taxonomy for agp and emp samples"
   ]
  },
  {
   "cell_type": "code",
   "execution_count": null,
   "id": "c650bd40",
   "metadata": {
    "scrolled": false
   },
   "outputs": [],
   "source": [
    "base_dir = '2023.05.22-decomp-asvs'\n",
    "emp_agp_meta = pd.read_csv(f'{base_dir}/sample-metadata.tsv', sep='\\t', index_col=0)\n",
    "emp_agp_meta['both'] = emp_agp_meta['is_emp'] & emp_agp_meta['is_agp']\n",
    "\n",
    "decomp_asvs = {\n",
    "    file.split('/')[2] \n",
    "    for file in glob.glob(f'{base_dir}/results/*') if file != '.DS_Store' \n",
    "}\n",
    "\n",
    "with open('agp_emp_samples.txt', 'w') as f:\n",
    "    f.write('\\n'.join(emp_agp_meta.index))\n",
    "    f.write('\\n')\n",
    "    \n",
    "!redbiom fetch samples \\\n",
    "--from agp_emp_samples.txt \\\n",
    "--context Deblur_2021.09-Illumina-16S-V4-150nt-ac8c0b \\\n",
    "--output all_decomp_agp_emp.biom \\\n",
    "--resolve-ambiguities 'most-reads'\n",
    "\n",
    "# get taxa of all agp-emp samples\n",
    "!qiime tools import \\\n",
    "--type \"FeatureTable[Frequency]\" \\\n",
    "--input-path all_decomp_agp_emp.biom \\\n",
    "--output-path all_decomp_agp_emp.biom.qza\n",
    "\n",
    "!qiime greengenes2 taxonomy-from-table \\\n",
    "--i-reference-taxonomy 2022.10.taxonomy.asv.nwk.qza \\\n",
    "--i-table all_decomp_agp_emp.biom.qza \\\n",
    "--o-classification all_decomp_agp_emp-tax.qza\n",
    "\n",
    "all_decomp_agp_emp_tax = Artifact.load('all_decomp_agp_emp-tax.qza').view(pd.DataFrame)\n",
    "decomp_tax = pd.read_csv('decom-tax.tsv', sep='\\t', index_col=0)\n",
    "\n",
    "with biom_open('all_decomp_agp_emp.biom') as f:\n",
    "    table = Table.from_hdf5(f)\n",
    "table"
   ]
  },
  {
   "cell_type": "markdown",
   "id": "d812ff17",
   "metadata": {},
   "source": [
    "- keep asvs with read count > 100"
   ]
  },
  {
   "cell_type": "code",
   "execution_count": null,
   "id": "c73848c4",
   "metadata": {},
   "outputs": [],
   "source": [
    "table.transform(lambda data, id_, meta: np.where(data > 100, data, 0), inplace=True)\n",
    "table.pa(inplace=True)\n",
    "asv_agp_emp = table.ids(axis='observation')\n",
    "table"
   ]
  },
  {
   "cell_type": "markdown",
   "id": "77c0d58b",
   "metadata": {},
   "source": [
    "- create table per environment type"
   ]
  },
  {
   "cell_type": "code",
   "execution_count": null,
   "id": "47341aaf",
   "metadata": {},
   "outputs": [],
   "source": [
    "def get_samples(emp_agp_meta, env, agp_emp):\n",
    "    return emp_agp_meta.loc[\n",
    "        (emp_agp_meta[agp_emp]) &\n",
    "        (emp_agp_meta.env_package == env) &\n",
    "        (emp_agp_meta.index.isin(table.ids(axis='sample')))\n",
    "    ]\n",
    "\n",
    "agp_gut_samp = get_samples(emp_agp_meta, 'human-gut', 'is_agp')\n",
    "gut_table = table.filter(agp_gut_samp.index, axis='sample', inplace=False)\n",
    "\n",
    "agp_skin_samp = get_samples(emp_agp_meta, 'human-skin', 'is_agp')\n",
    "skin_table = table.filter(agp_skin_samp.index, axis='sample', inplace=False)\n",
    "\n",
    "emp_soil_samp = get_samples(emp_agp_meta, 'soil', 'is_emp')\n",
    "soil_table = table.filter(emp_soil_samp.index, axis='sample', inplace=False)\n",
    "\n",
    "emp_host_samp = get_samples(emp_agp_meta, 'host-associated', 'is_emp')\n",
    "host_table = table.filter(emp_host_samp.index, axis='sample', inplace=False)"
   ]
  },
  {
   "cell_type": "markdown",
   "id": "d29431e6",
   "metadata": {},
   "source": [
    "- get most prevelent asvs per environment "
   ]
  },
  {
   "cell_type": "code",
   "execution_count": null,
   "id": "0040798e",
   "metadata": {},
   "outputs": [],
   "source": [
    "def get_most_abundant(t, n=50):\n",
    "    return np.argsort(t.sum(axis='observation'))[-n:]\n",
    "top_gut = asv_agp_emp[get_most_abundant(gut_table)]\n",
    "top_skin = asv_agp_emp[get_most_abundant(skin_table)]\n",
    "top_soil = asv_agp_emp[get_most_abundant(soil_table)]\n",
    "top_host = asv_agp_emp[get_most_abundant(host_table)]\n",
    "top_asvs = np.concatenate((top_gut, top_skin, top_soil, top_host), axis=None)"
   ]
  },
  {
   "cell_type": "markdown",
   "id": "cee46d05",
   "metadata": {},
   "source": [
    "- create metadata"
   ]
  },
  {
   "cell_type": "code",
   "execution_count": null,
   "id": "4452675d",
   "metadata": {},
   "outputs": [],
   "source": [
    "keep = set(top_asvs).union(set(decomp_asvs))\n",
    "table.filter(top_asvs, axis='observation', inplace=True)\n",
    "gut_table = gut_table.filter(table.ids(axis='observation'), axis='observation', inplace=False)\n",
    "skin_table = skin_table.filter(table.ids(axis='observation'), axis='observation', inplace=False)\n",
    "soil_table = soil_table.filter(table.ids(axis='observation'), axis='observation', inplace=False)\n",
    "host_table = host_table.filter(table.ids(axis='observation'), axis='observation', inplace=False)\n",
    "\n",
    "with open('all-top-counts.tsv', 'w') as f:\n",
    "    f.write('feature id\\tgut\\tskin\\tsoil\\thost\\tis_decomp\\n')\n",
    "    for ob, gut, skin, soil, host in zip(\n",
    "        table.ids(axis='observation'),\n",
    "        gut_table.sum(axis='observation'),\n",
    "        skin_table.sum(axis='observation'),\n",
    "        soil_table.sum(axis='observation'),\n",
    "        host_table.sum(axis='observation')\n",
    "    ):\n",
    "        f.write(f'{ob}\\t{gut}\\t{skin}\\t{soil}\\t{host}\\t{1 if ob in set(decomp_asvs) else 0}\\n')\n",
    "    missing_decomp = [asv for asv in set(decomp_asvs) if asv not in table.ids(axis='observation')]\n",
    "    for asv in missing_decomp:\n",
    "        f.write(f'{asv}\\t{0}\\t{0}\\t{0}\\t{0}\\t{1}\\n')\n",
    "        \n",
    "tax_meta = all_decomp_agp_emp_tax.loc[all_decomp_agp_emp_tax.index.isin(set(table.ids(axis='observation')).union(set(decomp_asvs)))]\n",
    "tax_meta.to_csv('top_tax.tsv', sep='\\t', index=True, index_label='feature id')\n",
    "\n",
    "meta = pd.read_csv('all-top-counts.tsv', sep='\\t', index_col=0)\n",
    "for env in ['gut', 'soil', 'skin','host']:\n",
    "    meta[env] = meta[env].rank(method='min')\n",
    "    \n",
    "meta.to_csv('top-rank-tax.tsv', index=True, index_label='feature id', sep='\\t')\n",
    "\n",
    "dec_tax = pd.read_csv('decom-tax.tsv', sep='\\t', index_col=0)\n",
    "tax = pd.read_csv('top_tax.tsv', sep='\\t', index_col=0)\n",
    "pd.concat((tax, dec_tax.loc[~(dec_tax.index.isin(tax.index))])).to_csv('top-rank-tax.tsv', index=True, index_label='feature id', sep='\\t')\n",
    "\n",
    "meta = pd.read_csv('all-top-counts.tsv', index_col=0, sep='\\t')\n",
    "\n",
    "tax = pd.read_csv('top-rank-tax.tsv', index_col=0, sep='\\t')\n",
    "meta = pd.read_csv('all-top-counts.tsv', index_col=0, sep='\\t')\n",
    "meta['Taxon'] = tax.loc[tax.index.isin(meta.index), 'Taxon']\n",
    "\n",
    "meta.to_csv('top-ranks-meta-w-tax.tsv', sep='\\t', index=True, index_label='feature id')"
   ]
  },
  {
   "cell_type": "markdown",
   "id": "dd4caefa",
   "metadata": {},
   "source": [
    "- create tree"
   ]
  },
  {
   "cell_type": "code",
   "execution_count": null,
   "id": "9c3737b3",
   "metadata": {},
   "outputs": [],
   "source": [
    "with open('2022.10.phylogeny.asv.nwk', 'r') as f:\n",
    "    tree = parse_newick(f.readline())\n",
    "tree = tree.shear(set(meta.index.to_list()))\n",
    "\n",
    "with open('tree-top-asvs-decomp.nwk', 'w') as f:\n",
    "    write_newick(tree, f, True)\n",
    "!qiime tools import --type \"Phylogeny[Rooted]\" --input-path tree-top-asvs-decomp.nwk --output-path tree-top-asvs-decomp.nwk.qza"
   ]
  },
  {
   "cell_type": "code",
   "execution_count": null,
   "id": "ac4c2b20",
   "metadata": {},
   "outputs": [],
   "source": [
    "!qiime empress tree-plot \\\n",
    "--i-tree tree-top-asvs-decomp.nwk.qza \\\n",
    "--m-feature-metadata-file top-ranks-meta.tsv \\\n",
    "--o-visualization rank-plot"
   ]
  },
  {
   "cell_type": "code",
   "execution_count": null,
   "id": "420f2a6e",
   "metadata": {},
   "outputs": [],
   "source": []
  }
 ],
 "metadata": {
  "kernelspec": {
   "display_name": "Python 3 (ipykernel)",
   "language": "python",
   "name": "python3"
  },
  "language_info": {
   "codemirror_mode": {
    "name": "ipython",
    "version": 3
   },
   "file_extension": ".py",
   "mimetype": "text/x-python",
   "name": "python",
   "nbconvert_exporter": "python",
   "pygments_lexer": "ipython3",
   "version": "3.8.10"
  }
 },
 "nbformat": 4,
 "nbformat_minor": 5
}
