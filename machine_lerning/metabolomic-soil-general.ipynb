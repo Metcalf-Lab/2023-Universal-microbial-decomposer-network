{
 "cells": [
  {
   "cell_type": "code",
   "execution_count": 1,
   "metadata": {
    "scrolled": true
   },
   "outputs": [
    {
     "name": "stderr",
     "output_type": "stream",
     "text": [
      "/Users/Zach/miniconda3/envs/ml_22.2/lib/python3.7/site-packages/sklearn/externals/joblib/__init__.py:15: FutureWarning: sklearn.externals.joblib is deprecated in 0.21 and will be removed in 0.23. Please import this functionality directly from joblib, which can be installed with: pip install joblib. If this warning is raised when loading pickled models, you may need to re-serialize those models with scikit-learn 0.21+.\n",
      "  warnings.warn(msg, category=FutureWarning)\n"
     ]
    }
   ],
   "source": [
    "from sklearn.ensemble import RandomForestRegressor\n",
    "from sklearn import preprocessing, svm, metrics\n",
    "from sklearn.model_selection import LeaveOneGroupOut, KFold, GridSearchCV, GroupKFold, cross_val_score, train_test_split\n",
    "from sklearn.metrics import r2_score, mean_squared_error, mean_absolute_error\n",
    "from sklearn.externals import joblib\n",
    "from sklearn.datasets import make_regression\n",
    "from scipy.stats import randint as sp_randint\n",
    "from matplotlib import pyplot as plt\n",
    "from collections import defaultdict"
   ]
  },
  {
   "cell_type": "code",
   "execution_count": 2,
   "metadata": {},
   "outputs": [
    {
     "name": "stderr",
     "output_type": "stream",
     "text": [
      "/Users/Zach/miniconda3/envs/ml_22.2/lib/python3.7/site-packages/skbio/util/_testing.py:15: FutureWarning: pandas.util.testing is deprecated. Use the functions in the public API at pandas.testing instead.\n",
      "  import pandas.util.testing as pdt\n"
     ]
    }
   ],
   "source": [
    "import pandas as pd\n",
    "import numpy as np\n",
    "import matplotlib\n",
    "import seaborn as sns\n",
    "%matplotlib inline\n",
    "import biom\n",
    "import calour as ca\n",
    "from scipy import stats\n",
    "import scipy\n",
    "import pickle\n",
    "import time\n",
    "import math\n",
    "import inspect\n",
    "import operator\n",
    "pd.set_option('display.max_rows', 10000)"
   ]
  },
  {
   "cell_type": "markdown",
   "metadata": {},
   "source": [
    "# Importing data, no TSS normalization performed here"
   ]
  },
  {
   "cell_type": "code",
   "execution_count": 3,
   "metadata": {
    "scrolled": false
   },
   "outputs": [],
   "source": [
    "allMetab = ca.read_amplicon('PMI_MS1_FeatureTable_Normalized.biom','pmi3_metab_meta.txt', min_reads=1, normalize = None)"
   ]
  },
  {
   "cell_type": "markdown",
   "metadata": {},
   "source": [
    "## Remove controls and samples that grouped with controls on PCoA"
   ]
  },
  {
   "cell_type": "code",
   "execution_count": 4,
   "metadata": {
    "scrolled": true
   },
   "outputs": [
    {
     "data": {
      "text/plain": [
       "skin.hip    746\n",
       "soil.hip    744\n",
       "Name: description, dtype: int64"
      ]
     },
     "execution_count": 4,
     "metadata": {},
     "output_type": "execute_result"
    }
   ],
   "source": [
    "allMetab = allMetab.filter_samples('control', 'n')\n",
    "allMetab = allMetab.filter_samples('pcoa_removals', 'n')\n",
    "allMetab.sample_metadata.description.value_counts()"
   ]
  },
  {
   "cell_type": "markdown",
   "metadata": {},
   "source": [
    "# Split by sampling location (soil v. skin)"
   ]
  },
  {
   "cell_type": "markdown",
   "metadata": {},
   "source": [
    "## Soil sample filtering"
   ]
  },
  {
   "cell_type": "code",
   "execution_count": 5,
   "metadata": {},
   "outputs": [
    {
     "data": {
      "text/plain": [
       "soil    744\n",
       "Name: sample_type, dtype: int64"
      ]
     },
     "execution_count": 5,
     "metadata": {},
     "output_type": "execute_result"
    }
   ],
   "source": [
    "Metab_soil = allMetab.filter_samples('sample_type', 'soil')\n",
    "Metab_soil.sample_metadata.sample_type.value_counts()"
   ]
  },
  {
   "cell_type": "code",
   "execution_count": 6,
   "metadata": {},
   "outputs": [
    {
     "name": "stdout",
     "output_type": "stream",
     "text": [
      "Number of samples:  744\n"
     ]
    }
   ],
   "source": [
    "print(\"Number of samples: \",len(Metab_soil.sample_metadata.metab_barcode.value_counts()))"
   ]
  },
  {
   "cell_type": "code",
   "execution_count": 7,
   "metadata": {},
   "outputs": [
    {
     "name": "stdout",
     "output_type": "stream",
     "text": [
      "Number of bodies:  36\n"
     ]
    }
   ],
   "source": [
    "print(\"Number of bodies: \",len(Metab_soil.sample_metadata.subjectID.value_counts()))"
   ]
  },
  {
   "cell_type": "markdown",
   "metadata": {},
   "source": [
    "# Soil General Model using ADD 0C as Response and Adding Metadata as Features"
   ]
  },
  {
   "cell_type": "code",
   "execution_count": 8,
   "metadata": {},
   "outputs": [
    {
     "name": "stdout",
     "output_type": "stream",
     "text": [
      "Number of features:  4405\n"
     ]
    }
   ],
   "source": [
    "Metab_soil_meta = Metab_soil.add_sample_metadata_as_features(['facility','avg_percent_humidity','total_precipitation_cm'])\n",
    "print(\"Number of features: \",len(Metab_soil_meta.feature_metadata))"
   ]
  },
  {
   "cell_type": "code",
   "execution_count": 9,
   "metadata": {},
   "outputs": [],
   "source": [
    "# designate data\n",
    "X = Metab_soil_meta.data\n",
    "y = Metab_soil_meta.sample_metadata['add_0c']\n",
    "y = (y.astype(float))\n",
    "\n",
    "# group by body\n",
    "groups = Metab_soil_meta.sample_metadata['subjectID']"
   ]
  },
  {
   "cell_type": "code",
   "execution_count": 10,
   "metadata": {},
   "outputs": [
    {
     "name": "stdout",
     "output_type": "stream",
     "text": [
      "Number of outer folds to perform:  36\n",
      "Outer fold: 1\n",
      "Number of inner folds: 35\n",
      "Best params: {'bootstrap': False, 'max_depth': 4, 'max_features': 0.1}\n",
      "Best CV score (MAE): 84.96649849218518\n",
      "Prediction score (MAE): 58.13164722316251\n",
      "*****\n",
      "Outer fold: 2\n",
      "Number of inner folds: 35\n",
      "Best params: {'bootstrap': False, 'max_depth': 4, 'max_features': 0.1}\n",
      "Best CV score (MAE): 84.49732895130842\n",
      "Prediction score (MAE): 79.57058611363253\n",
      "*****\n",
      "Outer fold: 3\n",
      "Number of inner folds: 35\n",
      "Best params: {'bootstrap': False, 'max_depth': 4, 'max_features': 0.1}\n",
      "Best CV score (MAE): 83.54982079965126\n",
      "Prediction score (MAE): 90.39730158671905\n",
      "*****\n",
      "Outer fold: 4\n",
      "Number of inner folds: 35\n",
      "Best params: {'bootstrap': False, 'max_depth': 4, 'max_features': 0.1}\n",
      "Best CV score (MAE): 83.12822194823869\n",
      "Prediction score (MAE): 61.07284391468333\n",
      "*****\n",
      "Outer fold: 5\n",
      "Number of inner folds: 35\n",
      "Best params: {'bootstrap': False, 'max_depth': 4, 'max_features': 0.1}\n",
      "Best CV score (MAE): 80.5694617927097\n",
      "Prediction score (MAE): 170.93207804032141\n",
      "*****\n",
      "Outer fold: 6\n",
      "Number of inner folds: 35\n",
      "Best params: {'bootstrap': False, 'max_depth': 4, 'max_features': 0.1}\n",
      "Best CV score (MAE): 81.56493731037568\n",
      "Prediction score (MAE): 152.22583200096668\n",
      "*****\n",
      "Outer fold: 7\n",
      "Number of inner folds: 35\n",
      "Best params: {'bootstrap': False, 'max_depth': 4, 'max_features': 0.1}\n",
      "Best CV score (MAE): 83.08716020171804\n",
      "Prediction score (MAE): 94.35910978588572\n",
      "*****\n",
      "Outer fold: 8\n",
      "Number of inner folds: 35\n",
      "Best params: {'bootstrap': False, 'max_depth': 4, 'max_features': 0.1}\n",
      "Best CV score (MAE): 82.52410408229927\n",
      "Prediction score (MAE): 101.0665502643619\n",
      "*****\n",
      "Outer fold: 9\n",
      "Number of inner folds: 35\n",
      "Best params: {'bootstrap': False, 'max_depth': 4, 'max_features': 0.1}\n",
      "Best CV score (MAE): 82.04096285234253\n",
      "Prediction score (MAE): 105.13983597779287\n",
      "*****\n",
      "Outer fold: 10\n",
      "Number of inner folds: 35\n",
      "Best params: {'bootstrap': False, 'max_depth': 4, 'max_features': 0.1}\n",
      "Best CV score (MAE): 82.43536990310722\n",
      "Prediction score (MAE): 87.3222111108075\n",
      "*****\n",
      "Outer fold: 11\n",
      "Number of inner folds: 35\n",
      "Best params: {'bootstrap': False, 'max_depth': 4, 'max_features': 0.1}\n",
      "Best CV score (MAE): 83.14883033008884\n",
      "Prediction score (MAE): 58.08273412676905\n",
      "*****\n",
      "Outer fold: 12\n",
      "Number of inner folds: 35\n",
      "Best params: {'bootstrap': False, 'max_depth': 4, 'max_features': 0.1}\n",
      "Best CV score (MAE): 84.08592533197108\n",
      "Prediction score (MAE): 50.777876389805\n",
      "*****\n",
      "Outer fold: 13\n",
      "Number of inner folds: 35\n",
      "Best params: {'bootstrap': False, 'max_depth': 4, 'max_features': 0.1}\n",
      "Best CV score (MAE): 83.63794995950657\n",
      "Prediction score (MAE): 45.89560846740477\n",
      "*****\n",
      "Outer fold: 14\n",
      "Number of inner folds: 35\n",
      "Best params: {'bootstrap': False, 'max_depth': 4, 'max_features': 0.1}\n",
      "Best CV score (MAE): 84.56698984349185\n",
      "Prediction score (MAE): 42.43910449881191\n",
      "*****\n",
      "Outer fold: 15\n",
      "Number of inner folds: 35\n",
      "Best params: {'bootstrap': False, 'max_depth': 4, 'max_features': 0.1}\n",
      "Best CV score (MAE): 83.79597278792302\n",
      "Prediction score (MAE): 46.574632275302385\n",
      "*****\n",
      "Outer fold: 16\n",
      "Number of inner folds: 35\n",
      "Best params: {'bootstrap': False, 'max_depth': 4, 'max_features': 0.1}\n",
      "Best CV score (MAE): 84.6147693849273\n",
      "Prediction score (MAE): 59.9979933800857\n",
      "*****\n",
      "Outer fold: 17\n",
      "Number of inner folds: 35\n",
      "Best params: {'bootstrap': False, 'max_depth': 4, 'max_features': 0.1}\n",
      "Best CV score (MAE): 83.71609498681217\n",
      "Prediction score (MAE): 59.002194444044996\n",
      "*****\n",
      "Outer fold: 18\n",
      "Number of inner folds: 35\n",
      "Best params: {'bootstrap': False, 'max_depth': 4, 'max_features': 0.1}\n",
      "Best CV score (MAE): 83.30677953787435\n",
      "Prediction score (MAE): 77.8827076719262\n",
      "*****\n",
      "Outer fold: 19\n",
      "Number of inner folds: 35\n",
      "Best params: {'bootstrap': False, 'max_depth': 4, 'max_features': 0.1}\n",
      "Best CV score (MAE): 83.21791792475437\n",
      "Prediction score (MAE): 69.75443783090715\n",
      "*****\n",
      "Outer fold: 20\n",
      "Number of inner folds: 35\n",
      "Best params: {'bootstrap': False, 'max_depth': 4, 'max_features': 0.1}\n",
      "Best CV score (MAE): 82.58264043425739\n",
      "Prediction score (MAE): 91.663601388475\n",
      "*****\n",
      "Outer fold: 21\n",
      "Number of inner folds: 35\n",
      "Best params: {'bootstrap': False, 'max_depth': 4, 'max_features': 0.1}\n",
      "Best CV score (MAE): 84.9629044120063\n",
      "Prediction score (MAE): 71.09028836165479\n",
      "*****\n",
      "Outer fold: 22\n",
      "Number of inner folds: 35\n",
      "Best params: {'bootstrap': False, 'max_depth': 4, 'max_features': 0.1}\n",
      "Best CV score (MAE): 80.45616777525393\n",
      "Prediction score (MAE): 170.94357804081665\n",
      "*****\n",
      "Outer fold: 23\n",
      "Number of inner folds: 35\n",
      "Best params: {'bootstrap': False, 'max_depth': 4, 'max_features': 0.1}\n",
      "Best CV score (MAE): 81.02631637194736\n",
      "Prediction score (MAE): 153.6869754886382\n",
      "*****\n",
      "Outer fold: 24\n",
      "Number of inner folds: 35\n",
      "Best params: {'bootstrap': False, 'max_depth': 4, 'max_features': 0.1}\n",
      "Best CV score (MAE): 84.17060726868134\n",
      "Prediction score (MAE): 69.25045899725477\n",
      "*****\n",
      "Outer fold: 25\n",
      "Number of inner folds: 35\n",
      "Best params: {'bootstrap': False, 'max_depth': 4, 'max_features': 0.1}\n",
      "Best CV score (MAE): 83.73591715280355\n",
      "Prediction score (MAE): 64.9189656015\n",
      "*****\n",
      "Outer fold: 26\n",
      "Number of inner folds: 35\n",
      "Best params: {'bootstrap': False, 'max_depth': 4, 'max_features': 0.1}\n",
      "Best CV score (MAE): 84.88024398906254\n",
      "Prediction score (MAE): 60.736529090528585\n",
      "*****\n",
      "Outer fold: 27\n",
      "Number of inner folds: 35\n",
      "Best params: {'bootstrap': False, 'max_depth': 4, 'max_features': 0.1}\n",
      "Best CV score (MAE): 84.75054262138883\n",
      "Prediction score (MAE): 52.749066146340475\n",
      "*****\n",
      "Outer fold: 28\n",
      "Number of inner folds: 35\n",
      "Best params: {'bootstrap': False, 'max_depth': 4, 'max_features': 0.1}\n",
      "Best CV score (MAE): 83.56497275828859\n",
      "Prediction score (MAE): 66.37909656010477\n",
      "*****\n",
      "Outer fold: 29\n",
      "Number of inner folds: 35\n",
      "Best params: {'bootstrap': False, 'max_depth': 4, 'max_features': 0.1}\n",
      "Best CV score (MAE): 83.77279709041385\n",
      "Prediction score (MAE): 60.76108333538098\n",
      "*****\n",
      "Outer fold: 30\n",
      "Number of inner folds: 35\n",
      "Best params: {'bootstrap': False, 'max_depth': 4, 'max_features': 0.1}\n",
      "Best CV score (MAE): 84.07485958154527\n",
      "Prediction score (MAE): 52.060855820390486\n",
      "*****\n",
      "Outer fold: 31\n",
      "Number of inner folds: 35\n",
      "Best params: {'bootstrap': False, 'max_depth': 4, 'max_features': 0.1}\n",
      "Best CV score (MAE): 81.53119223134505\n",
      "Prediction score (MAE): 117.23945634788569\n",
      "*****\n",
      "Outer fold: 32\n",
      "Number of inner folds: 35\n",
      "Best params: {'bootstrap': False, 'max_depth': 4, 'max_features': 0.1}\n",
      "Best CV score (MAE): 83.04335626081426\n",
      "Prediction score (MAE): 89.0785847931263\n",
      "*****\n",
      "Outer fold: 33\n",
      "Number of inner folds: 35\n",
      "Best params: {'bootstrap': False, 'max_depth': 4, 'max_features': 0.1}\n",
      "Best CV score (MAE): 82.36737488700086\n",
      "Prediction score (MAE): 112.82319576651426\n",
      "*****\n",
      "Outer fold: 34\n",
      "Number of inner folds: 35\n",
      "Best params: {'bootstrap': False, 'max_depth': 4, 'max_features': 0.1}\n",
      "Best CV score (MAE): 83.05437626157595\n",
      "Prediction score (MAE): 82.87786905068567\n",
      "*****\n",
      "Outer fold: 35\n",
      "Number of inner folds: 35\n",
      "Best params: {'bootstrap': False, 'max_depth': 4, 'max_features': 0.1}\n",
      "Best CV score (MAE): 83.74886579407016\n",
      "Prediction score (MAE): 65.23801323472145\n",
      "*****\n",
      "Outer fold: 36\n",
      "Number of inner folds: 35\n",
      "Best params: {'bootstrap': False, 'max_depth': 4, 'max_features': 0.1}\n",
      "Best CV score (MAE): 83.53835373764602\n",
      "Prediction score (MAE): 86.13672355618094\n",
      "*****\n",
      "\n",
      "Nested CV score (generalization error): 82.72943407454416\n"
     ]
    }
   ],
   "source": [
    "# outer_cv creates 36 folds by leave-one-body-out for estimating generalization error\n",
    "outer_cv = LeaveOneGroupOut().split(X, y, groups=groups)\n",
    "\n",
    "# prints the number of folds in the outer loop\n",
    "print(\"Number of outer folds to perform: \", LeaveOneGroupOut().get_n_splits(X, y, groups=groups))\n",
    "\n",
    "# hyperparameter grid to test\n",
    "#param_grid = {\"max_depth\": [None, 4],\n",
    "#              \"max_features\": ['auto', 0.2],\n",
    "#              \"bootstrap\": [True, False]}\n",
    "\n",
    "param_grid = {\"max_depth\": [4],\n",
    "              \"max_features\": [0.1],\n",
    "              \"bootstrap\": [False]}\n",
    "\n",
    "# creates loop iteration counter and empty lists for storage\n",
    "count=1\n",
    "model_parameters = []\n",
    "nested_cv_scores = []\n",
    "\n",
    "# loops through the sets of training and test ids in the outer loop\n",
    "# the number of loops will match the number of folds as each fold is used\n",
    "for train_ids, test_ids in outer_cv:\n",
    "    # inner_cv creates 35 folds by leave-one-body-out for hyperparamter tuning\n",
    "    # uses only the train ids present in the current outer loop fold which is one less body since the outer loop\n",
    "    # folds are also using leave-one-body-out\n",
    "    inner_cv = LeaveOneGroupOut().split(X[train_ids, :], y.iloc[train_ids], groups=groups[train_ids])\n",
    "    # setting rf parameters\n",
    "    rf = RandomForestRegressor(n_estimators=100, random_state=999, criterion='mae')\n",
    "    # grid search cv using rf and the hyperparameter grid on the inner_cv training set\n",
    "    rf_grid = GridSearchCV(estimator=rf, param_grid=param_grid, cv=inner_cv, n_jobs=-1, scoring='neg_mean_absolute_error')\n",
    "    # fit the grid search model on the inner_cv training set, which will tell us the best\n",
    "    # parameters chosen by that inner cv\n",
    "    rf_grid.fit(X[train_ids, :], y.iloc[train_ids])\n",
    "    # converts best params dict to string to save it\n",
    "    res = \",\".join((\"{}={}\".format(*i) for i in rf_grid.best_params_.items()))\n",
    "    # attaches each loops best params\n",
    "    model_parameters.append(res)\n",
    "    # prints outer fold number the loop is currently on\n",
    "    print(\"Outer fold:\",count)\n",
    "    # prints number of inner folds in the outer loop (should be the same each time at 35)\n",
    "    print(\"Number of inner folds:\",LeaveOneGroupOut().get_n_splits(X[train_ids, :], y.iloc[train_ids], groups=groups[train_ids]))\n",
    "    # prints best param and CV score from this inner loop set \n",
    "    print(\"Best params:\",rf_grid.best_params_)\n",
    "    print(\"Best CV score (MAE):\",-rf_grid.best_score_)\n",
    "    # uses the best model created from the inner loop to predict the outer loop body left out\n",
    "    yhat = rf_grid.predict(X[test_ids,:])\n",
    "    MAE = mean_absolute_error(y.iloc[test_ids], yhat)\n",
    "    print(\"Prediction score (MAE):\",MAE)\n",
    "    nested_cv_scores.append(MAE)\n",
    "    print(\"*****\")\n",
    "    count+=1\n",
    "# prints the mean of the nested cv score (generalization error) of the models\n",
    "print(\"\\nNested CV score (generalization error): \" + str(np.mean(nested_cv_scores)))"
   ]
  },
  {
   "cell_type": "code",
   "execution_count": 12,
   "metadata": {},
   "outputs": [],
   "source": [
    "# define function to merge 2 lists as paired tuples    \n",
    "def merge(list1, list2): \n",
    "    merged_list = tuple(zip(list1, list2))  \n",
    "    return merged_list \n",
    "\n",
    "# merge parameters to nested scores as tuples\n",
    "merged_list = merge(model_parameters, nested_cv_scores)\n",
    "\n",
    "# puts the paired tuple list into a dictionary\n",
    "params_and_scores = defaultdict(list)\n",
    "for k, v in merged_list:\n",
    "    params_and_scores[k].append(v)"
   ]
  },
  {
   "cell_type": "code",
   "execution_count": 13,
   "metadata": {},
   "outputs": [
    {
     "data": {
      "text/plain": [
       "defaultdict(list,\n",
       "            {'bootstrap=False,max_depth=4,max_features=0.1': [54.9093194454,\n",
       "              69.80141666924999,\n",
       "              93.30321428509524,\n",
       "              57.30058201021428,\n",
       "              167.53939153283335,\n",
       "              143.62247353983335,\n",
       "              91.52689153209523,\n",
       "              96.49211640185712,\n",
       "              112.19429894030955,\n",
       "              86.8714027777,\n",
       "              61.937552911309524,\n",
       "              48.27908333295,\n",
       "              48.99697090033334,\n",
       "              42.89076719726191,\n",
       "              47.7273015867619,\n",
       "              55.77719576095238,\n",
       "              65.4725694437,\n",
       "              80.4215873002381,\n",
       "              73.01075396816667,\n",
       "              86.48727777799999,\n",
       "              62.63869047861906,\n",
       "              181.36980158640478,\n",
       "              147.6104084962353,\n",
       "              71.45264550526191,\n",
       "              57.831640206285705,\n",
       "              59.51197089338094,\n",
       "              52.05019841557144,\n",
       "              63.05033068995237,\n",
       "              60.48584656223809,\n",
       "              60.0808730157619,\n",
       "              119.7186507932381,\n",
       "              81.5131578921842,\n",
       "              104.40113756561905,\n",
       "              84.79505291192856,\n",
       "              62.92821428940477,\n",
       "              85.52858466350001]})"
      ]
     },
     "execution_count": 13,
     "metadata": {},
     "output_type": "execute_result"
    }
   ],
   "source": [
    "# prints dict of params and scores, should see each set of parameters chosen and their scores\n",
    "params_and_scores"
   ]
  },
  {
   "cell_type": "code",
   "execution_count": 14,
   "metadata": {},
   "outputs": [
    {
     "name": "stdout",
     "output_type": "stream",
     "text": [
      "{'bootstrap=False,max_depth=4,max_features=0.1': 81.65359364666243}\n"
     ]
    }
   ],
   "source": [
    "# create a dict to assign the mean score to each param set\n",
    "avgDict = {}\n",
    "for k,v in params_and_scores.items():\n",
    "    avgDict[k] = sum(v)/ float(len(v))\n",
    "print(avgDict)"
   ]
  },
  {
   "cell_type": "code",
   "execution_count": 23,
   "metadata": {},
   "outputs": [
    {
     "name": "stdout",
     "output_type": "stream",
     "text": [
      "Best params: bootstrap=False,max_depth=4,max_features=0.1\n",
      "Best mean score: 81.65359364666243\n"
     ]
    }
   ],
   "source": [
    "# prints the param set with the best mean error\n",
    "print(\"Best params:\",max(avgDict, key=avgDict.get))\n",
    "print(\"Best mean score:\",max(avgDict.values()))"
   ]
  },
  {
   "cell_type": "code",
   "execution_count": 24,
   "metadata": {},
   "outputs": [
    {
     "name": "stdout",
     "output_type": "stream",
     "text": [
      "Best CV score: -81.65359364666246\n"
     ]
    }
   ],
   "source": [
    "# input the best parameter set\n",
    "best_model_params = {\"max_depth\": [4],\n",
    "              \"max_features\": [0.1],\n",
    "              \"bootstrap\": [False]}\n",
    "\n",
    "# now we refit this best model on the whole dataset so that we can start\n",
    "# making predictions on other data, and now we have a reliable estimate of\n",
    "# this model's generalization error and we are confident this is the best model\n",
    "# among the ones we have tried\n",
    "final_regressor = GridSearchCV(rf, best_model_params, cv=LeaveOneGroupOut().split(X, y, groups=groups), scoring='neg_mean_absolute_error', n_jobs=-1)\n",
    "final_regressor.fit(X, y)\n",
    "print(\"Best CV score:\",-final_regressor.best_score_)"
   ]
  },
  {
   "cell_type": "code",
   "execution_count": 25,
   "metadata": {},
   "outputs": [
    {
     "data": {
      "text/plain": [
       "['models/PMI3_Metab_soil_meta_general.pkl']"
      ]
     },
     "execution_count": 25,
     "metadata": {},
     "output_type": "execute_result"
    }
   ],
   "source": [
    "joblib.dump(final_regressor.best_estimator_, 'models/PMI3_Metab_soil_meta_general.pkl')"
   ]
  },
  {
   "cell_type": "code",
   "execution_count": 26,
   "metadata": {},
   "outputs": [],
   "source": [
    "model_Metab_soil_meta = joblib.load('models/PMI3_Metab_soil_meta_general.pkl')"
   ]
  },
  {
   "cell_type": "code",
   "execution_count": 27,
   "metadata": {
    "scrolled": false
   },
   "outputs": [
    {
     "data": {
      "text/plain": [
       "RandomForestRegressor(bootstrap=False, ccp_alpha=0.0, criterion='mae',\n",
       "                      max_depth=4, max_features=0.1, max_leaf_nodes=None,\n",
       "                      max_samples=None, min_impurity_decrease=0.0,\n",
       "                      min_impurity_split=None, min_samples_leaf=1,\n",
       "                      min_samples_split=2, min_weight_fraction_leaf=0.0,\n",
       "                      n_estimators=10, n_jobs=None, oob_score=False,\n",
       "                      random_state=999, verbose=0, warm_start=False)"
      ]
     },
     "execution_count": 27,
     "metadata": {},
     "output_type": "execute_result"
    }
   ],
   "source": [
    "model_Metab_soil_meta"
   ]
  },
  {
   "cell_type": "markdown",
   "metadata": {},
   "source": [
    "### Determine important features"
   ]
  },
  {
   "cell_type": "code",
   "execution_count": 28,
   "metadata": {},
   "outputs": [
    {
     "name": "stdout",
     "output_type": "stream",
     "text": [
      "Feature:\t\t\t\tImportance:\n",
      "1. X300.288733742453_4.75564670033669\t0.26384788680421395\n",
      "2. X282.27712487174_7.23317913752913\t0.16956385653172668\n",
      "3. X265.251858191667_7.72115745216515\t0.0695014486247381\n",
      "4. X317.207511159171_6.03750368731563\t0.06221729093935518\n",
      "5. X283.261846131269_6.46965379294957\t0.04735563405787485\n",
      "6. X256.262006528934_7.07576439121756\t0.02504825387301515\n",
      "7. X377.324868937802_6.77922911373261\t0.024434758648755415\n",
      "8. X277.213423203688_7.13919135897436\t0.01926142042936674\n",
      "9. X281.246612658867_7.30952552083333\t0.01859250918704217\n",
      "10. X393.20879965785_2.43590272289767\t0.016757291839104203\n",
      "11. X501.157281666678_2.25135068708284\t0.016592826065744214\n",
      "12. X255.231118649466_7.12408511166254\t0.01657346248897237\n",
      "13. X283.262279643568_7.70306372739017\t0.011937852338557283\n",
      "14. X117.091183609983_3.40778691183754\t0.010168412065838019\n",
      "15. X247.16604482941_9.94318677098151\t0.008700158537218497\n",
      "16. facility=CMU\t0.008678317385967077\n",
      "17. X328.283489266621_6.07409948453607\t0.00792424361437542\n",
      "18. X365.134304124481_5.92699591836734\t0.0065474845238743\n",
      "19. X278.189859650704_4.10320385434824\t0.006172750983314502\n",
      "20. X315.28826453469_7.8770824810606\t0.006145080392609122\n",
      "21. X329.137763642305_5.73585542352223\t0.0058940519067527284\n",
      "22. X297.241099285031_4.90629917827795\t0.005829338455683474\n",
      "23. X289.272746136956_6.80620463752664\t0.005705362412288906\n",
      "24. X352.356264209747_8.29605718749999\t0.005516271627042356\n",
      "25. X411.360941501642_9.65166696100074\t0.005067844009289101\n"
     ]
    }
   ],
   "source": [
    "importances = model_Metab_soil_meta.feature_importances_\n",
    "std = np.std([tree.feature_importances_ for tree in model_Metab_soil_meta.estimators_],\n",
    "             axis=0)\n",
    "indices = np.argsort(importances)[::-1]\n",
    "\n",
    "feature_metadata = Metab_soil_meta.feature_metadata\n",
    "np.savetxt(\"feature_metadata/general_soil_feature_metadata_meta.csv\", feature_metadata, delimiter=\",\", fmt='%s')\n",
    "\n",
    "\n",
    "#print the important ids in order\n",
    "general_importances = []\n",
    "count = 0\n",
    "print(\"Feature:\\t\\t\\t\\tImportance:\")\n",
    "for i in indices:\n",
    "    general_importances += (Metab_soil_meta.feature_metadata.index.values[i], importances[indices[count]])\n",
    "    if count < 25:\n",
    "        print(str(count+1)+\". \"+str(Metab_soil_meta.feature_metadata.index.values[i])+\"\\t\"+str(importances[indices[count]]))\n",
    "    count += 1"
   ]
  },
  {
   "cell_type": "code",
   "execution_count": 29,
   "metadata": {},
   "outputs": [
    {
     "name": "stdout",
     "output_type": "stream",
     "text": [
      "Number of features present: 4405\n"
     ]
    }
   ],
   "source": [
    "print(\"Number of features present:\", int(len(general_importances)/2))\n",
    "general_importances_df = pd.DataFrame(np.array(general_importances).reshape(int(len(general_importances)/2),2))\n",
    "\n",
    "np.savetxt(\"importances/general_soil_importances_meta.csv\", general_importances_df, delimiter=\",\", fmt='%s')"
   ]
  },
  {
   "cell_type": "code",
   "execution_count": 30,
   "metadata": {},
   "outputs": [
    {
     "data": {
      "image/png": "[encoded data removed]",
      "text/plain": [
       "<Figure size 432x288 with 1 Axes>"
      ]
     },
     "metadata": {
      "needs_background": "light"
     },
     "output_type": "display_data"
    }
   ],
   "source": [
    "yhat = model_Metab_soil_meta.predict(X)\n",
    "MAE = mean_absolute_error(y, yhat)\n",
    "\n",
    "plt.scatter(yhat, y, color = 'lightgray', edgecolors = 'black')\n",
    "lower = np.min(np.concatenate([y, yhat]))\n",
    "upper = np.max(np.concatenate([y, yhat]))\n",
    "plt.plot([lower, upper], [lower, upper], color = 'black', lw = 2, ls = ':')\n",
    "plt.xlim(0,600)\n",
    "plt.ylim(0,600)\n",
    "\n",
    "#regression part\n",
    "slope, intercept, r_value, p_value, std_err = stats.linregress(yhat,y)\n",
    "line = slope*yhat+intercept\n",
    "plt.plot(yhat, line, color = 'black', lw = 2)\n",
    "\n",
    "plt.title('General soil metabolomics model\\n Gen. MAE = %d; MAE = %d; $R^2$ = %.2f' %(np.mean(nested_cv_scores),MAE,round(model_Metab_soil_meta.score(X,y),2)))\n",
    "plt.xlabel(\"Predicted ADD\")\n",
    "plt.ylabel(\"Actual ADD\")\n",
    "plt.savefig('figures/general_soil_model.png')"
   ]
  },
  {
   "cell_type": "code",
   "execution_count": null,
   "metadata": {},
   "outputs": [],
   "source": []
  }
 ],
 "metadata": {
  "kernelspec": {
   "display_name": "Python 3",
   "language": "python",
   "name": "python3"
  },
  "language_info": {
   "codemirror_mode": {
    "name": "ipython",
    "version": 3
   },
   "file_extension": ".py",
   "mimetype": "text/x-python",
   "name": "python",
   "nbconvert_exporter": "python",
   "pygments_lexer": "ipython3",
   "version": "3.7.7"
  }
 },
 "nbformat": 4,
 "nbformat_minor": 2
}
