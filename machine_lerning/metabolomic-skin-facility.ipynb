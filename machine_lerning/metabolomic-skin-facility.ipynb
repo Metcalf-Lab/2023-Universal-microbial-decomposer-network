{
 "cells": [
  {
   "cell_type": "code",
   "execution_count": 1,
   "metadata": {
    "scrolled": true
   },
   "outputs": [
    {
     "name": "stderr",
     "output_type": "stream",
     "text": [
      "/Users/Zach/miniconda3/envs/ml_22.2/lib/python3.7/site-packages/sklearn/externals/joblib/__init__.py:15: FutureWarning: sklearn.externals.joblib is deprecated in 0.21 and will be removed in 0.23. Please import this functionality directly from joblib, which can be installed with: pip install joblib. If this warning is raised when loading pickled models, you may need to re-serialize those models with scikit-learn 0.21+.\n",
      "  warnings.warn(msg, category=FutureWarning)\n"
     ]
    }
   ],
   "source": [
    "from sklearn.ensemble import RandomForestRegressor\n",
    "from sklearn import preprocessing, svm, metrics\n",
    "from sklearn.model_selection import LeaveOneGroupOut, KFold, GridSearchCV, GroupKFold, cross_val_score, train_test_split\n",
    "from sklearn.metrics import r2_score, mean_squared_error, mean_absolute_error\n",
    "from sklearn.externals import joblib\n",
    "from sklearn.datasets import make_regression\n",
    "from scipy.stats import randint as sp_randint\n",
    "from matplotlib import pyplot as plt\n",
    "from collections import defaultdict"
   ]
  },
  {
   "cell_type": "code",
   "execution_count": 2,
   "metadata": {},
   "outputs": [
    {
     "name": "stderr",
     "output_type": "stream",
     "text": [
      "/Users/Zach/miniconda3/envs/ml_22.2/lib/python3.7/site-packages/skbio/util/_testing.py:15: FutureWarning: pandas.util.testing is deprecated. Use the functions in the public API at pandas.testing instead.\n",
      "  import pandas.util.testing as pdt\n"
     ]
    }
   ],
   "source": [
    "import pandas as pd\n",
    "import numpy as np\n",
    "import matplotlib\n",
    "import seaborn as sns\n",
    "%matplotlib inline\n",
    "import biom\n",
    "import calour as ca\n",
    "from scipy import stats\n",
    "import scipy\n",
    "import pickle\n",
    "import time\n",
    "import math\n",
    "import inspect\n",
    "import operator\n",
    "pd.set_option('display.max_rows', 10000)"
   ]
  },
  {
   "cell_type": "markdown",
   "metadata": {},
   "source": [
    "# Importing data, no TSS normalization performed here since table is already normalized"
   ]
  },
  {
   "cell_type": "code",
   "execution_count": 3,
   "metadata": {
    "scrolled": false
   },
   "outputs": [],
   "source": [
    "allMetab = ca.read_amplicon('PMI_MS1_FeatureTable_Normalized.biom','pmi3_metab_meta.txt', min_reads=1, normalize = None)"
   ]
  },
  {
   "cell_type": "markdown",
   "metadata": {},
   "source": [
    "## Remove controls and samples that grouped with controls on PCoA"
   ]
  },
  {
   "cell_type": "code",
   "execution_count": 4,
   "metadata": {
    "scrolled": true
   },
   "outputs": [
    {
     "data": {
      "text/plain": [
       "skin.hip    746\n",
       "soil.hip    744\n",
       "Name: description, dtype: int64"
      ]
     },
     "execution_count": 4,
     "metadata": {},
     "output_type": "execute_result"
    }
   ],
   "source": [
    "allMetab = allMetab.filter_samples('control', 'n')\n",
    "allMetab = allMetab.filter_samples('pcoa_removals', 'n')\n",
    "allMetab.sample_metadata.description.value_counts()"
   ]
  },
  {
   "cell_type": "markdown",
   "metadata": {},
   "source": [
    "# Split by sampling location (soil v. skin)"
   ]
  },
  {
   "cell_type": "markdown",
   "metadata": {},
   "source": [
    "## Skin sample filtering"
   ]
  },
  {
   "cell_type": "code",
   "execution_count": 5,
   "metadata": {},
   "outputs": [
    {
     "data": {
      "text/plain": [
       "skin    746\n",
       "Name: sample_type, dtype: int64"
      ]
     },
     "execution_count": 5,
     "metadata": {},
     "output_type": "execute_result"
    }
   ],
   "source": [
    "Metab_skin = allMetab.filter_samples('sample_type', 'skin')\n",
    "Metab_skin.sample_metadata.sample_type.value_counts()"
   ]
  },
  {
   "cell_type": "code",
   "execution_count": 6,
   "metadata": {},
   "outputs": [
    {
     "name": "stdout",
     "output_type": "stream",
     "text": [
      "Number of samples:  746\n"
     ]
    }
   ],
   "source": [
    "print(\"Number of samples: \",len(Metab_skin.sample_metadata.metab_barcode.value_counts()))"
   ]
  },
  {
   "cell_type": "code",
   "execution_count": 7,
   "metadata": {},
   "outputs": [
    {
     "name": "stdout",
     "output_type": "stream",
     "text": [
      "Number of bodies:  36\n"
     ]
    }
   ],
   "source": [
    "print(\"Number of bodies: \",len(Metab_skin.sample_metadata.subjectID.value_counts()))"
   ]
  },
  {
   "cell_type": "code",
   "execution_count": 8,
   "metadata": {},
   "outputs": [
    {
     "name": "stdout",
     "output_type": "stream",
     "text": [
      "Number of facilities:  3\n"
     ]
    }
   ],
   "source": [
    "print(\"Number of facilities: \",len(Metab_skin.sample_metadata.facility.value_counts()))"
   ]
  },
  {
   "cell_type": "markdown",
   "metadata": {},
   "source": [
    "# Skin Facility Model using ADD 0C as Response and Adding Metadata as Features"
   ]
  },
  {
   "cell_type": "code",
   "execution_count": 9,
   "metadata": {},
   "outputs": [
    {
     "name": "stdout",
     "output_type": "stream",
     "text": [
      "Number of features:  4402\n"
     ]
    }
   ],
   "source": [
    "Metab_skin_meta = Metab_skin.add_sample_metadata_as_features(['avg_percent_humidity','total_precipitation_cm'])\n",
    "print(\"Number of features: \",len(Metab_skin_meta.feature_metadata))"
   ]
  },
  {
   "cell_type": "code",
   "execution_count": 10,
   "metadata": {},
   "outputs": [],
   "source": [
    "# designate data\n",
    "X = Metab_skin_meta.data\n",
    "y = Metab_skin_meta.sample_metadata['add_0c']\n",
    "y = (y.astype(float))\n",
    "\n",
    "# group by facility in outer loop\n",
    "outer_groups = Metab_skin_meta.sample_metadata['facility']\n",
    "\n",
    "# group by body in inner loop\n",
    "inner_groups = Metab_skin_meta.sample_metadata['subjectID']"
   ]
  },
  {
   "cell_type": "code",
   "execution_count": 55,
   "metadata": {},
   "outputs": [
    {
     "name": "stdout",
     "output_type": "stream",
     "text": [
      "Number of outer folds to perform:  3\n",
      "Outer fold: 1\n",
      "Number of inner folds: 24\n",
      "Best params: {'bootstrap': False, 'max_depth': 4, 'max_features': 0.1}\n",
      "Best CV score (MAE): 80.7410221153679\n",
      "Prediction score (MAE): 76.55908377972581\n",
      "*****\n",
      "Outer fold: 2\n",
      "Number of inner folds: 24\n",
      "Best params: {'bootstrap': False, 'max_depth': 4, 'max_features': 0.1}\n",
      "Best CV score (MAE): 72.67046840977888\n",
      "Prediction score (MAE): 90.61952253389558\n",
      "*****\n",
      "Outer fold: 3\n",
      "Number of inner folds: 24\n",
      "Best params: {'bootstrap': False, 'max_depth': 4, 'max_features': 0.1}\n",
      "Best CV score (MAE): 83.28269028584347\n",
      "Prediction score (MAE): 81.82394020381525\n",
      "*****\n",
      "\n",
      "Nested CV score (generalization error): 83.00084883914555\n"
     ]
    }
   ],
   "source": [
    "# outer_cv creates 3 folds by leave-one-facility-out for estimating generalization error\n",
    "outer_cv = LeaveOneGroupOut().split(X, y, groups=outer_groups)\n",
    "\n",
    "# prints the number of folds in the outer loop\n",
    "print(\"Number of outer folds to perform: \", LeaveOneGroupOut().get_n_splits(X, y, groups=outer_groups))\n",
    "\n",
    "# hyperparameter grid to test\n",
    "#param_grid = {\"max_depth\": [None, 4],\n",
    "#              \"max_features\": ['auto', 0.2],\n",
    "#              \"bootstrap\": [True, False]}\n",
    "\n",
    "param_grid = {\"max_depth\": [4],\n",
    "              \"max_features\": [0.1],\n",
    "              \"bootstrap\": [False]}\n",
    "\n",
    "# creates loop iteration counter and empty lists for storage\n",
    "count=1\n",
    "model_parameters = []\n",
    "nested_cv_scores = []\n",
    "\n",
    "# loops through the sets of training and test ids in the outer loop\n",
    "# the number of loops will match the number of folds as each fold is used\n",
    "for train_ids, test_ids in outer_cv:\n",
    "    # inner_cv creates 24 folds by leave-one-body-out for hyperparamter tuning\n",
    "    # uses only the train ids present in the current outer loop fold which is one less facility since the outer loop\n",
    "    # folds are using leave-one-facility-out\n",
    "    inner_cv = LeaveOneGroupOut().split(X[train_ids, :], y.iloc[train_ids], groups=inner_groups[train_ids])\n",
    "    # setting rf parameters\n",
    "    rf = RandomForestRegressor(n_estimators=1, random_state=999, criterion='mae')\n",
    "    # grid search cv using rf and the hyperparameter grid on the inner_cv training set\n",
    "    rf_grid = GridSearchCV(estimator=rf, param_grid=param_grid, cv=inner_cv, n_jobs=1, scoring='neg_mean_absolute_error')\n",
    "    # fit the grid search model on the inner_cv training set, which will tell us the best\n",
    "    # parameters chosen by that inner cv\n",
    "    rf_grid.fit(X[train_ids, :], y.iloc[train_ids])\n",
    "    # converts best params dict to string to save it\n",
    "    res = \",\".join((\"{}={}\".format(*i) for i in rf_grid.best_params_.items()))\n",
    "    # attaches each loops best params\n",
    "    model_parameters.append(res)\n",
    "    # prints outer fold number the loop is currently on\n",
    "    print(\"Outer fold:\",count)\n",
    "    # prints number of inner folds in the outer loop (should be the same each time at 24)\n",
    "    print(\"Number of inner folds:\",LeaveOneGroupOut().get_n_splits(X[train_ids, :], y.iloc[train_ids], groups=inner_groups[train_ids]))\n",
    "    # prints best param and CV score from this inner loop set \n",
    "    print(\"Best params:\",rf_grid.best_params_)\n",
    "    print(\"Best CV score (MAE):\",-rf_grid.best_score_)\n",
    "    # uses the best model created from the inner loop to predict the outer loop body left out\n",
    "    yhat = rf_grid.predict(X[test_ids,:])\n",
    "    MAE = mean_absolute_error(y.iloc[test_ids], yhat)\n",
    "    print(\"Prediction score (MAE):\",MAE)\n",
    "    nested_cv_scores.append(MAE)\n",
    "    print(\"*****\")\n",
    "    count+=1\n",
    "# prints the mean of the nested cv score (generalization error) of the models\n",
    "print(\"\\nNested CV score (generalization error): \" + str(np.mean(nested_cv_scores)))"
   ]
  },
  {
   "cell_type": "code",
   "execution_count": 12,
   "metadata": {},
   "outputs": [],
   "source": [
    "# define function to merge 2 lists as paired tuples    \n",
    "def merge(list1, list2): \n",
    "    merged_list = tuple(zip(list1, list2))  \n",
    "    return merged_list \n",
    "\n",
    "# merge parameters to nested scores as tuples\n",
    "merged_list = merge(model_parameters, nested_cv_scores)\n",
    "\n",
    "# puts the paired tuple list into a dictionary\n",
    "params_and_scores = defaultdict(list)\n",
    "for k, v in merged_list:\n",
    "    params_and_scores[k].append(v)"
   ]
  },
  {
   "cell_type": "code",
   "execution_count": 13,
   "metadata": {},
   "outputs": [
    {
     "data": {
      "text/plain": [
       "defaultdict(list,\n",
       "            {'bootstrap=False,max_depth=4,max_features=0.1': [76.55908377972581,\n",
       "              90.61952253389558,\n",
       "              81.82394020381525]})"
      ]
     },
     "execution_count": 13,
     "metadata": {},
     "output_type": "execute_result"
    }
   ],
   "source": [
    "# prints dict of params and scores, should see each set of parameters chosen and their scores\n",
    "params_and_scores"
   ]
  },
  {
   "cell_type": "code",
   "execution_count": 14,
   "metadata": {},
   "outputs": [
    {
     "name": "stdout",
     "output_type": "stream",
     "text": [
      "{'bootstrap=False,max_depth=4,max_features=0.1': 83.00084883914555}\n"
     ]
    }
   ],
   "source": [
    "# create a dict to assign the mean score to each param set\n",
    "avgDict = {}\n",
    "for k,v in params_and_scores.items():\n",
    "    avgDict[k] = sum(v)/ float(len(v))\n",
    "print(avgDict)"
   ]
  },
  {
   "cell_type": "code",
   "execution_count": 15,
   "metadata": {},
   "outputs": [
    {
     "name": "stdout",
     "output_type": "stream",
     "text": [
      "Best params: bootstrap=False,max_depth=4,max_features=0.1\n",
      "Best mean score: 83.00084883914555\n"
     ]
    }
   ],
   "source": [
    "# prints the param set with the best mean error\n",
    "print(\"Best params:\",min(avgDict, key=avgDict.get))\n",
    "print(\"Best mean score:\",min(avgDict.values()))"
   ]
  },
  {
   "cell_type": "code",
   "execution_count": 44,
   "metadata": {},
   "outputs": [
    {
     "data": {
      "text/plain": [
       "RandomForestRegressor(bootstrap=False, ccp_alpha=0.0, criterion='mae',\n",
       "                      max_depth=None, max_features=0.1, max_leaf_nodes=None,\n",
       "                      max_samples=None, min_impurity_decrease=0.0,\n",
       "                      min_impurity_split=None, min_samples_leaf=1,\n",
       "                      min_samples_split=2, min_weight_fraction_leaf=0.0,\n",
       "                      n_estimators=1, n_jobs=None, oob_score=False,\n",
       "                      random_state=999, verbose=0, warm_start=False)"
      ]
     },
     "execution_count": 44,
     "metadata": {},
     "output_type": "execute_result"
    }
   ],
   "source": [
    "# input the best parameter set\n",
    "best_model_params = {\"max_depth\": [4],\n",
    "              \"max_features\": [0.1],\n",
    "              \"bootstrap\": [False]}\n",
    "\n",
    "final_regressor = RandomForestRegressor(n_estimators=1, random_state=999, criterion='mae', max_depth=4, max_features=0.1, bootstrap=False)\n",
    "\n",
    "\n",
    "# now we refit this best model on the whole dataset so that we can start\n",
    "# making predictions on other data, and now we have a reliable estimate of\n",
    "# this model's generalization error and we are confident this is the best model\n",
    "# among the ones we have tried\n",
    "#final_regressor = GridSearchCV(rf, best_model_params, cv=LeaveOneGroupOut().split(X, y, groups=outer_groups), scoring='neg_mean_absolute_error', n_jobs=-1)\n",
    "final_regressor.fit(X, y)\n",
    "#print(\"Best CV score:\",-final_regressor.best_score_)"
   ]
  },
  {
   "cell_type": "code",
   "execution_count": 45,
   "metadata": {},
   "outputs": [
    {
     "data": {
      "text/plain": [
       "['models/PMI3_Metab_skin_meta_facility.pkl']"
      ]
     },
     "execution_count": 45,
     "metadata": {},
     "output_type": "execute_result"
    }
   ],
   "source": [
    "joblib.dump(final_regressor, 'models/PMI3_Metab_skin_meta_facility.pkl')"
   ]
  },
  {
   "cell_type": "code",
   "execution_count": 46,
   "metadata": {},
   "outputs": [],
   "source": [
    "model_Metab_skin_meta = joblib.load('models/PMI3_Metab_skin_meta_facility.pkl')"
   ]
  },
  {
   "cell_type": "code",
   "execution_count": 47,
   "metadata": {
    "scrolled": false
   },
   "outputs": [
    {
     "data": {
      "text/plain": [
       "RandomForestRegressor(bootstrap=False, ccp_alpha=0.0, criterion='mae',\n",
       "                      max_depth=None, max_features=0.1, max_leaf_nodes=None,\n",
       "                      max_samples=None, min_impurity_decrease=0.0,\n",
       "                      min_impurity_split=None, min_samples_leaf=1,\n",
       "                      min_samples_split=2, min_weight_fraction_leaf=0.0,\n",
       "                      n_estimators=1, n_jobs=None, oob_score=False,\n",
       "                      random_state=999, verbose=0, warm_start=False)"
      ]
     },
     "execution_count": 47,
     "metadata": {},
     "output_type": "execute_result"
    }
   ],
   "source": [
    "model_Metab_skin_meta"
   ]
  },
  {
   "cell_type": "markdown",
   "metadata": {},
   "source": [
    "### Determine important features"
   ]
  },
  {
   "cell_type": "code",
   "execution_count": 48,
   "metadata": {},
   "outputs": [
    {
     "name": "stdout",
     "output_type": "stream",
     "text": [
      "Feature:\t\t\t\tImportance:\n",
      "1. X326.340475453795_8.1965404290429\t0.31696994185187494\n",
      "2. X269.210000802471_5.71957425343018\t0.033276576320700794\n",
      "3. X223.0969552087_4.67388333333333\t0.02549090725695613\n",
      "4. X509.381884956359_7.87130999999999\t0.02133376401604422\n",
      "5. X300.288733742453_4.75564670033669\t0.01610526100959245\n",
      "6. X418.328595329733_7.6794931372549\t0.015861416248101147\n",
      "7. X441.369893141195_7.59128079812206\t0.013686243788334716\n",
      "8. X412.304847263645_6.60969774774774\t0.011359142066067427\n",
      "9. X443.167086621125_3.26429537760416\t0.011123978972934644\n",
      "10. X344.156589346632_6.10044905345211\t0.009838264569935404\n",
      "11. X371.323968069893_5.19059206349206\t0.00977928431517404\n",
      "12. X549.380208996758_7.86295833333333\t0.009434566786134139\n",
      "13. X412.373686684502_5.72207881944444\t0.007852573068641257\n",
      "14. X371.226813708116_2.44013158756137\t0.007489665364829838\n",
      "15. X213.148126824373_4.15120526452957\t0.007375356671871258\n",
      "16. X562.342656274536_6.28705443886096\t0.006952641888266077\n",
      "17. X275.088496350363_4.20603609715242\t0.00659207685721916\n",
      "18. X357.276818015358_5.37387575757575\t0.006445797561410961\n",
      "19. X308.220965328732_3.73019024024023\t0.006397428240155388\n",
      "20. X298.273786351693_7.60156672587329\t0.00631853526106598\n",
      "21. X529.337080332735_7.62387683560753\t0.005842765810055893\n",
      "22. X223.09537516044_3.34094017372421\t0.005819821389022978\n",
      "23. X345.181369912503_5.81221479797979\t0.005771589871463911\n",
      "24. X547.193401698648_3.3067682785888\t0.005631856282127693\n",
      "25. X314.267626953125_4.28569571428571\t0.0055943046020312534\n"
     ]
    }
   ],
   "source": [
    "importances = model_Metab_skin_meta.feature_importances_\n",
    "std = np.std([tree.feature_importances_ for tree in model_Metab_skin_meta.estimators_],\n",
    "             axis=0)\n",
    "indices = np.argsort(importances)[::-1]\n",
    "\n",
    "feature_metadata = Metab_skin_meta.feature_metadata\n",
    "np.savetxt(\"feature_metadata/facility_skin_feature_metadata_meta.csv\", feature_metadata, delimiter=\",\", fmt='%s')\n",
    "\n",
    "\n",
    "#print the important ids in order\n",
    "general_importances = []\n",
    "count = 0\n",
    "print(\"Feature:\\t\\t\\t\\tImportance:\")\n",
    "for i in indices:\n",
    "    general_importances += (Metab_skin_meta.feature_metadata.index.values[i], importances[indices[count]])\n",
    "    if count < 25:\n",
    "        print(str(count+1)+\". \"+str(Metab_skin_meta.feature_metadata.index.values[i])+\"\\t\"+str(importances[indices[count]]))\n",
    "    count += 1"
   ]
  },
  {
   "cell_type": "code",
   "execution_count": 49,
   "metadata": {},
   "outputs": [
    {
     "name": "stdout",
     "output_type": "stream",
     "text": [
      "Number of features present: 4402\n"
     ]
    }
   ],
   "source": [
    "print(\"Number of features present:\", int(len(general_importances)/2))\n",
    "general_importances_df = pd.DataFrame(np.array(general_importances).reshape(int(len(general_importances)/2),2))\n",
    "\n",
    "np.savetxt(\"importances/facility_skin_importances_meta.csv\", general_importances_df, delimiter=\",\", fmt='%s')"
   ]
  },
  {
   "cell_type": "code",
   "execution_count": 50,
   "metadata": {},
   "outputs": [
    {
     "data": {
      "image/png": "[encoded data removed]",
      "text/plain": [
       "<Figure size 432x288 with 1 Axes>"
      ]
     },
     "metadata": {
      "needs_background": "light"
     },
     "output_type": "display_data"
    }
   ],
   "source": [
    "yhat = model_Metab_skin_meta.predict(X)\n",
    "MAE = mean_absolute_error(y, yhat)\n",
    "\n",
    "plt.scatter(yhat, y, color = 'lightgray', edgecolors = 'black')\n",
    "lower = np.min(np.concatenate([y, yhat]))\n",
    "upper = np.max(np.concatenate([y, yhat]))\n",
    "plt.plot([lower, upper], [lower, upper], color = 'black', lw = 2, ls = ':')\n",
    "plt.xlim(0,600)\n",
    "plt.ylim(0,600)\n",
    "\n",
    "#regression part\n",
    "slope, intercept, r_value, p_value, std_err = stats.linregress(yhat,y)\n",
    "line = slope*yhat+intercept\n",
    "plt.plot(yhat, line, color = 'black', lw = 2)\n",
    "\n",
    "plt.title('Facility skin metabolomics model\\n Gen. MAE = %d; MAE = %d; $R^2$ = %.2f' %(np.mean(nested_cv_scores),MAE,round(model_Metab_skin_meta.score(X,y),2)))\n",
    "plt.xlabel(\"Predicted ADD\")\n",
    "plt.ylabel(\"Actual ADD\")\n",
    "plt.savefig('figures/facility_skin_model.png')"
   ]
  },
  {
   "cell_type": "code",
   "execution_count": null,
   "metadata": {},
   "outputs": [],
   "source": []
  }
 ],
 "metadata": {
  "kernelspec": {
   "display_name": "Python 3",
   "language": "python",
   "name": "python3"
  },
  "language_info": {
   "codemirror_mode": {
    "name": "ipython",
    "version": 3
   },
   "file_extension": ".py",
   "mimetype": "text/x-python",
   "name": "python",
   "nbconvert_exporter": "python",
   "pygments_lexer": "ipython3",
   "version": "3.7.7"
  }
 },
 "nbformat": 4,
 "nbformat_minor": 2
}
