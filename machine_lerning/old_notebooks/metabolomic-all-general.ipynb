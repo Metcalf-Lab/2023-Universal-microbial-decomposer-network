{
 "cells": [
  {
   "cell_type": "code",
   "execution_count": 1,
   "metadata": {},
   "outputs": [],
   "source": [
    "from sklearn.ensemble import RandomForestRegressor\n",
    "from sklearn import preprocessing, svm, metrics\n",
    "from sklearn.ensemble import RandomForestClassifier, ExtraTreesClassifier\n",
    "from sklearn.model_selection import StratifiedKFold, KFold, GridSearchCV, GroupKFold, cross_val_score, train_test_split\n",
    "from sklearn.pipeline import Pipeline\n",
    "from sklearn.svm import LinearSVC, SVR\n",
    "from sklearn.metrics import r2_score, mean_squared_error, mean_absolute_error, mean_absolute_error, roc_auc_score, precision_score, make_scorer\n",
    "from sklearn.linear_model import LassoCV, Lasso, LassoLarsIC, ElasticNet, LassoLarsCV\n",
    "from sklearn.externals import joblib\n",
    "from scipy.stats import randint as sp_randint\n",
    "from matplotlib import pyplot as plt\n",
    "from sklearn.feature_selection import RFECV\n",
    "from sklearn.gaussian_process import GaussianProcessClassifier\n",
    "from sklearn.gaussian_process.kernels import RBF\n",
    "from sklearn.neighbors import KNeighborsClassifier, RadiusNeighborsClassifier"
   ]
  },
  {
   "cell_type": "code",
   "execution_count": 2,
   "metadata": {},
   "outputs": [],
   "source": [
    "import pandas as pd\n",
    "import numpy as np\n",
    "import matplotlib\n",
    "import seaborn as sns\n",
    "%matplotlib inline\n",
    "import biom\n",
    "import calour as ca\n",
    "from scipy import stats\n",
    "import scipy\n",
    "import pickle\n",
    "import time\n",
    "import math\n",
    "import inspect\n",
    "pd.set_option('display.max_rows', 10000)"
   ]
  },
  {
   "cell_type": "markdown",
   "metadata": {},
   "source": [
    "# Importing data, no TSS normalization performed here"
   ]
  },
  {
   "cell_type": "code",
   "execution_count": 3,
   "metadata": {
    "scrolled": false
   },
   "outputs": [],
   "source": [
    "allMetab = ca.read_amplicon('PMI_MS1_FeatureTable_Normalized.biom','pmi3_metab_meta.txt', min_reads=1, normalize = None)"
   ]
  },
  {
   "cell_type": "markdown",
   "metadata": {},
   "source": [
    "## Remove controls and samples clustering with controls on PCoA"
   ]
  },
  {
   "cell_type": "code",
   "execution_count": 4,
   "metadata": {},
   "outputs": [
    {
     "data": {
      "text/plain": [
       "skin.hip    746\n",
       "soil.hip    744\n",
       "Name: description, dtype: int64"
      ]
     },
     "execution_count": 4,
     "metadata": {},
     "output_type": "execute_result"
    }
   ],
   "source": [
    "allMetab = allMetab.filter_samples('control', 'n')\n",
    "allMetab = allMetab.filter_samples('pcoa_removals', 'n')\n",
    "allMetab.sample_metadata.description.value_counts()"
   ]
  },
  {
   "cell_type": "markdown",
   "metadata": {},
   "source": [
    "## Seperate general model validation bodies and training bodies"
   ]
  },
  {
   "cell_type": "code",
   "execution_count": 5,
   "metadata": {},
   "outputs": [],
   "source": [
    "allMetab_train = allMetab.filter_samples('validation_set', 'n')\n",
    "allMetab_val = allMetab.filter_samples('validation_set', 'y')"
   ]
  },
  {
   "cell_type": "code",
   "execution_count": 6,
   "metadata": {},
   "outputs": [
    {
     "data": {
      "text/plain": [
       "skin.hip    497\n",
       "soil.hip    493\n",
       "Name: description, dtype: int64"
      ]
     },
     "execution_count": 6,
     "metadata": {},
     "output_type": "execute_result"
    }
   ],
   "source": [
    "allMetab_train.sample_metadata.description.value_counts()"
   ]
  },
  {
   "cell_type": "code",
   "execution_count": 7,
   "metadata": {},
   "outputs": [
    {
     "data": {
      "text/plain": [
       "soil.hip    251\n",
       "skin.hip    249\n",
       "Name: description, dtype: int64"
      ]
     },
     "execution_count": 7,
     "metadata": {},
     "output_type": "execute_result"
    }
   ],
   "source": [
    "allMetab_val.sample_metadata.description.value_counts()"
   ]
  },
  {
   "cell_type": "code",
   "execution_count": 8,
   "metadata": {},
   "outputs": [],
   "source": [
    "#allMetab.sample_metadata.columns"
   ]
  },
  {
   "cell_type": "code",
   "execution_count": 9,
   "metadata": {},
   "outputs": [],
   "source": [
    "#dir(allMetab)"
   ]
  },
  {
   "cell_type": "code",
   "execution_count": 10,
   "metadata": {
    "scrolled": false
   },
   "outputs": [],
   "source": [
    "#print(allMetab.feature_metadata)"
   ]
  },
  {
   "cell_type": "markdown",
   "metadata": {},
   "source": [
    "# General Model of All Facilites, Samples, and Season using ADD 0C as Response and Adding Metadata to Determine Metadata Importance"
   ]
  },
  {
   "cell_type": "code",
   "execution_count": 8,
   "metadata": {},
   "outputs": [
    {
     "ename": "AttributeError",
     "evalue": "'AmpliconExperiment' object has no attribute 'add_sample_metadata_as_features'",
     "output_type": "error",
     "traceback": [
      "\u001b[0;31m---------------------------------------------------------------------------\u001b[0m",
      "\u001b[0;31mAttributeError\u001b[0m                            Traceback (most recent call last)",
      "\u001b[0;32m<ipython-input-8-b3ee1dc317fc>\u001b[0m in \u001b[0;36m<module>\u001b[0;34m()\u001b[0m\n\u001b[0;32m----> 1\u001b[0;31m \u001b[0mallMetab_train_meta\u001b[0m \u001b[0;34m=\u001b[0m \u001b[0mallMetab_train\u001b[0m\u001b[0;34m.\u001b[0m\u001b[0madd_sample_metadata_as_features\u001b[0m\u001b[0;34m(\u001b[0m\u001b[0;34m[\u001b[0m\u001b[0;34m'season'\u001b[0m\u001b[0;34m,\u001b[0m\u001b[0;34m'facility'\u001b[0m\u001b[0;34m,\u001b[0m\u001b[0;34m'sample_type'\u001b[0m\u001b[0;34m,\u001b[0m\u001b[0;34m'avg_percent_humidity'\u001b[0m\u001b[0;34m,\u001b[0m\u001b[0;34m'total_precipitation_cm'\u001b[0m\u001b[0;34m]\u001b[0m\u001b[0;34m)\u001b[0m\u001b[0;34m\u001b[0m\u001b[0m\n\u001b[0m",
      "\u001b[0;31mAttributeError\u001b[0m: 'AmpliconExperiment' object has no attribute 'add_sample_metadata_as_features'"
     ]
    }
   ],
   "source": [
    "allMetab_train_meta = allMetab_train.add_sample_metadata_as_features(['season','facility','sample_type','avg_percent_humidity','total_precipitation_cm'])"
   ]
  },
  {
   "cell_type": "code",
   "execution_count": 14,
   "metadata": {},
   "outputs": [],
   "source": [
    "gkf = GroupKFold(6)\n",
    "\n",
    "X_train = allMetab_train_meta.data\n",
    "y_train = allMetab_train_meta.sample_metadata['add_0c']\n",
    "y_train = (y_train.astype(float))\n",
    "\n",
    "groups = allMetab_train_meta.sample_metadata['subjectID']\n",
    "\n",
    "# Tested this param grid on Summit to expand hyperparameter tuning\n",
    "#param_grid = {\"max_depth\": [4, 8, 16, None],\n",
    "#              \"max_features\": ['sqrt', 'log2', 0.1],\n",
    "#              \"min_samples_split\": [0.001, 0.01, 0.1],\n",
    "#              \"min_weight_fraction_leaf\": [0.0001, 0.001, 0.01],\n",
    "#              \"bootstrap\": [True, False]}\n",
    "# It provided this best model:\n",
    "\n",
    "# Takes too long to run on local computer; will need to run then import model from Summit\n",
    "param_grid = {\"max_depth\": [8],\n",
    "          \"max_features\": [0.1],\n",
    "          \"min_samples_split\": [0.001],\n",
    "          \"min_weight_fraction_leaf\": [0.01],\n",
    "          \"bootstrap\": [False]}\n",
    "rf = RandomForestRegressor(n_estimators=10, random_state=999, criterion='mae')\n",
    "gs = GridSearchCV(rf, param_grid=param_grid, cv=gkf.split(X_train, y_train, groups), scoring='neg_mean_absolute_error', n_jobs=-3)"
   ]
  },
  {
   "cell_type": "code",
   "execution_count": 15,
   "metadata": {
    "scrolled": true
   },
   "outputs": [
    {
     "data": {
      "text/plain": [
       "GridSearchCV(cv=<generator object _BaseKFold.split at 0x122f7b8d0>,\n",
       "             error_score=nan,\n",
       "             estimator=RandomForestRegressor(bootstrap=True, ccp_alpha=0.0,\n",
       "                                             criterion='mae', max_depth=None,\n",
       "                                             max_features='auto',\n",
       "                                             max_leaf_nodes=None,\n",
       "                                             max_samples=None,\n",
       "                                             min_impurity_decrease=0.0,\n",
       "                                             min_impurity_split=None,\n",
       "                                             min_samples_leaf=1,\n",
       "                                             min_samples_split=2,\n",
       "                                             min_weight_fraction_leaf=0.0,\n",
       "                                             n_es...ne,\n",
       "                                             oob_score=False, random_state=999,\n",
       "                                             verbose=0, warm_start=False),\n",
       "             iid='deprecated', n_jobs=-3,\n",
       "             param_grid={'bootstrap': [False], 'max_depth': [8],\n",
       "                         'max_features': [0.1], 'min_samples_leaf': [1],\n",
       "                         'min_samples_split': [0.001],\n",
       "                         'min_weight_fraction_leaf': [0.01]},\n",
       "             pre_dispatch='2*n_jobs', refit=True, return_train_score=False,\n",
       "             scoring='neg_mean_absolute_error', verbose=0)"
      ]
     },
     "execution_count": 15,
     "metadata": {},
     "output_type": "execute_result"
    }
   ],
   "source": [
    "gs.fit(X_train, y_train)"
   ]
  },
  {
   "cell_type": "code",
   "execution_count": null,
   "metadata": {},
   "outputs": [],
   "source": [
    "print(gs.best_params_)"
   ]
  },
  {
   "cell_type": "code",
   "execution_count": 16,
   "metadata": {},
   "outputs": [
    {
     "name": "stdout",
     "output_type": "stream",
     "text": [
      "The best mean absolute error is 78.66\n"
     ]
    }
   ],
   "source": [
    "print('The best mean absolute error is', round(-gs.best_score_,2))"
   ]
  },
  {
   "cell_type": "code",
   "execution_count": 17,
   "metadata": {},
   "outputs": [
    {
     "data": {
      "text/plain": [
       "['models/PMI3_allMetab_meta_general.pkl']"
      ]
     },
     "execution_count": 17,
     "metadata": {},
     "output_type": "execute_result"
    }
   ],
   "source": [
    "joblib.dump(gs.best_estimator_, 'models/PMI3_allMetab_meta_general.pkl')"
   ]
  },
  {
   "cell_type": "code",
   "execution_count": 18,
   "metadata": {},
   "outputs": [],
   "source": [
    "model_PMI3_allMetab_meta_general = joblib.load('models/PMI3_allMetab_meta_general.pkl')"
   ]
  },
  {
   "cell_type": "code",
   "execution_count": 19,
   "metadata": {
    "scrolled": true
   },
   "outputs": [
    {
     "data": {
      "text/plain": [
       "RandomForestRegressor(bootstrap=False, ccp_alpha=0.0, criterion='mae',\n",
       "                      max_depth=8, max_features=0.1, max_leaf_nodes=None,\n",
       "                      max_samples=None, min_impurity_decrease=0.0,\n",
       "                      min_impurity_split=None, min_samples_leaf=1,\n",
       "                      min_samples_split=0.001, min_weight_fraction_leaf=0.01,\n",
       "                      n_estimators=10, n_jobs=None, oob_score=False,\n",
       "                      random_state=999, verbose=0, warm_start=False)"
      ]
     },
     "execution_count": 19,
     "metadata": {},
     "output_type": "execute_result"
    }
   ],
   "source": [
    "model_PMI3_allMetab_meta_general"
   ]
  },
  {
   "cell_type": "markdown",
   "metadata": {},
   "source": [
    "## Recursive Feature Elimination "
   ]
  },
  {
   "cell_type": "markdown",
   "metadata": {},
   "source": [
    "### Uses the best estimator from the above model and performs 5% removal recursive steps"
   ]
  },
  {
   "cell_type": "code",
   "execution_count": 20,
   "metadata": {},
   "outputs": [],
   "source": [
    "rfecv = RFECV(estimator=model_PMI3_allMetab_meta_general, step=0.05, cv=list(gkf.split(X_train, y_train, groups)), scoring='neg_mean_absolute_error', n_jobs=-3)"
   ]
  },
  {
   "cell_type": "code",
   "execution_count": 21,
   "metadata": {},
   "outputs": [
    {
     "data": {
      "text/plain": [
       "RFECV(cv=[(array([  0,   1,   2,   3,   4,   5,   6,   7,   8,   9,  10,  11,  12,\n",
       "        13,  14,  15,  16,  17,  18,  19,  20,  21,  22,  23,  24,  25,\n",
       "        26,  27,  28,  29,  30,  31,  32,  33,  34,  35,  36,  37,  38,\n",
       "        39,  40,  41,  42,  43,  44,  45,  57,  58,  59,  60,  61,  62,\n",
       "        63,  64,  65,  66,  67,  68,  69,  70,  71,  72,  73,  74,  75,\n",
       "        76,  77,  78,  79,  80,  81,  82,  83,  84,  85,  94,  95,  96,\n",
       "        97,  98,  99, 100, 101, 102, 108, 109, 110, 111, 112, 113, 114,\n",
       "       115, 116, 117, 118, 119, 120, 121, 122, 123, 124, 125, 126, 127,\n",
       "       128, 129...\n",
       "                                      max_features=0.1, max_leaf_nodes=None,\n",
       "                                      max_samples=None,\n",
       "                                      min_impurity_decrease=0.0,\n",
       "                                      min_impurity_split=None,\n",
       "                                      min_samples_leaf=1,\n",
       "                                      min_samples_split=0.001,\n",
       "                                      min_weight_fraction_leaf=0.01,\n",
       "                                      n_estimators=10, n_jobs=None,\n",
       "                                      oob_score=False, random_state=999,\n",
       "                                      verbose=0, warm_start=False),\n",
       "      min_features_to_select=1, n_jobs=-3, scoring='neg_mean_absolute_error',\n",
       "      step=0.05, verbose=0)"
      ]
     },
     "execution_count": 21,
     "metadata": {},
     "output_type": "execute_result"
    }
   ],
   "source": [
    "# Likely need to run on Summit\n",
    "rfecv.fit(X_train, y_train)"
   ]
  },
  {
   "cell_type": "code",
   "execution_count": 20,
   "metadata": {},
   "outputs": [
    {
     "name": "stdout",
     "output_type": "stream",
     "text": [
      "Number of steps performed: 22\n",
      "Optimal number of features : 2871\n",
      "The best mean absolute error is: 77\n"
     ]
    }
   ],
   "source": [
    "print(\"Number of steps performed: %d\" % len(rfecv.grid_scores_))\n",
    "print(\"Optimal number of features : %d\" % rfecv.n_features_)\n",
    "print(\"The best mean absolute error is: %d\" % -(max(rfecv.grid_scores_)))"
   ]
  },
  {
   "cell_type": "code",
   "execution_count": 21,
   "metadata": {},
   "outputs": [
    {
     "data": {
      "image/png": "[encoded data removed]",
      "text/plain": [
       "<Figure size 576x360 with 1 Axes>"
      ]
     },
     "metadata": {
      "needs_background": "light"
     },
     "output_type": "display_data"
    }
   ],
   "source": [
    "# Plot number of features VS. cross-validation scores\n",
    "plt.figure(figsize=(8,5))\n",
    "plt.title('Recursive Feature Elimination with Cross-Validation', fontsize=14, fontweight='bold', pad=20)\n",
    "plt.xlabel(\"Number of Steps (5% of features added per step)\")\n",
    "plt.ylabel(\"Cross Validation Score (Mean Absolute Error)\")\n",
    "plt.plot(range(1, len(rfecv.grid_scores_) + 1), rfecv.grid_scores_, linewidth=2)\n",
    "plt.savefig('figures/general_model_meta_rfecv.png')"
   ]
  },
  {
   "cell_type": "code",
   "execution_count": 22,
   "metadata": {},
   "outputs": [
    {
     "data": {
      "text/plain": [
       "RandomForestRegressor(bootstrap=False, criterion='mae', max_depth=8,\n",
       "           max_features=0.1, max_leaf_nodes=None,\n",
       "           min_impurity_decrease=0.0, min_impurity_split=None,\n",
       "           min_samples_leaf=1, min_samples_split=0.001,\n",
       "           min_weight_fraction_leaf=0.01, n_estimators=10, n_jobs=1,\n",
       "           oob_score=False, random_state=999, verbose=0, warm_start=False)"
      ]
     },
     "execution_count": 22,
     "metadata": {},
     "output_type": "execute_result"
    }
   ],
   "source": [
    "# Saves the estimator fit on the reduced dataset (i.e. the model created from optimal features)\n",
    "joblib.dump(rfecv.estimator_, 'models/PMI3_allMetab_meta_general_rfecv.pkl')\n",
    "model_PMI3_allMetab_meta_general_rfecv = joblib.load('models/PMI3_allMetab_meta_general_rfecv.pkl')\n",
    "model_PMI3_allMetab_meta_general_rfecv"
   ]
  },
  {
   "cell_type": "markdown",
   "metadata": {},
   "source": [
    "### Determine important features after RFECV"
   ]
  },
  {
   "cell_type": "code",
   "execution_count": 23,
   "metadata": {},
   "outputs": [
    {
     "name": "stdout",
     "output_type": "stream",
     "text": [
      "Feature:\t\t\t\tImportance:\n",
      "1. X282.27712487174_7.23317913752913\t0.10361088637390861\n",
      "2. X300.288733742453_4.75564670033669\t0.06653575109405432\n",
      "3. X270.278182922606_7.326998937583\t0.04914929349304647\n",
      "4. X269.210000802471_5.71957425343018\t0.04734332241490429\n",
      "5. X326.340475453795_8.1965404290429\t0.04592491101614339\n",
      "6. X338.340824997771_8.0974091286307\t0.039672071016086004\n",
      "7. X283.261846131269_6.46965379294957\t0.03498607931690756\n",
      "8. X265.251786739268_6.47317440898345\t0.032267650340121676\n",
      "9. X296.293165677331_7.47388266068758\t0.029759624850633642\n",
      "10. facility=SHSU\t0.0273679950487943\n",
      "11. X336.324589233398_6.68424266666666\t0.02370124834115355\n",
      "12. X283.262279643568_7.70306372739017\t0.019242005811699943\n",
      "13. X255.231118649466_7.12408511166254\t0.01876104562919958\n",
      "14. X256.262006528934_7.07576439121756\t0.017168341651793425\n",
      "15. X247.16604482941_9.94318677098151\t0.011946484552233818\n",
      "16. X305.24440751779_7.72425823878984\t0.010736602258679903\n",
      "17. X237.220427340176_7.13047029360967\t0.010437539529621499\n",
      "18. X401.338991000014_8.13704111956867\t0.010433464402238316\n",
      "19. X338.340748569973_8.40681924398625\t0.008940333894574404\n",
      "20. X509.403101166333_6.73130468643489\t0.008303949215795909\n",
      "21. X281.246612658867_7.30952552083333\t0.008274227287023442\n",
      "22. X463.376602390834_7.86498142857142\t0.008046996226733806\n",
      "23. X305.156523855108_2.09515087719298\t0.007980943557769219\n",
      "24. avg_percent_humidity\t0.007367612663594784\n",
      "25. X277.213423203688_7.13919135897436\t0.007334361472103898\n"
     ]
    }
   ],
   "source": [
    "importances = model_PMI3_allMetab_meta_general_rfecv.feature_importances_\n",
    "std = np.std([tree.feature_importances_ for tree in model_PMI3_allMetab_meta_general_rfecv.estimators_],\n",
    "             axis=0)\n",
    "indices = np.argsort(importances)[::-1]\n",
    "\n",
    "feature_metadata = allMetab_train_meta.feature_metadata\n",
    "np.savetxt(\"feature_metadata/general_all_feature_metadata_meta_rfecv.csv\", feature_metadata, delimiter=\",\", fmt='%s')\n",
    "\n",
    "\n",
    "#print the important ids in order\n",
    "general_importances = []\n",
    "count = 0\n",
    "print(\"Feature:\\t\\t\\t\\tImportance:\")\n",
    "for i in indices:\n",
    "    general_importances += (allMetab_train_meta.feature_metadata.index.values[i], importances[indices[count]])\n",
    "    if count < 25:\n",
    "        print(str(count+1)+\". \"+str(allMetab_train_meta.feature_metadata.index.values[i])+\"\\t\"+str(importances[indices[count]]))\n",
    "    count += 1"
   ]
  },
  {
   "cell_type": "code",
   "execution_count": 24,
   "metadata": {},
   "outputs": [
    {
     "name": "stdout",
     "output_type": "stream",
     "text": [
      "Number of features present: 2871\n"
     ]
    }
   ],
   "source": [
    "# make sure shape is right\n",
    "print(\"Number of features present:\", int(len(general_importances)/2))\n",
    "general_importances_df = pd.DataFrame(np.array(general_importances).reshape(int(len(general_importances)/2),2))\n",
    "\n",
    "np.savetxt(\"importances/general_all_importances_meta_rfecv.csv\", general_importances_df, delimiter=\",\", fmt='%s')"
   ]
  },
  {
   "cell_type": "code",
   "execution_count": 25,
   "metadata": {},
   "outputs": [],
   "source": [
    "# Removes the unimportant features from X\n",
    "# Will need to use this to remove unwanted features from validation set otherwise you get shape error\n",
    "# Though you shouldn't have to perform this on the training set, this is just an example\n",
    "# X_train = rfecv.transform(X_train)"
   ]
  },
  {
   "cell_type": "markdown",
   "metadata": {},
   "source": [
    "### Testing on validaiton set"
   ]
  },
  {
   "cell_type": "code",
   "execution_count": 26,
   "metadata": {
    "scrolled": true
   },
   "outputs": [
    {
     "name": "stdout",
     "output_type": "stream",
     "text": [
      "Mean Absolute Error: 67.31 ADD\n",
      "Coefficient of determination R^2 of the prediction: 0.59\n"
     ]
    },
    {
     "name": "stderr",
     "output_type": "stream",
     "text": [
      "/Users/Zach/miniconda3/envs/ml/lib/python3.7/site-packages/calour/training.py:130: FutureWarning: Sorting because non-concatenation axis is not aligned. A future version\n",
      "of pandas will change to not sort by default.\n",
      "\n",
      "To accept the future behavior, pass 'sort=False'.\n",
      "\n",
      "To retain the current behavior and silence the warning, pass 'sort=True'.\n",
      "\n",
      "  new.feature_metadata = pd.concat([pd.DataFrame(index=vec.get_feature_names()), new.feature_metadata])\n"
     ]
    }
   ],
   "source": [
    "allMetab_val_meta = allMetab_val.add_sample_metadata_as_features(['season','facility','sample_type','avg_percent_humidity','total_precipitation_cm'])\n",
    "\n",
    "X_val = rfecv.transform(allMetab_val_meta.data) #removing the unimportant features from X as determined by RFECV\n",
    "y_val = allMetab_val_meta.sample_metadata['add_0c']\n",
    "y_val = (y_val.astype(float))\n",
    "\n",
    "\n",
    "yhat = model_PMI3_allMetab_meta_general_rfecv.predict(X_val)\n",
    "\n",
    "# cross-model error (cross-experiment error)\n",
    "MAE = mean_absolute_error(y_val, yhat)\n",
    "print('Mean Absolute Error:', round(MAE, 2), 'ADD')\n",
    "# Print R2 score\n",
    "print('Coefficient of determination R^2 of the prediction:', round(model_PMI3_allMetab_meta_general_rfecv.score(X_val,y_val),2))"
   ]
  },
  {
   "cell_type": "code",
   "execution_count": 27,
   "metadata": {},
   "outputs": [
    {
     "data": {
      "image/png": "[encoded data removed]",
      "text/plain": [
       "<Figure size 432x288 with 1 Axes>"
      ]
     },
     "metadata": {
      "needs_background": "light"
     },
     "output_type": "display_data"
    }
   ],
   "source": [
    "plt.scatter(yhat, y_val, color = 'g')\n",
    "lower = np.min(np.concatenate([y_val, yhat]))\n",
    "upper = np.max(np.concatenate([y_val, yhat]))\n",
    "plt.plot([lower, upper], [lower, upper], color = 'black', lw = 2, ls = ':')\n",
    "plt.xlim(0,600)\n",
    "plt.ylim(0,600)\n",
    "\n",
    "#regression part\n",
    "slope, intercept, r_value, p_value, std_err = stats.linregress(yhat,y_val)\n",
    "line = slope*yhat+intercept\n",
    "plt.plot(yhat, line, color = 'black', lw = 2)\n",
    "\n",
    "plt.title('General Model(+metadata); MAE = %d; $R^2$ = %.2f' %(MAE,round(model_PMI3_allMetab_meta_general_rfecv.score(X_val,y_val),2)))\n",
    "plt.xlabel(\"Predicted ADD\")\n",
    "plt.ylabel(\"Actual ADD\")\n",
    "plt.savefig('figures/general_model_validation_meta.png')"
   ]
  },
  {
   "cell_type": "markdown",
   "metadata": {},
   "source": [
    "# General Model of All Facilites, Samples, and Season using ADD 0C as Response WITHOUT metadata"
   ]
  },
  {
   "cell_type": "code",
   "execution_count": 8,
   "metadata": {},
   "outputs": [],
   "source": [
    "gkf = GroupKFold(6)\n",
    "\n",
    "X_train = allMetab_train.data\n",
    "y_train = allMetab_train.sample_metadata['add_0c']\n",
    "y_train = (y_train.astype(float))\n",
    "\n",
    "groups = allMetab_train.sample_metadata['subjectID']\n",
    "\n",
    "# Tested this param grid on Summit to expand hyperparameter tuning\n",
    "#param_grid = {\"max_depth\": [4, 8, 16, None],\n",
    "#              \"max_features\": ['sqrt', 'log2', 0.1],\n",
    "#              \"min_samples_split\": [0.001, 0.01, 0.1],\n",
    "#              \"min_weight_fraction_leaf\": [0.0001, 0.001, 0.01],\n",
    "#              \"bootstrap\": [True, False]}\n",
    "# It provided this best model:\n",
    "\n",
    "# Takes too long to run on local computer; will need to run then import model from Summit\n",
    "param_grid = {\"max_depth\": [None],\n",
    "          \"max_features\": [0.1],\n",
    "          \"min_samples_split\": [0.001],\n",
    "          \"min_weight_fraction_leaf\": [0.01],\n",
    "          \"bootstrap\": [False]}\n",
    "rf = RandomForestRegressor(n_estimators=10, random_state=999, criterion='mae')\n",
    "gs = GridSearchCV(rf, param_grid=param_grid, cv=gkf.split(X_train, y_train, groups), scoring='neg_mean_absolute_error', n_jobs=-3)"
   ]
  },
  {
   "cell_type": "code",
   "execution_count": 9,
   "metadata": {
    "scrolled": true
   },
   "outputs": [
    {
     "data": {
      "text/plain": [
       "GridSearchCV(cv=<generator object _BaseKFold.split at 0x118319a20>,\n",
       "       error_score='raise',\n",
       "       estimator=RandomForestRegressor(bootstrap=True, criterion='mae', max_depth=None,\n",
       "           max_features='auto', max_leaf_nodes=None,\n",
       "           min_impurity_decrease=0.0, min_impurity_split=None,\n",
       "           min_samples_leaf=1, min_samples_split=2,\n",
       "           min_weight_fraction_leaf=0.0, n_estimators=10, n_jobs=1,\n",
       "           oob_score=False, random_state=999, verbose=0, warm_start=False),\n",
       "       fit_params=None, iid=True, n_jobs=-3,\n",
       "       param_grid={'max_depth': [8], 'max_features': [0.1], 'min_samples_split': [0.001], 'min_samples_leaf': [1], 'min_weight_fraction_leaf': [0.01], 'bootstrap': [False]},\n",
       "       pre_dispatch='2*n_jobs', refit=True, return_train_score='warn',\n",
       "       scoring='neg_mean_absolute_error', verbose=0)"
      ]
     },
     "execution_count": 9,
     "metadata": {},
     "output_type": "execute_result"
    }
   ],
   "source": [
    "gs.fit(X_train, y_train)"
   ]
  },
  {
   "cell_type": "code",
   "execution_count": null,
   "metadata": {},
   "outputs": [],
   "source": [
    "print(gs.best_params_)"
   ]
  },
  {
   "cell_type": "code",
   "execution_count": 10,
   "metadata": {},
   "outputs": [
    {
     "name": "stdout",
     "output_type": "stream",
     "text": [
      "The best mean absolute error is 80.0\n"
     ]
    }
   ],
   "source": [
    "print('The best mean absolute error is', round(-gs.best_score_,2))"
   ]
  },
  {
   "cell_type": "code",
   "execution_count": 11,
   "metadata": {},
   "outputs": [
    {
     "data": {
      "text/plain": [
       "['models/PMI3_allMetab_general.pkl']"
      ]
     },
     "execution_count": 11,
     "metadata": {},
     "output_type": "execute_result"
    }
   ],
   "source": [
    "joblib.dump(gs.best_estimator_, 'models/PMI3_allMetab_general.pkl')"
   ]
  },
  {
   "cell_type": "code",
   "execution_count": 12,
   "metadata": {},
   "outputs": [],
   "source": [
    "model_PMI3_allMetab_general = joblib.load('models/PMI3_allMetab_general.pkl')"
   ]
  },
  {
   "cell_type": "code",
   "execution_count": 13,
   "metadata": {
    "scrolled": true
   },
   "outputs": [
    {
     "data": {
      "text/plain": [
       "RandomForestRegressor(bootstrap=False, criterion='mae', max_depth=8,\n",
       "           max_features=0.1, max_leaf_nodes=None,\n",
       "           min_impurity_decrease=0.0, min_impurity_split=None,\n",
       "           min_samples_leaf=1, min_samples_split=0.001,\n",
       "           min_weight_fraction_leaf=0.01, n_estimators=10, n_jobs=1,\n",
       "           oob_score=False, random_state=999, verbose=0, warm_start=False)"
      ]
     },
     "execution_count": 13,
     "metadata": {},
     "output_type": "execute_result"
    }
   ],
   "source": [
    "model_PMI3_allMetab_general"
   ]
  },
  {
   "cell_type": "markdown",
   "metadata": {},
   "source": [
    "## Recursive Feature Elimination "
   ]
  },
  {
   "cell_type": "markdown",
   "metadata": {},
   "source": [
    "### Uses the best estimator from the above model and performs 5% removal recursive steps"
   ]
  },
  {
   "cell_type": "code",
   "execution_count": 14,
   "metadata": {},
   "outputs": [],
   "source": [
    "rfecv = RFECV(estimator=model_PMI3_allMetab_general, step=0.05, cv=list(gkf.split(X_train, y_train, groups)), scoring='neg_mean_absolute_error', n_jobs=-3)"
   ]
  },
  {
   "cell_type": "code",
   "execution_count": 15,
   "metadata": {},
   "outputs": [
    {
     "data": {
      "text/plain": [
       "RFECV(cv=[(array([  0,   1, ..., 987, 988]), array([ 46,  47, ..., 983, 989])), (array([  0,   1, ..., 988, 989]), array([150, 151, ..., 981, 982])), (array([  0,   1, ..., 988, 989]), array([ 94,  95, ..., 943, 944])), (array([  3,   4, ..., 988, 989]), array([  0,   1, ..., 968, 969])), (array([  0,   1, ..., 988, 989]), array([  3,   4, ..., 971, 972])), (array([  0,   1, ..., 983, 989]), array([ 39,  40, ..., 987, 988]))],\n",
       "   estimator=RandomForestRegressor(bootstrap=False, criterion='mae', max_depth=8,\n",
       "           max_features=0.1, max_leaf_nodes=None,\n",
       "           min_impurity_decrease=0.0, min_impurity_split=None,\n",
       "           min_samples_leaf=1, min_samples_split=0.001,\n",
       "           min_weight_fraction_leaf=0.01, n_estimators=10, n_jobs=1,\n",
       "           oob_score=False, random_state=999, verbose=0, warm_start=False),\n",
       "   n_jobs=-3, scoring='neg_mean_absolute_error', step=0.05, verbose=0)"
      ]
     },
     "execution_count": 15,
     "metadata": {},
     "output_type": "execute_result"
    }
   ],
   "source": [
    "rfecv.fit(X_train, y_train)"
   ]
  },
  {
   "cell_type": "code",
   "execution_count": 16,
   "metadata": {},
   "outputs": [
    {
     "name": "stdout",
     "output_type": "stream",
     "text": [
      "Number of steps performed: 21\n",
      "Optimal number of features : 2420\n",
      "The best mean absolute error is: 78\n"
     ]
    }
   ],
   "source": [
    "print(\"Number of steps performed: %d\" % len(rfecv.grid_scores_))\n",
    "print(\"Optimal number of features : %d\" % rfecv.n_features_)\n",
    "print(\"The best mean absolute error is: %d\" % -(max(rfecv.grid_scores_)))"
   ]
  },
  {
   "cell_type": "code",
   "execution_count": 17,
   "metadata": {},
   "outputs": [
    {
     "data": {
      "image/png": "[encoded data removed]",
      "text/plain": [
       "<Figure size 576x360 with 1 Axes>"
      ]
     },
     "metadata": {
      "needs_background": "light"
     },
     "output_type": "display_data"
    }
   ],
   "source": [
    "# Plot number of features VS. cross-validation scores\n",
    "plt.figure(figsize=(8,5))\n",
    "plt.title('Recursive Feature Elimination with Cross-Validation', fontsize=14, fontweight='bold', pad=20)\n",
    "plt.xlabel(\"Number of Steps (5% of features added per step)\")\n",
    "plt.ylabel(\"Cross Validation Score (Mean Absolute Error)\")\n",
    "plt.plot(range(1, len(rfecv.grid_scores_) + 1), rfecv.grid_scores_, linewidth=2)\n",
    "plt.savefig('figures/general_model_rfecv.png')"
   ]
  },
  {
   "cell_type": "code",
   "execution_count": 18,
   "metadata": {},
   "outputs": [
    {
     "data": {
      "text/plain": [
       "RandomForestRegressor(bootstrap=False, criterion='mae', max_depth=8,\n",
       "           max_features=0.1, max_leaf_nodes=None,\n",
       "           min_impurity_decrease=0.0, min_impurity_split=None,\n",
       "           min_samples_leaf=1, min_samples_split=0.001,\n",
       "           min_weight_fraction_leaf=0.01, n_estimators=10, n_jobs=1,\n",
       "           oob_score=False, random_state=999, verbose=0, warm_start=False)"
      ]
     },
     "execution_count": 18,
     "metadata": {},
     "output_type": "execute_result"
    }
   ],
   "source": [
    "# Saves the estimator fit on the reduced dataset (i.e. the model created from optimal features)\n",
    "joblib.dump(rfecv.estimator_, 'models/PMI3_allMetab_general_rfecv.pkl')\n",
    "model_PMI3_allMetab_general_rfecv = joblib.load('models/PMI3_allMetab_general_rfecv.pkl')\n",
    "model_PMI3_allMetab_general_rfecv"
   ]
  },
  {
   "cell_type": "markdown",
   "metadata": {},
   "source": [
    "### Determine important features after RFECV"
   ]
  },
  {
   "cell_type": "code",
   "execution_count": 19,
   "metadata": {},
   "outputs": [
    {
     "name": "stdout",
     "output_type": "stream",
     "text": [
      "Feature:\t\t\t\tImportance:\n",
      "1. X213.115272059585_2.94118661616161\t0.11750743821048326\n",
      "2. X334.095813463319_5.42592032232704\t0.08894096015548261\n",
      "3. X419.227672576904_3.86399479166666\t0.05812312528560448\n",
      "4. X221.145697021484_5.67329999999999\t0.045850667381322784\n",
      "5. X459.3229599577_8.07149021464647\t0.04330996908755763\n",
      "6. X369.296479637943_7.37038362354892\t0.03620440851085052\n",
      "7. X296.229463546671_5.25633057040998\t0.035114209450629603\n",
      "8. X802.587084562882_7.45415217391304\t0.02694743176875176\n",
      "9. X316.276614849384_4.32454487179487\t0.02559433885682496\n",
      "10. X149.059870661859_0.832815579710144\t0.023531497066283175\n",
      "11. X316.281931260052_3.67623235294117\t0.021469614607920816\n",
      "12. X352.356264209747_8.29605718749999\t0.01893581436647803\n",
      "13. X291.194414991013_5.24763838652482\t0.016981892240120207\n",
      "14. X341.162951789233_3.1995366062437\t0.01447846784621401\n",
      "15. X293.209694592406_5.62261263632052\t0.009817453448663966\n",
      "16. X334.230275934392_5.62032727272727\t0.007977991063184461\n",
      "17. X299.16323799465_3.48174869565217\t0.007702241077754328\n",
      "18. X675.536885331316_9.48786869918699\t0.006840456997583219\n",
      "19. X702.325941543233_6.1352611010558\t0.0066194281903904344\n",
      "20. X212.142776489257_6.34480833333333\t0.00640062118792758\n",
      "21. X247.150400663677_3.48828972431077\t0.006374432708227043\n",
      "22. X261.109658767927_9.90742960199005\t0.006180344159791381\n",
      "23. X536.164774576822_9.58509888888888\t0.006131862588560543\n",
      "24. X277.180388998478_4.76392752659574\t0.0059332177064188585\n",
      "25. X565.517636027714_7.72472345775013\t0.005704401806393731\n"
     ]
    }
   ],
   "source": [
    "importances = model_PMI3_allMetab_general_rfecv.feature_importances_\n",
    "std = np.std([tree.feature_importances_ for tree in model_PMI3_allMetab_general_rfecv.estimators_],\n",
    "             axis=0)\n",
    "indices = np.argsort(importances)[::-1]\n",
    "\n",
    "feature_metadata = allMetab_train.feature_metadata\n",
    "np.savetxt(\"feature_metadata/general_all_feature_metadata_rfecv.csv\", feature_metadata, delimiter=\",\", fmt='%s')\n",
    "\n",
    "\n",
    "#print the important ids in order\n",
    "general_importances = []\n",
    "count = 0\n",
    "print(\"Feature:\\t\\t\\t\\tImportance:\")\n",
    "for i in indices:\n",
    "    general_importances += (allMetab_train.feature_metadata.index.values[i], importances[indices[count]])\n",
    "    if count < 25:\n",
    "        print(str(count+1)+\". \"+str(allMetab_train.feature_metadata.index.values[i])+\"\\t\"+str(importances[indices[count]]))\n",
    "    count += 1"
   ]
  },
  {
   "cell_type": "code",
   "execution_count": 20,
   "metadata": {},
   "outputs": [
    {
     "name": "stdout",
     "output_type": "stream",
     "text": [
      "Number of features present: 2420\n"
     ]
    }
   ],
   "source": [
    "# make sure shape is right\n",
    "print(\"Number of features present:\", int(len(general_importances)/2))\n",
    "general_importances_df = pd.DataFrame(np.array(general_importances).reshape(int(len(general_importances)/2),2))\n",
    "\n",
    "np.savetxt(\"importances/general_all_importances_rfecv.csv\", general_importances_df, delimiter=\",\", fmt='%s')"
   ]
  },
  {
   "cell_type": "markdown",
   "metadata": {},
   "source": [
    "### Testing on validaiton set"
   ]
  },
  {
   "cell_type": "code",
   "execution_count": 21,
   "metadata": {
    "scrolled": true
   },
   "outputs": [
    {
     "name": "stdout",
     "output_type": "stream",
     "text": [
      "Mean Absolute Error: 69.09 ADD\n",
      "Coefficient of determination R^2 of the prediction: 0.57\n"
     ]
    }
   ],
   "source": [
    "X_val = rfecv.transform(allMetab_val.data) #removing the unimportant features from X as determined by RFECV\n",
    "y_val = allMetab_val.sample_metadata['add_0c']\n",
    "y_val = (y_val.astype(float))\n",
    "\n",
    "\n",
    "yhat = model_PMI3_allMetab_general_rfecv.predict(X_val)\n",
    "\n",
    "# cross-model error (cross-experiment error)\n",
    "MAE = mean_absolute_error(y_val, yhat)\n",
    "print('Mean Absolute Error:', round(MAE, 2), 'ADD')\n",
    "# Print R2 score\n",
    "print('Coefficient of determination R^2 of the prediction:', round(model_PMI3_allMetab_general_rfecv.score(X_val,y_val),2))"
   ]
  },
  {
   "cell_type": "code",
   "execution_count": 22,
   "metadata": {},
   "outputs": [
    {
     "data": {
      "image/png": "[encoded data removed]",
      "text/plain": [
       "<Figure size 432x288 with 1 Axes>"
      ]
     },
     "metadata": {
      "needs_background": "light"
     },
     "output_type": "display_data"
    }
   ],
   "source": [
    "plt.scatter(yhat, y_val, color = 'g')\n",
    "lower = np.min(np.concatenate([y_val, yhat]))\n",
    "upper = np.max(np.concatenate([y_val, yhat]))\n",
    "plt.plot([lower, upper], [lower, upper], color = 'black', lw = 2, ls = ':')\n",
    "plt.xlim(0,600)\n",
    "plt.ylim(0,600)\n",
    "\n",
    "#regression part\n",
    "slope, intercept, r_value, p_value, std_err = stats.linregress(yhat,y_val)\n",
    "line = slope*yhat+intercept\n",
    "plt.plot(yhat, line, color = 'black', lw = 2)\n",
    "\n",
    "plt.title('General Model(+metadata); MAE = %d; $R^2$ = %.2f' %(MAE,round(model_PMI3_allMetab_general_rfecv.score(X_val,y_val),2)))\n",
    "plt.xlabel(\"Predicted ADD\")\n",
    "plt.ylabel(\"Actual ADD\")\n",
    "plt.savefig('figures/general_model_validation.png')"
   ]
  }
 ],
 "metadata": {
  "kernelspec": {
   "display_name": "Python 3",
   "language": "python",
   "name": "python3"
  },
  "language_info": {
   "codemirror_mode": {
    "name": "ipython",
    "version": 3
   },
   "file_extension": ".py",
   "mimetype": "text/x-python",
   "name": "python",
   "nbconvert_exporter": "python",
   "pygments_lexer": "ipython3",
   "version": "3.7.7"
  }
 },
 "nbformat": 4,
 "nbformat_minor": 2
}
