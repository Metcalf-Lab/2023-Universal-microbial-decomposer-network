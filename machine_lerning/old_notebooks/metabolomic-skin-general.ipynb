{
 "cells": [
  {
   "cell_type": "code",
   "execution_count": 1,
   "metadata": {
    "scrolled": true
   },
   "outputs": [
    {
     "name": "stderr",
     "output_type": "stream",
     "text": [
      "/Users/Zach/miniconda3/envs/ml_22.2/lib/python3.7/site-packages/sklearn/externals/joblib/__init__.py:15: FutureWarning: sklearn.externals.joblib is deprecated in 0.21 and will be removed in 0.23. Please import this functionality directly from joblib, which can be installed with: pip install joblib. If this warning is raised when loading pickled models, you may need to re-serialize those models with scikit-learn 0.21+.\n",
      "  warnings.warn(msg, category=FutureWarning)\n"
     ]
    }
   ],
   "source": [
    "from sklearn.ensemble import RandomForestRegressor\n",
    "from sklearn import preprocessing, svm, metrics\n",
    "from sklearn.ensemble import RandomForestClassifier, ExtraTreesClassifier\n",
    "from sklearn.model_selection import StratifiedKFold, KFold, GridSearchCV, GroupKFold, cross_val_score, train_test_split\n",
    "from sklearn.pipeline import Pipeline\n",
    "from sklearn.svm import LinearSVC, SVR\n",
    "from sklearn.metrics import r2_score, mean_squared_error, mean_absolute_error, mean_absolute_error, roc_auc_score, precision_score, make_scorer, accuracy_score\n",
    "from sklearn.linear_model import LassoCV, Lasso, LassoLarsIC, ElasticNet, LassoLarsCV\n",
    "from sklearn.externals import joblib\n",
    "from scipy.stats import randint as sp_randint\n",
    "from matplotlib import pyplot as plt\n",
    "from sklearn.feature_selection import RFECV\n",
    "from sklearn.gaussian_process import GaussianProcessClassifier\n",
    "from sklearn.gaussian_process.kernels import RBF\n",
    "from sklearn.neighbors import KNeighborsClassifier, RadiusNeighborsClassifier"
   ]
  },
  {
   "cell_type": "code",
   "execution_count": 2,
   "metadata": {},
   "outputs": [
    {
     "name": "stderr",
     "output_type": "stream",
     "text": [
      "/Users/Zach/miniconda3/envs/ml_22.2/lib/python3.7/site-packages/skbio/util/_testing.py:15: FutureWarning: pandas.util.testing is deprecated. Use the functions in the public API at pandas.testing instead.\n",
      "  import pandas.util.testing as pdt\n"
     ]
    }
   ],
   "source": [
    "import pandas as pd\n",
    "import numpy as np\n",
    "import matplotlib\n",
    "import seaborn as sns\n",
    "%matplotlib inline\n",
    "import biom\n",
    "import calour as ca\n",
    "from scipy import stats\n",
    "import scipy\n",
    "import pickle\n",
    "import time\n",
    "import math\n",
    "pd.set_option('display.max_rows', 10000)"
   ]
  },
  {
   "cell_type": "markdown",
   "metadata": {},
   "source": [
    "# Importing data, no TSS normalization performed here"
   ]
  },
  {
   "cell_type": "code",
   "execution_count": 3,
   "metadata": {
    "scrolled": false
   },
   "outputs": [],
   "source": [
    "allMetab = ca.read_amplicon('PMI_MS1_FeatureTable_Normalized.biom','pmi3_metab_meta.txt', min_reads=1, normalize = None)"
   ]
  },
  {
   "cell_type": "markdown",
   "metadata": {},
   "source": [
    "## Remove controls and samples that grouped with controls on PCoA"
   ]
  },
  {
   "cell_type": "code",
   "execution_count": 4,
   "metadata": {
    "scrolled": true
   },
   "outputs": [
    {
     "data": {
      "text/plain": [
       "skin.hip    746\n",
       "soil.hip    744\n",
       "Name: description, dtype: int64"
      ]
     },
     "execution_count": 4,
     "metadata": {},
     "output_type": "execute_result"
    }
   ],
   "source": [
    "allMetab = allMetab.filter_samples('control', 'n')\n",
    "allMetab = allMetab.filter_samples('pcoa_removals', 'n')\n",
    "allMetab.sample_metadata.description.value_counts()"
   ]
  },
  {
   "cell_type": "markdown",
   "metadata": {},
   "source": [
    "## Seperate general model validation bodies and training bodies"
   ]
  },
  {
   "cell_type": "code",
   "execution_count": 5,
   "metadata": {},
   "outputs": [],
   "source": [
    "allMetab_train = allMetab.filter_samples('validation_set', 'n')\n",
    "allMetab_val = allMetab.filter_samples('validation_set', 'y')"
   ]
  },
  {
   "cell_type": "code",
   "execution_count": 6,
   "metadata": {},
   "outputs": [
    {
     "data": {
      "text/plain": [
       "skin.hip    497\n",
       "soil.hip    493\n",
       "Name: description, dtype: int64"
      ]
     },
     "execution_count": 6,
     "metadata": {},
     "output_type": "execute_result"
    }
   ],
   "source": [
    "allMetab_train.sample_metadata.description.value_counts()"
   ]
  },
  {
   "cell_type": "code",
   "execution_count": 7,
   "metadata": {},
   "outputs": [
    {
     "data": {
      "text/plain": [
       "soil.hip    251\n",
       "skin.hip    249\n",
       "Name: description, dtype: int64"
      ]
     },
     "execution_count": 7,
     "metadata": {},
     "output_type": "execute_result"
    }
   ],
   "source": [
    "allMetab_val.sample_metadata.description.value_counts()"
   ]
  },
  {
   "cell_type": "code",
   "execution_count": 8,
   "metadata": {},
   "outputs": [],
   "source": [
    "#allMetab.sample_metadata.columns"
   ]
  },
  {
   "cell_type": "code",
   "execution_count": 9,
   "metadata": {},
   "outputs": [],
   "source": [
    "#dir(allMetab)"
   ]
  },
  {
   "cell_type": "code",
   "execution_count": 10,
   "metadata": {},
   "outputs": [],
   "source": [
    "#print(allMetab.feature_metadata)"
   ]
  },
  {
   "cell_type": "markdown",
   "metadata": {},
   "source": [
    "# Split by sampling location (soil v. skin)"
   ]
  },
  {
   "cell_type": "markdown",
   "metadata": {},
   "source": [
    "## Skin sample filtering"
   ]
  },
  {
   "cell_type": "code",
   "execution_count": 11,
   "metadata": {},
   "outputs": [
    {
     "data": {
      "text/plain": [
       "skin    746\n",
       "Name: sample_type, dtype: int64"
      ]
     },
     "execution_count": 11,
     "metadata": {},
     "output_type": "execute_result"
    }
   ],
   "source": [
    "allMetab_skin = allMetab.filter_samples('sample_type', 'skin')\n",
    "allMetab_skin.sample_metadata.sample_type.value_counts()"
   ]
  },
  {
   "cell_type": "code",
   "execution_count": 12,
   "metadata": {
    "scrolled": true
   },
   "outputs": [
    {
     "data": {
      "text/plain": [
       "skin    497\n",
       "Name: sample_type, dtype: int64"
      ]
     },
     "execution_count": 12,
     "metadata": {},
     "output_type": "execute_result"
    }
   ],
   "source": [
    "Metab_train_skin = allMetab_train.filter_samples('sample_type', 'skin')\n",
    "Metab_train_skin.sample_metadata.sample_type.value_counts()"
   ]
  },
  {
   "cell_type": "code",
   "execution_count": 13,
   "metadata": {
    "scrolled": false
   },
   "outputs": [
    {
     "data": {
      "text/plain": [
       "skin    249\n",
       "Name: sample_type, dtype: int64"
      ]
     },
     "execution_count": 13,
     "metadata": {},
     "output_type": "execute_result"
    }
   ],
   "source": [
    "Metab_val_skin = allMetab_val.filter_samples('sample_type', 'skin')\n",
    "Metab_val_skin.sample_metadata.sample_type.value_counts()"
   ]
  },
  {
   "cell_type": "markdown",
   "metadata": {},
   "source": [
    "# Skin General Model of Facilities and Season using ADD 0C as Response and Adding Metadata"
   ]
  },
  {
   "cell_type": "code",
   "execution_count": 14,
   "metadata": {},
   "outputs": [],
   "source": [
    "Metab_train_skin_meta = Metab_train_skin.add_sample_metadata_as_features(['season','facility','avg_percent_humidity','total_precipitation_cm'])\n",
    "\n",
    "#print(Metab_train_skin_meta.feature_metadata)"
   ]
  },
  {
   "cell_type": "code",
   "execution_count": 21,
   "metadata": {},
   "outputs": [],
   "source": [
    "gkf = GroupKFold(6)\n",
    "\n",
    "X_train = Metab_train_skin_meta.data\n",
    "y_train = Metab_train_skin_meta.sample_metadata['add_0c']\n",
    "y_train = (y_train.astype(float))\n",
    "groups = Metab_train_skin_meta.sample_metadata['subjectID']\n",
    "# Tested this param grid on Summit to expand hyperparameter tuning\n",
    "#param_grid = {\"max_depth\": [4, 8, 16, None],\n",
    "#              \"max_features\": ['sqrt', 'log2', 0.1],\n",
    "#              \"min_samples_split\": [0.001, 0.01, 0.1],\n",
    "#              \"min_weight_fraction_leaf\": [0.0001, 0.001, 0.01],\n",
    "#              \"bootstrap\": [True, False]}\n",
    "# It provided this best model:\n",
    "# Takes too long to run on local computer; will need to run then import model from Summit\n",
    "\n",
    "param_grid = {\"max_depth\": [None],\n",
    "          \"max_features\": [0.1],\n",
    "          \"min_samples_split\": [0.001],\n",
    "          \"min_weight_fraction_leaf\": [0.01],\n",
    "          \"bootstrap\": [False]}\n",
    "rf = RandomForestRegressor(n_estimators=10, random_state=999, criterion='mae')\n",
    "gs = GridSearchCV(rf, param_grid=param_grid, cv=gkf.split(X_train, y_train, groups), scoring='r2', n_jobs=1)"
   ]
  },
  {
   "cell_type": "code",
   "execution_count": 22,
   "metadata": {},
   "outputs": [
    {
     "data": {
      "text/plain": [
       "GridSearchCV(cv=<generator object _BaseKFold.split at 0x125a52c50>,\n",
       "             error_score=nan,\n",
       "             estimator=RandomForestRegressor(bootstrap=True, ccp_alpha=0.0,\n",
       "                                             criterion='mae', max_depth=None,\n",
       "                                             max_features='auto',\n",
       "                                             max_leaf_nodes=None,\n",
       "                                             max_samples=None,\n",
       "                                             min_impurity_decrease=0.0,\n",
       "                                             min_impurity_split=None,\n",
       "                                             min_samples_leaf=1,\n",
       "                                             min_samples_split=2,\n",
       "                                             min_weight_fraction_leaf=0.0,\n",
       "                                             n_estimators=10, n_jobs=None,\n",
       "                                             oob_score=False, random_state=999,\n",
       "                                             verbose=0, warm_start=False),\n",
       "             iid='deprecated', n_jobs=1,\n",
       "             param_grid={'bootstrap': [False], 'max_depth': [None],\n",
       "                         'max_features': [0.1], 'min_samples_split': [0.001],\n",
       "                         'min_weight_fraction_leaf': [0.01]},\n",
       "             pre_dispatch='2*n_jobs', refit=True, return_train_score=False,\n",
       "             scoring='r2', verbose=0)"
      ]
     },
     "execution_count": 22,
     "metadata": {},
     "output_type": "execute_result"
    }
   ],
   "source": [
    "gs.fit(X_train, y_train)"
   ]
  },
  {
   "cell_type": "code",
   "execution_count": 23,
   "metadata": {},
   "outputs": [
    {
     "name": "stdout",
     "output_type": "stream",
     "text": [
      "{'bootstrap': False, 'max_depth': None, 'max_features': 0.1, 'min_samples_split': 0.001, 'min_weight_fraction_leaf': 0.01}\n"
     ]
    }
   ],
   "source": [
    "print(gs.best_params_)"
   ]
  },
  {
   "cell_type": "code",
   "execution_count": 24,
   "metadata": {},
   "outputs": [
    {
     "name": "stdout",
     "output_type": "stream",
     "text": [
      "The best mean error rate is -0.48\n"
     ]
    }
   ],
   "source": [
    "print('The best mean error rate is', round(-gs.best_score_,2))\n",
    "\n",
    "#with open('skin_model_errors.txt', 'a') as out:\n",
    "#    out.write('model\\tmae\\tr2_score\\n')\n",
    "#    out.write('general_skin_train_meta\\t'+str(round(-gs.best_score_,2))+'\\n')\n",
    "\n",
    "#out.close"
   ]
  },
  {
   "cell_type": "code",
   "execution_count": 17,
   "metadata": {},
   "outputs": [
    {
     "data": {
      "text/plain": [
       "['models/PMI3_Metab_skin_meta_general.pkl']"
      ]
     },
     "execution_count": 17,
     "metadata": {},
     "output_type": "execute_result"
    }
   ],
   "source": [
    "joblib.dump(gs.best_estimator_, 'models/PMI3_Metab_skin_meta_general.pkl')"
   ]
  },
  {
   "cell_type": "code",
   "execution_count": 15,
   "metadata": {},
   "outputs": [],
   "source": [
    "model_Metab_skin_meta = joblib.load('models/PMI3_Metab_skin_meta_general.pkl')"
   ]
  },
  {
   "cell_type": "code",
   "execution_count": 16,
   "metadata": {
    "scrolled": false
   },
   "outputs": [
    {
     "data": {
      "text/plain": [
       "RandomForestRegressor(bootstrap=False, criterion='mae', max_depth=None,\n",
       "           max_features=0.1, max_leaf_nodes=None,\n",
       "           min_impurity_decrease=0.0, min_impurity_split=None,\n",
       "           min_samples_leaf=1, min_samples_split=0.001,\n",
       "           min_weight_fraction_leaf=0.01, n_estimators=1000, n_jobs=1,\n",
       "           oob_score=False, random_state=999, verbose=0, warm_start=False)"
      ]
     },
     "execution_count": 16,
     "metadata": {},
     "output_type": "execute_result"
    }
   ],
   "source": [
    "model_Metab_skin_meta"
   ]
  },
  {
   "cell_type": "markdown",
   "metadata": {},
   "source": [
    "## Recursive Feature Elimination "
   ]
  },
  {
   "cell_type": "markdown",
   "metadata": {},
   "source": [
    "### Uses the best estimator from the above model and performs 5% removal recursive steps"
   ]
  },
  {
   "cell_type": "code",
   "execution_count": 18,
   "metadata": {},
   "outputs": [],
   "source": [
    "rfecv = RFECV(estimator=model_Metab_skin_meta, step=0.05, cv=list(gkf.split(X_train, y_train, groups)), scoring='neg_mean_absolute_error', n_jobs=1)"
   ]
  },
  {
   "cell_type": "code",
   "execution_count": 21,
   "metadata": {},
   "outputs": [
    {
     "data": {
      "text/plain": [
       "RFECV(cv=[(array([  0,   1, ..., 494, 495]), array([ 46,  47, ..., 486, 496])), (array([  0,   1, ..., 495, 496]), array([ 39,  40, ..., 481, 482])), (array([  0,   1, ..., 495, 496]), array([ 92,  93, ..., 451, 490])), (array([  3,   4, ..., 495, 496]), array([  0,   1, ..., 476, 487])), (array([  0,   1, ..., 495, 496]), array([  3,   4, ..., 488, 489])), (array([  0,   1, ..., 490, 496]), array([106, 107, ..., 494, 495]))],\n",
       "   estimator=RandomForestRegressor(bootstrap=False, criterion='mae', max_depth=8,\n",
       "           max_features=0.1, max_leaf_nodes=None,\n",
       "           min_impurity_decrease=0.0, min_impurity_split=None,\n",
       "           min_samples_leaf=1, min_samples_split=0.001,\n",
       "           min_weight_fraction_leaf=0.01, n_estimators=10, n_jobs=1,\n",
       "           oob_score=False, random_state=999, verbose=0, warm_start=False),\n",
       "   n_jobs=1, scoring='neg_mean_absolute_error', step=0.05, verbose=0)"
      ]
     },
     "execution_count": 21,
     "metadata": {},
     "output_type": "execute_result"
    }
   ],
   "source": [
    "# Likely need to run on Summit\n",
    "rfecv.fit(X_train, y_train)"
   ]
  },
  {
   "cell_type": "code",
   "execution_count": 22,
   "metadata": {},
   "outputs": [
    {
     "name": "stdout",
     "output_type": "stream",
     "text": [
      "Number of steps performed: 22\n",
      "Optimal number of features : 669\n",
      "The best mean absolute error is: 69\n"
     ]
    }
   ],
   "source": [
    "print(\"Number of steps performed: %d\" % len(rfecv.grid_scores_))\n",
    "print(\"Optimal number of features : %d\" % rfecv.n_features_)\n",
    "print(\"The best mean absolute error is: %d\" % -(max(rfecv.grid_scores_)))"
   ]
  },
  {
   "cell_type": "code",
   "execution_count": 23,
   "metadata": {},
   "outputs": [
    {
     "data": {
      "image/png": "[encoded data removed]",
      "text/plain": [
       "<Figure size 576x360 with 1 Axes>"
      ]
     },
     "metadata": {
      "needs_background": "light"
     },
     "output_type": "display_data"
    }
   ],
   "source": [
    "# Plot number of features VS. cross-validation scores\n",
    "plt.figure(figsize=(8,5))\n",
    "plt.title('Recursive Feature Elimination with Cross-Validation', fontsize=14, fontweight='bold', pad=20)\n",
    "plt.xlabel(\"Number of Steps (5% of features added per step)\")\n",
    "plt.ylabel(\"Cross Validation Score (Mean Absolute Error)\")\n",
    "plt.plot(range(1, len(rfecv.grid_scores_) + 1), rfecv.grid_scores_, linewidth=2)\n",
    "plt.savefig('figures/general_skin_model_meta_rfecv.png')"
   ]
  },
  {
   "cell_type": "code",
   "execution_count": null,
   "metadata": {},
   "outputs": [],
   "source": [
    "# Saves the estimator fit on the reduced dataset (i.e. the model created from optimal features)\n",
    "joblib.dump(rfecv.estimator_, 'models/PMI3_Metab_skin_meta_general_rfecv.pkl')"
   ]
  },
  {
   "cell_type": "code",
   "execution_count": 19,
   "metadata": {},
   "outputs": [
    {
     "ename": "AttributeError",
     "evalue": "'RFECV' object has no attribute 'estimator_'",
     "output_type": "error",
     "traceback": [
      "\u001b[0;31m---------------------------------------------------------------------------\u001b[0m",
      "\u001b[0;31mAttributeError\u001b[0m                            Traceback (most recent call last)",
      "\u001b[0;32m<ipython-input-19-c66dc4307550>\u001b[0m in \u001b[0;36m<module>\u001b[0;34m\u001b[0m\n\u001b[1;32m      1\u001b[0m \u001b[0;31m# Saves the estimator fit on the reduced dataset (i.e. the model created from optimal features)\u001b[0m\u001b[0;34m\u001b[0m\u001b[0;34m\u001b[0m\u001b[0;34m\u001b[0m\u001b[0m\n\u001b[0;32m----> 2\u001b[0;31m \u001b[0mjoblib\u001b[0m\u001b[0;34m.\u001b[0m\u001b[0mdump\u001b[0m\u001b[0;34m(\u001b[0m\u001b[0mrfecv\u001b[0m\u001b[0;34m.\u001b[0m\u001b[0mestimator_\u001b[0m\u001b[0;34m,\u001b[0m \u001b[0;34m'models/PMI3_Metab_skin_meta_general_rfecv.pkl'\u001b[0m\u001b[0;34m)\u001b[0m\u001b[0;34m\u001b[0m\u001b[0;34m\u001b[0m\u001b[0m\n\u001b[0m\u001b[1;32m      3\u001b[0m \u001b[0mmodel_Metab_skin_meta_rfecv\u001b[0m \u001b[0;34m=\u001b[0m \u001b[0mjoblib\u001b[0m\u001b[0;34m.\u001b[0m\u001b[0mload\u001b[0m\u001b[0;34m(\u001b[0m\u001b[0;34m'models/PMI3_Metab_skin_meta_general_rfecv.pkl'\u001b[0m\u001b[0;34m)\u001b[0m\u001b[0;34m\u001b[0m\u001b[0;34m\u001b[0m\u001b[0m\n\u001b[1;32m      4\u001b[0m \u001b[0mmodel_Metab_skin_meta_rfecv\u001b[0m\u001b[0;34m\u001b[0m\u001b[0;34m\u001b[0m\u001b[0m\n",
      "\u001b[0;31mAttributeError\u001b[0m: 'RFECV' object has no attribute 'estimator_'"
     ]
    }
   ],
   "source": [
    "model_Metab_skin_meta_rfecv = joblib.load('models/PMI3_Metab_skin_meta_general_rfecv.pkl')\n",
    "model_Metab_skin_meta_rfecv"
   ]
  },
  {
   "cell_type": "markdown",
   "metadata": {},
   "source": [
    "### Predicting training data (will be overfit but good sanity check)"
   ]
  },
  {
   "cell_type": "code",
   "execution_count": 20,
   "metadata": {},
   "outputs": [
    {
     "ename": "NotFittedError",
     "evalue": "This RFECV instance is not fitted yet. Call 'fit' with appropriate arguments before using this method.",
     "output_type": "error",
     "traceback": [
      "\u001b[0;31m---------------------------------------------------------------------------\u001b[0m",
      "\u001b[0;31mNotFittedError\u001b[0m                            Traceback (most recent call last)",
      "\u001b[0;32m<ipython-input-20-dd6b7747f847>\u001b[0m in \u001b[0;36m<module>\u001b[0;34m\u001b[0m\n\u001b[1;32m      1\u001b[0m \u001b[0;31m# Removes the unimportant features from X\u001b[0m\u001b[0;34m\u001b[0m\u001b[0;34m\u001b[0m\u001b[0;34m\u001b[0m\u001b[0m\n\u001b[0;32m----> 2\u001b[0;31m \u001b[0mX_train\u001b[0m \u001b[0;34m=\u001b[0m \u001b[0mrfecv\u001b[0m\u001b[0;34m.\u001b[0m\u001b[0mtransform\u001b[0m\u001b[0;34m(\u001b[0m\u001b[0mX_train\u001b[0m\u001b[0;34m)\u001b[0m\u001b[0;34m\u001b[0m\u001b[0;34m\u001b[0m\u001b[0m\n\u001b[0m\u001b[1;32m      3\u001b[0m \u001b[0;34m\u001b[0m\u001b[0m\n\u001b[1;32m      4\u001b[0m \u001b[0myhat\u001b[0m \u001b[0;34m=\u001b[0m \u001b[0mmodel_Metab_skin_meta_rfecv\u001b[0m\u001b[0;34m.\u001b[0m\u001b[0mpredict\u001b[0m\u001b[0;34m(\u001b[0m\u001b[0mX_train\u001b[0m\u001b[0;34m)\u001b[0m\u001b[0;34m\u001b[0m\u001b[0;34m\u001b[0m\u001b[0m\n\u001b[1;32m      5\u001b[0m \u001b[0mMAE\u001b[0m \u001b[0;34m=\u001b[0m \u001b[0mmean_absolute_error\u001b[0m\u001b[0;34m(\u001b[0m\u001b[0my_train\u001b[0m\u001b[0;34m,\u001b[0m \u001b[0myhat\u001b[0m\u001b[0;34m)\u001b[0m\u001b[0;34m\u001b[0m\u001b[0;34m\u001b[0m\u001b[0m\n",
      "\u001b[0;32m~/miniconda3/envs/ml/lib/python3.7/site-packages/sklearn/feature_selection/base.py\u001b[0m in \u001b[0;36mtransform\u001b[0;34m(self, X)\u001b[0m\n\u001b[1;32m     74\u001b[0m         \"\"\"\n\u001b[1;32m     75\u001b[0m         \u001b[0mX\u001b[0m \u001b[0;34m=\u001b[0m \u001b[0mcheck_array\u001b[0m\u001b[0;34m(\u001b[0m\u001b[0mX\u001b[0m\u001b[0;34m,\u001b[0m \u001b[0maccept_sparse\u001b[0m\u001b[0;34m=\u001b[0m\u001b[0;34m'csr'\u001b[0m\u001b[0;34m)\u001b[0m\u001b[0;34m\u001b[0m\u001b[0;34m\u001b[0m\u001b[0m\n\u001b[0;32m---> 76\u001b[0;31m         \u001b[0mmask\u001b[0m \u001b[0;34m=\u001b[0m \u001b[0mself\u001b[0m\u001b[0;34m.\u001b[0m\u001b[0mget_support\u001b[0m\u001b[0;34m(\u001b[0m\u001b[0;34m)\u001b[0m\u001b[0;34m\u001b[0m\u001b[0;34m\u001b[0m\u001b[0m\n\u001b[0m\u001b[1;32m     77\u001b[0m         \u001b[0;32mif\u001b[0m \u001b[0;32mnot\u001b[0m \u001b[0mmask\u001b[0m\u001b[0;34m.\u001b[0m\u001b[0many\u001b[0m\u001b[0;34m(\u001b[0m\u001b[0;34m)\u001b[0m\u001b[0;34m:\u001b[0m\u001b[0;34m\u001b[0m\u001b[0;34m\u001b[0m\u001b[0m\n\u001b[1;32m     78\u001b[0m             warn(\"No features were selected: either the data is\"\n",
      "\u001b[0;32m~/miniconda3/envs/ml/lib/python3.7/site-packages/sklearn/feature_selection/base.py\u001b[0m in \u001b[0;36mget_support\u001b[0;34m(self, indices)\u001b[0m\n\u001b[1;32m     45\u001b[0m             \u001b[0mvalues\u001b[0m \u001b[0mare\u001b[0m \u001b[0mindices\u001b[0m \u001b[0minto\u001b[0m \u001b[0mthe\u001b[0m \u001b[0minput\u001b[0m \u001b[0mfeature\u001b[0m \u001b[0mvector\u001b[0m\u001b[0;34m.\u001b[0m\u001b[0;34m\u001b[0m\u001b[0;34m\u001b[0m\u001b[0m\n\u001b[1;32m     46\u001b[0m         \"\"\"\n\u001b[0;32m---> 47\u001b[0;31m         \u001b[0mmask\u001b[0m \u001b[0;34m=\u001b[0m \u001b[0mself\u001b[0m\u001b[0;34m.\u001b[0m\u001b[0m_get_support_mask\u001b[0m\u001b[0;34m(\u001b[0m\u001b[0;34m)\u001b[0m\u001b[0;34m\u001b[0m\u001b[0;34m\u001b[0m\u001b[0m\n\u001b[0m\u001b[1;32m     48\u001b[0m         \u001b[0;32mreturn\u001b[0m \u001b[0mmask\u001b[0m \u001b[0;32mif\u001b[0m \u001b[0;32mnot\u001b[0m \u001b[0mindices\u001b[0m \u001b[0;32melse\u001b[0m \u001b[0mnp\u001b[0m\u001b[0;34m.\u001b[0m\u001b[0mwhere\u001b[0m\u001b[0;34m(\u001b[0m\u001b[0mmask\u001b[0m\u001b[0;34m)\u001b[0m\u001b[0;34m[\u001b[0m\u001b[0;36m0\u001b[0m\u001b[0;34m]\u001b[0m\u001b[0;34m\u001b[0m\u001b[0;34m\u001b[0m\u001b[0m\n\u001b[1;32m     49\u001b[0m \u001b[0;34m\u001b[0m\u001b[0m\n",
      "\u001b[0;32m~/miniconda3/envs/ml/lib/python3.7/site-packages/sklearn/feature_selection/rfe.py\u001b[0m in \u001b[0;36m_get_support_mask\u001b[0;34m(self)\u001b[0m\n\u001b[1;32m    252\u001b[0m \u001b[0;34m\u001b[0m\u001b[0m\n\u001b[1;32m    253\u001b[0m     \u001b[0;32mdef\u001b[0m \u001b[0m_get_support_mask\u001b[0m\u001b[0;34m(\u001b[0m\u001b[0mself\u001b[0m\u001b[0;34m)\u001b[0m\u001b[0;34m:\u001b[0m\u001b[0;34m\u001b[0m\u001b[0;34m\u001b[0m\u001b[0m\n\u001b[0;32m--> 254\u001b[0;31m         \u001b[0mcheck_is_fitted\u001b[0m\u001b[0;34m(\u001b[0m\u001b[0mself\u001b[0m\u001b[0;34m,\u001b[0m \u001b[0;34m'support_'\u001b[0m\u001b[0;34m)\u001b[0m\u001b[0;34m\u001b[0m\u001b[0;34m\u001b[0m\u001b[0m\n\u001b[0m\u001b[1;32m    255\u001b[0m         \u001b[0;32mreturn\u001b[0m \u001b[0mself\u001b[0m\u001b[0;34m.\u001b[0m\u001b[0msupport_\u001b[0m\u001b[0;34m\u001b[0m\u001b[0;34m\u001b[0m\u001b[0m\n\u001b[1;32m    256\u001b[0m \u001b[0;34m\u001b[0m\u001b[0m\n",
      "\u001b[0;32m~/miniconda3/envs/ml/lib/python3.7/site-packages/sklearn/utils/validation.py\u001b[0m in \u001b[0;36mcheck_is_fitted\u001b[0;34m(estimator, attributes, msg, all_or_any)\u001b[0m\n\u001b[1;32m    766\u001b[0m \u001b[0;34m\u001b[0m\u001b[0m\n\u001b[1;32m    767\u001b[0m     \u001b[0;32mif\u001b[0m \u001b[0;32mnot\u001b[0m \u001b[0mall_or_any\u001b[0m\u001b[0;34m(\u001b[0m\u001b[0;34m[\u001b[0m\u001b[0mhasattr\u001b[0m\u001b[0;34m(\u001b[0m\u001b[0mestimator\u001b[0m\u001b[0;34m,\u001b[0m \u001b[0mattr\u001b[0m\u001b[0;34m)\u001b[0m \u001b[0;32mfor\u001b[0m \u001b[0mattr\u001b[0m \u001b[0;32min\u001b[0m \u001b[0mattributes\u001b[0m\u001b[0;34m]\u001b[0m\u001b[0;34m)\u001b[0m\u001b[0;34m:\u001b[0m\u001b[0;34m\u001b[0m\u001b[0;34m\u001b[0m\u001b[0m\n\u001b[0;32m--> 768\u001b[0;31m         \u001b[0;32mraise\u001b[0m \u001b[0mNotFittedError\u001b[0m\u001b[0;34m(\u001b[0m\u001b[0mmsg\u001b[0m \u001b[0;34m%\u001b[0m \u001b[0;34m{\u001b[0m\u001b[0;34m'name'\u001b[0m\u001b[0;34m:\u001b[0m \u001b[0mtype\u001b[0m\u001b[0;34m(\u001b[0m\u001b[0mestimator\u001b[0m\u001b[0;34m)\u001b[0m\u001b[0;34m.\u001b[0m\u001b[0m__name__\u001b[0m\u001b[0;34m}\u001b[0m\u001b[0;34m)\u001b[0m\u001b[0;34m\u001b[0m\u001b[0;34m\u001b[0m\u001b[0m\n\u001b[0m\u001b[1;32m    769\u001b[0m \u001b[0;34m\u001b[0m\u001b[0m\n\u001b[1;32m    770\u001b[0m \u001b[0;34m\u001b[0m\u001b[0m\n",
      "\u001b[0;31mNotFittedError\u001b[0m: This RFECV instance is not fitted yet. Call 'fit' with appropriate arguments before using this method."
     ]
    }
   ],
   "source": [
    "# Removes the unimportant features from X\n",
    "X_train = rfecv.transform(X_train)\n",
    "\n",
    "yhat = model_Metab_skin_meta_rfecv.predict(X_train)\n",
    "MAE = mean_absolute_error(y_train, yhat)\n",
    "print('Mean Absolute Error:', round(MAE, 2), 'ADD')\n",
    "\n",
    "#Score of best estimator when used to estimate training data (will be overfit)\n",
    "print('Coefficient of determination R^2 of the prediction:', round(model_Metab_skin_meta_rfecv.score(X_train,y_train),2))"
   ]
  },
  {
   "cell_type": "code",
   "execution_count": 27,
   "metadata": {},
   "outputs": [
    {
     "data": {
      "image/png": "[encoded data removed]",
      "text/plain": [
       "<Figure size 432x288 with 1 Axes>"
      ]
     },
     "metadata": {
      "needs_background": "light"
     },
     "output_type": "display_data"
    }
   ],
   "source": [
    "plt.scatter(yhat, y_train, color = 'g')\n",
    "lower = np.min(np.concatenate([y_train, yhat]))\n",
    "upper = np.max(np.concatenate([y_train, yhat]))\n",
    "plt.plot([lower, upper], [lower, upper], color = 'black', lw = 2, ls = ':')\n",
    "plt.xlim(0,600)\n",
    "plt.ylim(0,600)\n",
    "\n",
    "#regression part\n",
    "slope, intercept, r_value, p_value, std_err = stats.linregress(yhat,y_train)\n",
    "line = slope*yhat+intercept\n",
    "plt.plot(yhat, line, color = 'black', lw = 2)\n",
    "\n",
    "plt.title('General skin model training(+metadata)\\n MAE = %d; $R^2$ = %.2f' %(MAE,round(model_Metab_skin_meta_rfecv.score(X_train,y_train),2)))\n",
    "plt.xlabel(\"Predicted ADD\")\n",
    "plt.ylabel(\"Actual ADD\")\n",
    "plt.savefig('figures/general_skin_model_training_meta_rfecv.png')"
   ]
  },
  {
   "cell_type": "markdown",
   "metadata": {},
   "source": [
    "### Determine important features after RFECV"
   ]
  },
  {
   "cell_type": "code",
   "execution_count": 29,
   "metadata": {},
   "outputs": [
    {
     "name": "stdout",
     "output_type": "stream",
     "text": [
      "Feature:\t\t\t\tImportance:\n",
      "1. X411.341111879091_6.43193198198198\t0.15357118973078682\n",
      "2. X169.083052596884_3.02616638477801\t0.08661811794560667\n",
      "3. X565.517636027714_7.72472345775013\t0.0480321373769807\n",
      "4. X546.397528446081_6.44098922558922\t0.04641891475565942\n",
      "5. X270.278053283691_7.43078325242718\t0.03505608419299071\n",
      "6. X287.149186666032_2.44809351032448\t0.03353002668135285\n",
      "7. X365.135131404085_0.799185324947588\t0.03278005688454212\n",
      "8. X279.230757406719_6.39681497927768\t0.03181816600854706\n",
      "9. X323.163880547811_3.47024656007752\t0.02050757866678695\n",
      "10. X362.19378153483_3.07285879629629\t0.014713249060311896\n",
      "11. X289.167932739257_2.79415266666666\t0.011070566757495268\n",
      "12. X401.338991000014_8.13704111956867\t0.01024792955091484\n",
      "13. X665.470313750117_6.80325582329316\t0.00938362620302085\n",
      "14. X701.392317345394_3.07152462311557\t0.009020890776091615\n",
      "15. X256.262006528934_7.07576439121756\t0.008823533575236362\n",
      "16. X305.135615437175_3.40880985090521\t0.00879807615018877\n",
      "17. X195.098852603876_3.7230375449964\t0.007745174520168883\n",
      "18. avg_percent_humidity\t0.006850235948479183\n",
      "19. X299.161897398418_3.15122003546099\t0.006720495884591271\n",
      "20. X247.16604482941_9.94318677098151\t0.006711477154594009\n",
      "21. X281.246712651746_6.76487611350574\t0.006331451388257313\n",
      "22. X495.257078986478_7.28601836248012\t0.006323205197817677\n",
      "23. X413.216075949472_3.93005502283105\t0.006196450985873987\n",
      "24. X369.296479637943_7.37038362354892\t0.00618532417334412\n",
      "25. X243.177851328035_5.31456788617886\t0.005917363086104441\n"
     ]
    }
   ],
   "source": [
    "importances = model_Metab_skin_meta_rfecv.feature_importances_\n",
    "std = np.std([tree.feature_importances_ for tree in model_Metab_skin_meta_rfecv.estimators_],\n",
    "             axis=0)\n",
    "indices = np.argsort(importances)[::-1]\n",
    "\n",
    "feature_metadata = Metab_train_skin_meta.feature_metadata\n",
    "np.savetxt(\"feature_metadata/general_skin_feature_metadata_meta_rfecv.csv\", feature_metadata, delimiter=\",\", fmt='%s')\n",
    "\n",
    "\n",
    "#print the important ids in order\n",
    "skin_importances = []\n",
    "count = 0\n",
    "print(\"Feature:\\t\\t\\t\\tImportance:\")\n",
    "for i in indices:\n",
    "    skin_importances += (Metab_train_skin_meta.feature_metadata.index.values[i], importances[indices[count]])\n",
    "    if count < 25:\n",
    "        print(str(count+1)+\". \"+str(Metab_train_skin_meta.feature_metadata.index.values[i])+\"\\t\"+str(importances[indices[count]]))\n",
    "    count += 1"
   ]
  },
  {
   "cell_type": "code",
   "execution_count": 30,
   "metadata": {},
   "outputs": [
    {
     "name": "stdout",
     "output_type": "stream",
     "text": [
      "Number of features present: 669\n"
     ]
    }
   ],
   "source": [
    "# make sure shape is right\n",
    "print(\"Number of features present:\", int(len(skin_importances)/2))\n",
    "skin_importances_df = pd.DataFrame(np.array(skin_importances).reshape(int(len(skin_importances)/2),2))\n",
    "\n",
    "np.savetxt(\"importances/general_skin_importances_meta_rfecv.csv\", skin_importances_df, delimiter=\",\", fmt='%s')"
   ]
  },
  {
   "cell_type": "markdown",
   "metadata": {},
   "source": [
    "## Testing on validaiton set"
   ]
  },
  {
   "cell_type": "code",
   "execution_count": null,
   "metadata": {},
   "outputs": [],
   "source": [
    "Metab_val_skin_meta = Metab_val_skin.add_sample_metadata_as_features(['season','facility','avg_percent_humidity','total_precipitation_cm'])"
   ]
  },
  {
   "cell_type": "code",
   "execution_count": 31,
   "metadata": {},
   "outputs": [
    {
     "name": "stdout",
     "output_type": "stream",
     "text": [
      "Mean Absolute Error: 59.58 ADD\n",
      "Coefficient of determination R^2 of the prediction: 0.67\n"
     ]
    },
    {
     "name": "stderr",
     "output_type": "stream",
     "text": [
      "/Users/Zach/miniconda3/envs/ml/lib/python3.7/site-packages/calour/training.py:130: FutureWarning: Sorting because non-concatenation axis is not aligned. A future version\n",
      "of pandas will change to not sort by default.\n",
      "\n",
      "To accept the future behavior, pass 'sort=False'.\n",
      "\n",
      "To retain the current behavior and silence the warning, pass 'sort=True'.\n",
      "\n",
      "  new.feature_metadata = pd.concat([pd.DataFrame(index=vec.get_feature_names()), new.feature_metadata])\n"
     ]
    },
    {
     "data": {
      "text/plain": [
       "<function TextIOWrapper.close()>"
      ]
     },
     "execution_count": 31,
     "metadata": {},
     "output_type": "execute_result"
    }
   ],
   "source": [
    "X_val = rfecv.transform(Metab_val_skin_meta.data) #removing the unimportant features from X as determined by RFECV\n",
    "y_val = Metab_val_skin_meta.sample_metadata['add_0c']\n",
    "y_val = (y_val.astype(float))\n",
    "\n",
    "yhat = model_Metab_skin_meta_rfecv.predict(X_val)\n",
    "\n",
    "# cross-model error (cross-experiment error)\n",
    "MAE = mean_absolute_error(y_val, yhat)\n",
    "print('Mean Absolute Error:', round(MAE, 2), 'ADD')\n",
    "# Print R2 score\n",
    "print('Coefficient of determination R^2 of the prediction:', round(model_Metab_skin_meta_rfecv.score(X_val,y_val),2))\n",
    "\n",
    "with open('skin_model_errors.txt', 'a') as out:\n",
    "   out.write('general_skin_train_pred_val_meta_rfecv\\t'+str(round(MAE, 2))+'\\t'+str(round(model_Metab_skin_meta_rfecv.score(X_val,y_val),2))+'\\n')\n",
    "out.close"
   ]
  },
  {
   "cell_type": "code",
   "execution_count": 32,
   "metadata": {},
   "outputs": [
    {
     "data": {
      "image/png": "[encoded data removed]",
      "text/plain": [
       "<Figure size 432x288 with 1 Axes>"
      ]
     },
     "metadata": {
      "needs_background": "light"
     },
     "output_type": "display_data"
    }
   ],
   "source": [
    "plt.scatter(yhat, y_val, color = 'g')\n",
    "lower = np.min(np.concatenate([y_val, yhat]))\n",
    "upper = np.max(np.concatenate([y_val, yhat]))\n",
    "plt.plot([lower, upper], [lower, upper], color = 'black', lw = 2, ls = ':')\n",
    "plt.xlim(0,600)\n",
    "plt.ylim(0,600)\n",
    "\n",
    "#regression part\n",
    "slope, intercept, r_value, p_value, std_err = stats.linregress(yhat,y_val)\n",
    "line = slope*yhat+intercept\n",
    "plt.plot(yhat, line, color = 'black', lw = 2)\n",
    "\n",
    "plt.title('General skin model validation(+metadata)\\n MAE = %d; $R^2$ = %.2f' %(MAE,round(model_Metab_skin_meta_rfecv.score(X_val,y_val),2)))\n",
    "plt.xlabel(\"Predicted ADD\")\n",
    "plt.ylabel(\"Actual ADD\")\n",
    "plt.savefig('figures/general_skin_model_validation_meta_rfecv.png')"
   ]
  },
  {
   "cell_type": "markdown",
   "metadata": {},
   "source": [
    "# Skin General Model of Facilities and Season using ADD 0C as Response without Metadata"
   ]
  },
  {
   "cell_type": "code",
   "execution_count": 33,
   "metadata": {},
   "outputs": [],
   "source": [
    "gkf = GroupKFold(6)\n",
    "\n",
    "X_train = Metab_train_skin.data\n",
    "y_train = Metab_train_skin.sample_metadata['add_0c']\n",
    "y_train = (y_train.astype(float))\n",
    "groups = Metab_train_skin.sample_metadata['subjectID']\n",
    "# Tested this param grid on Summit to expand hyperparameter tuning\n",
    "#param_grid = {\"max_depth\": [4, 8, 16, None],\n",
    "#              \"max_features\": ['sqrt', 'log2', 0.1],\n",
    "#              \"min_samples_split\": [0.001, 0.01, 0.1],\n",
    "#              \"min_weight_fraction_leaf\": [0.0001, 0.001, 0.01],\n",
    "#              \"bootstrap\": [True, False]}\n",
    "# It provided this best model:\n",
    "#\n",
    "# Takes too long to run on local computer; will need to run then import model from Summit\n",
    "\n",
    "param_grid = {\"max_depth\": [8],\n",
    "          \"max_features\": [0.1],\n",
    "          \"min_samples_split\": [0.001],\n",
    "          \"min_weight_fraction_leaf\": [0.01],\n",
    "          \"bootstrap\": [False]}\n",
    "rf = RandomForestRegressor(n_estimators=10, random_state=999, criterion='mae')\n",
    "gs = GridSearchCV(rf, param_grid=param_grid, cv=gkf.split(X_train, y_train, groups), scoring='neg_mean_absolute_error', n_jobs=1)"
   ]
  },
  {
   "cell_type": "code",
   "execution_count": 34,
   "metadata": {},
   "outputs": [
    {
     "data": {
      "text/plain": [
       "GridSearchCV(cv=<generator object _BaseKFold.split at 0x11bd9fed0>,\n",
       "       error_score='raise',\n",
       "       estimator=RandomForestRegressor(bootstrap=True, criterion='mae', max_depth=None,\n",
       "           max_features='auto', max_leaf_nodes=None,\n",
       "           min_impurity_decrease=0.0, min_impurity_split=None,\n",
       "           min_samples_leaf=1, min_samples_split=2,\n",
       "           min_weight_fraction_leaf=0.0, n_estimators=10, n_jobs=1,\n",
       "           oob_score=False, random_state=999, verbose=0, warm_start=False),\n",
       "       fit_params=None, iid=True, n_jobs=1,\n",
       "       param_grid={'max_depth': [8], 'max_features': [0.1], 'min_samples_split': [0.001], 'min_samples_leaf': [1], 'min_weight_fraction_leaf': [0.01], 'bootstrap': [False]},\n",
       "       pre_dispatch='2*n_jobs', refit=True, return_train_score='warn',\n",
       "       scoring='neg_mean_absolute_error', verbose=0)"
      ]
     },
     "execution_count": 34,
     "metadata": {},
     "output_type": "execute_result"
    }
   ],
   "source": [
    "gs.fit(X_train, y_train)"
   ]
  },
  {
   "cell_type": "code",
   "execution_count": null,
   "metadata": {},
   "outputs": [],
   "source": [
    "print(gs.best_params_)"
   ]
  },
  {
   "cell_type": "code",
   "execution_count": 35,
   "metadata": {},
   "outputs": [
    {
     "name": "stdout",
     "output_type": "stream",
     "text": [
      "The best mean error rate is 71.06\n"
     ]
    },
    {
     "data": {
      "text/plain": [
       "<function TextIOWrapper.close()>"
      ]
     },
     "execution_count": 35,
     "metadata": {},
     "output_type": "execute_result"
    }
   ],
   "source": [
    "print('The best mean error rate is', round(-gs.best_score_,2))\n",
    "\n",
    "with open('skin_model_errors.txt', 'a') as out:\n",
    "    out.write('model\\tmae\\tr2_score\\n')\n",
    "    out.write('general_skin_train\\t'+str(round(-gs.best_score_,2))+'\\n')\n",
    "\n",
    "out.close"
   ]
  },
  {
   "cell_type": "code",
   "execution_count": 36,
   "metadata": {},
   "outputs": [
    {
     "data": {
      "text/plain": [
       "['models/PMI3_Metab_skin_general.pkl']"
      ]
     },
     "execution_count": 36,
     "metadata": {},
     "output_type": "execute_result"
    }
   ],
   "source": [
    "joblib.dump(gs.best_estimator_, 'models/PMI3_Metab_skin_general.pkl')"
   ]
  },
  {
   "cell_type": "code",
   "execution_count": 16,
   "metadata": {},
   "outputs": [],
   "source": [
    "model_Metab_skin = joblib.load('models/PMI3_Metab_skin_general.pkl')"
   ]
  },
  {
   "cell_type": "code",
   "execution_count": 17,
   "metadata": {
    "scrolled": false
   },
   "outputs": [
    {
     "data": {
      "text/plain": [
       "RandomForestRegressor(bootstrap=False, criterion='mae', max_depth=8,\n",
       "           max_features=0.1, max_leaf_nodes=None,\n",
       "           min_impurity_decrease=0.0, min_impurity_split=None,\n",
       "           min_samples_leaf=1, min_samples_split=0.001,\n",
       "           min_weight_fraction_leaf=0.01, n_estimators=1000, n_jobs=1,\n",
       "           oob_score=False, random_state=999, verbose=0, warm_start=False)"
      ]
     },
     "execution_count": 17,
     "metadata": {},
     "output_type": "execute_result"
    }
   ],
   "source": [
    "model_Metab_skin"
   ]
  },
  {
   "cell_type": "markdown",
   "metadata": {},
   "source": [
    "## Recursive Feature Elimination "
   ]
  },
  {
   "cell_type": "markdown",
   "metadata": {},
   "source": [
    "### Uses the best estimator from the above model and performs 5% removal recursive steps"
   ]
  },
  {
   "cell_type": "code",
   "execution_count": 39,
   "metadata": {},
   "outputs": [],
   "source": [
    "rfecv = RFECV(estimator=model_Metab_skin, step=0.05, cv=list(gkf.split(X_train, y_train, groups)), scoring='neg_mean_absolute_error', n_jobs=1)"
   ]
  },
  {
   "cell_type": "code",
   "execution_count": 40,
   "metadata": {},
   "outputs": [
    {
     "data": {
      "text/plain": [
       "RFECV(cv=[(array([  0,   1, ..., 494, 495]), array([ 46,  47, ..., 486, 496])), (array([  0,   1, ..., 495, 496]), array([ 39,  40, ..., 481, 482])), (array([  0,   1, ..., 495, 496]), array([ 92,  93, ..., 451, 490])), (array([  3,   4, ..., 495, 496]), array([  0,   1, ..., 476, 487])), (array([  0,   1, ..., 495, 496]), array([  3,   4, ..., 488, 489])), (array([  0,   1, ..., 490, 496]), array([106, 107, ..., 494, 495]))],\n",
       "   estimator=RandomForestRegressor(bootstrap=False, criterion='mae', max_depth=8,\n",
       "           max_features=0.1, max_leaf_nodes=None,\n",
       "           min_impurity_decrease=0.0, min_impurity_split=None,\n",
       "           min_samples_leaf=1, min_samples_split=0.001,\n",
       "           min_weight_fraction_leaf=0.01, n_estimators=10, n_jobs=1,\n",
       "           oob_score=False, random_state=999, verbose=0, warm_start=False),\n",
       "   n_jobs=1, scoring='neg_mean_absolute_error', step=0.05, verbose=0)"
      ]
     },
     "execution_count": 40,
     "metadata": {},
     "output_type": "execute_result"
    }
   ],
   "source": [
    "# Likely need to run on Summit\n",
    "rfecv.fit(X_train, y_train)"
   ]
  },
  {
   "cell_type": "code",
   "execution_count": 41,
   "metadata": {},
   "outputs": [
    {
     "name": "stdout",
     "output_type": "stream",
     "text": [
      "Number of steps performed: 21\n",
      "Optimal number of features : 2420\n",
      "The best mean absolute error is: 69\n"
     ]
    }
   ],
   "source": [
    "print(\"Number of steps performed: %d\" % len(rfecv.grid_scores_))\n",
    "print(\"Optimal number of features : %d\" % rfecv.n_features_)\n",
    "print(\"The best mean absolute error is: %d\" % -(max(rfecv.grid_scores_)))"
   ]
  },
  {
   "cell_type": "code",
   "execution_count": 42,
   "metadata": {},
   "outputs": [
    {
     "data": {
      "image/png": "[encoded data removed]",
      "text/plain": [
       "<Figure size 576x360 with 1 Axes>"
      ]
     },
     "metadata": {
      "needs_background": "light"
     },
     "output_type": "display_data"
    }
   ],
   "source": [
    "# Plot number of features VS. cross-validation scores\n",
    "plt.figure(figsize=(8,5))\n",
    "plt.title('Recursive Feature Elimination with Cross-Validation', fontsize=14, fontweight='bold', pad=20)\n",
    "plt.xlabel(\"Number of Steps (5% of features added per step)\")\n",
    "plt.ylabel(\"Cross Validation Score (Mean Absolute Error)\")\n",
    "plt.plot(range(1, len(rfecv.grid_scores_) + 1), rfecv.grid_scores_, linewidth=2)\n",
    "plt.savefig('figures/general_skin_model_rfecv.png')"
   ]
  },
  {
   "cell_type": "code",
   "execution_count": null,
   "metadata": {},
   "outputs": [],
   "source": [
    "# Saves the estimator fit on the reduced dataset (i.e. the model created from optimal features)\n",
    "joblib.dump(rfecv.estimator_, 'models/PMI3_Metab_skin_general_rfecv.pkl')"
   ]
  },
  {
   "cell_type": "code",
   "execution_count": 43,
   "metadata": {},
   "outputs": [
    {
     "data": {
      "text/plain": [
       "RandomForestRegressor(bootstrap=False, criterion='mae', max_depth=8,\n",
       "           max_features=0.1, max_leaf_nodes=None,\n",
       "           min_impurity_decrease=0.0, min_impurity_split=None,\n",
       "           min_samples_leaf=1, min_samples_split=0.001,\n",
       "           min_weight_fraction_leaf=0.01, n_estimators=10, n_jobs=1,\n",
       "           oob_score=False, random_state=999, verbose=0, warm_start=False)"
      ]
     },
     "execution_count": 43,
     "metadata": {},
     "output_type": "execute_result"
    }
   ],
   "source": [
    "model_Metab_skin_rfecv = joblib.load('models/PMI3_Metab_skin_general_rfecv.pkl')\n",
    "model_Metab_skin_rfecv"
   ]
  },
  {
   "cell_type": "markdown",
   "metadata": {},
   "source": [
    "### Predicting training data (will be overfit but good sanity check)"
   ]
  },
  {
   "cell_type": "code",
   "execution_count": 44,
   "metadata": {},
   "outputs": [
    {
     "name": "stdout",
     "output_type": "stream",
     "text": [
      "Mean Absolute Error: 29.63 ADD\n",
      "Coefficient of determination R^2 of the prediction: 0.87\n"
     ]
    }
   ],
   "source": [
    "# Removes the unimportant features from X\n",
    "X_train = rfecv.transform(X_train)\n",
    "\n",
    "yhat = model_Metab_skin_rfecv.predict(X_train)\n",
    "MAE = mean_absolute_error(y_train, yhat)\n",
    "print('Mean Absolute Error:', round(MAE, 2), 'ADD')\n",
    "\n",
    "#Score of best estimator when used to estimate training data (will be overfit)\n",
    "print('Coefficient of determination R^2 of the prediction:', round(model_Metab_skin_rfecv.score(X_train,y_train),2))"
   ]
  },
  {
   "cell_type": "code",
   "execution_count": 45,
   "metadata": {},
   "outputs": [
    {
     "data": {
      "image/png": "[encoded data removed]",
      "text/plain": [
       "<Figure size 432x288 with 1 Axes>"
      ]
     },
     "metadata": {
      "needs_background": "light"
     },
     "output_type": "display_data"
    }
   ],
   "source": [
    "plt.scatter(yhat, y_train, color = 'g')\n",
    "lower = np.min(np.concatenate([y_train, yhat]))\n",
    "upper = np.max(np.concatenate([y_train, yhat]))\n",
    "plt.plot([lower, upper], [lower, upper], color = 'black', lw = 2, ls = ':')\n",
    "plt.xlim(0,600)\n",
    "plt.ylim(0,600)\n",
    "\n",
    "#regression part\n",
    "slope, intercept, r_value, p_value, std_err = stats.linregress(yhat,y_train)\n",
    "line = slope*yhat+intercept\n",
    "plt.plot(yhat, line, color = 'black', lw = 2)\n",
    "\n",
    "plt.title('General skin model training(-metadata)\\n MAE = %d; $R^2$ = %.2f' %(MAE,round(model_Metab_skin_rfecv.score(X_train,y_train),2)))\n",
    "plt.xlabel(\"Predicted ADD\")\n",
    "plt.ylabel(\"Actual ADD\")\n",
    "plt.savefig('figures/general_skin_model_training_rfecv.png')"
   ]
  },
  {
   "cell_type": "markdown",
   "metadata": {},
   "source": [
    "### Determine important features after RFECV"
   ]
  },
  {
   "cell_type": "code",
   "execution_count": 46,
   "metadata": {},
   "outputs": [
    {
     "name": "stdout",
     "output_type": "stream",
     "text": [
      "Feature:\t\t\t\tImportance:\n",
      "1. X230.170335788919_2.66187542087542\t0.06646604739772158\n",
      "2. X200.200297817107_5.5910755376344\t0.05930083182410182\n",
      "3. X215.156754455566_3.90129799999999\t0.05475230978212142\n",
      "4. X187.132559969724_3.54547162954278\t0.05275073705085649\n",
      "5. X155.106733620572_5.7184044217687\t0.049175345018563146\n",
      "6. X398.360675666905_7.01279367088607\t0.03608012700873922\n",
      "7. X258.205304505395_3.60571584699453\t0.036055744660642416\n",
      "8. X272.220237223307_3.983025\t0.03566691314728617\n",
      "9. X225.110203975695_3.87167830940988\t0.03283642557347406\n",
      "10. X201.111491762358_3.33599339080459\t0.029800468587155134\n",
      "11. X278.189859650704_4.10320385434824\t0.022635919894267838\n",
      "12. X596.435729980468_5.41112721088435\t0.01595085306225511\n",
      "13. X336.235949751259_6.00681352657004\t0.014668372884556871\n",
      "14. X511.251072276722_3.17356939393939\t0.01323537159835166\n",
      "15. X215.131461096591_5.04396530054644\t0.011746176250117124\n",
      "16. X279.230997695859_5.90311805903647\t0.011679705783370896\n",
      "17. X669.93791489374_6.24358174603174\t0.00995517351579256\n",
      "18. X580.440521863042_6.02871496598639\t0.008295002307016023\n",
      "19. X303.122259140014_2.14927765151515\t0.007945132655752005\n",
      "20. X709.556804838634_9.49934285714285\t0.007635158635557054\n",
      "21. X419.348389998726_8.90823786231883\t0.007551625251635113\n",
      "22. X283.262279643568_7.70306372739017\t0.00673095618985603\n",
      "23. X213.148191867404_5.34548177777777\t0.0065577658076564046\n",
      "24. X352.356264209747_8.29605718749999\t0.006253369362578251\n",
      "25. X351.271491417518_7.10841858974358\t0.006245102718803697\n"
     ]
    }
   ],
   "source": [
    "importances = model_Metab_skin_rfecv.feature_importances_\n",
    "std = np.std([tree.feature_importances_ for tree in model_Metab_skin_rfecv.estimators_],\n",
    "             axis=0)\n",
    "indices = np.argsort(importances)[::-1]\n",
    "\n",
    "feature_metadata = Metab_train_skin.feature_metadata\n",
    "np.savetxt(\"feature_metadata/general_skin_feature_metadata_rfecv.csv\", feature_metadata, delimiter=\",\", fmt='%s')\n",
    "\n",
    "\n",
    "#print the important ids in order\n",
    "skin_importances = []\n",
    "count = 0\n",
    "print(\"Feature:\\t\\t\\t\\tImportance:\")\n",
    "for i in indices:\n",
    "    skin_importances += (Metab_train_skin.feature_metadata.index.values[i], importances[indices[count]])\n",
    "    if count < 25:\n",
    "        print(str(count+1)+\". \"+str(Metab_train_skin.feature_metadata.index.values[i])+\"\\t\"+str(importances[indices[count]]))\n",
    "    count += 1"
   ]
  },
  {
   "cell_type": "code",
   "execution_count": 47,
   "metadata": {},
   "outputs": [
    {
     "name": "stdout",
     "output_type": "stream",
     "text": [
      "Number of features present: 2420\n"
     ]
    }
   ],
   "source": [
    "# make sure shape is right\n",
    "print(\"Number of features present:\", int(len(skin_importances)/2))\n",
    "skin_importances_df = pd.DataFrame(np.array(skin_importances).reshape(int(len(skin_importances)/2),2))\n",
    "\n",
    "np.savetxt(\"importances/general_skin_importances_rfecv.csv\", skin_importances_df, delimiter=\",\", fmt='%s')"
   ]
  },
  {
   "cell_type": "markdown",
   "metadata": {},
   "source": [
    "## Testing on validaiton set"
   ]
  },
  {
   "cell_type": "code",
   "execution_count": 50,
   "metadata": {},
   "outputs": [
    {
     "name": "stdout",
     "output_type": "stream",
     "text": [
      "Mean Absolute Error: 57.06 ADD\n",
      "Coefficient of determination R^2 of the prediction: 0.69\n"
     ]
    },
    {
     "data": {
      "text/plain": [
       "<function TextIOWrapper.close()>"
      ]
     },
     "execution_count": 50,
     "metadata": {},
     "output_type": "execute_result"
    }
   ],
   "source": [
    "X_val = rfecv.transform(Metab_val_skin.data) #removing the unimportant features from X as determined by RFECV\n",
    "y_val = Metab_val_skin.sample_metadata['add_0c']\n",
    "y_val = (y_val.astype(float))\n",
    "\n",
    "yhat = model_Metab_skin_rfecv.predict(X_val)\n",
    "\n",
    "# cross-model error (cross-experiment error)\n",
    "MAE = mean_absolute_error(y_val, yhat)\n",
    "print('Mean Absolute Error:', round(MAE, 2), 'ADD')\n",
    "# Print R2 score\n",
    "print('Coefficient of determination R^2 of the prediction:', round(model_Metab_skin_rfecv.score(X_val,y_val),2))\n",
    "\n",
    "with open('skin_model_errors.txt', 'a') as out:\n",
    "   out.write('general_skin_train_pred_val_rfecv\\t'+str(round(MAE, 2))+'\\t'+str(round(model_Metab_skin_rfecv.score(X_val,y_val),2))+'\\n')\n",
    "out.close"
   ]
  },
  {
   "cell_type": "code",
   "execution_count": 51,
   "metadata": {},
   "outputs": [
    {
     "data": {
      "image/png": "[encoded data removed]",
      "text/plain": [
       "<Figure size 432x288 with 1 Axes>"
      ]
     },
     "metadata": {
      "needs_background": "light"
     },
     "output_type": "display_data"
    }
   ],
   "source": [
    "plt.scatter(yhat, y_val, color = 'g')\n",
    "lower = np.min(np.concatenate([y_val, yhat]))\n",
    "upper = np.max(np.concatenate([y_val, yhat]))\n",
    "plt.plot([lower, upper], [lower, upper], color = 'black', lw = 2, ls = ':')\n",
    "plt.xlim(0,600)\n",
    "plt.ylim(0,600)\n",
    "\n",
    "#regression part\n",
    "slope, intercept, r_value, p_value, std_err = stats.linregress(yhat,y_val)\n",
    "line = slope*yhat+intercept\n",
    "plt.plot(yhat, line, color = 'black', lw = 2)\n",
    "\n",
    "plt.title('General skin model validation(-metadata)\\n MAE = %d; $R^2$ = %.2f' %(MAE,round(model_Metab_skin_rfecv.score(X_val,y_val),2)))\n",
    "plt.xlabel(\"Predicted ADD\")\n",
    "plt.ylabel(\"Actual ADD\")\n",
    "plt.savefig('figures/general_skin_model_validation.png')"
   ]
  }
 ],
 "metadata": {
  "kernelspec": {
   "display_name": "Python 3",
   "language": "python",
   "name": "python3"
  },
  "language_info": {
   "codemirror_mode": {
    "name": "ipython",
    "version": 3
   },
   "file_extension": ".py",
   "mimetype": "text/x-python",
   "name": "python",
   "nbconvert_exporter": "python",
   "pygments_lexer": "ipython3",
   "version": "3.7.7"
  }
 },
 "nbformat": 4,
 "nbformat_minor": 2
}
