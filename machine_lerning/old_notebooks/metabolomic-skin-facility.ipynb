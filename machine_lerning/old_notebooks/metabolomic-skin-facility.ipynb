{
 "cells": [
  {
   "cell_type": "code",
   "execution_count": 1,
   "metadata": {
    "scrolled": true
   },
   "outputs": [
    {
     "name": "stderr",
     "output_type": "stream",
     "text": [
      "/Users/Zach/miniconda3/envs/ml_new/lib/python3.7/site-packages/sklearn/externals/joblib/__init__.py:15: FutureWarning: sklearn.externals.joblib is deprecated in 0.21 and will be removed in 0.23. Please import this functionality directly from joblib, which can be installed with: pip install joblib. If this warning is raised when loading pickled models, you may need to re-serialize those models with scikit-learn 0.21+.\n",
      "  warnings.warn(msg, category=FutureWarning)\n"
     ]
    }
   ],
   "source": [
    "from sklearn.ensemble import RandomForestRegressor\n",
    "from sklearn import preprocessing, svm, metrics\n",
    "from sklearn.ensemble import RandomForestClassifier, ExtraTreesClassifier\n",
    "from sklearn.model_selection import StratifiedKFold, KFold, GridSearchCV, GroupKFold, cross_val_score, train_test_split\n",
    "from sklearn.pipeline import Pipeline\n",
    "from sklearn.svm import LinearSVC, SVR\n",
    "from sklearn.metrics import r2_score, mean_squared_error, mean_absolute_error, mean_absolute_error, roc_auc_score, precision_score, make_scorer, accuracy_score\n",
    "from sklearn.linear_model import LassoCV, Lasso, LassoLarsIC, ElasticNet, LassoLarsCV\n",
    "from sklearn.externals import joblib\n",
    "from scipy.stats import randint as sp_randint\n",
    "from matplotlib import pyplot as plt\n",
    "from sklearn.feature_selection import RFECV\n",
    "from sklearn.gaussian_process import GaussianProcessClassifier\n",
    "from sklearn.gaussian_process.kernels import RBF\n",
    "from sklearn.neighbors import KNeighborsClassifier, RadiusNeighborsClassifier"
   ]
  },
  {
   "cell_type": "code",
   "execution_count": 2,
   "metadata": {},
   "outputs": [
    {
     "name": "stderr",
     "output_type": "stream",
     "text": [
      "/Users/Zach/miniconda3/envs/ml_new/lib/python3.7/site-packages/skbio/util/_testing.py:15: FutureWarning: pandas.util.testing is deprecated. Use the functions in the public API at pandas.testing instead.\n",
      "  import pandas.util.testing as pdt\n"
     ]
    }
   ],
   "source": [
    "import pandas as pd\n",
    "import numpy as np\n",
    "import matplotlib\n",
    "import seaborn as sns\n",
    "%matplotlib inline\n",
    "import biom\n",
    "import calour as ca\n",
    "from scipy import stats\n",
    "import scipy\n",
    "import pickle\n",
    "import time\n",
    "import inspect\n",
    "import math\n",
    "pd.set_option('display.max_rows', 10000)"
   ]
  },
  {
   "cell_type": "markdown",
   "metadata": {},
   "source": [
    "# Importing data, no TSS normalization performed here"
   ]
  },
  {
   "cell_type": "code",
   "execution_count": 3,
   "metadata": {
    "scrolled": false
   },
   "outputs": [],
   "source": [
    "allMetab = ca.read_amplicon('PMI_MS1_FeatureTable_Normalized.biom','pmi3_metab_meta.txt', min_reads=1, normalize = None)"
   ]
  },
  {
   "cell_type": "markdown",
   "metadata": {},
   "source": [
    "## Remove controls and samples that grouped with controls on PCoA"
   ]
  },
  {
   "cell_type": "code",
   "execution_count": 4,
   "metadata": {
    "scrolled": true
   },
   "outputs": [
    {
     "data": {
      "text/plain": [
       "skin.hip    746\n",
       "soil.hip    744\n",
       "Name: description, dtype: int64"
      ]
     },
     "execution_count": 4,
     "metadata": {},
     "output_type": "execute_result"
    }
   ],
   "source": [
    "allMetab = allMetab.filter_samples('control', 'n')\n",
    "allMetab = allMetab.filter_samples('pcoa_removals', 'n')\n",
    "allMetab.sample_metadata.description.value_counts()"
   ]
  },
  {
   "cell_type": "markdown",
   "metadata": {},
   "source": [
    "## Seperate general model validation bodies and training bodies"
   ]
  },
  {
   "cell_type": "code",
   "execution_count": 5,
   "metadata": {},
   "outputs": [],
   "source": [
    "allMetab_train = allMetab.filter_samples('validation_set', 'n')\n",
    "allMetab_val = allMetab.filter_samples('validation_set', 'y')"
   ]
  },
  {
   "cell_type": "code",
   "execution_count": 6,
   "metadata": {},
   "outputs": [
    {
     "data": {
      "text/plain": [
       "skin.hip    497\n",
       "soil.hip    493\n",
       "Name: description, dtype: int64"
      ]
     },
     "execution_count": 6,
     "metadata": {},
     "output_type": "execute_result"
    }
   ],
   "source": [
    "allMetab_train.sample_metadata.description.value_counts()"
   ]
  },
  {
   "cell_type": "code",
   "execution_count": 7,
   "metadata": {},
   "outputs": [
    {
     "data": {
      "text/plain": [
       "soil.hip    251\n",
       "skin.hip    249\n",
       "Name: description, dtype: int64"
      ]
     },
     "execution_count": 7,
     "metadata": {},
     "output_type": "execute_result"
    }
   ],
   "source": [
    "allMetab_val.sample_metadata.description.value_counts()"
   ]
  },
  {
   "cell_type": "code",
   "execution_count": 8,
   "metadata": {},
   "outputs": [],
   "source": [
    "#allMetab.sample_metadata.columns"
   ]
  },
  {
   "cell_type": "code",
   "execution_count": 9,
   "metadata": {},
   "outputs": [],
   "source": [
    "#dir(allMetab)"
   ]
  },
  {
   "cell_type": "code",
   "execution_count": 10,
   "metadata": {},
   "outputs": [],
   "source": [
    "#print(allMetab.feature_metadata)"
   ]
  },
  {
   "cell_type": "markdown",
   "metadata": {},
   "source": [
    "# Split by sampling location (soil v. skin)"
   ]
  },
  {
   "cell_type": "markdown",
   "metadata": {},
   "source": [
    "## Skin sample filtering"
   ]
  },
  {
   "cell_type": "code",
   "execution_count": 11,
   "metadata": {},
   "outputs": [
    {
     "data": {
      "text/plain": [
       "skin    746\n",
       "Name: sample_type, dtype: int64"
      ]
     },
     "execution_count": 11,
     "metadata": {},
     "output_type": "execute_result"
    }
   ],
   "source": [
    "allMetab_skin = allMetab.filter_samples('sample_type', 'skin')\n",
    "allMetab_skin.sample_metadata.sample_type.value_counts()"
   ]
  },
  {
   "cell_type": "code",
   "execution_count": 12,
   "metadata": {
    "scrolled": true
   },
   "outputs": [
    {
     "data": {
      "text/plain": [
       "skin    497\n",
       "Name: sample_type, dtype: int64"
      ]
     },
     "execution_count": 12,
     "metadata": {},
     "output_type": "execute_result"
    }
   ],
   "source": [
    "Metab_train_skin = allMetab_train.filter_samples('sample_type', 'skin')\n",
    "Metab_train_skin.sample_metadata.sample_type.value_counts()"
   ]
  },
  {
   "cell_type": "code",
   "execution_count": 13,
   "metadata": {
    "scrolled": false
   },
   "outputs": [
    {
     "data": {
      "text/plain": [
       "skin    249\n",
       "Name: sample_type, dtype: int64"
      ]
     },
     "execution_count": 13,
     "metadata": {},
     "output_type": "execute_result"
    }
   ],
   "source": [
    "Metab_val_skin = allMetab_val.filter_samples('sample_type', 'skin')\n",
    "Metab_val_skin.sample_metadata.sample_type.value_counts()"
   ]
  },
  {
   "cell_type": "markdown",
   "metadata": {},
   "source": [
    "# Skin General Model of Facilities and Season using ADD 0C as Response and Adding Metadata"
   ]
  },
  {
   "cell_type": "code",
   "execution_count": 14,
   "metadata": {},
   "outputs": [],
   "source": [
    "Metab_train_skin_meta = Metab_train_skin.add_sample_metadata_as_features(['season','facility','avg_percent_humidity','total_precipitation_cm'])\n",
    "\n",
    "#print(Metab_train_skin_meta.feature_metadata)"
   ]
  },
  {
   "cell_type": "code",
   "execution_count": 15,
   "metadata": {},
   "outputs": [],
   "source": [
    "#model_Metab_skin_meta = joblib.load('models/PMI3_Metab_skin_meta_general.pkl')"
   ]
  },
  {
   "cell_type": "code",
   "execution_count": 16,
   "metadata": {
    "scrolled": false
   },
   "outputs": [],
   "source": [
    "#model_Metab_skin_meta"
   ]
  },
  {
   "cell_type": "markdown",
   "metadata": {},
   "source": [
    "## Recursive Feature Elimination "
   ]
  },
  {
   "cell_type": "code",
   "execution_count": 17,
   "metadata": {},
   "outputs": [],
   "source": [
    "#model_Metab_skin_meta_rfecv = joblib.load('models/PMI3_Metab_skin_meta_general_rfecv.pkl')\n",
    "#model_Metab_skin_meta_rfecv"
   ]
  },
  {
   "cell_type": "markdown",
   "metadata": {},
   "source": [
    "## Testing on validaiton set"
   ]
  },
  {
   "cell_type": "code",
   "execution_count": 18,
   "metadata": {},
   "outputs": [],
   "source": [
    "Metab_val_skin_meta = Metab_val_skin.add_sample_metadata_as_features(['season','facility','avg_percent_humidity','total_precipitation_cm'])"
   ]
  },
  {
   "cell_type": "markdown",
   "metadata": {},
   "source": [
    "# Skin General Model of Facilities and Season using ADD 0C as Response without Metadata"
   ]
  },
  {
   "cell_type": "code",
   "execution_count": 19,
   "metadata": {},
   "outputs": [],
   "source": [
    "#model_Metab_skin = joblib.load('models/PMI3_Metab_skin_general.pkl')"
   ]
  },
  {
   "cell_type": "code",
   "execution_count": 20,
   "metadata": {
    "scrolled": false
   },
   "outputs": [],
   "source": [
    "#model_Metab_skin"
   ]
  },
  {
   "cell_type": "markdown",
   "metadata": {},
   "source": [
    "## Recursive Feature Elimination "
   ]
  },
  {
   "cell_type": "code",
   "execution_count": 21,
   "metadata": {},
   "outputs": [],
   "source": [
    "#model_Metab_skin_rfecv = joblib.load('models/PMI3_Metab_skin_general_rfecv.pkl')\n",
    "#model_Metab_skin_rfecv"
   ]
  },
  {
   "cell_type": "markdown",
   "metadata": {},
   "source": [
    "# Splitting data by facility with full skin dataset"
   ]
  },
  {
   "cell_type": "markdown",
   "metadata": {},
   "source": [
    "## Training set CMU model"
   ]
  },
  {
   "cell_type": "code",
   "execution_count": 22,
   "metadata": {},
   "outputs": [
    {
     "data": {
      "text/plain": [
       "CMU    164\n",
       "Name: facility, dtype: int64"
      ]
     },
     "execution_count": 22,
     "metadata": {},
     "output_type": "execute_result"
    }
   ],
   "source": [
    "Metab_train_skin_CMU = Metab_train_skin.filter_samples('facility', 'CMU')\n",
    "Metab_train_skin_CMU.sample_metadata.facility.value_counts()"
   ]
  },
  {
   "cell_type": "code",
   "execution_count": 23,
   "metadata": {},
   "outputs": [
    {
     "data": {
      "text/plain": [
       "16-12             21\n",
       "17-12             21\n",
       "Mrs. 17-01        21\n",
       "17-10             21\n",
       "CMU_Mrs._16_05    21\n",
       "Mr 17-04          21\n",
       "CMU_Mr._16_04     21\n",
       "Mrs. 16-10        17\n",
       "Name: subjectID, dtype: int64"
      ]
     },
     "execution_count": 23,
     "metadata": {},
     "output_type": "execute_result"
    }
   ],
   "source": [
    "Metab_train_skin_CMU.sample_metadata.subjectID.value_counts()"
   ]
  },
  {
   "cell_type": "code",
   "execution_count": 24,
   "metadata": {},
   "outputs": [],
   "source": [
    "Metab_train_skin_CMU_meta = Metab_train_skin_CMU.add_sample_metadata_as_features(['season','avg_percent_humidity','total_precipitation_cm'])\n",
    "\n",
    "gkf = GroupKFold(4)\n",
    "\n",
    "X_CMU_train = Metab_train_skin_CMU_meta.data\n",
    "y_CMU_train = Metab_train_skin_CMU_meta.sample_metadata['add_0c']\n",
    "y_CMU_train = (y_CMU_train.astype(float))\n",
    "groups = Metab_train_skin_CMU_meta.sample_metadata['subjectID']\n",
    "# Tested this param grid on Summit to expand hyperparameter tuning\n",
    "#param_grid = {\"max_depth\": [4, 8, 16, None],\n",
    "#              \"max_features\": ['sqrt', 'log2', 0.1],\n",
    "#              \"min_samples_split\": [0.001, 0.01, 0.1],\n",
    "#              \"min_weight_fraction_leaf\": [0.0001, 0.001, 0.01],\n",
    "#              \"bootstrap\": [True, False]}\n",
    "# It provided this best model:\n",
    "#\n",
    "# Takes too long to run on local computer; will need to run then import model from Summit\n",
    "\n",
    "param_grid = {\"max_depth\": [4],\n",
    "          \"max_features\": [0.1],\n",
    "          \"min_samples_split\": [0.001],\n",
    "          \"min_weight_fraction_leaf\": [0.01], \n",
    "          \"bootstrap\": [False]}\n",
    "rf = RandomForestRegressor(n_estimators=1000, random_state=999, criterion='mae')\n",
    "gs = GridSearchCV(rf, param_grid=param_grid, cv=gkf.split(X_CMU_train, y_CMU_train, groups), scoring='neg_mean_absolute_error', n_jobs=-3)"
   ]
  },
  {
   "cell_type": "code",
   "execution_count": 25,
   "metadata": {
    "scrolled": true
   },
   "outputs": [
    {
     "ename": "KeyboardInterrupt",
     "evalue": "",
     "output_type": "error",
     "traceback": [
      "\u001b[0;31m---------------------------------------------------------------------------\u001b[0m",
      "\u001b[0;31mKeyboardInterrupt\u001b[0m                         Traceback (most recent call last)",
      "\u001b[0;32m<ipython-input-25-5b6dcce73f86>\u001b[0m in \u001b[0;36m<module>\u001b[0;34m\u001b[0m\n\u001b[0;32m----> 1\u001b[0;31m \u001b[0mgs\u001b[0m\u001b[0;34m.\u001b[0m\u001b[0mfit\u001b[0m\u001b[0;34m(\u001b[0m\u001b[0mX_CMU_train\u001b[0m\u001b[0;34m,\u001b[0m \u001b[0my_CMU_train\u001b[0m\u001b[0;34m)\u001b[0m\u001b[0;34m\u001b[0m\u001b[0;34m\u001b[0m\u001b[0m\n\u001b[0m",
      "\u001b[0;32m~/miniconda3/envs/ml_new/lib/python3.7/site-packages/sklearn/model_selection/_search.py\u001b[0m in \u001b[0;36mfit\u001b[0;34m(self, X, y, groups, **fit_params)\u001b[0m\n\u001b[1;32m    708\u001b[0m                 \u001b[0;32mreturn\u001b[0m \u001b[0mresults\u001b[0m\u001b[0;34m\u001b[0m\u001b[0;34m\u001b[0m\u001b[0m\n\u001b[1;32m    709\u001b[0m \u001b[0;34m\u001b[0m\u001b[0m\n\u001b[0;32m--> 710\u001b[0;31m             \u001b[0mself\u001b[0m\u001b[0;34m.\u001b[0m\u001b[0m_run_search\u001b[0m\u001b[0;34m(\u001b[0m\u001b[0mevaluate_candidates\u001b[0m\u001b[0;34m)\u001b[0m\u001b[0;34m\u001b[0m\u001b[0;34m\u001b[0m\u001b[0m\n\u001b[0m\u001b[1;32m    711\u001b[0m \u001b[0;34m\u001b[0m\u001b[0m\n\u001b[1;32m    712\u001b[0m         \u001b[0;31m# For multi-metric evaluation, store the best_index_, best_params_ and\u001b[0m\u001b[0;34m\u001b[0m\u001b[0;34m\u001b[0m\u001b[0;34m\u001b[0m\u001b[0m\n",
      "\u001b[0;32m~/miniconda3/envs/ml_new/lib/python3.7/site-packages/sklearn/model_selection/_search.py\u001b[0m in \u001b[0;36m_run_search\u001b[0;34m(self, evaluate_candidates)\u001b[0m\n\u001b[1;32m   1149\u001b[0m     \u001b[0;32mdef\u001b[0m \u001b[0m_run_search\u001b[0m\u001b[0;34m(\u001b[0m\u001b[0mself\u001b[0m\u001b[0;34m,\u001b[0m \u001b[0mevaluate_candidates\u001b[0m\u001b[0;34m)\u001b[0m\u001b[0;34m:\u001b[0m\u001b[0;34m\u001b[0m\u001b[0;34m\u001b[0m\u001b[0m\n\u001b[1;32m   1150\u001b[0m         \u001b[0;34m\"\"\"Search all candidates in param_grid\"\"\"\u001b[0m\u001b[0;34m\u001b[0m\u001b[0;34m\u001b[0m\u001b[0m\n\u001b[0;32m-> 1151\u001b[0;31m         \u001b[0mevaluate_candidates\u001b[0m\u001b[0;34m(\u001b[0m\u001b[0mParameterGrid\u001b[0m\u001b[0;34m(\u001b[0m\u001b[0mself\u001b[0m\u001b[0;34m.\u001b[0m\u001b[0mparam_grid\u001b[0m\u001b[0;34m)\u001b[0m\u001b[0;34m)\u001b[0m\u001b[0;34m\u001b[0m\u001b[0;34m\u001b[0m\u001b[0m\n\u001b[0m\u001b[1;32m   1152\u001b[0m \u001b[0;34m\u001b[0m\u001b[0m\n\u001b[1;32m   1153\u001b[0m \u001b[0;34m\u001b[0m\u001b[0m\n",
      "\u001b[0;32m~/miniconda3/envs/ml_new/lib/python3.7/site-packages/sklearn/model_selection/_search.py\u001b[0m in \u001b[0;36mevaluate_candidates\u001b[0;34m(candidate_params)\u001b[0m\n\u001b[1;32m    687\u001b[0m                                \u001b[0;32mfor\u001b[0m \u001b[0mparameters\u001b[0m\u001b[0;34m,\u001b[0m \u001b[0;34m(\u001b[0m\u001b[0mtrain\u001b[0m\u001b[0;34m,\u001b[0m \u001b[0mtest\u001b[0m\u001b[0;34m)\u001b[0m\u001b[0;34m\u001b[0m\u001b[0;34m\u001b[0m\u001b[0m\n\u001b[1;32m    688\u001b[0m                                in product(candidate_params,\n\u001b[0;32m--> 689\u001b[0;31m                                           cv.split(X, y, groups)))\n\u001b[0m\u001b[1;32m    690\u001b[0m \u001b[0;34m\u001b[0m\u001b[0m\n\u001b[1;32m    691\u001b[0m                 \u001b[0;32mif\u001b[0m \u001b[0mlen\u001b[0m\u001b[0;34m(\u001b[0m\u001b[0mout\u001b[0m\u001b[0;34m)\u001b[0m \u001b[0;34m<\u001b[0m \u001b[0;36m1\u001b[0m\u001b[0;34m:\u001b[0m\u001b[0;34m\u001b[0m\u001b[0;34m\u001b[0m\u001b[0m\n",
      "\u001b[0;32m~/miniconda3/envs/ml_new/lib/python3.7/site-packages/joblib/parallel.py\u001b[0m in \u001b[0;36m__call__\u001b[0;34m(self, iterable)\u001b[0m\n\u001b[1;32m   1015\u001b[0m \u001b[0;34m\u001b[0m\u001b[0m\n\u001b[1;32m   1016\u001b[0m             \u001b[0;32mwith\u001b[0m \u001b[0mself\u001b[0m\u001b[0;34m.\u001b[0m\u001b[0m_backend\u001b[0m\u001b[0;34m.\u001b[0m\u001b[0mretrieval_context\u001b[0m\u001b[0;34m(\u001b[0m\u001b[0;34m)\u001b[0m\u001b[0;34m:\u001b[0m\u001b[0;34m\u001b[0m\u001b[0;34m\u001b[0m\u001b[0m\n\u001b[0;32m-> 1017\u001b[0;31m                 \u001b[0mself\u001b[0m\u001b[0;34m.\u001b[0m\u001b[0mretrieve\u001b[0m\u001b[0;34m(\u001b[0m\u001b[0;34m)\u001b[0m\u001b[0;34m\u001b[0m\u001b[0;34m\u001b[0m\u001b[0m\n\u001b[0m\u001b[1;32m   1018\u001b[0m             \u001b[0;31m# Make sure that we get a last message telling us we are done\u001b[0m\u001b[0;34m\u001b[0m\u001b[0;34m\u001b[0m\u001b[0;34m\u001b[0m\u001b[0m\n\u001b[1;32m   1019\u001b[0m             \u001b[0melapsed_time\u001b[0m \u001b[0;34m=\u001b[0m \u001b[0mtime\u001b[0m\u001b[0;34m.\u001b[0m\u001b[0mtime\u001b[0m\u001b[0;34m(\u001b[0m\u001b[0;34m)\u001b[0m \u001b[0;34m-\u001b[0m \u001b[0mself\u001b[0m\u001b[0;34m.\u001b[0m\u001b[0m_start_time\u001b[0m\u001b[0;34m\u001b[0m\u001b[0;34m\u001b[0m\u001b[0m\n",
      "\u001b[0;32m~/miniconda3/envs/ml_new/lib/python3.7/site-packages/joblib/parallel.py\u001b[0m in \u001b[0;36mretrieve\u001b[0;34m(self)\u001b[0m\n\u001b[1;32m    907\u001b[0m             \u001b[0;32mtry\u001b[0m\u001b[0;34m:\u001b[0m\u001b[0;34m\u001b[0m\u001b[0;34m\u001b[0m\u001b[0m\n\u001b[1;32m    908\u001b[0m                 \u001b[0;32mif\u001b[0m \u001b[0mgetattr\u001b[0m\u001b[0;34m(\u001b[0m\u001b[0mself\u001b[0m\u001b[0;34m.\u001b[0m\u001b[0m_backend\u001b[0m\u001b[0;34m,\u001b[0m \u001b[0;34m'supports_timeout'\u001b[0m\u001b[0;34m,\u001b[0m \u001b[0;32mFalse\u001b[0m\u001b[0;34m)\u001b[0m\u001b[0;34m:\u001b[0m\u001b[0;34m\u001b[0m\u001b[0;34m\u001b[0m\u001b[0m\n\u001b[0;32m--> 909\u001b[0;31m                     \u001b[0mself\u001b[0m\u001b[0;34m.\u001b[0m\u001b[0m_output\u001b[0m\u001b[0;34m.\u001b[0m\u001b[0mextend\u001b[0m\u001b[0;34m(\u001b[0m\u001b[0mjob\u001b[0m\u001b[0;34m.\u001b[0m\u001b[0mget\u001b[0m\u001b[0;34m(\u001b[0m\u001b[0mtimeout\u001b[0m\u001b[0;34m=\u001b[0m\u001b[0mself\u001b[0m\u001b[0;34m.\u001b[0m\u001b[0mtimeout\u001b[0m\u001b[0;34m)\u001b[0m\u001b[0;34m)\u001b[0m\u001b[0;34m\u001b[0m\u001b[0;34m\u001b[0m\u001b[0m\n\u001b[0m\u001b[1;32m    910\u001b[0m                 \u001b[0;32melse\u001b[0m\u001b[0;34m:\u001b[0m\u001b[0;34m\u001b[0m\u001b[0;34m\u001b[0m\u001b[0m\n\u001b[1;32m    911\u001b[0m                     \u001b[0mself\u001b[0m\u001b[0;34m.\u001b[0m\u001b[0m_output\u001b[0m\u001b[0;34m.\u001b[0m\u001b[0mextend\u001b[0m\u001b[0;34m(\u001b[0m\u001b[0mjob\u001b[0m\u001b[0;34m.\u001b[0m\u001b[0mget\u001b[0m\u001b[0;34m(\u001b[0m\u001b[0;34m)\u001b[0m\u001b[0;34m)\u001b[0m\u001b[0;34m\u001b[0m\u001b[0;34m\u001b[0m\u001b[0m\n",
      "\u001b[0;32m~/miniconda3/envs/ml_new/lib/python3.7/site-packages/joblib/_parallel_backends.py\u001b[0m in \u001b[0;36mwrap_future_result\u001b[0;34m(future, timeout)\u001b[0m\n\u001b[1;32m    560\u001b[0m         AsyncResults.get from multiprocessing.\"\"\"\n\u001b[1;32m    561\u001b[0m         \u001b[0;32mtry\u001b[0m\u001b[0;34m:\u001b[0m\u001b[0;34m\u001b[0m\u001b[0;34m\u001b[0m\u001b[0m\n\u001b[0;32m--> 562\u001b[0;31m             \u001b[0;32mreturn\u001b[0m \u001b[0mfuture\u001b[0m\u001b[0;34m.\u001b[0m\u001b[0mresult\u001b[0m\u001b[0;34m(\u001b[0m\u001b[0mtimeout\u001b[0m\u001b[0;34m=\u001b[0m\u001b[0mtimeout\u001b[0m\u001b[0;34m)\u001b[0m\u001b[0;34m\u001b[0m\u001b[0;34m\u001b[0m\u001b[0m\n\u001b[0m\u001b[1;32m    563\u001b[0m         \u001b[0;32mexcept\u001b[0m \u001b[0mLokyTimeoutError\u001b[0m\u001b[0;34m:\u001b[0m\u001b[0;34m\u001b[0m\u001b[0;34m\u001b[0m\u001b[0m\n\u001b[1;32m    564\u001b[0m             \u001b[0;32mraise\u001b[0m \u001b[0mTimeoutError\u001b[0m\u001b[0;34m(\u001b[0m\u001b[0;34m)\u001b[0m\u001b[0;34m\u001b[0m\u001b[0;34m\u001b[0m\u001b[0m\n",
      "\u001b[0;32m~/miniconda3/envs/ml_new/lib/python3.7/concurrent/futures/_base.py\u001b[0m in \u001b[0;36mresult\u001b[0;34m(self, timeout)\u001b[0m\n\u001b[1;32m    428\u001b[0m                 \u001b[0;32mreturn\u001b[0m \u001b[0mself\u001b[0m\u001b[0;34m.\u001b[0m\u001b[0m__get_result\u001b[0m\u001b[0;34m(\u001b[0m\u001b[0;34m)\u001b[0m\u001b[0;34m\u001b[0m\u001b[0;34m\u001b[0m\u001b[0m\n\u001b[1;32m    429\u001b[0m \u001b[0;34m\u001b[0m\u001b[0m\n\u001b[0;32m--> 430\u001b[0;31m             \u001b[0mself\u001b[0m\u001b[0;34m.\u001b[0m\u001b[0m_condition\u001b[0m\u001b[0;34m.\u001b[0m\u001b[0mwait\u001b[0m\u001b[0;34m(\u001b[0m\u001b[0mtimeout\u001b[0m\u001b[0;34m)\u001b[0m\u001b[0;34m\u001b[0m\u001b[0;34m\u001b[0m\u001b[0m\n\u001b[0m\u001b[1;32m    431\u001b[0m \u001b[0;34m\u001b[0m\u001b[0m\n\u001b[1;32m    432\u001b[0m             \u001b[0;32mif\u001b[0m \u001b[0mself\u001b[0m\u001b[0;34m.\u001b[0m\u001b[0m_state\u001b[0m \u001b[0;32min\u001b[0m \u001b[0;34m[\u001b[0m\u001b[0mCANCELLED\u001b[0m\u001b[0;34m,\u001b[0m \u001b[0mCANCELLED_AND_NOTIFIED\u001b[0m\u001b[0;34m]\u001b[0m\u001b[0;34m:\u001b[0m\u001b[0;34m\u001b[0m\u001b[0;34m\u001b[0m\u001b[0m\n",
      "\u001b[0;32m~/miniconda3/envs/ml_new/lib/python3.7/threading.py\u001b[0m in \u001b[0;36mwait\u001b[0;34m(self, timeout)\u001b[0m\n\u001b[1;32m    294\u001b[0m         \u001b[0;32mtry\u001b[0m\u001b[0;34m:\u001b[0m    \u001b[0;31m# restore state no matter what (e.g., KeyboardInterrupt)\u001b[0m\u001b[0;34m\u001b[0m\u001b[0;34m\u001b[0m\u001b[0m\n\u001b[1;32m    295\u001b[0m             \u001b[0;32mif\u001b[0m \u001b[0mtimeout\u001b[0m \u001b[0;32mis\u001b[0m \u001b[0;32mNone\u001b[0m\u001b[0;34m:\u001b[0m\u001b[0;34m\u001b[0m\u001b[0;34m\u001b[0m\u001b[0m\n\u001b[0;32m--> 296\u001b[0;31m                 \u001b[0mwaiter\u001b[0m\u001b[0;34m.\u001b[0m\u001b[0macquire\u001b[0m\u001b[0;34m(\u001b[0m\u001b[0;34m)\u001b[0m\u001b[0;34m\u001b[0m\u001b[0;34m\u001b[0m\u001b[0m\n\u001b[0m\u001b[1;32m    297\u001b[0m                 \u001b[0mgotit\u001b[0m \u001b[0;34m=\u001b[0m \u001b[0;32mTrue\u001b[0m\u001b[0;34m\u001b[0m\u001b[0;34m\u001b[0m\u001b[0m\n\u001b[1;32m    298\u001b[0m             \u001b[0;32melse\u001b[0m\u001b[0;34m:\u001b[0m\u001b[0;34m\u001b[0m\u001b[0;34m\u001b[0m\u001b[0m\n",
      "\u001b[0;31mKeyboardInterrupt\u001b[0m: "
     ]
    }
   ],
   "source": [
    "gs.fit(X_CMU_train, y_CMU_train)"
   ]
  },
  {
   "cell_type": "code",
   "execution_count": null,
   "metadata": {},
   "outputs": [],
   "source": [
    "print(gs.best_params_)"
   ]
  },
  {
   "cell_type": "code",
   "execution_count": 26,
   "metadata": {
    "scrolled": false
   },
   "outputs": [
    {
     "name": "stdout",
     "output_type": "stream",
     "text": [
      "The best mean error rate is 80.31\n"
     ]
    },
    {
     "data": {
      "text/plain": [
       "<function TextIOWrapper.close()>"
      ]
     },
     "execution_count": 26,
     "metadata": {},
     "output_type": "execute_result"
    }
   ],
   "source": [
    "print('The best mean error rate is', round(-gs.best_score_,2))\n",
    "\n",
    "with open('skin_model_errors.txt', 'a') as out:\n",
    "   out.write('CMU_skin_train_meta\\t'+str(round(-gs.best_score_,2))+'\\n')\n",
    "out.close"
   ]
  },
  {
   "cell_type": "code",
   "execution_count": 27,
   "metadata": {},
   "outputs": [
    {
     "data": {
      "text/plain": [
       "['models/PMI3_Metab_CMU_skin_train.pkl']"
      ]
     },
     "execution_count": 27,
     "metadata": {},
     "output_type": "execute_result"
    }
   ],
   "source": [
    "joblib.dump(gs.best_estimator_, 'models/PMI3_Metab_CMU_skin_train.pkl')"
   ]
  },
  {
   "cell_type": "code",
   "execution_count": 28,
   "metadata": {},
   "outputs": [],
   "source": [
    "model_Metab_CMU_train = joblib.load('models/PMI3_Metab_CMU_skin_train.pkl')"
   ]
  },
  {
   "cell_type": "code",
   "execution_count": 29,
   "metadata": {
    "scrolled": true
   },
   "outputs": [
    {
     "data": {
      "text/plain": [
       "RandomForestRegressor(bootstrap=False, ccp_alpha=0.0, criterion='mae',\n",
       "                      max_depth=4, max_features=0.1, max_leaf_nodes=None,\n",
       "                      max_samples=None, min_impurity_decrease=0.0,\n",
       "                      min_impurity_split=None, min_samples_leaf=1,\n",
       "                      min_samples_split=0.001, min_weight_fraction_leaf=0.01,\n",
       "                      n_estimators=1000, n_jobs=None, oob_score=False,\n",
       "                      random_state=999, verbose=0, warm_start=False)"
      ]
     },
     "execution_count": 29,
     "metadata": {},
     "output_type": "execute_result"
    }
   ],
   "source": [
    "model_Metab_CMU_train"
   ]
  },
  {
   "cell_type": "markdown",
   "metadata": {},
   "source": [
    "## Recursive Feature Elimination "
   ]
  },
  {
   "cell_type": "markdown",
   "metadata": {},
   "source": [
    "### Uses the best estimator from the above model and performs 5% removal recursive steps"
   ]
  },
  {
   "cell_type": "code",
   "execution_count": 46,
   "metadata": {},
   "outputs": [],
   "source": [
    "rfecv = RFECV(estimator=model_Metab_CMU_train, step=0.05, min_features_to_select=100, cv=list(gkf.split(X_CMU_train, y_CMU_train, groups)), scoring='neg_mean_absolute_error', n_jobs=-3)"
   ]
  },
  {
   "cell_type": "code",
   "execution_count": 47,
   "metadata": {},
   "outputs": [
    {
     "data": {
      "text/plain": [
       "RFECV(cv=[(array([  0,   1,   2,   3,   4,   5,   6,   7,   8,   9,  10,  11,  12,\n",
       "        13,  14,  15,  16,  17,  18,  19,  20,  21,  22,  23,  24,  25,\n",
       "        26,  27,  36,  37,  38,  39,  40,  41,  42,  43,  44,  45,  52,\n",
       "        64,  65,  66,  67,  68,  80,  81,  82,  83,  84,  85,  86,  87,\n",
       "        88,  89,  90,  91,  92,  93,  94,  96,  97,  98,  99, 102, 103,\n",
       "       104, 105, 108, 109, 110, 111, 112, 113, 114, 115, 116, 117, 118,\n",
       "       119, 120, 121, 122, 123, 124, 125, 126, 127, 128, 129, 130, 131,\n",
       "       132, 133, 134, 135, 136, 137, 138, 139, 140, 141, 1...\n",
       "                                      max_features=0.1, max_leaf_nodes=None,\n",
       "                                      max_samples=None,\n",
       "                                      min_impurity_decrease=0.0,\n",
       "                                      min_impurity_split=None,\n",
       "                                      min_samples_leaf=1,\n",
       "                                      min_samples_split=0.001,\n",
       "                                      min_weight_fraction_leaf=0.01,\n",
       "                                      n_estimators=1000, n_jobs=None,\n",
       "                                      oob_score=False, random_state=999,\n",
       "                                      verbose=0, warm_start=False),\n",
       "      min_features_to_select=25, n_jobs=-3, scoring='neg_mean_absolute_error',\n",
       "      step=0.05, verbose=0)"
      ]
     },
     "execution_count": 47,
     "metadata": {},
     "output_type": "execute_result"
    }
   ],
   "source": [
    "# Likely need to run on Summit\n",
    "rfecv.fit(X_CMU_train, y_CMU_train)"
   ]
  },
  {
   "cell_type": "code",
   "execution_count": 48,
   "metadata": {},
   "outputs": [
    {
     "name": "stdout",
     "output_type": "stream",
     "text": [
      "Number of steps performed: 21\n",
      "Optimal number of features : 25\n",
      "The best mean absolute error is: 79\n"
     ]
    }
   ],
   "source": [
    "print(\"Number of steps performed: %d\" % len(rfecv.grid_scores_))\n",
    "print(\"Optimal number of features : %d\" % rfecv.n_features_)\n",
    "print(\"The best mean absolute error is: %d\" % -(max(rfecv.grid_scores_)))"
   ]
  },
  {
   "cell_type": "code",
   "execution_count": 49,
   "metadata": {},
   "outputs": [
    {
     "data": {
      "image/png": "[encoded data removed]",
      "text/plain": [
       "<Figure size 576x360 with 1 Axes>"
      ]
     },
     "metadata": {
      "needs_background": "light"
     },
     "output_type": "display_data"
    }
   ],
   "source": [
    "# Plot number of features VS. cross-validation scores\n",
    "plt.figure(figsize=(8,5))\n",
    "plt.title('Recursive Feature Elimination with Cross-Validation', fontsize=14, fontweight='bold', pad=20)\n",
    "plt.xlabel(\"Number of Steps (5% of features added per step)\")\n",
    "plt.ylabel(\"Cross Validation Score (Mean Absolute Error)\")\n",
    "plt.plot(range(1, len(rfecv.grid_scores_) + 1), rfecv.grid_scores_, linewidth=2)\n",
    "plt.savefig('figures/CMU_skin_train_model_rfecv.png')"
   ]
  },
  {
   "cell_type": "code",
   "execution_count": 50,
   "metadata": {},
   "outputs": [
    {
     "data": {
      "text/plain": [
       "['models/PMI3_Metab_skin_CMU_train_rfecv.pkl']"
      ]
     },
     "execution_count": 50,
     "metadata": {},
     "output_type": "execute_result"
    }
   ],
   "source": [
    "# Saves the estimator fit on the reduced dataset (i.e. the model created from optimal features)\n",
    "joblib.dump(rfecv.estimator_, 'models/PMI3_Metab_skin_CMU_train_rfecv.pkl')"
   ]
  },
  {
   "cell_type": "code",
   "execution_count": 51,
   "metadata": {},
   "outputs": [
    {
     "data": {
      "text/plain": [
       "RandomForestRegressor(bootstrap=False, ccp_alpha=0.0, criterion='mae',\n",
       "                      max_depth=4, max_features=0.1, max_leaf_nodes=None,\n",
       "                      max_samples=None, min_impurity_decrease=0.0,\n",
       "                      min_impurity_split=None, min_samples_leaf=1,\n",
       "                      min_samples_split=0.001, min_weight_fraction_leaf=0.01,\n",
       "                      n_estimators=1000, n_jobs=None, oob_score=False,\n",
       "                      random_state=999, verbose=0, warm_start=False)"
      ]
     },
     "execution_count": 51,
     "metadata": {},
     "output_type": "execute_result"
    }
   ],
   "source": [
    "model_Metab_CMU_train_rfecv = joblib.load('models/PMI3_Metab_skin_CMU_train_rfecv.pkl')\n",
    "model_Metab_CMU_train_rfecv"
   ]
  },
  {
   "cell_type": "markdown",
   "metadata": {},
   "source": [
    "### Predicting training data (will be overfit but good sanity check)"
   ]
  },
  {
   "cell_type": "code",
   "execution_count": 52,
   "metadata": {},
   "outputs": [
    {
     "name": "stdout",
     "output_type": "stream",
     "text": [
      "Mean Absolute Error: 36.26 ADD\n",
      "Coefficient of determination R^2 of the prediction: 0.79\n"
     ]
    }
   ],
   "source": [
    "# Removes the unimportant features from X\n",
    "X_CMU_train = rfecv.transform(X_CMU_train)\n",
    "\n",
    "yhat = model_Metab_CMU_train_rfecv.predict(X_CMU_train)\n",
    "MAE = mean_absolute_error(y_CMU_train, yhat)\n",
    "print('Mean Absolute Error:', round(MAE, 2), 'ADD')\n",
    "\n",
    "#Score of best estimator when used to estimate training data (will be overfit)\n",
    "print('Coefficient of determination R^2 of the prediction:', round(model_Metab_CMU_train_rfecv.score(X_CMU_train,y_CMU_train),2))"
   ]
  },
  {
   "cell_type": "code",
   "execution_count": 53,
   "metadata": {},
   "outputs": [
    {
     "data": {
      "image/png": "[encoded data removed]",
      "text/plain": [
       "<Figure size 432x288 with 1 Axes>"
      ]
     },
     "metadata": {
      "needs_background": "light"
     },
     "output_type": "display_data"
    }
   ],
   "source": [
    "plt.scatter(yhat, y_CMU_train, color = 'maroon')\n",
    "lower = np.min(np.concatenate([y_CMU_train, yhat]))\n",
    "upper = np.max(np.concatenate([y_CMU_train, yhat]))\n",
    "plt.plot([lower, upper], [lower, upper], color = 'black', lw = 2, ls = ':')\n",
    "plt.xlim(0,600)\n",
    "plt.ylim(0,600)\n",
    "\n",
    "#regression part\n",
    "slope, intercept, r_value, p_value, std_err = stats.linregress(yhat,y_CMU_train)\n",
    "line = slope*yhat+intercept\n",
    "plt.plot(yhat, line, color = 'black', lw = 2)\n",
    "\n",
    "plt.title('CMU skin model training\\n MAE = %d; $R^2$ = %.2f' %(round(MAE, 2),round(model_Metab_CMU_train_rfecv.score(X_CMU_train,y_CMU_train),2)))\n",
    "plt.xlabel(\"Predicted ADD\")\n",
    "plt.ylabel(\"Actual ADD\")\n",
    "plt.savefig('figures/CMU_skin_model_training.png')"
   ]
  },
  {
   "cell_type": "markdown",
   "metadata": {},
   "source": [
    "### Determine important features after RFECV"
   ]
  },
  {
   "cell_type": "code",
   "execution_count": 47,
   "metadata": {},
   "outputs": [
    {
     "name": "stdout",
     "output_type": "stream",
     "text": [
      "Feature:\t\t\t\tImportance:\n",
      "1. total_precipitation_cm\t0.24240029849724573\n",
      "2. season=winter\t0.17391860327568515\n",
      "3. avg_percent_humidity\t0.17125483391758833\n",
      "4. season=fall\t0.1448580683195729\n",
      "5. season=spring\t0.13871497974696712\n",
      "6. season=summer\t0.12885321624294085\n"
     ]
    }
   ],
   "source": [
    "importances = model_Metab_CMU_train_rfecv.feature_importances_\n",
    "std = np.std([tree.feature_importances_ for tree in model_Metab_CMU_train_rfecv.estimators_],\n",
    "             axis=0)\n",
    "indices = np.argsort(importances)[::-1]\n",
    "\n",
    "feature_metadata = Metab_train_skin_CMU_meta.feature_metadata\n",
    "np.savetxt(\"feature_metadata/CMU_skin_train_feature_metadata_rfecv.csv\", feature_metadata, delimiter=\",\", fmt='%s')\n",
    "\n",
    "\n",
    "#print the important ids in order\n",
    "skin_importances = []\n",
    "count = 0\n",
    "print(\"Feature:\\t\\t\\t\\tImportance:\")\n",
    "for i in indices:\n",
    "    skin_importances += (Metab_train_skin_CMU_meta.feature_metadata.index.values[i], importances[indices[count]])\n",
    "    if count < 25:\n",
    "        print(str(count+1)+\". \"+str(Metab_train_skin_CMU_meta.feature_metadata.index.values[i])+\"\\t\"+str(importances[indices[count]]))\n",
    "    count += 1"
   ]
  },
  {
   "cell_type": "code",
   "execution_count": 48,
   "metadata": {},
   "outputs": [
    {
     "name": "stdout",
     "output_type": "stream",
     "text": [
      "Number of features present: 6\n"
     ]
    }
   ],
   "source": [
    "# make sure shape is right\n",
    "print(\"Number of features present:\", int(len(skin_importances)/2))\n",
    "skin_importances_df = pd.DataFrame(np.array(skin_importances).reshape(int(len(skin_importances)/2),2))\n",
    "\n",
    "np.savetxt(\"importances/CMU_skin_train_importances.csv\", skin_importances_df, delimiter=\",\", fmt='%s')"
   ]
  },
  {
   "cell_type": "markdown",
   "metadata": {},
   "source": [
    "## Testing on validaiton set"
   ]
  },
  {
   "cell_type": "code",
   "execution_count": 49,
   "metadata": {},
   "outputs": [
    {
     "data": {
      "text/plain": [
       "SHSU    83\n",
       "Name: facility, dtype: int64"
      ]
     },
     "execution_count": 49,
     "metadata": {},
     "output_type": "execute_result"
    }
   ],
   "source": [
    "Metab_val_skin_CMU = Metab_val_skin.filter_samples('facility', 'SHSU')\n",
    "Metab_val_skin_CMU.sample_metadata.facility.value_counts()"
   ]
  },
  {
   "cell_type": "code",
   "execution_count": 50,
   "metadata": {},
   "outputs": [
    {
     "name": "stderr",
     "output_type": "stream",
     "text": [
      "/Users/Zach/miniconda3/envs/ml/lib/python3.7/site-packages/calour/training.py:130: FutureWarning: Sorting because non-concatenation axis is not aligned. A future version\n",
      "of pandas will change to not sort by default.\n",
      "\n",
      "To accept the future behavior, pass 'sort=False'.\n",
      "\n",
      "To retain the current behavior and silence the warning, pass 'sort=True'.\n",
      "\n",
      "  new.feature_metadata = pd.concat([pd.DataFrame(index=vec.get_feature_names()), new.feature_metadata])\n"
     ]
    }
   ],
   "source": [
    "Metab_val_skin_CMU_meta = Metab_val_skin_CMU.add_sample_metadata_as_features(['season','avg_percent_humidity','total_precipitation_cm'])"
   ]
  },
  {
   "cell_type": "code",
   "execution_count": 51,
   "metadata": {
    "scrolled": true
   },
   "outputs": [
    {
     "name": "stdout",
     "output_type": "stream",
     "text": [
      "Mean Absolute Error: 86.83 ADD\n",
      "Coefficient of determination R^2 of the prediction: 0.26\n"
     ]
    },
    {
     "data": {
      "text/plain": [
       "<function TextIOWrapper.close()>"
      ]
     },
     "execution_count": 51,
     "metadata": {},
     "output_type": "execute_result"
    }
   ],
   "source": [
    "X_CMU_val = rfecv.transform(Metab_val_skin_CMU_meta.data) #removing the unimportant features from X as determined by RFECV\n",
    "y_CMU_val = Metab_val_skin_CMU_meta.sample_metadata['add_0c']\n",
    "y_CMU_val = (y_CMU_val.astype(float))\n",
    "\n",
    "yhat = model_Metab_CMU_train_rfecv.predict(X_CMU_val)\n",
    "\n",
    "# cross-model error (cross-experiment error)\n",
    "MAE = mean_absolute_error(y_CMU_val, yhat)\n",
    "print('Mean Absolute Error:', round(MAE, 2), 'ADD')\n",
    "# Print R2 score\n",
    "print('Coefficient of determination R^2 of the prediction:', round(model_Metab_CMU_train_rfecv.score(X_CMU_val,y_CMU_val),2))\n",
    "\n",
    "with open('skin_model_errors.txt', 'a') as out:\n",
    "    out.write('CMU_skin_train_pred_val\\t'+str(round(MAE, 2))+'\\t'+str(round(model_Metab_CMU_train_rfecv.score(X_CMU_val,y_CMU_val),2))+'\\n')\n",
    "out.close"
   ]
  },
  {
   "cell_type": "code",
   "execution_count": 52,
   "metadata": {
    "scrolled": true
   },
   "outputs": [
    {
     "data": {
      "image/png": "[encoded data removed]",
      "text/plain": [
       "<Figure size 432x288 with 1 Axes>"
      ]
     },
     "metadata": {
      "needs_background": "light"
     },
     "output_type": "display_data"
    }
   ],
   "source": [
    "plt.scatter(yhat, y_CMU_val, color = 'maroon')\n",
    "lower = np.min(np.concatenate([y_CMU_val, yhat]))\n",
    "upper = np.max(np.concatenate([y_CMU_val, yhat]))\n",
    "plt.plot([lower, upper], [lower, upper], color = 'black', lw = 2, ls = ':')\n",
    "plt.xlim(0,600)\n",
    "plt.ylim(0,600)\n",
    "\n",
    "#regression part\n",
    "slope, intercept, r_value, p_value, std_err = stats.linregress(yhat,y_CMU_val)\n",
    "line = slope*yhat+intercept\n",
    "plt.plot(yhat, line, color = 'black', lw = 2)\n",
    "\n",
    "plt.title('CMU skin model pred CMU\\n MAE = %d; $R^2$ = %.2f' %(round(MAE, 2),round(model_Metab_CMU_train_rfecv.score(X_CMU_val,y_CMU_val),2)))\n",
    "plt.xlabel(\"Predicted ADD\")\n",
    "plt.ylabel(\"Actual ADD\")\n",
    "plt.savefig('figures/CMU_skin_model_validation.png')"
   ]
  },
  {
   "cell_type": "markdown",
   "metadata": {},
   "source": [
    "## Full CMU model"
   ]
  },
  {
   "cell_type": "code",
   "execution_count": 53,
   "metadata": {},
   "outputs": [
    {
     "data": {
      "text/plain": [
       "CMU    248\n",
       "Name: facility, dtype: int64"
      ]
     },
     "execution_count": 53,
     "metadata": {},
     "output_type": "execute_result"
    }
   ],
   "source": [
    "Metab_CMU = allMetab_skin.filter_samples('facility', 'CMU')\n",
    "Metab_CMU.sample_metadata.facility.value_counts()"
   ]
  },
  {
   "cell_type": "code",
   "execution_count": 45,
   "metadata": {},
   "outputs": [
    {
     "data": {
      "text/plain": [
       "17-12             21\n",
       "17-10             21\n",
       "Mr 17-04          21\n",
       "16-14             21\n",
       "Mrs. 17-01        21\n",
       "CMU_Mr._16_04     21\n",
       "CMU_Mrs._16_03    21\n",
       "Mr. 16-15         21\n",
       "Mrs. 16-09        21\n",
       "CMU_Mrs._16_05    21\n",
       "16-12             21\n",
       "Mrs. 16-10        17\n",
       "Name: subjectID, dtype: int64"
      ]
     },
     "execution_count": 45,
     "metadata": {},
     "output_type": "execute_result"
    }
   ],
   "source": [
    "Metab_CMU.sample_metadata.subjectID.value_counts()"
   ]
  },
  {
   "cell_type": "code",
   "execution_count": 56,
   "metadata": {},
   "outputs": [
    {
     "name": "stderr",
     "output_type": "stream",
     "text": [
      "/Users/Zach/miniconda3/envs/ml/lib/python3.7/site-packages/calour/training.py:130: FutureWarning: Sorting because non-concatenation axis is not aligned. A future version\n",
      "of pandas will change to not sort by default.\n",
      "\n",
      "To accept the future behavior, pass 'sort=False'.\n",
      "\n",
      "To retain the current behavior and silence the warning, pass 'sort=True'.\n",
      "\n",
      "  new.feature_metadata = pd.concat([pd.DataFrame(index=vec.get_feature_names()), new.feature_metadata])\n"
     ]
    }
   ],
   "source": [
    "Metab_CMU_meta = Metab_CMU.add_sample_metadata_as_features(['season','avg_percent_humidity','total_precipitation_cm'])\n",
    "\n",
    "gkf = GroupKFold(4)\n",
    "\n",
    "X_CMU = Metab_CMU_meta.data\n",
    "y_CMU = Metab_CMU_meta.sample_metadata['add_0c']\n",
    "y_CMU = (y_CMU.astype(float))\n",
    "groups = Metab_CMU_meta.sample_metadata['subjectID']\n",
    "# Tested this param grid on Summit to expand hyperparameter tuning\n",
    "#param_grid = {\"max_depth\": [4, 8, 16, None],\n",
    "#              \"max_features\": ['sqrt', 'log2', 0.1],\n",
    "#              \"min_samples_split\": [0.001, 0.01, 0.1],\n",
    "#              \"min_weight_fraction_leaf\": [0.0001, 0.001, 0.01],\n",
    "#              \"bootstrap\": [True, False]}\n",
    "# It provided this best model:\n",
    "# Takes too long to run on local computer; will need to run then import model from Summit\n",
    "\n",
    "param_grid = {\"max_depth\": [4],\n",
    "          \"max_features\": [0.1],\n",
    "          \"min_samples_split\": [0.001],\n",
    "          \"min_weight_fraction_leaf\": [0.01],\n",
    "          \"bootstrap\": [False]}\n",
    "rf = RandomForestRegressor(n_estimators=1000, random_state=999, criterion='mae')\n",
    "gs = GridSearchCV(rf, param_grid=param_grid, cv=gkf.split(X_CMU, y_CMU, groups), scoring='neg_mean_absolute_error', n_jobs=-3)"
   ]
  },
  {
   "cell_type": "code",
   "execution_count": 47,
   "metadata": {
    "scrolled": true
   },
   "outputs": [
    {
     "data": {
      "text/plain": [
       "GridSearchCV(cv=<generator object _BaseKFold.split at 0x11c8507c8>,\n",
       "       error_score='raise',\n",
       "       estimator=RandomForestRegressor(bootstrap=True, criterion='mae', max_depth=None,\n",
       "           max_features='auto', max_leaf_nodes=None,\n",
       "           min_impurity_decrease=0.0, min_impurity_split=None,\n",
       "           min_samples_leaf=1, min_samples_split=2,\n",
       "           min_weight_fraction_leaf=0.0, n_estimators=10, n_jobs=1,\n",
       "           oob_score=False, random_state=999, verbose=0, warm_start=False),\n",
       "       fit_params=None, iid=True, n_jobs=1,\n",
       "       param_grid={'max_depth': [8], 'max_features': [0.1], 'min_samples_split': [0.001], 'min_samples_leaf': [1], 'min_weight_fraction_leaf': [0.01], 'bootstrap': [False]},\n",
       "       pre_dispatch='2*n_jobs', refit=True, return_train_score='warn',\n",
       "       scoring='neg_mean_absolute_error', verbose=0)"
      ]
     },
     "execution_count": 47,
     "metadata": {},
     "output_type": "execute_result"
    }
   ],
   "source": [
    "gs.fit(X_CMU, y_CMU)"
   ]
  },
  {
   "cell_type": "code",
   "execution_count": null,
   "metadata": {},
   "outputs": [],
   "source": [
    "print(gs.best_params_)"
   ]
  },
  {
   "cell_type": "code",
   "execution_count": 48,
   "metadata": {
    "scrolled": false
   },
   "outputs": [
    {
     "name": "stdout",
     "output_type": "stream",
     "text": [
      "The best mean error rate is 63.1\n"
     ]
    },
    {
     "data": {
      "text/plain": [
       "<function TextIOWrapper.close()>"
      ]
     },
     "execution_count": 48,
     "metadata": {},
     "output_type": "execute_result"
    }
   ],
   "source": [
    "print('The best mean error rate is', round(-gs.best_score_,2))\n",
    "\n",
    "with open('skin_model_errors.txt', 'a') as out:\n",
    "   out.write('CMU_skin_meta\\t'+str(round(-gs.best_score_,2))+'\\n')\n",
    "out.close"
   ]
  },
  {
   "cell_type": "code",
   "execution_count": 49,
   "metadata": {},
   "outputs": [
    {
     "data": {
      "text/plain": [
       "['models/PMI3_Metab_CMU_skin_rfecv.pkl']"
      ]
     },
     "execution_count": 49,
     "metadata": {},
     "output_type": "execute_result"
    }
   ],
   "source": [
    "joblib.dump(gs.best_estimator_, 'models/PMI3_Metab_CMU_skin.pkl')"
   ]
  },
  {
   "cell_type": "code",
   "execution_count": 54,
   "metadata": {},
   "outputs": [],
   "source": [
    "model_Metab_CMU = joblib.load('models/PMI3_Metab_CMU_skin.pkl')"
   ]
  },
  {
   "cell_type": "code",
   "execution_count": 55,
   "metadata": {
    "scrolled": false
   },
   "outputs": [
    {
     "data": {
      "text/plain": [
       "RandomForestRegressor(bootstrap=False, criterion='mae', max_depth=4,\n",
       "           max_features=0.1, max_leaf_nodes=None,\n",
       "           min_impurity_decrease=0.0, min_impurity_split=None,\n",
       "           min_samples_leaf=1, min_samples_split=0.001,\n",
       "           min_weight_fraction_leaf=0.01, n_estimators=1000, n_jobs=1,\n",
       "           oob_score=False, random_state=999, verbose=0, warm_start=False)"
      ]
     },
     "execution_count": 55,
     "metadata": {},
     "output_type": "execute_result"
    }
   ],
   "source": [
    "model_Metab_CMU"
   ]
  },
  {
   "cell_type": "markdown",
   "metadata": {},
   "source": [
    "## Recursive Feature Elimination "
   ]
  },
  {
   "cell_type": "markdown",
   "metadata": {},
   "source": [
    "### Uses the best estimator from the above model and performs 5% removal recursive steps"
   ]
  },
  {
   "cell_type": "code",
   "execution_count": 52,
   "metadata": {},
   "outputs": [],
   "source": [
    "rfecv = RFECV(estimator=model_Metab_CMU, step=0.05, min_features_to_select=100, cv=list(gkf.split(X_CMU, y_CMU, groups)), scoring='neg_mean_absolute_error', n_jobs=-3)"
   ]
  },
  {
   "cell_type": "code",
   "execution_count": 53,
   "metadata": {},
   "outputs": [
    {
     "data": {
      "text/plain": [
       "RFECV(cv=[(array([  0,   1, ..., 246, 247]), array([  8,   9,  10,  11,  12,  13,  14,  15,  24,  25,  26,  27,  28,\n",
       "        43,  44,  45,  46,  48,  49,  50,  51,  83,  84,  85,  86,  87,\n",
       "        88,  91,  92,  93,  94,  95,  96,  97, 178, 179, 180, 181, 182,\n",
       "       183, 184, 185, 186, 187, 188, 189, 200... 161, 162, 163, 167, 168, 169, 170, 171, 172, 190, 207,\n",
       "       208, 209, 210, 211, 212, 213, 245]))],\n",
       "   estimator=RandomForestRegressor(bootstrap=False, criterion='mae', max_depth=8,\n",
       "           max_features=0.1, max_leaf_nodes=None,\n",
       "           min_impurity_decrease=0.0, min_impurity_split=None,\n",
       "           min_samples_leaf=1, min_samples_split=0.001,\n",
       "           min_weight_fraction_leaf=0.01, n_estimators=10, n_jobs=1,\n",
       "           oob_score=False, random_state=999, verbose=0, warm_start=False),\n",
       "   n_jobs=1, scoring='neg_mean_absolute_error', step=0.05, verbose=0)"
      ]
     },
     "execution_count": 53,
     "metadata": {},
     "output_type": "execute_result"
    }
   ],
   "source": [
    "# Likely need to run on Summit\n",
    "rfecv.fit(X_CMU, y_CMU)"
   ]
  },
  {
   "cell_type": "code",
   "execution_count": 54,
   "metadata": {},
   "outputs": [
    {
     "name": "stdout",
     "output_type": "stream",
     "text": [
      "Number of steps performed: 22\n",
      "Optimal number of features : 1766\n",
      "The best mean absolute error is: 59\n"
     ]
    }
   ],
   "source": [
    "print(\"Number of steps performed: %d\" % len(rfecv.grid_scores_))\n",
    "print(\"Optimal number of features : %d\" % rfecv.n_features_)\n",
    "print(\"The best mean absolute error is: %d\" % -(max(rfecv.grid_scores_)))"
   ]
  },
  {
   "cell_type": "code",
   "execution_count": 55,
   "metadata": {},
   "outputs": [
    {
     "data": {
      "image/png": "[encoded data removed]",
      "text/plain": [
       "<Figure size 576x360 with 1 Axes>"
      ]
     },
     "metadata": {
      "needs_background": "light"
     },
     "output_type": "display_data"
    }
   ],
   "source": [
    "# Plot number of features VS. cross-validation scores\n",
    "plt.figure(figsize=(8,5))\n",
    "plt.title('Recursive Feature Elimination with Cross-Validation', fontsize=14, fontweight='bold', pad=20)\n",
    "plt.xlabel(\"Number of Steps (5% of features added per step)\")\n",
    "plt.ylabel(\"Cross Validation Score (Mean Absolute Error)\")\n",
    "plt.plot(range(1, len(rfecv.grid_scores_) + 1), rfecv.grid_scores_, linewidth=2)\n",
    "plt.savefig('figures/CMU_skin_model_rfecv.png')"
   ]
  },
  {
   "cell_type": "code",
   "execution_count": 56,
   "metadata": {},
   "outputs": [
    {
     "data": {
      "text/plain": [
       "['models/PMI3_Metab_skin_CMU_rfecv.pkl']"
      ]
     },
     "execution_count": 56,
     "metadata": {},
     "output_type": "execute_result"
    }
   ],
   "source": [
    "# Saves the estimator fit on the reduced dataset (i.e. the model created from optimal features)\n",
    "joblib.dump(rfecv.estimator_, 'models/PMI3_Metab_skin_CMU_rfecv.pkl')"
   ]
  },
  {
   "cell_type": "code",
   "execution_count": 57,
   "metadata": {},
   "outputs": [
    {
     "data": {
      "text/plain": [
       "RandomForestRegressor(bootstrap=False, criterion='mae', max_depth=4,\n",
       "           max_features=0.1, max_leaf_nodes=None,\n",
       "           min_impurity_decrease=0.0, min_impurity_split=None,\n",
       "           min_samples_leaf=1, min_samples_split=0.001,\n",
       "           min_weight_fraction_leaf=0.01, n_estimators=1000, n_jobs=1,\n",
       "           oob_score=False, random_state=999, verbose=0, warm_start=False)"
      ]
     },
     "execution_count": 57,
     "metadata": {},
     "output_type": "execute_result"
    }
   ],
   "source": [
    "model_Metab_CMU_rfecv = joblib.load('models/PMI3_Metab_skin_CMU_rfecv.pkl')\n",
    "model_Metab_CMU_rfecv"
   ]
  },
  {
   "cell_type": "markdown",
   "metadata": {},
   "source": [
    "### Determine important features after RFECV"
   ]
  },
  {
   "cell_type": "code",
   "execution_count": 58,
   "metadata": {},
   "outputs": [
    {
     "name": "stdout",
     "output_type": "stream",
     "text": [
      "Feature:\t\t\t\tImportance:\n",
      "1. X228.23079588292_6.35603299435028\t0.08675024179674495\n",
      "2. X326.340475453795_8.1965404290429\t0.05799473021702757\n",
      "3. X352.356264209747_8.29605718749999\t0.046475206144069074\n",
      "4. X237.220427340176_7.13047029360967\t0.03910448875917925\n",
      "5. X270.278182922606_7.326998937583\t0.036326448264067834\n",
      "6. X192.137958241932_3.81698134328358\t0.03565494480802143\n",
      "7. avg_percent_humidity\t0.0308295265227053\n",
      "8. X354.371857869256_8.7059326460481\t0.030261610559464833\n",
      "9. X324.292402283678_7.72840526528958\t0.024841397562511875\n",
      "10. X200.200297817107_5.5910755376344\t0.024816493818120025\n",
      "11. X338.340824997771_8.0974091286307\t0.022593200485523747\n",
      "12. X341.304059024148_7.978558685446\t0.02245241077241888\n",
      "13. X256.262006528934_7.07576439121756\t0.022427031182844958\n",
      "14. X412.304847263645_6.60969774774774\t0.02163926827467066\n",
      "15. X254.247322840048_6.55874982269503\t0.021536004545871228\n",
      "16. X151.079256772994_3.4678234375\t0.015206945075772292\n",
      "17. X311.254663848876_6.79568055555555\t0.014225340222266101\n",
      "18. X386.289930479867_6.44190372023809\t0.01349760385204227\n",
      "19. X282.27712487174_7.23317913752913\t0.011486330469239756\n",
      "20. X277.213423203688_7.13919135897436\t0.0108712194533387\n",
      "21. X379.281138662169_7.3151881243629\t0.010844167038708247\n",
      "22. X296.293165677331_7.47388266068758\t0.010064605939224675\n",
      "23. X338.340748569973_8.40681924398625\t0.009659287134464989\n",
      "24. X577.225082602276_3.01076303131991\t0.009387318625093526\n",
      "25. X270.246493979576_6.97662823454429\t0.008963657655755644\n"
     ]
    }
   ],
   "source": [
    "importances = model_Metab_CMU_rfecv.feature_importances_\n",
    "std = np.std([tree.feature_importances_ for tree in model_Metab_CMU_rfecv.estimators_],\n",
    "             axis=0)\n",
    "indices = np.argsort(importances)[::-1]\n",
    "\n",
    "feature_metadata = Metab_CMU_meta.feature_metadata\n",
    "np.savetxt(\"feature_metadata/CMU_skin_feature_metadata_rfecv.csv\", feature_metadata, delimiter=\",\", fmt='%s')\n",
    "\n",
    "\n",
    "#print the important ids in order\n",
    "skin_importances = []\n",
    "count = 0\n",
    "print(\"Feature:\\t\\t\\t\\tImportance:\")\n",
    "for i in indices:\n",
    "    skin_importances += (Metab_CMU_meta.feature_metadata.index.values[i], importances[indices[count]])\n",
    "    if count < 25:\n",
    "        print(str(count+1)+\". \"+str(Metab_CMU_meta.feature_metadata.index.values[i])+\"\\t\"+str(importances[indices[count]]))\n",
    "    count += 1"
   ]
  },
  {
   "cell_type": "code",
   "execution_count": 59,
   "metadata": {},
   "outputs": [
    {
     "name": "stdout",
     "output_type": "stream",
     "text": [
      "Number of features present: 3526\n"
     ]
    }
   ],
   "source": [
    "# make sure shape is right\n",
    "print(\"Number of features present:\", int(len(skin_importances)/2))\n",
    "skin_importances_df = pd.DataFrame(np.array(skin_importances).reshape(int(len(skin_importances)/2),2))\n",
    "\n",
    "np.savetxt(\"importances/CMU_skin_importances.csv\", skin_importances_df, delimiter=\",\", fmt='%s')"
   ]
  },
  {
   "cell_type": "markdown",
   "metadata": {},
   "source": [
    "## Cross-facility predictions"
   ]
  },
  {
   "cell_type": "markdown",
   "metadata": {},
   "source": [
    "## CMU trained model\n",
    "### Test on SHSU"
   ]
  },
  {
   "cell_type": "code",
   "execution_count": 60,
   "metadata": {
    "scrolled": true
   },
   "outputs": [
    {
     "data": {
      "text/plain": [
       "(248, 1766)"
      ]
     },
     "execution_count": 60,
     "metadata": {},
     "output_type": "execute_result"
    }
   ],
   "source": [
    "rfecv.transform(X_CMU).shape"
   ]
  },
  {
   "cell_type": "code",
   "execution_count": 61,
   "metadata": {},
   "outputs": [
    {
     "name": "stderr",
     "output_type": "stream",
     "text": [
      "/Users/Zach/miniconda3/envs/ml/lib/python3.7/site-packages/calour/training.py:130: FutureWarning: Sorting because non-concatenation axis is not aligned. A future version\n",
      "of pandas will change to not sort by default.\n",
      "\n",
      "To accept the future behavior, pass 'sort=False'.\n",
      "\n",
      "To retain the current behavior and silence the warning, pass 'sort=True'.\n",
      "\n",
      "  new.feature_metadata = pd.concat([pd.DataFrame(index=vec.get_feature_names()), new.feature_metadata])\n"
     ]
    },
    {
     "data": {
      "text/plain": [
       "(249, 1766)"
      ]
     },
     "execution_count": 61,
     "metadata": {},
     "output_type": "execute_result"
    }
   ],
   "source": [
    "Metab_SHSU = allMetab_skin.filter_samples('facility', 'SHSU')\n",
    "Metab_SHSU_meta = Metab_SHSU.add_sample_metadata_as_features(['season','avg_percent_humidity','total_precipitation_cm'])\n",
    "rfecv.transform(Metab_SHSU_meta.data).shape"
   ]
  },
  {
   "cell_type": "code",
   "execution_count": 62,
   "metadata": {},
   "outputs": [],
   "source": [
    "yhat = model_Metab_CMU_rfecv.predict(rfecv.transform(Metab_SHSU_meta.data))"
   ]
  },
  {
   "cell_type": "code",
   "execution_count": 63,
   "metadata": {
    "scrolled": true
   },
   "outputs": [
    {
     "name": "stdout",
     "output_type": "stream",
     "text": [
      "Mean Absolute Error: 85.85 ADD\n",
      "Coefficient of determination R^2 of the prediction: 0.33\n"
     ]
    },
    {
     "data": {
      "text/plain": [
       "<function TextIOWrapper.close()>"
      ]
     },
     "execution_count": 63,
     "metadata": {},
     "output_type": "execute_result"
    }
   ],
   "source": [
    "# cross-model error (cross-experiment error)\n",
    "MAE = mean_absolute_error(Metab_SHSU_meta.sample_metadata.add_0c, yhat)\n",
    "print('Mean Absolute Error:', round(MAE, 2), 'ADD')\n",
    "# Print R2 score\n",
    "print('Coefficient of determination R^2 of the prediction:', round(model_Metab_CMU_rfecv.score(rfecv.transform(Metab_SHSU_meta.data),Metab_SHSU_meta.sample_metadata['add_0c'].astype(float)),2))\n",
    "\n",
    "with open('skin_model_errors.txt', 'a') as out:\n",
    "   out.write('CMU_skin_model_pred_SHSU_meta\\t'+str(round(MAE,2))+'\\t'+str(round(model_Metab_CMU_rfecv.score(rfecv.transform(Metab_SHSU_meta.data),Metab_SHSU_meta.sample_metadata['add_0c'].astype(float)),2))+'\\n')\n",
    "out.close"
   ]
  },
  {
   "cell_type": "code",
   "execution_count": 64,
   "metadata": {
    "scrolled": true
   },
   "outputs": [
    {
     "data": {
      "image/png": "[encoded data removed]",
      "text/plain": [
       "<Figure size 432x288 with 1 Axes>"
      ]
     },
     "metadata": {
      "needs_background": "light"
     },
     "output_type": "display_data"
    }
   ],
   "source": [
    "plt.scatter(yhat, Metab_SHSU_meta.sample_metadata.add_0c, color = 'maroon')\n",
    "lower = np.min(np.concatenate([Metab_SHSU_meta.sample_metadata.add_0c, yhat]))\n",
    "upper = np.max(np.concatenate([Metab_SHSU_meta.sample_metadata.add_0c, yhat]))\n",
    "plt.plot([lower, upper], [lower, upper], color = 'black', lw = 2, ls = ':')\n",
    "plt.xlim(0,600)\n",
    "plt.ylim(0,600)\n",
    "\n",
    "#regression part\n",
    "slope, intercept, r_value, p_value, std_err = stats.linregress(yhat,Metab_SHSU_meta.sample_metadata.add_0c)\n",
    "line = slope*yhat+intercept\n",
    "plt.plot(yhat, line, color = 'black', lw = 2)\n",
    "\n",
    "plt.title('CMU skin model predicting SHSU\\n MAE = %d; $R^2$ = %.2f' %(round(MAE, 2),round(model_Metab_CMU_rfecv.score(rfecv.transform(Metab_SHSU_meta.data),Metab_SHSU_meta.sample_metadata['add_0c'].astype(float)),2)))\n",
    "plt.xlabel(\"Predicted ADD\")\n",
    "plt.ylabel(\"Actual ADD\")\n",
    "plt.savefig('figures/CMU_skin_model_pred_SHSU.png')"
   ]
  },
  {
   "cell_type": "markdown",
   "metadata": {},
   "source": [
    "### Test on UTK"
   ]
  },
  {
   "cell_type": "code",
   "execution_count": 65,
   "metadata": {
    "scrolled": true
   },
   "outputs": [
    {
     "data": {
      "text/plain": [
       "(248, 1766)"
      ]
     },
     "execution_count": 65,
     "metadata": {},
     "output_type": "execute_result"
    }
   ],
   "source": [
    "rfecv.transform(X_CMU).shape"
   ]
  },
  {
   "cell_type": "code",
   "execution_count": 66,
   "metadata": {},
   "outputs": [
    {
     "data": {
      "text/plain": [
       "(249, 1766)"
      ]
     },
     "execution_count": 66,
     "metadata": {},
     "output_type": "execute_result"
    }
   ],
   "source": [
    "Metab_UTK = allMetab_skin.filter_samples('facility', 'UTK')\n",
    "Metab_UTK_meta = Metab_UTK.add_sample_metadata_as_features(['season','avg_percent_humidity','total_precipitation_cm'])\n",
    "rfecv.transform(Metab_UTK_meta.data).shape"
   ]
  },
  {
   "cell_type": "code",
   "execution_count": 67,
   "metadata": {},
   "outputs": [],
   "source": [
    "yhat = model_Metab_CMU_rfecv.predict(rfecv.transform(Metab_UTK_meta.data))"
   ]
  },
  {
   "cell_type": "code",
   "execution_count": 68,
   "metadata": {
    "scrolled": true
   },
   "outputs": [
    {
     "name": "stdout",
     "output_type": "stream",
     "text": [
      "Mean Absolute Error: 68.79 ADD\n",
      "Coefficient of determination R^2 of the prediction: 0.44\n"
     ]
    },
    {
     "data": {
      "text/plain": [
       "<function TextIOWrapper.close()>"
      ]
     },
     "execution_count": 68,
     "metadata": {},
     "output_type": "execute_result"
    }
   ],
   "source": [
    "# cross-model error (cross-experiment error)\n",
    "MAE = mean_absolute_error(Metab_UTK_meta.sample_metadata.add_0c, yhat)\n",
    "print('Mean Absolute Error:', round(MAE, 2), 'ADD')\n",
    "# Print R2 score\n",
    "print('Coefficient of determination R^2 of the prediction:', round(model_Metab_CMU_rfecv.score(rfecv.transform(Metab_UTK_meta.data),Metab_UTK_meta.sample_metadata['add_0c'].astype(float)),2))\n",
    "\n",
    "with open('skin_model_errors.txt', 'a') as out:\n",
    "   out.write('CMU_skin_model_pred_UTK_meta\\t'+str(round(MAE,2))+'\\t'+str(round(model_Metab_CMU_rfecv.score(rfecv.transform(Metab_UTK_meta.data),Metab_UTK_meta.sample_metadata['add_0c'].astype(float)),2))+'\\n')\n",
    "out.close"
   ]
  },
  {
   "cell_type": "code",
   "execution_count": 69,
   "metadata": {
    "scrolled": true
   },
   "outputs": [
    {
     "data": {
      "image/png": "[encoded data removed]",
      "text/plain": [
       "<Figure size 432x288 with 1 Axes>"
      ]
     },
     "metadata": {
      "needs_background": "light"
     },
     "output_type": "display_data"
    }
   ],
   "source": [
    "plt.scatter(yhat, Metab_UTK_meta.sample_metadata.add_0c, color = 'maroon')\n",
    "lower = np.min(np.concatenate([Metab_UTK_meta.sample_metadata.add_0c, yhat]))\n",
    "upper = np.max(np.concatenate([Metab_UTK_meta.sample_metadata.add_0c, yhat]))\n",
    "plt.plot([lower, upper], [lower, upper], color = 'black', lw = 2, ls = ':')\n",
    "plt.xlim(0,600)\n",
    "plt.ylim(0,600)\n",
    "\n",
    "#regression part\n",
    "slope, intercept, r_value, p_value, std_err = stats.linregress(yhat,Metab_UTK_meta.sample_metadata.add_0c)\n",
    "line = slope*yhat+intercept\n",
    "plt.plot(yhat, line, color = 'black', lw = 2)\n",
    "\n",
    "plt.title('CMU skin model predicting UTK\\n MAE = %d; $R^2$ = %.2f' %(round(MAE, 2),round(model_Metab_CMU_rfecv.score(rfecv.transform(Metab_UTK_meta.data),Metab_UTK_meta.sample_metadata['add_0c'].astype(float)),2)))\n",
    "plt.xlabel(\"Predicted ADD\")\n",
    "plt.ylabel(\"Actual ADD\")\n",
    "plt.savefig('figures/CMU_skin_model_pred_UTK.png')"
   ]
  },
  {
   "cell_type": "markdown",
   "metadata": {},
   "source": [
    "### Test on SHSU and UTK"
   ]
  },
  {
   "cell_type": "code",
   "execution_count": 70,
   "metadata": {
    "scrolled": true
   },
   "outputs": [
    {
     "data": {
      "text/plain": [
       "SHSU    499\n",
       "UTK     498\n",
       "Name: facility, dtype: int64"
      ]
     },
     "execution_count": 70,
     "metadata": {},
     "output_type": "execute_result"
    }
   ],
   "source": [
    "Metab_SHSU_UTK = allMetab_skin.filter_samples('facility','CMU', negate = True)\n",
    "Metab_SHSU_UTK_meta = Metab_SHSU_UTK.add_sample_metadata_as_features(['season','avg_percent_humidity','total_precipitation_cm'])\n",
    "\n",
    "X_SHSU_UTK = Metab_SHSU_UTK_meta.data\n",
    "y_SHSU_UTK = Metab_SHSU_UTK_meta.sample_metadata['add_0c'].astype(float)\n",
    "Metab_SHSU_UTK_meta.sample_metadata.facility.value_counts()"
   ]
  },
  {
   "cell_type": "code",
   "execution_count": 71,
   "metadata": {
    "scrolled": true
   },
   "outputs": [
    {
     "data": {
      "text/plain": [
       "(248, 1766)"
      ]
     },
     "execution_count": 71,
     "metadata": {},
     "output_type": "execute_result"
    }
   ],
   "source": [
    "rfecv.transform(X_CMU).shape"
   ]
  },
  {
   "cell_type": "code",
   "execution_count": 72,
   "metadata": {},
   "outputs": [
    {
     "data": {
      "text/plain": [
       "(997, 1766)"
      ]
     },
     "execution_count": 72,
     "metadata": {},
     "output_type": "execute_result"
    }
   ],
   "source": [
    "rfecv.transform(Metab_SHSU_UTK_meta.data).shape"
   ]
  },
  {
   "cell_type": "code",
   "execution_count": 73,
   "metadata": {},
   "outputs": [],
   "source": [
    "yhat = model_Metab_CMU_rfecv.predict(rfecv.transform(Metab_SHSU_UTK_meta.data))"
   ]
  },
  {
   "cell_type": "code",
   "execution_count": 74,
   "metadata": {},
   "outputs": [],
   "source": [
    "#yhat"
   ]
  },
  {
   "cell_type": "code",
   "execution_count": 75,
   "metadata": {},
   "outputs": [
    {
     "name": "stdout",
     "output_type": "stream",
     "text": [
      "Mean Absolute Error: 95.83 ADD\n",
      "Coefficient of determination R^2 of the prediction: -0.01\n"
     ]
    },
    {
     "data": {
      "text/plain": [
       "<function TextIOWrapper.close()>"
      ]
     },
     "execution_count": 75,
     "metadata": {},
     "output_type": "execute_result"
    }
   ],
   "source": [
    "# cross-model error (cross-experiment error)\n",
    "MAE = mean_absolute_error(Metab_SHSU_UTK_meta.sample_metadata.add_0c, yhat)\n",
    "print('Mean Absolute Error:', round(MAE, 2), 'ADD')\n",
    "# Print R2 score\n",
    "print('Coefficient of determination R^2 of the prediction:', round(model_Metab_CMU_rfecv.score(rfecv.transform(Metab_SHSU_UTK_meta.data),y_SHSU_UTK),2))\n",
    "\n",
    "with open('skin_model_errors.txt', 'a') as out:\n",
    "   out.write('CMU_skin_model_pred_SHSU_UTK_meta\\t'+str(round(MAE,2))+'\\t'+str(round(model_Metab_CMU_rfecv.score(rfecv.transform(Metab_SHSU_UTK_meta.data),y_SHSU_UTK),2))+'\\n')\n",
    "out.close"
   ]
  },
  {
   "cell_type": "code",
   "execution_count": 76,
   "metadata": {
    "scrolled": true
   },
   "outputs": [
    {
     "data": {
      "image/png": "[encoded data removed]",
      "text/plain": [
       "<Figure size 432x288 with 1 Axes>"
      ]
     },
     "metadata": {
      "needs_background": "light"
     },
     "output_type": "display_data"
    }
   ],
   "source": [
    "plt.scatter(yhat, Metab_SHSU_UTK_meta.sample_metadata.add_0c, color = 'maroon')\n",
    "lower = np.min(np.concatenate([Metab_SHSU_UTK_meta.sample_metadata.add_0c, yhat]))\n",
    "upper = np.max(np.concatenate([Metab_SHSU_UTK_meta.sample_metadata.add_0c, yhat]))\n",
    "plt.plot([lower, upper], [lower, upper], color = 'black', lw = 2, ls = ':')\n",
    "plt.xlim(0,600)\n",
    "plt.ylim(0,600)\n",
    "\n",
    "#regression part\n",
    "slope, intercept, r_value, p_value, std_err = stats.linregress(yhat,Metab_SHSU_UTK_meta.sample_metadata.add_0c)\n",
    "line = slope*yhat+intercept\n",
    "plt.plot(yhat, line, color = 'black', lw = 2)\n",
    "\n",
    "plt.title('CMU skin model predicting SHSU, UTK\\n MAE = %d; $R^2$ = %.2f' %(round(MAE, 2),round(model_Metab_CMU_rfecv.score(rfecv.transform(Metab_SHSU_UTK_meta.data),y_SHSU_UTK),2)))\n",
    "plt.xlabel(\"Predicted ADD\")\n",
    "plt.ylabel(\"Actual ADD\")\n",
    "plt.savefig('figures/CMU_skin_model_pred_SHSU_UTK.png')"
   ]
  },
  {
   "cell_type": "markdown",
   "metadata": {},
   "source": [
    "## Training set SHSU model"
   ]
  },
  {
   "cell_type": "code",
   "execution_count": 77,
   "metadata": {},
   "outputs": [
    {
     "data": {
      "text/plain": [
       "SHSU    166\n",
       "Name: facility, dtype: int64"
      ]
     },
     "execution_count": 77,
     "metadata": {},
     "output_type": "execute_result"
    }
   ],
   "source": [
    "Metab_train_skin_SHSU = Metab_train_skin.filter_samples('facility', 'SHSU')\n",
    "Metab_train_skin_SHSU.sample_metadata.facility.value_counts()"
   ]
  },
  {
   "cell_type": "code",
   "execution_count": 78,
   "metadata": {},
   "outputs": [
    {
     "data": {
      "text/plain": [
       "shsu.2016.007    21\n",
       "2016.065         21\n",
       "2017.043         21\n",
       "2017.045         21\n",
       "2016.064         21\n",
       "shsu.2016.024    21\n",
       "2016.076         21\n",
       "2016.072         19\n",
       "Name: subjectID, dtype: int64"
      ]
     },
     "execution_count": 78,
     "metadata": {},
     "output_type": "execute_result"
    }
   ],
   "source": [
    "Metab_train_skin_SHSU.sample_metadata.subjectID.value_counts()"
   ]
  },
  {
   "cell_type": "code",
   "execution_count": 79,
   "metadata": {},
   "outputs": [],
   "source": [
    "Metab_train_skin_SHSU_meta = Metab_train_skin_SHSU.add_sample_metadata_as_features(['season','avg_percent_humidity','total_precipitation_cm'])\n",
    "\n",
    "gkf = GroupKFold(4)\n",
    "\n",
    "X_SHSU_train = Metab_train_skin_SHSU_meta.data\n",
    "y_SHSU_train = Metab_train_skin_SHSU_meta.sample_metadata['add_0c']\n",
    "y_SHSU_train = (y_SHSU_train.astype(float))\n",
    "groups = Metab_train_skin_SHSU_meta.sample_metadata['subjectID']\n",
    "# Tested this param grid on Summit to expand hyperparameter tuning\n",
    "#param_grid = {\"max_depth\": [4, 8, 16, None],\n",
    "#              \"max_features\": ['sqrt', 'log2', 0.1],\n",
    "#              \"min_samples_split\": [0.001, 0.01, 0.1],\n",
    "#              \"min_weight_fraction_leaf\": [0.0001, 0.001, 0.01],\n",
    "#              \"bootstrap\": [True, False]}\n",
    "# It provided this best model:\n",
    "          \n",
    "# Takes too long to run on local computer; will need to run then import model from Summit\n",
    "\n",
    "param_grid = {\"max_depth\": [16],\n",
    "          \"max_features\": [0.1],\n",
    "          \"min_samples_split\": [0.1],\n",
    "          \"min_weight_fraction_leaf\": [0.01], \n",
    "          \"bootstrap\": [False]}\n",
    "rf = RandomForestRegressor(n_estimators=1000, random_state=999, criterion='mae')\n",
    "gs = GridSearchCV(rf, param_grid=param_grid, cv=gkf.split(X_SHSU_train, y_SHSU_train, groups), scoring='neg_mean_absolute_error', n_jobs=-3)"
   ]
  },
  {
   "cell_type": "code",
   "execution_count": 80,
   "metadata": {
    "scrolled": true
   },
   "outputs": [
    {
     "data": {
      "text/plain": [
       "GridSearchCV(cv=<generator object _BaseKFold.split at 0x11dad5138>,\n",
       "       error_score='raise',\n",
       "       estimator=RandomForestRegressor(bootstrap=True, criterion='mae', max_depth=None,\n",
       "           max_features='auto', max_leaf_nodes=None,\n",
       "           min_impurity_decrease=0.0, min_impurity_split=None,\n",
       "           min_samples_leaf=1, min_samples_split=2,\n",
       "           min_weight_fraction_leaf=0.0, n_estimators=10, n_jobs=1,\n",
       "           oob_score=False, random_state=999, verbose=0, warm_start=False),\n",
       "       fit_params=None, iid=True, n_jobs=1,\n",
       "       param_grid={'max_depth': [8], 'max_features': [0.1], 'min_samples_split': [0.001], 'min_samples_leaf': [1], 'min_weight_fraction_leaf': [0.01], 'bootstrap': [False]},\n",
       "       pre_dispatch='2*n_jobs', refit=True, return_train_score='warn',\n",
       "       scoring='neg_mean_absolute_error', verbose=0)"
      ]
     },
     "execution_count": 80,
     "metadata": {},
     "output_type": "execute_result"
    }
   ],
   "source": [
    "gs.fit(X_SHSU_train, y_SHSU_train)"
   ]
  },
  {
   "cell_type": "code",
   "execution_count": null,
   "metadata": {},
   "outputs": [],
   "source": [
    "print(gs.best_params_)"
   ]
  },
  {
   "cell_type": "code",
   "execution_count": 81,
   "metadata": {
    "scrolled": false
   },
   "outputs": [
    {
     "name": "stdout",
     "output_type": "stream",
     "text": [
      "The best mean error rate is 82.35\n"
     ]
    },
    {
     "data": {
      "text/plain": [
       "<function TextIOWrapper.close()>"
      ]
     },
     "execution_count": 81,
     "metadata": {},
     "output_type": "execute_result"
    }
   ],
   "source": [
    "print('The best mean error rate is', round(-gs.best_score_,2))\n",
    "\n",
    "with open('skin_model_errors.txt', 'a') as out:\n",
    "   out.write('SHSU_skin_train_meta\\t'+str(round(-gs.best_score_,2))+'\\n')\n",
    "out.close"
   ]
  },
  {
   "cell_type": "code",
   "execution_count": 82,
   "metadata": {},
   "outputs": [
    {
     "data": {
      "text/plain": [
       "['models/PMI3_Metab_SHSU_skin_train.pkl']"
      ]
     },
     "execution_count": 82,
     "metadata": {},
     "output_type": "execute_result"
    }
   ],
   "source": [
    "joblib.dump(gs.best_estimator_, 'models/PMI3_Metab_SHSU_skin_train.pkl')"
   ]
  },
  {
   "cell_type": "code",
   "execution_count": 83,
   "metadata": {},
   "outputs": [],
   "source": [
    "model_Metab_SHSU_train = joblib.load('models/PMI3_Metab_SHSU_skin_train.pkl')"
   ]
  },
  {
   "cell_type": "code",
   "execution_count": 84,
   "metadata": {
    "scrolled": true
   },
   "outputs": [
    {
     "data": {
      "text/plain": [
       "RandomForestRegressor(bootstrap=False, criterion='mae', max_depth=8,\n",
       "           max_features=0.1, max_leaf_nodes=None,\n",
       "           min_impurity_decrease=0.0, min_impurity_split=None,\n",
       "           min_samples_leaf=1, min_samples_split=0.001,\n",
       "           min_weight_fraction_leaf=0.01, n_estimators=10, n_jobs=1,\n",
       "           oob_score=False, random_state=999, verbose=0, warm_start=False)"
      ]
     },
     "execution_count": 84,
     "metadata": {},
     "output_type": "execute_result"
    }
   ],
   "source": [
    "model_Metab_SHSU_train"
   ]
  },
  {
   "cell_type": "markdown",
   "metadata": {},
   "source": [
    "## Recursive Feature Elimination "
   ]
  },
  {
   "cell_type": "markdown",
   "metadata": {},
   "source": [
    "### Uses the best estimator from the above model and performs 5% removal recursive steps"
   ]
  },
  {
   "cell_type": "code",
   "execution_count": 85,
   "metadata": {},
   "outputs": [],
   "source": [
    "rfecv = RFECV(estimator=model_Metab_SHSU_train, step=0.05, min_features_to_select=100, cv=list(gkf.split(X_SHSU_train, y_SHSU_train, groups)), scoring='neg_mean_absolute_error', n_jobs=-3)"
   ]
  },
  {
   "cell_type": "code",
   "execution_count": 86,
   "metadata": {},
   "outputs": [
    {
     "data": {
      "text/plain": [
       "RFECV(cv=[(array([  0,   1, ..., 164, 165]), array([  7,   8,   9,  10,  11,  12,  13,  14,  15,  16,  17,  25,  26,\n",
       "        27,  38,  39,  40,  41,  42,  43,  44,  45,  46,  72,  74,  75,\n",
       "        76,  77,  78,  79, 114, 115, 137, 144, 145, 146, 155, 156, 160,\n",
       "       161, 162, 163])), (array([  7,   8, .....67,  68,  69,\n",
       "        70,  71,  73,  83,  84,  85,  86,  87,  88,  89, 118, 119, 138,\n",
       "       139]))],\n",
       "   estimator=RandomForestRegressor(bootstrap=False, criterion='mae', max_depth=8,\n",
       "           max_features=0.1, max_leaf_nodes=None,\n",
       "           min_impurity_decrease=0.0, min_impurity_split=None,\n",
       "           min_samples_leaf=1, min_samples_split=0.001,\n",
       "           min_weight_fraction_leaf=0.01, n_estimators=10, n_jobs=1,\n",
       "           oob_score=False, random_state=999, verbose=0, warm_start=False),\n",
       "   n_jobs=1, scoring='neg_mean_absolute_error', step=0.05, verbose=0)"
      ]
     },
     "execution_count": 86,
     "metadata": {},
     "output_type": "execute_result"
    }
   ],
   "source": [
    "# Likely need to run on Summit\n",
    "rfecv.fit(X_SHSU_train, y_SHSU_train)"
   ]
  },
  {
   "cell_type": "code",
   "execution_count": 87,
   "metadata": {},
   "outputs": [
    {
     "name": "stdout",
     "output_type": "stream",
     "text": [
      "Number of steps performed: 22\n",
      "Optimal number of features : 2206\n",
      "The best mean absolute error is: 76\n"
     ]
    }
   ],
   "source": [
    "print(\"Number of steps performed: %d\" % len(rfecv.grid_scores_))\n",
    "print(\"Optimal number of features : %d\" % rfecv.n_features_)\n",
    "print(\"The best mean absolute error is: %d\" % -(max(rfecv.grid_scores_)))"
   ]
  },
  {
   "cell_type": "code",
   "execution_count": 88,
   "metadata": {},
   "outputs": [
    {
     "data": {
      "image/png": "[encoded data removed]",
      "text/plain": [
       "<Figure size 576x360 with 1 Axes>"
      ]
     },
     "metadata": {
      "needs_background": "light"
     },
     "output_type": "display_data"
    }
   ],
   "source": [
    "# Plot number of features VS. cross-validation scores\n",
    "plt.figure(figsize=(8,5))\n",
    "plt.title('Recursive Feature Elimination with Cross-Validation', fontsize=14, fontweight='bold', pad=20)\n",
    "plt.xlabel(\"Number of Steps (5% of features added per step)\")\n",
    "plt.ylabel(\"Cross Validation Score (Mean Absolute Error)\")\n",
    "plt.plot(range(1, len(rfecv.grid_scores_) + 1), rfecv.grid_scores_, linewidth=2)\n",
    "plt.savefig('figures/SHSU_skin_train_model_rfecv.png')"
   ]
  },
  {
   "cell_type": "code",
   "execution_count": 89,
   "metadata": {},
   "outputs": [
    {
     "data": {
      "text/plain": [
       "['models/PMI3_Metab_skin_SHSU_train_rfecv.pkl']"
      ]
     },
     "execution_count": 89,
     "metadata": {},
     "output_type": "execute_result"
    }
   ],
   "source": [
    "# Saves the estimator fit on the reduced dataset (i.e. the model created from optimal features)\n",
    "joblib.dump(rfecv.estimator_, 'models/PMI3_Metab_skin_SHSU_train_rfecv.pkl')"
   ]
  },
  {
   "cell_type": "code",
   "execution_count": 90,
   "metadata": {},
   "outputs": [
    {
     "data": {
      "text/plain": [
       "RandomForestRegressor(bootstrap=False, criterion='mae', max_depth=8,\n",
       "           max_features=0.1, max_leaf_nodes=None,\n",
       "           min_impurity_decrease=0.0, min_impurity_split=None,\n",
       "           min_samples_leaf=1, min_samples_split=0.001,\n",
       "           min_weight_fraction_leaf=0.01, n_estimators=10, n_jobs=1,\n",
       "           oob_score=False, random_state=999, verbose=0, warm_start=False)"
      ]
     },
     "execution_count": 90,
     "metadata": {},
     "output_type": "execute_result"
    }
   ],
   "source": [
    "model_Metab_SHSU_train_rfecv = joblib.load('models/PMI3_Metab_skin_SHSU_train_rfecv.pkl')\n",
    "model_Metab_SHSU_train_rfecv"
   ]
  },
  {
   "cell_type": "markdown",
   "metadata": {},
   "source": [
    "### Predicting training data (will be overfit but good sanity check)"
   ]
  },
  {
   "cell_type": "code",
   "execution_count": 91,
   "metadata": {},
   "outputs": [
    {
     "name": "stdout",
     "output_type": "stream",
     "text": [
      "Mean Absolute Error: 13.88 ADD\n",
      "Coefficient of determination R^2 of the prediction: 0.98\n"
     ]
    }
   ],
   "source": [
    "# Removes the unimportant features from X\n",
    "X_SHSU_train = rfecv.transform(X_SHSU_train)\n",
    "\n",
    "yhat = model_Metab_SHSU_train_rfecv.predict(X_SHSU_train)\n",
    "MAE = mean_absolute_error(y_SHSU_train, yhat)\n",
    "print('Mean Absolute Error:', round(MAE, 2), 'ADD')\n",
    "\n",
    "#Score of best estimator when used to estimate training data (will be overfit)\n",
    "print('Coefficient of determination R^2 of the prediction:', round(model_Metab_SHSU_train_rfecv.score(X_SHSU_train,y_SHSU_train),2))"
   ]
  },
  {
   "cell_type": "code",
   "execution_count": 92,
   "metadata": {},
   "outputs": [
    {
     "data": {
      "image/png": "[encoded data removed]",
      "text/plain": [
       "<Figure size 432x288 with 1 Axes>"
      ]
     },
     "metadata": {
      "needs_background": "light"
     },
     "output_type": "display_data"
    }
   ],
   "source": [
    "plt.scatter(yhat, y_SHSU_train, color = 'b')\n",
    "lower = np.min(np.concatenate([y_SHSU_train, yhat]))\n",
    "upper = np.max(np.concatenate([y_SHSU_train, yhat]))\n",
    "plt.plot([lower, upper], [lower, upper], color = 'black', lw = 2, ls = ':')\n",
    "plt.xlim(0,600)\n",
    "plt.ylim(0,600)\n",
    "\n",
    "#regression part\n",
    "slope, intercept, r_value, p_value, std_err = stats.linregress(yhat,y_SHSU_train)\n",
    "line = slope*yhat+intercept\n",
    "plt.plot(yhat, line, color = 'black', lw = 2)\n",
    "\n",
    "plt.title('SHSU skin model training\\n MAE = %d; $R^2$ = %.2f' %(round(MAE, 2),round(model_Metab_SHSU_train_rfecv.score(X_SHSU_train,y_SHSU_train),2)))\n",
    "plt.xlabel(\"Predicted ADD\")\n",
    "plt.ylabel(\"Actual ADD\")\n",
    "plt.savefig('figures/SHSU_skin_model_training.png')"
   ]
  },
  {
   "cell_type": "markdown",
   "metadata": {},
   "source": [
    "### Determine important features after RFECV"
   ]
  },
  {
   "cell_type": "code",
   "execution_count": 93,
   "metadata": {},
   "outputs": [
    {
     "name": "stdout",
     "output_type": "stream",
     "text": [
      "Feature:\t\t\t\tImportance:\n",
      "1. X358.292639041769_4.70101408045976\t0.0682349281703848\n",
      "2. X270.278182922606_7.326998937583\t0.05516410261490262\n",
      "3. X633.463031115832_6.35839249249249\t0.043432938451175115\n",
      "4. X352.356264209747_8.29605718749999\t0.03977484495942609\n",
      "5. X254.247322840048_6.55874982269503\t0.038314822946864516\n",
      "6. X237.220427340176_7.13047029360967\t0.029282177852632003\n",
      "7. X282.27712487174_7.23317913752913\t0.027688629832600693\n",
      "8. X802.587084562882_7.45415217391304\t0.025780976668312434\n",
      "9. X362.30250113351_7.11766666666666\t0.02524353000546955\n",
      "10. X362.247869603774_5.52714950980392\t0.021389421888775084\n",
      "11. X419.227672576904_3.86399479166666\t0.019205770855381245\n",
      "12. X360.179552706805_6.08574106297349\t0.014173833581383239\n",
      "13. X319.223587733443_5.90276478494623\t0.01219877374957613\n",
      "14. X326.340475453795_8.1965404290429\t0.011352439517648392\n",
      "15. X281.246455416747_6.20061735953641\t0.010681913304503136\n",
      "16. X241.105193080902_2.83643516666666\t0.010494756559078259\n",
      "17. X367.334885250438_7.96486382575756\t0.010452220048543095\n",
      "18. X245.078003083258_4.66396657273215\t0.009942373195634801\n",
      "19. X557.454941275734_5.91205104821803\t0.008126059048614008\n",
      "20. X169.049980236863_2.06199137047709\t0.007993767357880696\n",
      "21. X377.324868937802_6.77922911373261\t0.0078099209675063395\n",
      "22. X251.196778005923_5.72764201257861\t0.007724736465067826\n",
      "23. X310.309458343076_7.85013654147105\t0.007239971338284162\n",
      "24. X429.32033413781_6.63703951388888\t0.006901779580468922\n",
      "25. X665.200086514625_5.47305961538461\t0.006796344668631939\n"
     ]
    }
   ],
   "source": [
    "importances = model_Metab_SHSU_train_rfecv.feature_importances_\n",
    "std = np.std([tree.feature_importances_ for tree in model_Metab_SHSU_train_rfecv.estimators_],\n",
    "             axis=0)\n",
    "indices = np.argsort(importances)[::-1]\n",
    "\n",
    "feature_metadata = Metab_train_skin_SHSU_meta.feature_metadata\n",
    "np.savetxt(\"feature_metadata/SHSU_skin_train_feature_metadata_rfecv.csv\", feature_metadata, delimiter=\",\", fmt='%s')\n",
    "\n",
    "\n",
    "#print the important ids in order\n",
    "skin_importances = []\n",
    "count = 0\n",
    "print(\"Feature:\\t\\t\\t\\tImportance:\")\n",
    "for i in indices:\n",
    "    skin_importances += (Metab_train_skin_SHSU_meta.feature_metadata.index.values[i], importances[indices[count]])\n",
    "    if count < 25:\n",
    "        print(str(count+1)+\". \"+str(Metab_train_skin_SHSU_meta.feature_metadata.index.values[i])+\"\\t\"+str(importances[indices[count]]))\n",
    "    count += 1"
   ]
  },
  {
   "cell_type": "code",
   "execution_count": 94,
   "metadata": {},
   "outputs": [
    {
     "name": "stdout",
     "output_type": "stream",
     "text": [
      "Number of features present: 2206\n"
     ]
    }
   ],
   "source": [
    "# make sure shape is right\n",
    "print(\"Number of features present:\", int(len(skin_importances)/2))\n",
    "skin_importances_df = pd.DataFrame(np.array(skin_importances).reshape(int(len(skin_importances)/2),2))\n",
    "\n",
    "np.savetxt(\"importances/SHSU_skin_train_importances.csv\", skin_importances_df, delimiter=\",\", fmt='%s')"
   ]
  },
  {
   "cell_type": "markdown",
   "metadata": {},
   "source": [
    "## Testing on validaiton set"
   ]
  },
  {
   "cell_type": "code",
   "execution_count": 95,
   "metadata": {},
   "outputs": [
    {
     "data": {
      "text/plain": [
       "SHSU    83\n",
       "Name: facility, dtype: int64"
      ]
     },
     "execution_count": 95,
     "metadata": {},
     "output_type": "execute_result"
    }
   ],
   "source": [
    "Metab_val_skin_SHSU = Metab_val_skin.filter_samples('facility', 'SHSU')\n",
    "Metab_val_skin_SHSU.sample_metadata.facility.value_counts()"
   ]
  },
  {
   "cell_type": "code",
   "execution_count": 96,
   "metadata": {},
   "outputs": [
    {
     "name": "stderr",
     "output_type": "stream",
     "text": [
      "/Users/Zach/miniconda3/envs/ml/lib/python3.7/site-packages/calour/training.py:130: FutureWarning: Sorting because non-concatenation axis is not aligned. A future version\n",
      "of pandas will change to not sort by default.\n",
      "\n",
      "To accept the future behavior, pass 'sort=False'.\n",
      "\n",
      "To retain the current behavior and silence the warning, pass 'sort=True'.\n",
      "\n",
      "  new.feature_metadata = pd.concat([pd.DataFrame(index=vec.get_feature_names()), new.feature_metadata])\n"
     ]
    }
   ],
   "source": [
    "Metab_val_skin_SHSU_meta = Metab_val_skin_SHSU.add_sample_metadata_as_features(['season','avg_percent_humidity','total_precipitation_cm'])"
   ]
  },
  {
   "cell_type": "code",
   "execution_count": 97,
   "metadata": {
    "scrolled": true
   },
   "outputs": [
    {
     "name": "stdout",
     "output_type": "stream",
     "text": [
      "Mean Absolute Error: 78.72 ADD\n",
      "Coefficient of determination R^2 of the prediction: 0.48\n"
     ]
    },
    {
     "data": {
      "text/plain": [
       "<function TextIOWrapper.close()>"
      ]
     },
     "execution_count": 97,
     "metadata": {},
     "output_type": "execute_result"
    }
   ],
   "source": [
    "X_SHSU_val = rfecv.transform(Metab_val_skin_SHSU_meta.data) #removing the unimportant features from X as determined by RFECV\n",
    "y_SHSU_val = Metab_val_skin_SHSU_meta.sample_metadata['add_0c']\n",
    "y_SHSU_val = (y_SHSU_val.astype(float))\n",
    "\n",
    "yhat = model_Metab_SHSU_train_rfecv.predict(X_SHSU_val)\n",
    "\n",
    "# cross-model error (cross-experiment error)\n",
    "MAE = mean_absolute_error(y_SHSU_val, yhat)\n",
    "print('Mean Absolute Error:', round(MAE, 2), 'ADD')\n",
    "# Print R2 score\n",
    "print('Coefficient of determination R^2 of the prediction:', round(model_Metab_SHSU_train_rfecv.score(X_SHSU_val,y_SHSU_val),2))\n",
    "\n",
    "with open('skin_model_errors.txt', 'a') as out:\n",
    "    out.write('SHSU_skin_train_pred_val\\t'+str(round(MAE, 2))+'\\t'+str(round(model_Metab_SHSU_train_rfecv.score(X_SHSU_val,y_SHSU_val),2))+'\\n')\n",
    "out.close"
   ]
  },
  {
   "cell_type": "code",
   "execution_count": 98,
   "metadata": {
    "scrolled": true
   },
   "outputs": [
    {
     "data": {
      "image/png": "[encoded data removed]",
      "text/plain": [
       "<Figure size 432x288 with 1 Axes>"
      ]
     },
     "metadata": {
      "needs_background": "light"
     },
     "output_type": "display_data"
    }
   ],
   "source": [
    "plt.scatter(yhat, y_SHSU_val, color = 'b')\n",
    "lower = np.min(np.concatenate([y_SHSU_val, yhat]))\n",
    "upper = np.max(np.concatenate([y_SHSU_val, yhat]))\n",
    "plt.plot([lower, upper], [lower, upper], color = 'black', lw = 2, ls = ':')\n",
    "plt.xlim(0,600)\n",
    "plt.ylim(0,600)\n",
    "\n",
    "#regression part\n",
    "slope, intercept, r_value, p_value, std_err = stats.linregress(yhat,y_SHSU_val)\n",
    "line = slope*yhat+intercept\n",
    "plt.plot(yhat, line, color = 'black', lw = 2)\n",
    "\n",
    "plt.title('SHSU skin model pred SHSU\\n MAE = %d; $R^2$ = %.2f' %(round(MAE, 2),round(model_Metab_SHSU_train_rfecv.score(X_SHSU_val,y_SHSU_val),2)))\n",
    "plt.xlabel(\"Predicted ADD\")\n",
    "plt.ylabel(\"Actual ADD\")\n",
    "plt.savefig('figures/SHSU_skin_model_validation.png')"
   ]
  },
  {
   "cell_type": "markdown",
   "metadata": {},
   "source": [
    "## Full SHSU model"
   ]
  },
  {
   "cell_type": "code",
   "execution_count": 99,
   "metadata": {},
   "outputs": [
    {
     "data": {
      "text/plain": [
       "SHSU    249\n",
       "Name: facility, dtype: int64"
      ]
     },
     "execution_count": 99,
     "metadata": {},
     "output_type": "execute_result"
    }
   ],
   "source": [
    "Metab_SHSU = allMetab_skin.filter_samples('facility', 'SHSU')\n",
    "Metab_SHSU.sample_metadata.facility.value_counts()"
   ]
  },
  {
   "cell_type": "code",
   "execution_count": 100,
   "metadata": {},
   "outputs": [
    {
     "data": {
      "text/plain": [
       "2017.045         21\n",
       "2016.073         21\n",
       "2016.065         21\n",
       "shsu.2016.011    21\n",
       "2016.067         21\n",
       "shsu.2016.007    21\n",
       "2017.043         21\n",
       "2016.064         21\n",
       "shsu.2016.024    21\n",
       "2016.076         21\n",
       "2017.046         20\n",
       "2016.072         19\n",
       "Name: subjectID, dtype: int64"
      ]
     },
     "execution_count": 100,
     "metadata": {},
     "output_type": "execute_result"
    }
   ],
   "source": [
    "Metab_SHSU.sample_metadata.subjectID.value_counts()"
   ]
  },
  {
   "cell_type": "code",
   "execution_count": 101,
   "metadata": {},
   "outputs": [],
   "source": [
    "Metab_SHSU_meta = Metab_SHSU.add_sample_metadata_as_features(['season','avg_percent_humidity','total_precipitation_cm'])\n",
    "\n",
    "gkf = GroupKFold(4)\n",
    "\n",
    "X_SHSU = Metab_SHSU_meta.data\n",
    "y_SHSU = Metab_SHSU_meta.sample_metadata['add_0c']\n",
    "y_SHSU = (y_SHSU.astype(float))\n",
    "groups = Metab_SHSU_meta.sample_metadata['subjectID']\n",
    "# Tested this param grid on Summit to expand hyperparameter tuning\n",
    "#param_grid = {\"max_depth\": [4, 8, 16, None],\n",
    "#              \"max_features\": ['sqrt', 'log2', 0.1],\n",
    "#              \"min_samples_split\": [0.001, 0.01, 0.1],\n",
    "#              \"min_weight_fraction_leaf\": [0.0001, 0.001, 0.01],\n",
    "#              \"bootstrap\": [True, False]}\n",
    "# It provided this best model:\n",
    "          \n",
    "# Takes too long to run on local computer; will need to run then import model from Summit\n",
    "\n",
    "param_grid = {\"max_depth\": [4],\n",
    "          \"max_features\": [0.1],\n",
    "          \"min_samples_split\": [0.001],\n",
    "          \"min_weight_fraction_leaf\": [0.01],\n",
    "          \"bootstrap\": [False]}\n",
    "rf = RandomForestRegressor(n_estimators=1000, random_state=999, criterion='mae')\n",
    "gs = GridSearchCV(rf, param_grid=param_grid, cv=gkf.split(X_SHSU, y_SHSU, groups), scoring='neg_mean_absolute_error', n_jobs=-3)"
   ]
  },
  {
   "cell_type": "code",
   "execution_count": 102,
   "metadata": {
    "scrolled": true
   },
   "outputs": [
    {
     "data": {
      "text/plain": [
       "GridSearchCV(cv=<generator object _BaseKFold.split at 0x11dad5f48>,\n",
       "       error_score='raise',\n",
       "       estimator=RandomForestRegressor(bootstrap=True, criterion='mae', max_depth=None,\n",
       "           max_features='auto', max_leaf_nodes=None,\n",
       "           min_impurity_decrease=0.0, min_impurity_split=None,\n",
       "           min_samples_leaf=1, min_samples_split=2,\n",
       "           min_weight_fraction_leaf=0.0, n_estimators=10, n_jobs=1,\n",
       "           oob_score=False, random_state=999, verbose=0, warm_start=False),\n",
       "       fit_params=None, iid=True, n_jobs=1,\n",
       "       param_grid={'max_depth': [8], 'max_features': [0.1], 'min_samples_split': [0.001], 'min_samples_leaf': [1], 'min_weight_fraction_leaf': [0.01], 'bootstrap': [False]},\n",
       "       pre_dispatch='2*n_jobs', refit=True, return_train_score='warn',\n",
       "       scoring='neg_mean_absolute_error', verbose=0)"
      ]
     },
     "execution_count": 102,
     "metadata": {},
     "output_type": "execute_result"
    }
   ],
   "source": [
    "gs.fit(X_SHSU, y_SHSU)"
   ]
  },
  {
   "cell_type": "code",
   "execution_count": null,
   "metadata": {},
   "outputs": [],
   "source": [
    "print(gs.best_params_)"
   ]
  },
  {
   "cell_type": "code",
   "execution_count": 103,
   "metadata": {
    "scrolled": false
   },
   "outputs": [
    {
     "name": "stdout",
     "output_type": "stream",
     "text": [
      "The best mean error rate is 77.82\n"
     ]
    },
    {
     "data": {
      "text/plain": [
       "<function TextIOWrapper.close()>"
      ]
     },
     "execution_count": 103,
     "metadata": {},
     "output_type": "execute_result"
    }
   ],
   "source": [
    "print('The best mean error rate is', round(-gs.best_score_,2))\n",
    "\n",
    "with open('skin_model_errors.txt', 'a') as out:\n",
    "   out.write('SHSU_skin_meta\\t'+str(round(-gs.best_score_,2))+'\\n')\n",
    "out.close"
   ]
  },
  {
   "cell_type": "code",
   "execution_count": 104,
   "metadata": {},
   "outputs": [
    {
     "data": {
      "text/plain": [
       "['models/PMI3_Metab_SHSU_skin_rfecv.pkl']"
      ]
     },
     "execution_count": 104,
     "metadata": {},
     "output_type": "execute_result"
    }
   ],
   "source": [
    "joblib.dump(gs.best_estimator_, 'models/PMI3_Metab_SHSU_skin.pkl')"
   ]
  },
  {
   "cell_type": "code",
   "execution_count": 105,
   "metadata": {},
   "outputs": [],
   "source": [
    "model_Metab_SHSU = joblib.load('models/PMI3_Metab_SHSU_skin.pkl')"
   ]
  },
  {
   "cell_type": "code",
   "execution_count": 106,
   "metadata": {
    "scrolled": false
   },
   "outputs": [
    {
     "data": {
      "text/plain": [
       "RandomForestRegressor(bootstrap=False, criterion='mae', max_depth=8,\n",
       "           max_features=0.1, max_leaf_nodes=None,\n",
       "           min_impurity_decrease=0.0, min_impurity_split=None,\n",
       "           min_samples_leaf=1, min_samples_split=0.001,\n",
       "           min_weight_fraction_leaf=0.01, n_estimators=10, n_jobs=1,\n",
       "           oob_score=False, random_state=999, verbose=0, warm_start=False)"
      ]
     },
     "execution_count": 106,
     "metadata": {},
     "output_type": "execute_result"
    }
   ],
   "source": [
    "model_Metab_SHSU"
   ]
  },
  {
   "cell_type": "markdown",
   "metadata": {},
   "source": [
    "## Recursive Feature Elimination "
   ]
  },
  {
   "cell_type": "markdown",
   "metadata": {},
   "source": [
    "### Uses the best estimator from the above model and performs 5% removal recursive steps"
   ]
  },
  {
   "cell_type": "code",
   "execution_count": 107,
   "metadata": {},
   "outputs": [],
   "source": [
    "rfecv = RFECV(estimator=model_Metab_SHSU, step=0.05, min_features_to_select=100, cv=list(gkf.split(X_SHSU, y_SHSU, groups)), scoring='neg_mean_absolute_error', n_jobs=-3)"
   ]
  },
  {
   "cell_type": "code",
   "execution_count": 108,
   "metadata": {},
   "outputs": [
    {
     "data": {
      "text/plain": [
       "RFECV(cv=[(array([  0,   1, ..., 247, 248]), array([ 18,  19,  20,  21,  22,  23,  24,  25,  26,  27,  28,  38,  39,\n",
       "        40,  77,  78,  79,  80,  81,  82,  83,  84,  85,  86, 127, 128,\n",
       "       129, 130, 131, 132, 133, 141, 142, 143, 144, 145, 146, 147, 148,\n",
       "       149, 150, 151, 175, 176, 179, 180, 181... 165, 169, 170, 177, 178, 194, 195, 196, 197,\n",
       "       198, 199, 200, 230, 231, 232, 233, 234, 235]))],\n",
       "   estimator=RandomForestRegressor(bootstrap=False, criterion='mae', max_depth=8,\n",
       "           max_features=0.1, max_leaf_nodes=None,\n",
       "           min_impurity_decrease=0.0, min_impurity_split=None,\n",
       "           min_samples_leaf=1, min_samples_split=0.001,\n",
       "           min_weight_fraction_leaf=0.01, n_estimators=10, n_jobs=1,\n",
       "           oob_score=False, random_state=999, verbose=0, warm_start=False),\n",
       "   n_jobs=1, scoring='neg_mean_absolute_error', step=0.05, verbose=0)"
      ]
     },
     "execution_count": 108,
     "metadata": {},
     "output_type": "execute_result"
    }
   ],
   "source": [
    "# Likely need to run on Summit\n",
    "rfecv.fit(X_SHSU, y_SHSU)"
   ]
  },
  {
   "cell_type": "code",
   "execution_count": 109,
   "metadata": {},
   "outputs": [
    {
     "name": "stdout",
     "output_type": "stream",
     "text": [
      "Number of steps performed: 22\n",
      "Optimal number of features : 4406\n",
      "The best mean absolute error is: 77\n"
     ]
    }
   ],
   "source": [
    "print(\"Number of steps performed: %d\" % len(rfecv.grid_scores_))\n",
    "print(\"Optimal number of features : %d\" % rfecv.n_features_)\n",
    "print(\"The best mean absolute error is: %d\" % -(max(rfecv.grid_scores_)))"
   ]
  },
  {
   "cell_type": "code",
   "execution_count": 110,
   "metadata": {},
   "outputs": [
    {
     "data": {
      "image/png": "[encoded data removed]",
      "text/plain": [
       "<Figure size 576x360 with 1 Axes>"
      ]
     },
     "metadata": {
      "needs_background": "light"
     },
     "output_type": "display_data"
    }
   ],
   "source": [
    "# Plot number of features VS. cross-validation scores\n",
    "plt.figure(figsize=(8,5))\n",
    "plt.title('Recursive Feature Elimination with Cross-Validation', fontsize=14, fontweight='bold', pad=20)\n",
    "plt.xlabel(\"Number of Steps (5% of features added per step)\")\n",
    "plt.ylabel(\"Cross Validation Score (Mean Absolute Error)\")\n",
    "plt.plot(range(1, len(rfecv.grid_scores_) + 1), rfecv.grid_scores_, linewidth=2)\n",
    "plt.savefig('figures/SHSU_skin_model_rfecv.png')"
   ]
  },
  {
   "cell_type": "code",
   "execution_count": 111,
   "metadata": {},
   "outputs": [
    {
     "data": {
      "text/plain": [
       "['models/PMI3_Metab_skin_SHSU_rfecv.pkl']"
      ]
     },
     "execution_count": 111,
     "metadata": {},
     "output_type": "execute_result"
    }
   ],
   "source": [
    "# Saves the estimator fit on the reduced dataset (i.e. the model created from optimal features)\n",
    "joblib.dump(rfecv.estimator_, 'models/PMI3_Metab_skin_SHSU_rfecv.pkl')"
   ]
  },
  {
   "cell_type": "code",
   "execution_count": 112,
   "metadata": {},
   "outputs": [
    {
     "data": {
      "text/plain": [
       "RandomForestRegressor(bootstrap=False, criterion='mae', max_depth=8,\n",
       "           max_features=0.1, max_leaf_nodes=None,\n",
       "           min_impurity_decrease=0.0, min_impurity_split=None,\n",
       "           min_samples_leaf=1, min_samples_split=0.001,\n",
       "           min_weight_fraction_leaf=0.01, n_estimators=10, n_jobs=1,\n",
       "           oob_score=False, random_state=999, verbose=0, warm_start=False)"
      ]
     },
     "execution_count": 112,
     "metadata": {},
     "output_type": "execute_result"
    }
   ],
   "source": [
    "model_Metab_SHSU_rfecv = joblib.load('models/PMI3_Metab_skin_SHSU_rfecv.pkl')\n",
    "model_Metab_SHSU_rfecv"
   ]
  },
  {
   "cell_type": "markdown",
   "metadata": {},
   "source": [
    "### Determine important features after RFECV"
   ]
  },
  {
   "cell_type": "code",
   "execution_count": 113,
   "metadata": {},
   "outputs": [
    {
     "name": "stdout",
     "output_type": "stream",
     "text": [
      "Feature:\t\t\t\tImportance:\n",
      "1. X265.251786739268_6.47317440898345\t0.14289585120825557\n",
      "2. X228.23079588292_6.35603299435028\t0.055252916384917326\n",
      "3. X358.292639041769_4.70101408045976\t0.05273672167373594\n",
      "4. X352.356264209747_8.29605718749999\t0.04379731177358379\n",
      "5. X326.340475453795_8.1965404290429\t0.040753695278260366\n",
      "6. X254.247322840048_6.55874982269503\t0.03944806732499246\n",
      "7. X270.278182922606_7.326998937583\t0.03834129307611079\n",
      "8. X557.454941275734_5.91205104821803\t0.03745486638974715\n",
      "9. avg_percent_humidity\t0.011787079448321228\n",
      "10. X338.340748569973_8.40681924398625\t0.010533398448116307\n",
      "11. X229.14363035979_3.80993827160493\t0.00961717443338459\n",
      "12. X298.273786351693_7.60156672587329\t0.008089711288630227\n",
      "13. X315.28826453469_7.8770824810606\t0.007998710893764225\n",
      "14. X175.096391116217_2.62781174684159\t0.007451685492176165\n",
      "15. X421.146735428364_3.97134832028701\t0.007100109340365692\n",
      "16. X343.293593163583_4.6008931372549\t0.006842233957803789\n",
      "17. X259.189956798888_5.46824700292397\t0.006594568169832264\n",
      "18. X278.221146803635_7.11273205128205\t0.0060175035630974415\n",
      "19. X538.406774347478_4.70102424242424\t0.006011787139631566\n",
      "20. X307.161625581629_2.92726339869281\t0.005844223631651899\n",
      "21. X263.236333338818_7.31381844305119\t0.005530624360611134\n",
      "22. X307.262557983398_7.08479999999999\t0.0054929123316210604\n",
      "23. X298.27035369873_4.54266523809523\t0.005326571286812435\n",
      "24. X501.376995697021_7.76749033333333\t0.0052459024096756885\n",
      "25. X263.140283644655_2.98612235460993\t0.005040288846329033\n"
     ]
    }
   ],
   "source": [
    "importances = model_Metab_SHSU_rfecv.feature_importances_\n",
    "std = np.std([tree.feature_importances_ for tree in model_Metab_SHSU_rfecv.estimators_],\n",
    "             axis=0)\n",
    "indices = np.argsort(importances)[::-1]\n",
    "\n",
    "feature_metadata = Metab_SHSU_meta.feature_metadata\n",
    "np.savetxt(\"feature_metadata/SHSU_skin_feature_metadata_rfecv.csv\", feature_metadata, delimiter=\",\", fmt='%s')\n",
    "\n",
    "\n",
    "#print the important ids in order\n",
    "skin_importances = []\n",
    "count = 0\n",
    "print(\"Feature:\\t\\t\\t\\tImportance:\")\n",
    "for i in indices:\n",
    "    skin_importances += (Metab_SHSU_meta.feature_metadata.index.values[i], importances[indices[count]])\n",
    "    if count < 25:\n",
    "        print(str(count+1)+\". \"+str(Metab_SHSU_meta.feature_metadata.index.values[i])+\"\\t\"+str(importances[indices[count]]))\n",
    "    count += 1"
   ]
  },
  {
   "cell_type": "code",
   "execution_count": 114,
   "metadata": {},
   "outputs": [
    {
     "name": "stdout",
     "output_type": "stream",
     "text": [
      "Number of features present: 4406\n"
     ]
    }
   ],
   "source": [
    "# make sure shape is right\n",
    "print(\"Number of features present:\", int(len(skin_importances)/2))\n",
    "skin_importances_df = pd.DataFrame(np.array(skin_importances).reshape(int(len(skin_importances)/2),2))\n",
    "\n",
    "np.savetxt(\"importances/SHSU_skin_importances.csv\", skin_importances_df, delimiter=\",\", fmt='%s')"
   ]
  },
  {
   "cell_type": "markdown",
   "metadata": {},
   "source": [
    "## Cross-facility predictions"
   ]
  },
  {
   "cell_type": "markdown",
   "metadata": {},
   "source": [
    "## SHSU trained model\n",
    "### Test on CMU"
   ]
  },
  {
   "cell_type": "code",
   "execution_count": 115,
   "metadata": {
    "scrolled": true
   },
   "outputs": [
    {
     "data": {
      "text/plain": [
       "(249, 4406)"
      ]
     },
     "execution_count": 115,
     "metadata": {},
     "output_type": "execute_result"
    }
   ],
   "source": [
    "rfecv.transform(X_SHSU).shape"
   ]
  },
  {
   "cell_type": "code",
   "execution_count": 116,
   "metadata": {},
   "outputs": [
    {
     "name": "stderr",
     "output_type": "stream",
     "text": [
      "/Users/Zach/miniconda3/envs/ml/lib/python3.7/site-packages/calour/training.py:130: FutureWarning: Sorting because non-concatenation axis is not aligned. A future version\n",
      "of pandas will change to not sort by default.\n",
      "\n",
      "To accept the future behavior, pass 'sort=False'.\n",
      "\n",
      "To retain the current behavior and silence the warning, pass 'sort=True'.\n",
      "\n",
      "  new.feature_metadata = pd.concat([pd.DataFrame(index=vec.get_feature_names()), new.feature_metadata])\n"
     ]
    },
    {
     "data": {
      "text/plain": [
       "(248, 4406)"
      ]
     },
     "execution_count": 116,
     "metadata": {},
     "output_type": "execute_result"
    }
   ],
   "source": [
    "Metab_CMU = allMetab_skin.filter_samples('facility', 'CMU')\n",
    "Metab_CMU_meta = Metab_CMU.add_sample_metadata_as_features(['season','avg_percent_humidity','total_precipitation_cm'])\n",
    "rfecv.transform(Metab_CMU_meta.data).shape"
   ]
  },
  {
   "cell_type": "code",
   "execution_count": 117,
   "metadata": {},
   "outputs": [],
   "source": [
    "yhat = model_Metab_SHSU_rfecv.predict(rfecv.transform(Metab_CMU_meta.data))"
   ]
  },
  {
   "cell_type": "code",
   "execution_count": 118,
   "metadata": {
    "scrolled": true
   },
   "outputs": [
    {
     "name": "stdout",
     "output_type": "stream",
     "text": [
      "Mean Absolute Error: 84.06 ADD\n",
      "Coefficient of determination R^2 of the prediction: 0.42\n"
     ]
    },
    {
     "data": {
      "text/plain": [
       "<function TextIOWrapper.close()>"
      ]
     },
     "execution_count": 118,
     "metadata": {},
     "output_type": "execute_result"
    }
   ],
   "source": [
    "# cross-model error (cross-experiment error)\n",
    "MAE = mean_absolute_error(Metab_CMU_meta.sample_metadata.add_0c, yhat)\n",
    "print('Mean Absolute Error:', round(MAE, 2), 'ADD')\n",
    "# Print R2 score\n",
    "print('Coefficient of determination R^2 of the prediction:', round(model_Metab_SHSU_rfecv.score(rfecv.transform(Metab_CMU_meta.data),Metab_CMU_meta.sample_metadata['add_0c'].astype(float)),2))\n",
    "\n",
    "with open('skin_model_errors.txt', 'a') as out:\n",
    "   out.write('SHSU_skin_model_pred_CMU_meta\\t'+str(round(MAE,2))+'\\t'+str(round(model_Metab_SHSU_rfecv.score(rfecv.transform(Metab_CMU_meta.data),Metab_CMU_meta.sample_metadata['add_0c'].astype(float)),2))+'\\n')\n",
    "out.close"
   ]
  },
  {
   "cell_type": "code",
   "execution_count": 119,
   "metadata": {
    "scrolled": true
   },
   "outputs": [
    {
     "data": {
      "image/png": "[encoded data removed]",
      "text/plain": [
       "<Figure size 432x288 with 1 Axes>"
      ]
     },
     "metadata": {
      "needs_background": "light"
     },
     "output_type": "display_data"
    }
   ],
   "source": [
    "plt.scatter(yhat, Metab_CMU_meta.sample_metadata.add_0c, color = 'b')\n",
    "lower = np.min(np.concatenate([Metab_CMU_meta.sample_metadata.add_0c, yhat]))\n",
    "upper = np.max(np.concatenate([Metab_CMU_meta.sample_metadata.add_0c, yhat]))\n",
    "plt.plot([lower, upper], [lower, upper], color = 'black', lw = 2, ls = ':')\n",
    "plt.xlim(0,600)\n",
    "plt.ylim(0,600)\n",
    "\n",
    "#regression part\n",
    "slope, intercept, r_value, p_value, std_err = stats.linregress(yhat,Metab_CMU_meta.sample_metadata.add_0c)\n",
    "line = slope*yhat+intercept\n",
    "plt.plot(yhat, line, color = 'black', lw = 2)\n",
    "\n",
    "plt.title('SHSU skin model predicting CMU\\n MAE = %d; $R^2$ = %.2f' %(round(MAE, 2),round(model_Metab_SHSU_rfecv.score(rfecv.transform(Metab_CMU_meta.data),Metab_CMU_meta.sample_metadata['add_0c'].astype(float)),2)))\n",
    "plt.xlabel(\"Predicted ADD\")\n",
    "plt.ylabel(\"Actual ADD\")\n",
    "plt.savefig('figures/SHSU_skin_model_pred_CMU.png')"
   ]
  },
  {
   "cell_type": "markdown",
   "metadata": {},
   "source": [
    "### Test on UTK"
   ]
  },
  {
   "cell_type": "code",
   "execution_count": 120,
   "metadata": {
    "scrolled": true
   },
   "outputs": [
    {
     "data": {
      "text/plain": [
       "(249, 4406)"
      ]
     },
     "execution_count": 120,
     "metadata": {},
     "output_type": "execute_result"
    }
   ],
   "source": [
    "rfecv.transform(X_SHSU).shape"
   ]
  },
  {
   "cell_type": "code",
   "execution_count": 121,
   "metadata": {},
   "outputs": [
    {
     "data": {
      "text/plain": [
       "(249, 4406)"
      ]
     },
     "execution_count": 121,
     "metadata": {},
     "output_type": "execute_result"
    }
   ],
   "source": [
    "Metab_UTK = allMetab_skin.filter_samples('facility', 'UTK')\n",
    "Metab_UTK_meta = Metab_UTK.add_sample_metadata_as_features(['season','avg_percent_humidity','total_precipitation_cm'])\n",
    "rfecv.transform(Metab_UTK_meta.data).shape"
   ]
  },
  {
   "cell_type": "code",
   "execution_count": 122,
   "metadata": {},
   "outputs": [],
   "source": [
    "yhat = model_Metab_SHSU_rfecv.predict(rfecv.transform(Metab_UTK_meta.data))"
   ]
  },
  {
   "cell_type": "code",
   "execution_count": 123,
   "metadata": {
    "scrolled": true
   },
   "outputs": [
    {
     "name": "stdout",
     "output_type": "stream",
     "text": [
      "Mean Absolute Error: 71.86 ADD\n",
      "Coefficient of determination R^2 of the prediction: 0.48\n"
     ]
    },
    {
     "data": {
      "text/plain": [
       "<function TextIOWrapper.close()>"
      ]
     },
     "execution_count": 123,
     "metadata": {},
     "output_type": "execute_result"
    }
   ],
   "source": [
    "# cross-model error (cross-experiment error)\n",
    "MAE = mean_absolute_error(Metab_UTK_meta.sample_metadata.add_0c, yhat)\n",
    "print('Mean Absolute Error:', round(MAE, 2), 'ADD')\n",
    "# Print R2 score\n",
    "print('Coefficient of determination R^2 of the prediction:', round(model_Metab_SHSU_rfecv.score(rfecv.transform(Metab_UTK_meta.data),Metab_UTK_meta.sample_metadata['add_0c'].astype(float)),2))\n",
    "\n",
    "with open('skin_model_errors.txt', 'a') as out:\n",
    "   out.write('SHSU_skin_model_pred_UTK_meta\\t'+str(round(MAE,2))+'\\t'+str(round(model_Metab_SHSU_rfecv.score(rfecv.transform(Metab_UTK_meta.data),Metab_UTK_meta.sample_metadata['add_0c'].astype(float)),2))+'\\n')\n",
    "out.close"
   ]
  },
  {
   "cell_type": "code",
   "execution_count": 124,
   "metadata": {
    "scrolled": true
   },
   "outputs": [
    {
     "data": {
      "image/png": "[encoded data removed]",
      "text/plain": [
       "<Figure size 432x288 with 1 Axes>"
      ]
     },
     "metadata": {
      "needs_background": "light"
     },
     "output_type": "display_data"
    }
   ],
   "source": [
    "plt.scatter(yhat, Metab_UTK_meta.sample_metadata.add_0c, color = 'b')\n",
    "lower = np.min(np.concatenate([Metab_UTK_meta.sample_metadata.add_0c, yhat]))\n",
    "upper = np.max(np.concatenate([Metab_UTK_meta.sample_metadata.add_0c, yhat]))\n",
    "plt.plot([lower, upper], [lower, upper], color = 'black', lw = 2, ls = ':')\n",
    "plt.xlim(0,600)\n",
    "plt.ylim(0,600)\n",
    "\n",
    "#regression part\n",
    "slope, intercept, r_value, p_value, std_err = stats.linregress(yhat,Metab_UTK_meta.sample_metadata.add_0c)\n",
    "line = slope*yhat+intercept\n",
    "plt.plot(yhat, line, color = 'black', lw = 2)\n",
    "\n",
    "plt.title('SHSU skin model predicting UTK\\n MAE = %d; $R^2$ = %.2f' %(round(MAE, 2),round(model_Metab_SHSU_rfecv.score(rfecv.transform(Metab_UTK_meta.data),Metab_UTK_meta.sample_metadata['add_0c'].astype(float)),2)))\n",
    "plt.xlabel(\"Predicted ADD\")\n",
    "plt.ylabel(\"Actual ADD\")\n",
    "plt.savefig('figures/SHSU_skin_model_pred_UTK.png')"
   ]
  },
  {
   "cell_type": "markdown",
   "metadata": {},
   "source": [
    "### Test on SHSU and UTK"
   ]
  },
  {
   "cell_type": "code",
   "execution_count": 125,
   "metadata": {
    "scrolled": true
   },
   "outputs": [
    {
     "data": {
      "text/plain": [
       "UTK    498\n",
       "CMU    493\n",
       "Name: facility, dtype: int64"
      ]
     },
     "execution_count": 125,
     "metadata": {},
     "output_type": "execute_result"
    }
   ],
   "source": [
    "Metab_CMU_UTK = allMetab_skin.filter_samples('facility','SHSU', negate = True)\n",
    "Metab_CMU_UTK_meta = Metab_CMU_UTK.add_sample_metadata_as_features(['season','avg_percent_humidity','total_precipitation_cm'])\n",
    "\n",
    "X_CMU_UTK = Metab_CMU_UTK_meta.data\n",
    "y_CMU_UTK = Metab_CMU_UTK_meta.sample_metadata['add_0c'].astype(float)\n",
    "Metab_CMU_UTK_meta.sample_metadata.facility.value_counts()"
   ]
  },
  {
   "cell_type": "code",
   "execution_count": 126,
   "metadata": {
    "scrolled": true
   },
   "outputs": [
    {
     "data": {
      "text/plain": [
       "(249, 4406)"
      ]
     },
     "execution_count": 126,
     "metadata": {},
     "output_type": "execute_result"
    }
   ],
   "source": [
    "rfecv.transform(X_SHSU).shape"
   ]
  },
  {
   "cell_type": "code",
   "execution_count": 127,
   "metadata": {},
   "outputs": [
    {
     "data": {
      "text/plain": [
       "(991, 4406)"
      ]
     },
     "execution_count": 127,
     "metadata": {},
     "output_type": "execute_result"
    }
   ],
   "source": [
    "rfecv.transform(Metab_CMU_UTK_meta.data).shape"
   ]
  },
  {
   "cell_type": "code",
   "execution_count": 128,
   "metadata": {},
   "outputs": [],
   "source": [
    "yhat = model_Metab_SHSU_rfecv.predict(rfecv.transform(Metab_CMU_UTK_meta.data))"
   ]
  },
  {
   "cell_type": "code",
   "execution_count": 129,
   "metadata": {},
   "outputs": [],
   "source": [
    "#yhat"
   ]
  },
  {
   "cell_type": "code",
   "execution_count": 130,
   "metadata": {},
   "outputs": [
    {
     "name": "stdout",
     "output_type": "stream",
     "text": [
      "Mean Absolute Error: 84.01 ADD\n",
      "Coefficient of determination R^2 of the prediction: 0.37\n"
     ]
    },
    {
     "data": {
      "text/plain": [
       "<function TextIOWrapper.close()>"
      ]
     },
     "execution_count": 130,
     "metadata": {},
     "output_type": "execute_result"
    }
   ],
   "source": [
    "# cross-model error (cross-experiment error)\n",
    "MAE = mean_absolute_error(Metab_CMU_UTK_meta.sample_metadata.add_0c, yhat)\n",
    "print('Mean Absolute Error:', round(MAE, 2), 'ADD')\n",
    "# Print R2 score\n",
    "print('Coefficient of determination R^2 of the prediction:', round(model_Metab_SHSU_rfecv.score(rfecv.transform(Metab_CMU_UTK_meta.data),y_CMU_UTK),2))\n",
    "\n",
    "with open('skin_model_errors.txt', 'a') as out:\n",
    "   out.write('SHSU_skin_model_pred_CMU_UTK_meta\\t'+str(round(MAE,2))+'\\t'+str(round(model_Metab_SHSU_rfecv.score(rfecv.transform(Metab_CMU_UTK_meta.data),y_CMU_UTK),2))+'\\n')\n",
    "out.close"
   ]
  },
  {
   "cell_type": "code",
   "execution_count": 131,
   "metadata": {
    "scrolled": true
   },
   "outputs": [
    {
     "data": {
      "image/png": "[encoded data removed]",
      "text/plain": [
       "<Figure size 432x288 with 1 Axes>"
      ]
     },
     "metadata": {
      "needs_background": "light"
     },
     "output_type": "display_data"
    }
   ],
   "source": [
    "plt.scatter(yhat, Metab_CMU_UTK_meta.sample_metadata.add_0c, color = 'b')\n",
    "lower = np.min(np.concatenate([Metab_CMU_UTK_meta.sample_metadata.add_0c, yhat]))\n",
    "upper = np.max(np.concatenate([Metab_CMU_UTK_meta.sample_metadata.add_0c, yhat]))\n",
    "plt.plot([lower, upper], [lower, upper], color = 'black', lw = 2, ls = ':')\n",
    "plt.xlim(0,600)\n",
    "plt.ylim(0,600)\n",
    "\n",
    "#regression part\n",
    "slope, intercept, r_value, p_value, std_err = stats.linregress(yhat,Metab_CMU_UTK_meta.sample_metadata.add_0c)\n",
    "line = slope*yhat+intercept\n",
    "plt.plot(yhat, line, color = 'black', lw = 2)\n",
    "\n",
    "plt.title('SHSU skin model predicting CMU, UTK\\n MAE = %d; $R^2$ = %.2f' %(round(MAE, 2),round(model_Metab_SHSU_rfecv.score(rfecv.transform(Metab_CMU_UTK_meta.data),y_CMU_UTK),2)))\n",
    "plt.xlabel(\"Predicted ADD\")\n",
    "plt.ylabel(\"Actual ADD\")\n",
    "plt.savefig('figures/SHSU_skin_model_pred_CMU_UTK.png')"
   ]
  },
  {
   "cell_type": "markdown",
   "metadata": {},
   "source": [
    "## Training set UTK model"
   ]
  },
  {
   "cell_type": "code",
   "execution_count": 132,
   "metadata": {},
   "outputs": [
    {
     "data": {
      "text/plain": [
       "UTK    167\n",
       "Name: facility, dtype: int64"
      ]
     },
     "execution_count": 132,
     "metadata": {},
     "output_type": "execute_result"
    }
   ],
   "source": [
    "Metab_train_skin_UTK = Metab_train_skin.filter_samples('facility', 'UTK')\n",
    "Metab_train_skin_UTK.sample_metadata.facility.value_counts()"
   ]
  },
  {
   "cell_type": "code",
   "execution_count": 133,
   "metadata": {},
   "outputs": [
    {
     "data": {
      "text/plain": [
       "K016.09        21\n",
       "UTK.K016.04    21\n",
       "K016.07        21\n",
       "UTK.K016.10    21\n",
       "UTK.K016.01    21\n",
       "UTK.K016.02    21\n",
       "UTK.K016.05    21\n",
       "UTK.K016.11    20\n",
       "Name: subjectID, dtype: int64"
      ]
     },
     "execution_count": 133,
     "metadata": {},
     "output_type": "execute_result"
    }
   ],
   "source": [
    "Metab_train_skin_UTK.sample_metadata.subjectID.value_counts()"
   ]
  },
  {
   "cell_type": "code",
   "execution_count": 134,
   "metadata": {},
   "outputs": [],
   "source": [
    "Metab_train_skin_UTK_meta = Metab_train_skin_UTK.add_sample_metadata_as_features(['season','avg_percent_humidity','total_precipitation_cm'])\n",
    "\n",
    "gkf = GroupKFold(4)\n",
    "\n",
    "X_UTK_train = Metab_train_skin_UTK_meta.data\n",
    "y_UTK_train = Metab_train_skin_UTK_meta.sample_metadata['add_0c']\n",
    "y_UTK_train = (y_UTK_train.astype(float))\n",
    "groups = Metab_train_skin_UTK_meta.sample_metadata['subjectID']\n",
    "# Tested this param grid on Summit to expand hyperparameter tuning\n",
    "#param_grid = {\"max_depth\": [4, 8, 16, None],\n",
    "#              \"max_features\": ['sqrt', 'log2', 0.1],\n",
    "#              \"min_samples_split\": [0.001, 0.01, 0.1],\n",
    "#              \"min_weight_fraction_leaf\": [0.0001, 0.001, 0.01],\n",
    "#              \"bootstrap\": [True, False]}\n",
    "# It provided this best model:\n",
    "          \n",
    "# Takes too long to run on local computer; will need to run then import model from Summit\n",
    "\n",
    "param_grid = {\"max_depth\": [8],\n",
    "          \"max_features\": [0.1],\n",
    "          \"min_samples_split\": [0.001],\n",
    "          \"min_weight_fraction_leaf\": [0.0001], \n",
    "          \"bootstrap\": [False]}\n",
    "rf = RandomForestRegressor(n_estimators=1000, random_state=999, criterion='mae')\n",
    "gs = GridSearchCV(rf, param_grid=param_grid, cv=gkf.split(X_UTK_train, y_UTK_train, groups), scoring='neg_mean_absolute_error', n_jobs=-3)"
   ]
  },
  {
   "cell_type": "code",
   "execution_count": 135,
   "metadata": {
    "scrolled": true
   },
   "outputs": [
    {
     "data": {
      "text/plain": [
       "GridSearchCV(cv=<generator object _BaseKFold.split at 0x11dbd18b8>,\n",
       "       error_score='raise',\n",
       "       estimator=RandomForestRegressor(bootstrap=True, criterion='mae', max_depth=None,\n",
       "           max_features='auto', max_leaf_nodes=None,\n",
       "           min_impurity_decrease=0.0, min_impurity_split=None,\n",
       "           min_samples_leaf=1, min_samples_split=2,\n",
       "           min_weight_fraction_leaf=0.0, n_estimators=10, n_jobs=1,\n",
       "           oob_score=False, random_state=999, verbose=0, warm_start=False),\n",
       "       fit_params=None, iid=True, n_jobs=1,\n",
       "       param_grid={'max_depth': [8], 'max_features': [0.1], 'min_samples_split': [0.001], 'min_samples_leaf': [1], 'min_weight_fraction_leaf': [0.01], 'bootstrap': [False]},\n",
       "       pre_dispatch='2*n_jobs', refit=True, return_train_score='warn',\n",
       "       scoring='neg_mean_absolute_error', verbose=0)"
      ]
     },
     "execution_count": 135,
     "metadata": {},
     "output_type": "execute_result"
    }
   ],
   "source": [
    "gs.fit(X_UTK_train, y_UTK_train)"
   ]
  },
  {
   "cell_type": "code",
   "execution_count": null,
   "metadata": {},
   "outputs": [],
   "source": [
    "print(gs.best_params_)"
   ]
  },
  {
   "cell_type": "code",
   "execution_count": 136,
   "metadata": {
    "scrolled": false
   },
   "outputs": [
    {
     "name": "stdout",
     "output_type": "stream",
     "text": [
      "The best mean error rate is 60.23\n"
     ]
    },
    {
     "data": {
      "text/plain": [
       "<function TextIOWrapper.close()>"
      ]
     },
     "execution_count": 136,
     "metadata": {},
     "output_type": "execute_result"
    }
   ],
   "source": [
    "print('The best mean error rate is', round(-gs.best_score_,2))\n",
    "\n",
    "with open('skin_model_errors.txt', 'a') as out:\n",
    "   out.write('UTK_skin_train_meta\\t'+str(round(-gs.best_score_,2))+'\\n')\n",
    "out.close"
   ]
  },
  {
   "cell_type": "code",
   "execution_count": 137,
   "metadata": {},
   "outputs": [
    {
     "data": {
      "text/plain": [
       "['models/PMI3_Metab_UTK_skin_train.pkl']"
      ]
     },
     "execution_count": 137,
     "metadata": {},
     "output_type": "execute_result"
    }
   ],
   "source": [
    "joblib.dump(gs.best_estimator_, 'models/PMI3_Metab_UTK_skin_train.pkl')"
   ]
  },
  {
   "cell_type": "code",
   "execution_count": 138,
   "metadata": {},
   "outputs": [],
   "source": [
    "model_Metab_UTK_train = joblib.load('models/PMI3_Metab_UTK_skin_train.pkl')"
   ]
  },
  {
   "cell_type": "code",
   "execution_count": 139,
   "metadata": {
    "scrolled": true
   },
   "outputs": [
    {
     "data": {
      "text/plain": [
       "RandomForestRegressor(bootstrap=False, criterion='mae', max_depth=8,\n",
       "           max_features=0.1, max_leaf_nodes=None,\n",
       "           min_impurity_decrease=0.0, min_impurity_split=None,\n",
       "           min_samples_leaf=1, min_samples_split=0.001,\n",
       "           min_weight_fraction_leaf=0.01, n_estimators=10, n_jobs=1,\n",
       "           oob_score=False, random_state=999, verbose=0, warm_start=False)"
      ]
     },
     "execution_count": 139,
     "metadata": {},
     "output_type": "execute_result"
    }
   ],
   "source": [
    "model_Metab_UTK_train"
   ]
  },
  {
   "cell_type": "markdown",
   "metadata": {},
   "source": [
    "## Recursive Feature Elimination "
   ]
  },
  {
   "cell_type": "markdown",
   "metadata": {},
   "source": [
    "### Uses the best estimator from the above model and performs 5% removal recursive steps"
   ]
  },
  {
   "cell_type": "code",
   "execution_count": 140,
   "metadata": {},
   "outputs": [],
   "source": [
    "rfecv = RFECV(estimator=model_Metab_UTK_train, step=0.05, min_features_to_select=100, cv=list(gkf.split(X_UTK_train, y_UTK_train, groups)), scoring='neg_mean_absolute_error', n_jobs=-3)"
   ]
  },
  {
   "cell_type": "code",
   "execution_count": 141,
   "metadata": {},
   "outputs": [
    {
     "data": {
      "text/plain": [
       "RFECV(cv=[(array([  0,  14, ..., 165, 166]), array([  1,   2,   3,   4,   5,   6,   7,   8,   9,  10,  11,  12,  13,\n",
       "        28,  29,  30,  31,  32,  33,  34,  35,  84,  85,  86,  87,  88,\n",
       "        89,  90,  91,  92,  93,  94, 101, 102, 103, 109, 127, 128, 129,\n",
       "       130, 143, 144])), (array([  0,   1, .....98,  99,\n",
       "       100, 104, 105, 106, 107, 108, 110, 131, 132, 133, 134, 135, 136,\n",
       "       137, 138]))],\n",
       "   estimator=RandomForestRegressor(bootstrap=False, criterion='mae', max_depth=8,\n",
       "           max_features=0.1, max_leaf_nodes=None,\n",
       "           min_impurity_decrease=0.0, min_impurity_split=None,\n",
       "           min_samples_leaf=1, min_samples_split=0.001,\n",
       "           min_weight_fraction_leaf=0.01, n_estimators=10, n_jobs=1,\n",
       "           oob_score=False, random_state=999, verbose=0, warm_start=False),\n",
       "   n_jobs=1, scoring='neg_mean_absolute_error', step=0.05, verbose=0)"
      ]
     },
     "execution_count": 141,
     "metadata": {},
     "output_type": "execute_result"
    }
   ],
   "source": [
    "# Likely need to run on Summit\n",
    "rfecv.fit(X_UTK_train, y_UTK_train)"
   ]
  },
  {
   "cell_type": "code",
   "execution_count": 142,
   "metadata": {},
   "outputs": [
    {
     "name": "stdout",
     "output_type": "stream",
     "text": [
      "Number of steps performed: 22\n",
      "Optimal number of features : 3746\n",
      "The best mean absolute error is: 57\n"
     ]
    }
   ],
   "source": [
    "print(\"Number of steps performed: %d\" % len(rfecv.grid_scores_))\n",
    "print(\"Optimal number of features : %d\" % rfecv.n_features_)\n",
    "print(\"The best mean absolute error is: %d\" % -(max(rfecv.grid_scores_)))"
   ]
  },
  {
   "cell_type": "code",
   "execution_count": 143,
   "metadata": {},
   "outputs": [
    {
     "data": {
      "image/png": "[encoded data removed]",
      "text/plain": [
       "<Figure size 576x360 with 1 Axes>"
      ]
     },
     "metadata": {
      "needs_background": "light"
     },
     "output_type": "display_data"
    }
   ],
   "source": [
    "# Plot number of features VS. cross-validation scores\n",
    "plt.figure(figsize=(8,5))\n",
    "plt.title('Recursive Feature Elimination with Cross-Validation', fontsize=14, fontweight='bold', pad=20)\n",
    "plt.xlabel(\"Number of Steps (5% of features added per step)\")\n",
    "plt.ylabel(\"Cross Validation Score (Mean Absolute Error)\")\n",
    "plt.plot(range(1, len(rfecv.grid_scores_) + 1), rfecv.grid_scores_, linewidth=2)\n",
    "plt.savefig('figures/UTK_skin_train_model_rfecv.png')"
   ]
  },
  {
   "cell_type": "code",
   "execution_count": 144,
   "metadata": {},
   "outputs": [
    {
     "data": {
      "text/plain": [
       "['models/PMI3_Metab_skin_UTK_train_rfecv.pkl']"
      ]
     },
     "execution_count": 144,
     "metadata": {},
     "output_type": "execute_result"
    }
   ],
   "source": [
    "# Saves the estimator fit on the reduced dataset (i.e. the model created from optimal features)\n",
    "joblib.dump(rfecv.estimator_, 'models/PMI3_Metab_skin_UTK_train_rfecv.pkl')"
   ]
  },
  {
   "cell_type": "code",
   "execution_count": 145,
   "metadata": {},
   "outputs": [
    {
     "data": {
      "text/plain": [
       "RandomForestRegressor(bootstrap=False, criterion='mae', max_depth=8,\n",
       "           max_features=0.1, max_leaf_nodes=None,\n",
       "           min_impurity_decrease=0.0, min_impurity_split=None,\n",
       "           min_samples_leaf=1, min_samples_split=0.001,\n",
       "           min_weight_fraction_leaf=0.01, n_estimators=10, n_jobs=1,\n",
       "           oob_score=False, random_state=999, verbose=0, warm_start=False)"
      ]
     },
     "execution_count": 145,
     "metadata": {},
     "output_type": "execute_result"
    }
   ],
   "source": [
    "model_Metab_UTK_train_rfecv = joblib.load('models/PMI3_Metab_skin_UTK_train_rfecv.pkl')\n",
    "model_Metab_UTK_train_rfecv"
   ]
  },
  {
   "cell_type": "markdown",
   "metadata": {},
   "source": [
    "### Predicting training data (will be overfit but good sanity check)"
   ]
  },
  {
   "cell_type": "code",
   "execution_count": 146,
   "metadata": {},
   "outputs": [
    {
     "name": "stdout",
     "output_type": "stream",
     "text": [
      "Mean Absolute Error: 7.53 ADD\n",
      "Coefficient of determination R^2 of the prediction: 0.99\n"
     ]
    }
   ],
   "source": [
    "# Removes the unimportant features from X\n",
    "X_UTK_train = rfecv.transform(X_UTK_train)\n",
    "\n",
    "yhat = model_Metab_UTK_train_rfecv.predict(X_UTK_train)\n",
    "MAE = mean_absolute_error(y_UTK_train, yhat)\n",
    "print('Mean Absolute Error:', round(MAE, 2), 'ADD')\n",
    "\n",
    "#Score of best estimator when used to estimate training data (will be overfit)\n",
    "print('Coefficient of determination R^2 of the prediction:', round(model_Metab_UTK_train_rfecv.score(X_UTK_train,y_UTK_train),2))"
   ]
  },
  {
   "cell_type": "code",
   "execution_count": 147,
   "metadata": {},
   "outputs": [
    {
     "data": {
      "image/png": "[encoded data removed]",
      "text/plain": [
       "<Figure size 432x288 with 1 Axes>"
      ]
     },
     "metadata": {
      "needs_background": "light"
     },
     "output_type": "display_data"
    }
   ],
   "source": [
    "plt.scatter(yhat, y_UTK_train, color = 'orange')\n",
    "lower = np.min(np.concatenate([y_UTK_train, yhat]))\n",
    "upper = np.max(np.concatenate([y_UTK_train, yhat]))\n",
    "plt.plot([lower, upper], [lower, upper], color = 'black', lw = 2, ls = ':')\n",
    "plt.xlim(0,600)\n",
    "plt.ylim(0,600)\n",
    "\n",
    "#regression part\n",
    "slope, intercept, r_value, p_value, std_err = stats.linregress(yhat,y_UTK_train)\n",
    "line = slope*yhat+intercept\n",
    "plt.plot(yhat, line, color = 'black', lw = 2)\n",
    "\n",
    "plt.title('UTK skin model training\\n MAE = %d; $R^2$ = %.2f' %(round(MAE, 2),round(model_Metab_UTK_train_rfecv.score(X_UTK_train,y_UTK_train),2)))\n",
    "plt.xlabel(\"Predicted ADD\")\n",
    "plt.ylabel(\"Actual ADD\")\n",
    "plt.savefig('figures/UTK_skin_model_training.png')"
   ]
  },
  {
   "cell_type": "markdown",
   "metadata": {},
   "source": [
    "### Determine important features after RFECV"
   ]
  },
  {
   "cell_type": "code",
   "execution_count": 148,
   "metadata": {},
   "outputs": [
    {
     "name": "stdout",
     "output_type": "stream",
     "text": [
      "Feature:\t\t\t\tImportance:\n",
      "1. X358.292639041769_4.70101408045976\t0.07527839286077136\n",
      "2. X269.210000802471_5.71957425343018\t0.06350844639825044\n",
      "3. X346.257596826827_3.55504612923864\t0.04317227133826041\n",
      "4. X228.23079588292_6.35603299435028\t0.04075199583960027\n",
      "5. X235.205081385695_5.54213672199169\t0.04004329953379722\n",
      "6. X338.340824997771_8.0974091286307\t0.03878120414636759\n",
      "7. X593.475317968081_6.39350464231354\t0.03866871749708479\n",
      "8. X251.196778005923_5.72764201257861\t0.03585650596376576\n",
      "9. X313.271668434143_7.39331812499999\t0.03240056729325981\n",
      "10. X251.155228480819_3.34591225895317\t0.019159351156469703\n",
      "11. X323.254802010276_6.47503462121211\t0.018031758292553022\n",
      "12. X324.292402283678_7.72840526528958\t0.01511940270479083\n",
      "13. X470.380652618408_6.31804374999999\t0.012770820418274976\n",
      "14. X379.282191931683_6.98456826086956\t0.011819304638010283\n",
      "15. X279.230997695859_5.90311805903647\t0.011106825654229203\n",
      "16. X300.288733742453_4.75564670033669\t0.010629309555868728\n",
      "17. X255.231118649466_7.12408511166254\t0.009406389975332014\n",
      "18. X384.273482786406_6.0241993883792\t0.009312113244944058\n",
      "19. X412.304847263645_6.60969774774774\t0.009119519781290828\n",
      "20. X557.454941275734_5.91205104821803\t0.008354799609380842\n",
      "21. X523.397583007812_7.82592222222222\t0.008014506001746222\n",
      "22. X419.348389998726_8.90823786231883\t0.008003192791190638\n",
      "23. X159.101853172377_1.6350004950495\t0.007324900470565556\n",
      "24. X316.281779413637_4.22022608695652\t0.007051718008503763\n",
      "25. X265.251858191667_7.72115745216515\t0.006295088779284305\n"
     ]
    }
   ],
   "source": [
    "importances = model_Metab_UTK_train_rfecv.feature_importances_\n",
    "std = np.std([tree.feature_importances_ for tree in model_Metab_UTK_train_rfecv.estimators_],\n",
    "             axis=0)\n",
    "indices = np.argsort(importances)[::-1]\n",
    "\n",
    "feature_metadata = Metab_train_skin_UTK_meta.feature_metadata\n",
    "np.savetxt(\"feature_metadata/UTK_skin_train_feature_metadata_rfecv.csv\", feature_metadata, delimiter=\",\", fmt='%s')\n",
    "\n",
    "\n",
    "#print the important ids in order\n",
    "skin_importances = []\n",
    "count = 0\n",
    "print(\"Feature:\\t\\t\\t\\tImportance:\")\n",
    "for i in indices:\n",
    "    skin_importances += (Metab_train_skin_UTK_meta.feature_metadata.index.values[i], importances[indices[count]])\n",
    "    if count < 25:\n",
    "        print(str(count+1)+\". \"+str(Metab_train_skin_UTK_meta.feature_metadata.index.values[i])+\"\\t\"+str(importances[indices[count]]))\n",
    "    count += 1"
   ]
  },
  {
   "cell_type": "code",
   "execution_count": 149,
   "metadata": {},
   "outputs": [
    {
     "name": "stdout",
     "output_type": "stream",
     "text": [
      "Number of features present: 3746\n"
     ]
    }
   ],
   "source": [
    "# make sure shape is right\n",
    "print(\"Number of features present:\", int(len(skin_importances)/2))\n",
    "skin_importances_df = pd.DataFrame(np.array(skin_importances).reshape(int(len(skin_importances)/2),2))\n",
    "\n",
    "np.savetxt(\"importances/UTK_skin_train_importances.csv\", skin_importances_df, delimiter=\",\", fmt='%s')"
   ]
  },
  {
   "cell_type": "markdown",
   "metadata": {},
   "source": [
    "## Testing on validaiton set"
   ]
  },
  {
   "cell_type": "code",
   "execution_count": 150,
   "metadata": {},
   "outputs": [
    {
     "data": {
      "text/plain": [
       "UTK    82\n",
       "Name: facility, dtype: int64"
      ]
     },
     "execution_count": 150,
     "metadata": {},
     "output_type": "execute_result"
    }
   ],
   "source": [
    "Metab_val_skin_UTK = Metab_val_skin.filter_samples('facility', 'UTK')\n",
    "Metab_val_skin_UTK.sample_metadata.facility.value_counts()"
   ]
  },
  {
   "cell_type": "code",
   "execution_count": 151,
   "metadata": {},
   "outputs": [
    {
     "name": "stderr",
     "output_type": "stream",
     "text": [
      "/Users/Zach/miniconda3/envs/ml/lib/python3.7/site-packages/calour/training.py:130: FutureWarning: Sorting because non-concatenation axis is not aligned. A future version\n",
      "of pandas will change to not sort by default.\n",
      "\n",
      "To accept the future behavior, pass 'sort=False'.\n",
      "\n",
      "To retain the current behavior and silence the warning, pass 'sort=True'.\n",
      "\n",
      "  new.feature_metadata = pd.concat([pd.DataFrame(index=vec.get_feature_names()), new.feature_metadata])\n"
     ]
    }
   ],
   "source": [
    "Metab_val_skin_UTK_meta = Metab_val_skin_UTK.add_sample_metadata_as_features(['season','avg_percent_humidity','total_precipitation_cm'])"
   ]
  },
  {
   "cell_type": "code",
   "execution_count": 152,
   "metadata": {
    "scrolled": true
   },
   "outputs": [
    {
     "name": "stdout",
     "output_type": "stream",
     "text": [
      "Mean Absolute Error: 58.8 ADD\n",
      "Coefficient of determination R^2 of the prediction: 0.55\n"
     ]
    },
    {
     "data": {
      "text/plain": [
       "<function TextIOWrapper.close()>"
      ]
     },
     "execution_count": 152,
     "metadata": {},
     "output_type": "execute_result"
    }
   ],
   "source": [
    "X_UTK_val = rfecv.transform(Metab_val_skin_UTK_meta.data) #removing the unimportant features from X as determined by RFECV\n",
    "y_UTK_val = Metab_val_skin_UTK_meta.sample_metadata['add_0c']\n",
    "y_UTK_val = (y_UTK_val.astype(float))\n",
    "\n",
    "yhat = model_Metab_UTK_train_rfecv.predict(X_UTK_val)\n",
    "\n",
    "# cross-model error (cross-experiment error)\n",
    "MAE = mean_absolute_error(y_UTK_val, yhat)\n",
    "print('Mean Absolute Error:', round(MAE, 2), 'ADD')\n",
    "# Print R2 score\n",
    "print('Coefficient of determination R^2 of the prediction:', round(model_Metab_UTK_train_rfecv.score(X_UTK_val,y_UTK_val),2))\n",
    "\n",
    "with open('skin_model_errors.txt', 'a') as out:\n",
    "    out.write('UTK_skin_train_pred_val\\t'+str(round(MAE, 2))+'\\t'+str(round(model_Metab_UTK_train_rfecv.score(X_UTK_val,y_UTK_val),2))+'\\n')\n",
    "out.close"
   ]
  },
  {
   "cell_type": "code",
   "execution_count": 153,
   "metadata": {
    "scrolled": true
   },
   "outputs": [
    {
     "data": {
      "image/png": "[encoded data removed]",
      "text/plain": [
       "<Figure size 432x288 with 1 Axes>"
      ]
     },
     "metadata": {
      "needs_background": "light"
     },
     "output_type": "display_data"
    }
   ],
   "source": [
    "plt.scatter(yhat, y_UTK_val, color = 'orange')\n",
    "lower = np.min(np.concatenate([y_UTK_val, yhat]))\n",
    "upper = np.max(np.concatenate([y_UTK_val, yhat]))\n",
    "plt.plot([lower, upper], [lower, upper], color = 'black', lw = 2, ls = ':')\n",
    "plt.xlim(0,600)\n",
    "plt.ylim(0,600)\n",
    "\n",
    "#regression part\n",
    "slope, intercept, r_value, p_value, std_err = stats.linregress(yhat,y_UTK_val)\n",
    "line = slope*yhat+intercept\n",
    "plt.plot(yhat, line, color = 'black', lw = 2)\n",
    "\n",
    "plt.title('UTK skin model pred UTK\\n MAE = %d; $R^2$ = %.2f' %(round(MAE, 2),round(model_Metab_UTK_train_rfecv.score(X_UTK_val,y_UTK_val),2)))\n",
    "plt.xlabel(\"Predicted ADD\")\n",
    "plt.ylabel(\"Actual ADD\")\n",
    "plt.savefig('figures/UTK_skin_model_validation.png')"
   ]
  },
  {
   "cell_type": "markdown",
   "metadata": {},
   "source": [
    "## Full UTK model"
   ]
  },
  {
   "cell_type": "code",
   "execution_count": 154,
   "metadata": {},
   "outputs": [
    {
     "data": {
      "text/plain": [
       "UTK    249\n",
       "Name: facility, dtype: int64"
      ]
     },
     "execution_count": 154,
     "metadata": {},
     "output_type": "execute_result"
    }
   ],
   "source": [
    "Metab_UTK = allMetab_skin.filter_samples('facility', 'UTK')\n",
    "Metab_UTK.sample_metadata.facility.value_counts()"
   ]
  },
  {
   "cell_type": "code",
   "execution_count": 155,
   "metadata": {},
   "outputs": [
    {
     "data": {
      "text/plain": [
       "UTK.K016.04    21\n",
       "UTK.K016.03    21\n",
       "K016.07        21\n",
       "UTK.K016.01    21\n",
       "UTK.K016.05    21\n",
       "K016.09        21\n",
       "UTK.K016.10    21\n",
       "K016.08        21\n",
       "UTK.K016.02    21\n",
       "UTK.K016.12    20\n",
       "UTK.K016.06    20\n",
       "UTK.K016.11    20\n",
       "Name: subjectID, dtype: int64"
      ]
     },
     "execution_count": 155,
     "metadata": {},
     "output_type": "execute_result"
    }
   ],
   "source": [
    "Metab_UTK.sample_metadata.subjectID.value_counts()"
   ]
  },
  {
   "cell_type": "code",
   "execution_count": 156,
   "metadata": {},
   "outputs": [],
   "source": [
    "Metab_UTK_meta = Metab_UTK.add_sample_metadata_as_features(['season','avg_percent_humidity','total_precipitation_cm'])\n",
    "\n",
    "gkf = GroupKFold(4)\n",
    "\n",
    "X_UTK = Metab_UTK_meta.data\n",
    "y_UTK = Metab_UTK_meta.sample_metadata['add_0c']\n",
    "y_UTK = (y_UTK.astype(float))\n",
    "groups = Metab_UTK_meta.sample_metadata['subjectID']\n",
    "# Tested this param grid on Summit to expand hyperparameter tuning\n",
    "#param_grid = {\"max_depth\": [4, 8, 16, None],\n",
    "#              \"max_features\": ['sqrt', 'log2', 0.1],\n",
    "#              \"min_samples_split\": [0.001, 0.01, 0.1],\n",
    "#              \"min_weight_fraction_leaf\": [0.0001, 0.001, 0.01],\n",
    "#              \"bootstrap\": [True, False]}\n",
    "# It provided this best model:\n",
    "          \n",
    "# Takes too long to run on local computer; will need to run then import model from Summit\n",
    "\n",
    "param_grid = {\"max_depth\": [8],\n",
    "          \"max_features\": [0.1],\n",
    "          \"min_samples_split\": [0.001],\n",
    "          \"min_weight_fraction_leaf\": [0.0001],\n",
    "          \"bootstrap\": [False]}\n",
    "rf = RandomForestRegressor(n_estimators=1000, random_state=999, criterion='mae')\n",
    "gs = GridSearchCV(rf, param_grid=param_grid, cv=gkf.split(X_UTK, y_UTK, groups), scoring='neg_mean_absolute_error', n_jobs=-3)"
   ]
  },
  {
   "cell_type": "code",
   "execution_count": 157,
   "metadata": {
    "scrolled": true
   },
   "outputs": [
    {
     "data": {
      "text/plain": [
       "GridSearchCV(cv=<generator object _BaseKFold.split at 0x11dfd1750>,\n",
       "       error_score='raise',\n",
       "       estimator=RandomForestRegressor(bootstrap=True, criterion='mae', max_depth=None,\n",
       "           max_features='auto', max_leaf_nodes=None,\n",
       "           min_impurity_decrease=0.0, min_impurity_split=None,\n",
       "           min_samples_leaf=1, min_samples_split=2,\n",
       "           min_weight_fraction_leaf=0.0, n_estimators=10, n_jobs=1,\n",
       "           oob_score=False, random_state=999, verbose=0, warm_start=False),\n",
       "       fit_params=None, iid=True, n_jobs=1,\n",
       "       param_grid={'max_depth': [8], 'max_features': [0.1], 'min_samples_split': [0.001], 'min_samples_leaf': [1], 'min_weight_fraction_leaf': [0.01], 'bootstrap': [False]},\n",
       "       pre_dispatch='2*n_jobs', refit=True, return_train_score='warn',\n",
       "       scoring='neg_mean_absolute_error', verbose=0)"
      ]
     },
     "execution_count": 157,
     "metadata": {},
     "output_type": "execute_result"
    }
   ],
   "source": [
    "gs.fit(X_UTK, y_UTK)"
   ]
  },
  {
   "cell_type": "code",
   "execution_count": null,
   "metadata": {},
   "outputs": [],
   "source": [
    "print(gs.best_params_)"
   ]
  },
  {
   "cell_type": "code",
   "execution_count": 158,
   "metadata": {
    "scrolled": false
   },
   "outputs": [
    {
     "name": "stdout",
     "output_type": "stream",
     "text": [
      "The best mean error rate is 55.29\n"
     ]
    },
    {
     "data": {
      "text/plain": [
       "<function TextIOWrapper.close()>"
      ]
     },
     "execution_count": 158,
     "metadata": {},
     "output_type": "execute_result"
    }
   ],
   "source": [
    "print('The best mean error rate is', round(-gs.best_score_,2))\n",
    "\n",
    "with open('skin_model_errors.txt', 'a') as out:\n",
    "   out.write('UTK_skin_meta\\t'+str(round(-gs.best_score_,2))+'\\n')\n",
    "out.close"
   ]
  },
  {
   "cell_type": "code",
   "execution_count": 159,
   "metadata": {},
   "outputs": [
    {
     "data": {
      "text/plain": [
       "['models/PMI3_Metab_UTK_skin_rfecv.pkl']"
      ]
     },
     "execution_count": 159,
     "metadata": {},
     "output_type": "execute_result"
    }
   ],
   "source": [
    "joblib.dump(gs.best_estimator_, 'models/PMI3_Metab_UTK_skin.pkl')"
   ]
  },
  {
   "cell_type": "code",
   "execution_count": 160,
   "metadata": {},
   "outputs": [],
   "source": [
    "model_Metab_UTK = joblib.load('models/PMI3_Metab_UTK_skin.pkl')"
   ]
  },
  {
   "cell_type": "code",
   "execution_count": 161,
   "metadata": {
    "scrolled": false
   },
   "outputs": [
    {
     "data": {
      "text/plain": [
       "RandomForestRegressor(bootstrap=False, criterion='mae', max_depth=8,\n",
       "           max_features=0.1, max_leaf_nodes=None,\n",
       "           min_impurity_decrease=0.0, min_impurity_split=None,\n",
       "           min_samples_leaf=1, min_samples_split=0.001,\n",
       "           min_weight_fraction_leaf=0.01, n_estimators=10, n_jobs=1,\n",
       "           oob_score=False, random_state=999, verbose=0, warm_start=False)"
      ]
     },
     "execution_count": 161,
     "metadata": {},
     "output_type": "execute_result"
    }
   ],
   "source": [
    "model_Metab_UTK"
   ]
  },
  {
   "cell_type": "markdown",
   "metadata": {},
   "source": [
    "## Recursive Feature Elimination "
   ]
  },
  {
   "cell_type": "markdown",
   "metadata": {},
   "source": [
    "### Uses the best estimator from the above model and performs 5% removal recursive steps"
   ]
  },
  {
   "cell_type": "code",
   "execution_count": 162,
   "metadata": {},
   "outputs": [],
   "source": [
    "rfecv = RFECV(estimator=model_Metab_UTK, step=0.05, min_features_to_select=100, cv=list(gkf.split(X_UTK, y_UTK, groups)), scoring='neg_mean_absolute_error', n_jobs=-3)"
   ]
  },
  {
   "cell_type": "code",
   "execution_count": 163,
   "metadata": {},
   "outputs": [
    {
     "data": {
      "text/plain": [
       "RFECV(cv=[(array([  1,   2, ..., 247, 248]), array([  0,  14,  15,  16,  17,  18,  19,  20,  21,  22,  23,  24,  25,\n",
       "        26,  27,  51,  52,  53,  54,  55,  56,  67,  68,  69,  70,  71,\n",
       "        72,  73,  74, 100, 101, 102, 103, 104, 105, 106, 107, 108, 109,\n",
       "       110, 111, 112, 126, 127, 128, 129, 130... 183, 184, 185, 209, 210, 211, 231, 232,\n",
       "       233, 234, 241, 242, 243, 244, 245, 246, 247, 248]))],\n",
       "   estimator=RandomForestRegressor(bootstrap=False, criterion='mae', max_depth=8,\n",
       "           max_features=0.1, max_leaf_nodes=None,\n",
       "           min_impurity_decrease=0.0, min_impurity_split=None,\n",
       "           min_samples_leaf=1, min_samples_split=0.001,\n",
       "           min_weight_fraction_leaf=0.01, n_estimators=10, n_jobs=1,\n",
       "           oob_score=False, random_state=999, verbose=0, warm_start=False),\n",
       "   n_jobs=1, scoring='neg_mean_absolute_error', step=0.05, verbose=0)"
      ]
     },
     "execution_count": 163,
     "metadata": {},
     "output_type": "execute_result"
    }
   ],
   "source": [
    "# Likely need to run on Summit\n",
    "rfecv.fit(X_UTK, y_UTK)"
   ]
  },
  {
   "cell_type": "code",
   "execution_count": 164,
   "metadata": {},
   "outputs": [
    {
     "name": "stdout",
     "output_type": "stream",
     "text": [
      "Number of steps performed: 22\n",
      "Optimal number of features : 4186\n",
      "The best mean absolute error is: 52\n"
     ]
    }
   ],
   "source": [
    "print(\"Number of steps performed: %d\" % len(rfecv.grid_scores_))\n",
    "print(\"Optimal number of features : %d\" % rfecv.n_features_)\n",
    "print(\"The best mean absolute error is: %d\" % -(max(rfecv.grid_scores_)))"
   ]
  },
  {
   "cell_type": "code",
   "execution_count": 165,
   "metadata": {},
   "outputs": [
    {
     "data": {
      "image/png": "[encoded data removed]",
      "text/plain": [
       "<Figure size 576x360 with 1 Axes>"
      ]
     },
     "metadata": {
      "needs_background": "light"
     },
     "output_type": "display_data"
    }
   ],
   "source": [
    "# Plot number of features VS. cross-validation scores\n",
    "plt.figure(figsize=(8,5))\n",
    "plt.title('Recursive Feature Elimination with Cross-Validation', fontsize=14, fontweight='bold', pad=20)\n",
    "plt.xlabel(\"Number of Steps (5% of features added per step)\")\n",
    "plt.ylabel(\"Cross Validation Score (Mean Absolute Error)\")\n",
    "plt.plot(range(1, len(rfecv.grid_scores_) + 1), rfecv.grid_scores_, linewidth=2)\n",
    "plt.savefig('figures/UTK_skin_model_rfecv.png')"
   ]
  },
  {
   "cell_type": "code",
   "execution_count": 166,
   "metadata": {},
   "outputs": [
    {
     "data": {
      "text/plain": [
       "['models/PMI3_Metab_skin_UTK_rfecv.pkl']"
      ]
     },
     "execution_count": 166,
     "metadata": {},
     "output_type": "execute_result"
    }
   ],
   "source": [
    "# Saves the estimator fit on the reduced dataset (i.e. the model created from optimal features)\n",
    "joblib.dump(rfecv.estimator_, 'models/PMI3_Metab_skin_UTK_rfecv.pkl')"
   ]
  },
  {
   "cell_type": "code",
   "execution_count": 167,
   "metadata": {},
   "outputs": [
    {
     "data": {
      "text/plain": [
       "RandomForestRegressor(bootstrap=False, criterion='mae', max_depth=8,\n",
       "           max_features=0.1, max_leaf_nodes=None,\n",
       "           min_impurity_decrease=0.0, min_impurity_split=None,\n",
       "           min_samples_leaf=1, min_samples_split=0.001,\n",
       "           min_weight_fraction_leaf=0.01, n_estimators=10, n_jobs=1,\n",
       "           oob_score=False, random_state=999, verbose=0, warm_start=False)"
      ]
     },
     "execution_count": 167,
     "metadata": {},
     "output_type": "execute_result"
    }
   ],
   "source": [
    "model_Metab_UTK_rfecv = joblib.load('models/PMI3_Metab_skin_UTK_rfecv.pkl')\n",
    "model_Metab_UTK_rfecv"
   ]
  },
  {
   "cell_type": "markdown",
   "metadata": {},
   "source": [
    "### Determine important features after RFECV"
   ]
  },
  {
   "cell_type": "code",
   "execution_count": 168,
   "metadata": {},
   "outputs": [
    {
     "name": "stdout",
     "output_type": "stream",
     "text": [
      "Feature:\t\t\t\tImportance:\n",
      "1. X328.283489266621_6.07409948453607\t0.08851098410893651\n",
      "2. X235.205081385695_5.54213672199169\t0.08664642940233411\n",
      "3. X254.247322840048_6.55874982269503\t0.07574080314135526\n",
      "4. X228.23079588292_6.35603299435028\t0.041533070732982555\n",
      "5. X326.340475453795_8.1965404290429\t0.0396552787344399\n",
      "6. X283.261846131269_6.46965379294957\t0.03922859010308807\n",
      "7. X533.380648295084_8.47133075396825\t0.03376337330552327\n",
      "8. X213.148191867404_5.34548177777777\t0.03313827997314662\n",
      "9. X324.292402283678_7.72840526528958\t0.021715832209273218\n",
      "10. X549.380208996758_7.86295833333333\t0.014847392735741954\n",
      "11. X354.371857869256_8.7059326460481\t0.011507381924343033\n",
      "12. X269.210000802471_5.71957425343018\t0.010649111695971384\n",
      "13. X158.153798192113_4.34759069069069\t0.009907260882806551\n",
      "14. X605.308220987266_5.72433050847457\t0.009149400048981396\n",
      "15. X263.236333338818_7.31381844305119\t0.007522129843750116\n",
      "16. X419.348389998726_8.90823786231883\t0.007461127000048751\n",
      "17. X527.391812133789_7.85676263888889\t0.00744841770201511\n",
      "18. X155.106590406138_3.54257160493827\t0.007263767369076456\n",
      "19. X224.164378561624_4.0290394308943\t0.006946691174120993\n",
      "20. X520.338412636204_5.62991298245614\t0.006539184824332351\n",
      "21. X509.381884956359_7.87130999999999\t0.0064370197826032465\n",
      "22. X251.155228480819_3.34591225895317\t0.00642423289074332\n",
      "23. X464.299786703927_4.75963928571428\t0.0063316109572831274\n",
      "24. X269.137012504531_3.49493093812375\t0.005982022427161763\n",
      "25. X346.257596826827_3.55504612923864\t0.005899739911232579\n"
     ]
    }
   ],
   "source": [
    "importances = model_Metab_UTK_rfecv.feature_importances_\n",
    "std = np.std([tree.feature_importances_ for tree in model_Metab_UTK_rfecv.estimators_],\n",
    "             axis=0)\n",
    "indices = np.argsort(importances)[::-1]\n",
    "\n",
    "feature_metadata = Metab_UTK_meta.feature_metadata\n",
    "np.savetxt(\"feature_metadata/UTK_skin_feature_metadata_rfecv.csv\", feature_metadata, delimiter=\",\", fmt='%s')\n",
    "\n",
    "\n",
    "#print the important ids in order\n",
    "skin_importances = []\n",
    "count = 0\n",
    "print(\"Feature:\\t\\t\\t\\tImportance:\")\n",
    "for i in indices:\n",
    "    skin_importances += (Metab_UTK_meta.feature_metadata.index.values[i], importances[indices[count]])\n",
    "    if count < 25:\n",
    "        print(str(count+1)+\". \"+str(Metab_UTK_meta.feature_metadata.index.values[i])+\"\\t\"+str(importances[indices[count]]))\n",
    "    count += 1"
   ]
  },
  {
   "cell_type": "code",
   "execution_count": 169,
   "metadata": {
    "scrolled": true
   },
   "outputs": [
    {
     "name": "stdout",
     "output_type": "stream",
     "text": [
      "Number of features present: 4186\n"
     ]
    }
   ],
   "source": [
    "# make sure shape is right\n",
    "print(\"Number of features present:\", int(len(skin_importances)/2))\n",
    "skin_importances_df = pd.DataFrame(np.array(skin_importances).reshape(int(len(skin_importances)/2),2))\n",
    "\n",
    "np.savetxt(\"importances/UTK_skin_importances.csv\", skin_importances_df, delimiter=\",\", fmt='%s')"
   ]
  },
  {
   "cell_type": "markdown",
   "metadata": {},
   "source": [
    "## Cross-facility predictions"
   ]
  },
  {
   "cell_type": "markdown",
   "metadata": {},
   "source": [
    "## UTK trained model\n",
    "### Test on CMU"
   ]
  },
  {
   "cell_type": "code",
   "execution_count": 170,
   "metadata": {
    "scrolled": true
   },
   "outputs": [
    {
     "data": {
      "text/plain": [
       "(249, 4186)"
      ]
     },
     "execution_count": 170,
     "metadata": {},
     "output_type": "execute_result"
    }
   ],
   "source": [
    "rfecv.transform(X_UTK).shape"
   ]
  },
  {
   "cell_type": "code",
   "execution_count": 171,
   "metadata": {},
   "outputs": [
    {
     "name": "stderr",
     "output_type": "stream",
     "text": [
      "/Users/Zach/miniconda3/envs/ml/lib/python3.7/site-packages/calour/training.py:130: FutureWarning: Sorting because non-concatenation axis is not aligned. A future version\n",
      "of pandas will change to not sort by default.\n",
      "\n",
      "To accept the future behavior, pass 'sort=False'.\n",
      "\n",
      "To retain the current behavior and silence the warning, pass 'sort=True'.\n",
      "\n",
      "  new.feature_metadata = pd.concat([pd.DataFrame(index=vec.get_feature_names()), new.feature_metadata])\n"
     ]
    },
    {
     "data": {
      "text/plain": [
       "(248, 4186)"
      ]
     },
     "execution_count": 171,
     "metadata": {},
     "output_type": "execute_result"
    }
   ],
   "source": [
    "Metab_CMU = allMetab_skin.filter_samples('facility', 'CMU')\n",
    "Metab_CMU_meta = Metab_CMU.add_sample_metadata_as_features(['season','avg_percent_humidity','total_precipitation_cm'])\n",
    "rfecv.transform(Metab_CMU_meta.data).shape"
   ]
  },
  {
   "cell_type": "code",
   "execution_count": 172,
   "metadata": {},
   "outputs": [],
   "source": [
    "yhat = model_Metab_UTK_rfecv.predict(rfecv.transform(Metab_CMU_meta.data))"
   ]
  },
  {
   "cell_type": "code",
   "execution_count": 173,
   "metadata": {
    "scrolled": true
   },
   "outputs": [
    {
     "name": "stdout",
     "output_type": "stream",
     "text": [
      "Mean Absolute Error: 75.13 ADD\n",
      "Coefficient of determination R^2 of the prediction: 0.38\n"
     ]
    },
    {
     "data": {
      "text/plain": [
       "<function TextIOWrapper.close()>"
      ]
     },
     "execution_count": 173,
     "metadata": {},
     "output_type": "execute_result"
    }
   ],
   "source": [
    "# cross-model error (cross-experiment error)\n",
    "MAE = mean_absolute_error(Metab_CMU_meta.sample_metadata.add_0c, yhat)\n",
    "print('Mean Absolute Error:', round(MAE, 2), 'ADD')\n",
    "# Print R2 score\n",
    "print('Coefficient of determination R^2 of the prediction:', round(model_Metab_UTK_rfecv.score(rfecv.transform(Metab_CMU_meta.data),Metab_CMU_meta.sample_metadata['add_0c'].astype(float)),2))\n",
    "\n",
    "with open('skin_model_errors.txt', 'a') as out:\n",
    "   out.write('UTK_skin_model_pred_CMU_meta\\t'+str(round(MAE,2))+'\\t'+str(round(model_Metab_UTK_rfecv.score(rfecv.transform(Metab_CMU_meta.data),Metab_CMU_meta.sample_metadata['add_0c'].astype(float)),2))+'\\n')\n",
    "out.close"
   ]
  },
  {
   "cell_type": "code",
   "execution_count": 174,
   "metadata": {
    "scrolled": true
   },
   "outputs": [
    {
     "data": {
      "image/png": "[encoded data removed]",
      "text/plain": [
       "<Figure size 432x288 with 1 Axes>"
      ]
     },
     "metadata": {
      "needs_background": "light"
     },
     "output_type": "display_data"
    }
   ],
   "source": [
    "plt.scatter(yhat, Metab_CMU_meta.sample_metadata.add_0c, color = 'orange')\n",
    "lower = np.min(np.concatenate([Metab_CMU_meta.sample_metadata.add_0c, yhat]))\n",
    "upper = np.max(np.concatenate([Metab_CMU_meta.sample_metadata.add_0c, yhat]))\n",
    "plt.plot([lower, upper], [lower, upper], color = 'black', lw = 2, ls = ':')\n",
    "plt.xlim(0,600)\n",
    "plt.ylim(0,600)\n",
    "\n",
    "#regression part\n",
    "slope, intercept, r_value, p_value, std_err = stats.linregress(yhat,Metab_CMU_meta.sample_metadata.add_0c)\n",
    "line = slope*yhat+intercept\n",
    "plt.plot(yhat, line, color = 'black', lw = 2)\n",
    "\n",
    "plt.title('UTK skin model predicting CMU\\n MAE = %d; $R^2$ = %.2f' %(round(MAE, 2),round(model_Metab_UTK_rfecv.score(rfecv.transform(Metab_CMU_meta.data),Metab_CMU_meta.sample_metadata['add_0c'].astype(float)),2)))\n",
    "plt.xlabel(\"Predicted ADD\")\n",
    "plt.ylabel(\"Actual ADD\")\n",
    "plt.savefig('figures/UTK_skin_model_pred_CMU.png')"
   ]
  },
  {
   "cell_type": "markdown",
   "metadata": {},
   "source": [
    "### Test on SHSU"
   ]
  },
  {
   "cell_type": "code",
   "execution_count": 175,
   "metadata": {
    "scrolled": true
   },
   "outputs": [
    {
     "data": {
      "text/plain": [
       "(249, 4186)"
      ]
     },
     "execution_count": 175,
     "metadata": {},
     "output_type": "execute_result"
    }
   ],
   "source": [
    "rfecv.transform(X_UTK).shape"
   ]
  },
  {
   "cell_type": "code",
   "execution_count": 176,
   "metadata": {
    "scrolled": true
   },
   "outputs": [
    {
     "data": {
      "text/plain": [
       "(249, 4186)"
      ]
     },
     "execution_count": 176,
     "metadata": {},
     "output_type": "execute_result"
    }
   ],
   "source": [
    "Metab_SHSU = allMetab_skin.filter_samples('facility', 'SHSU')\n",
    "Metab_SHSU_meta = Metab_SHSU.add_sample_metadata_as_features(['season','avg_percent_humidity','total_precipitation_cm'])\n",
    "rfecv.transform(Metab_SHSU_meta.data).shape"
   ]
  },
  {
   "cell_type": "code",
   "execution_count": 177,
   "metadata": {},
   "outputs": [],
   "source": [
    "yhat = model_Metab_UTK_rfecv.predict(rfecv.transform(Metab_SHSU_meta.data))"
   ]
  },
  {
   "cell_type": "code",
   "execution_count": 178,
   "metadata": {
    "scrolled": true
   },
   "outputs": [
    {
     "name": "stdout",
     "output_type": "stream",
     "text": [
      "Mean Absolute Error: 84.54 ADD\n",
      "Coefficient of determination R^2 of the prediction: 0.27\n"
     ]
    },
    {
     "data": {
      "text/plain": [
       "<function TextIOWrapper.close()>"
      ]
     },
     "execution_count": 178,
     "metadata": {},
     "output_type": "execute_result"
    }
   ],
   "source": [
    "# cross-model error (cross-experiment error)\n",
    "MAE = mean_absolute_error(Metab_SHSU_meta.sample_metadata.add_0c, yhat)\n",
    "print('Mean Absolute Error:', round(MAE, 2), 'ADD')\n",
    "# Print R2 score\n",
    "print('Coefficient of determination R^2 of the prediction:', round(model_Metab_UTK_rfecv.score(rfecv.transform(Metab_SHSU_meta.data),Metab_SHSU_meta.sample_metadata['add_0c'].astype(float)),2))\n",
    "\n",
    "with open('skin_model_errors.txt', 'a') as out:\n",
    "   out.write('UTK_skin_model_pred_SHSU_meta\\t'+str(round(MAE,2))+'\\t'+str(round(model_Metab_UTK_rfecv.score(rfecv.transform(Metab_SHSU_meta.data),Metab_SHSU_meta.sample_metadata['add_0c'].astype(float)),2))+'\\n')\n",
    "out.close"
   ]
  },
  {
   "cell_type": "code",
   "execution_count": 197,
   "metadata": {
    "scrolled": true
   },
   "outputs": [
    {
     "data": {
      "image/png": "[encoded data removed]",
      "text/plain": [
       "<Figure size 432x288 with 1 Axes>"
      ]
     },
     "metadata": {
      "needs_background": "light"
     },
     "output_type": "display_data"
    }
   ],
   "source": [
    "plt.scatter(yhat, Metab_SHSU_meta.sample_metadata.add_0c, color = 'orange')\n",
    "lower = np.min(np.concatenate([Metab_SHSU_meta.sample_metadata.add_0c, yhat]))\n",
    "upper = np.max(np.concatenate([Metab_SHSU_meta.sample_metadata.add_0c, yhat]))\n",
    "plt.plot([lower, upper], [lower, upper], color = 'black', lw = 2, ls = ':')\n",
    "plt.xlim(0,600)\n",
    "plt.ylim(0,600)\n",
    "\n",
    "#regression part\n",
    "slope, intercept, r_value, p_value, std_err = stats.linregress(yhat,Metab_SHSU_meta.sample_metadata.add_0c)\n",
    "line = slope*yhat+intercept\n",
    "plt.plot(yhat, line, color = 'black', lw = 2)\n",
    "\n",
    "plt.title('UTK skin model predicting SHSU\\n MAE = %d; $R^2$ = %.2f' %(round(MAE, 2),round(model_Metab_UTK_rfecv.score(rfecv.transform(Metab_SHSU_meta.data),Metab_SHSU_meta.sample_metadata['add_0c'].astype(float)),2)))\n",
    "plt.xlabel(\"Predicted ADD\")\n",
    "plt.ylabel(\"Actual ADD\")\n",
    "plt.savefig('figures/UTK_skin_model_pred_SHSU.png')"
   ]
  },
  {
   "cell_type": "markdown",
   "metadata": {},
   "source": [
    "### Test on CMU and SHSU"
   ]
  },
  {
   "cell_type": "code",
   "execution_count": 180,
   "metadata": {
    "scrolled": true
   },
   "outputs": [
    {
     "data": {
      "text/plain": [
       "SHSU    499\n",
       "CMU     493\n",
       "Name: facility, dtype: int64"
      ]
     },
     "execution_count": 180,
     "metadata": {},
     "output_type": "execute_result"
    }
   ],
   "source": [
    "Metab_CMU_SHSU = allMetab_skin.filter_samples('facility','UTK', negate = True)\n",
    "Metab_CMU_SHSU_meta = Metab_CMU_SHSU.add_sample_metadata_as_features(['season','avg_percent_humidity','total_precipitation_cm'])\n",
    "\n",
    "X_CMU_SHSU = Metab_CMU_SHSU_meta.data\n",
    "y_CMU_SHSU = Metab_CMU_SHSU_meta.sample_metadata['add_0c'].astype(float)\n",
    "Metab_CMU_SHSU_meta.sample_metadata.facility.value_counts()"
   ]
  },
  {
   "cell_type": "code",
   "execution_count": 181,
   "metadata": {
    "scrolled": true
   },
   "outputs": [
    {
     "data": {
      "text/plain": [
       "(249, 4186)"
      ]
     },
     "execution_count": 181,
     "metadata": {},
     "output_type": "execute_result"
    }
   ],
   "source": [
    "rfecv.transform(X_UTK).shape"
   ]
  },
  {
   "cell_type": "code",
   "execution_count": 182,
   "metadata": {},
   "outputs": [
    {
     "data": {
      "text/plain": [
       "(992, 4186)"
      ]
     },
     "execution_count": 182,
     "metadata": {},
     "output_type": "execute_result"
    }
   ],
   "source": [
    "rfecv.transform(Metab_CMU_SHSU_meta.data).shape"
   ]
  },
  {
   "cell_type": "code",
   "execution_count": 183,
   "metadata": {},
   "outputs": [],
   "source": [
    "yhat = model_Metab_UTK_rfecv.predict(rfecv.transform(Metab_CMU_SHSU_meta.data))"
   ]
  },
  {
   "cell_type": "code",
   "execution_count": 184,
   "metadata": {},
   "outputs": [],
   "source": [
    "#yhat"
   ]
  },
  {
   "cell_type": "code",
   "execution_count": 195,
   "metadata": {},
   "outputs": [
    {
     "name": "stdout",
     "output_type": "stream",
     "text": [
      "Mean Absolute Error: 90.999 ADD\n",
      "Coefficient of determination R^2 of the prediction: 0.17\n"
     ]
    },
    {
     "data": {
      "text/plain": [
       "<function TextIOWrapper.close()>"
      ]
     },
     "execution_count": 195,
     "metadata": {},
     "output_type": "execute_result"
    }
   ],
   "source": [
    "# cross-model error (cross-experiment error)\n",
    "MAE = mean_absolute_error(Metab_CMU_SHSU_meta.sample_metadata.add_0c, yhat)\n",
    "print('Mean Absolute Error:', round(MAE, 2), 'ADD')\n",
    "# Print R2 score\n",
    "print('Coefficient of determination R^2 of the prediction:', round(model_Metab_UTK_rfecv.score(rfecv.transform(Metab_CMU_SHSU_meta.data),y_CMU_SHSU),2))\n",
    "\n",
    "with open('skin_model_errors.txt', 'a') as out:\n",
    "   out.write('UTK_skin_model_pred_CMU_SHSU_meta\\t'+str(round(MAE,2))+'\\t'+str(round(model_Metab_UTK_rfecv.score(rfecv.transform(Metab_CMU_SHSU_meta.data),y_CMU_SHSU),2))+'\\n')\n",
    "out.close"
   ]
  },
  {
   "cell_type": "code",
   "execution_count": 196,
   "metadata": {
    "scrolled": true
   },
   "outputs": [
    {
     "data": {
      "image/png": "[encoded data removed]",
      "text/plain": [
       "<Figure size 432x288 with 1 Axes>"
      ]
     },
     "metadata": {
      "needs_background": "light"
     },
     "output_type": "display_data"
    }
   ],
   "source": [
    "plt.scatter(yhat, Metab_CMU_SHSU_meta.sample_metadata.add_0c, color = 'orange')\n",
    "lower = np.min(np.concatenate([Metab_CMU_SHSU_meta.sample_metadata.add_0c, yhat]))\n",
    "upper = np.max(np.concatenate([Metab_CMU_SHSU_meta.sample_metadata.add_0c, yhat]))\n",
    "plt.plot([lower, upper], [lower, upper], color = 'black', lw = 2, ls = ':')\n",
    "plt.xlim(0,600)\n",
    "plt.ylim(0,600)\n",
    "\n",
    "#regression part\n",
    "slope, intercept, r_value, p_value, std_err = stats.linregress(yhat,Metab_CMU_SHSU_meta.sample_metadata.add_0c)\n",
    "line = slope*yhat+intercept\n",
    "plt.plot(yhat, line, color = 'black', lw = 2)\n",
    "\n",
    "plt.title('UTK skin model predicting CMU, SHSU\\n MAE = %d; $R^2$ = %.2f' %(round(MAE, 2),round(model_Metab_UTK_rfecv.score(rfecv.transform(Metab_CMU_SHSU_meta.data),y_CMU_SHSU),2)))\n",
    "plt.xlabel(\"Predicted ADD\")\n",
    "plt.ylabel(\"Actual ADD\")\n",
    "plt.savefig('figures/UTK_skin_model_pred_CMU_SHSU.png')"
   ]
  }
 ],
 "metadata": {
  "kernelspec": {
   "display_name": "Python 3",
   "language": "python",
   "name": "python3"
  },
  "language_info": {
   "codemirror_mode": {
    "name": "ipython",
    "version": 3
   },
   "file_extension": ".py",
   "mimetype": "text/x-python",
   "name": "python",
   "nbconvert_exporter": "python",
   "pygments_lexer": "ipython3",
   "version": "3.7.7"
  }
 },
 "nbformat": 4,
 "nbformat_minor": 2
}
